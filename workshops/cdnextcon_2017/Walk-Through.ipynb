{
 "cells": [
  {
   "cell_type": "markdown",
   "metadata": {},
   "source": [
    "## Here is walk-through to help getting started with tensorflow\n",
    "\n",
    "1) Simple Linear Regression with low-level TensorFlow  \n",
    "2) Simple Linear Regression with a canned estimator  \n",
    "3) Playing with real data: linear regressor and DNN  \n",
    "4) Building a custom estimator to classify handwritten digits (MNIST)\n",
    "\n",
    "### [What's next?](https://goo.gl/hZaLPA)"
   ]
  },
  {
   "cell_type": "markdown",
   "metadata": {},
   "source": [
    "## Dependencies"
   ]
  },
  {
   "cell_type": "code",
   "execution_count": 1,
   "metadata": {},
   "outputs": [
    {
     "ename": "ImportError",
     "evalue": "No module named tensorflow",
     "output_type": "error",
     "traceback": [
      "\u001b[0;31m---------------------------------------------------------------------------\u001b[0m",
      "\u001b[0;31mImportError\u001b[0m                               Traceback (most recent call last)",
      "\u001b[0;32m<ipython-input-1-f5f4225195fc>\u001b[0m in \u001b[0;36m<module>\u001b[0;34m()\u001b[0m\n\u001b[1;32m      6\u001b[0m \u001b[0;34m\u001b[0m\u001b[0m\n\u001b[1;32m      7\u001b[0m \u001b[0;31m# tensorflow\u001b[0m\u001b[0;34m\u001b[0m\u001b[0;34m\u001b[0m\u001b[0m\n\u001b[0;32m----> 8\u001b[0;31m \u001b[0;32mimport\u001b[0m \u001b[0mtensorflow\u001b[0m \u001b[0;32mas\u001b[0m \u001b[0mtf\u001b[0m\u001b[0;34m\u001b[0m\u001b[0m\n\u001b[0m\u001b[1;32m      9\u001b[0m \u001b[0;32mprint\u001b[0m\u001b[0;34m(\u001b[0m\u001b[0;34m'Expected TensorFlow version is v1.3.0 or higher'\u001b[0m\u001b[0;34m)\u001b[0m\u001b[0;34m\u001b[0m\u001b[0m\n\u001b[1;32m     10\u001b[0m \u001b[0;32mprint\u001b[0m\u001b[0;34m(\u001b[0m\u001b[0;34m'Your TensorFlow version:'\u001b[0m\u001b[0;34m,\u001b[0m \u001b[0mtf\u001b[0m\u001b[0;34m.\u001b[0m\u001b[0m__version__\u001b[0m\u001b[0;34m)\u001b[0m\u001b[0;34m\u001b[0m\u001b[0m\n",
      "\u001b[0;31mImportError\u001b[0m: No module named tensorflow"
     ]
    }
   ],
   "source": [
    "from __future__ import absolute_import\n",
    "from __future__ import division\n",
    "from __future__ import print_function\n",
    "\n",
    "import collections\n",
    "\n",
    "# tensorflow\n",
    "import tensorflow as tf\n",
    "print('Expected TensorFlow version is v1.3.0 or higher')\n",
    "print('Your TensorFlow version:', tf.__version__)\n",
    "\n",
    "# data manipulation\n",
    "import numpy as np\n",
    "import pandas as pd\n",
    "\n",
    "# visualization\n",
    "import matplotlib\n",
    "import matplotlib.pyplot as plt\n",
    "%matplotlib inline\n",
    "matplotlib.rcParams['figure.figsize'] = [12,8]"
   ]
  },
  {
   "cell_type": "markdown",
   "metadata": {},
   "source": [
    "## 1) Simple Linear Regression with low-level TensorFlow"
   ]
  },
  {
   "cell_type": "markdown",
   "metadata": {},
   "source": [
    "### Generating data\n",
    "\n",
    "This function creates a noisy dataset that's roughly linear, according to the equation y = mx + b + noise.\n",
    "\n",
    "Notice that the expected value for m is 0.1 and for b is 0.3. This is the values we expect the model to predict."
   ]
  },
  {
   "cell_type": "code",
   "execution_count": 2,
   "metadata": {
    "collapsed": true
   },
   "outputs": [],
   "source": [
    "def make_noisy_data(m=0.1, b=0.3, n=100):\n",
    "    x = np.random.randn(n)\n",
    "    noise = np.random.normal(scale=0.01, size=len(x))\n",
    "    y = m * x + b + noise\n",
    "    return x, y"
   ]
  },
  {
   "cell_type": "markdown",
   "metadata": {},
   "source": [
    "Create training data"
   ]
  },
  {
   "cell_type": "code",
   "execution_count": 3,
   "metadata": {
    "collapsed": true
   },
   "outputs": [],
   "source": [
    "x_train, y_train = make_noisy_data()"
   ]
  },
  {
   "cell_type": "markdown",
   "metadata": {},
   "source": [
    "Plot the training data"
   ]
  },
  {
   "cell_type": "code",
   "execution_count": 4,
   "metadata": {
    "scrolled": false
   },
   "outputs": [
    {
     "data": {
      "text/plain": [
       "[<matplotlib.lines.Line2D at 0x7f5688247fd0>]"
      ]
     },
     "execution_count": 4,
     "metadata": {},
     "output_type": "execute_result"
    },
    {
     "data": {
      "image/png": "[encoded data removed]",
      "text/plain": [
       "<matplotlib.figure.Figure at 0x7f56881daf50>"
      ]
     },
     "metadata": {},
     "output_type": "display_data"
    }
   ],
   "source": [
    "plt.plot(x_train, y_train, 'b.')"
   ]
  },
  {
   "cell_type": "markdown",
   "metadata": {},
   "source": [
    "### The Model"
   ]
  },
  {
   "cell_type": "code",
   "execution_count": 5,
   "metadata": {
    "collapsed": true
   },
   "outputs": [],
   "source": [
    "# input and output\n",
    "x = tf.placeholder(shape=[None], dtype=tf.float32, name='x')\n",
    "y_label = tf.placeholder(shape=[None], dtype=tf.float32, name='y_label')\n",
    "\n",
    "# variables\n",
    "W = tf.Variable(tf.random_normal([1], name=\"W\")) # weight\n",
    "b = tf.Variable(tf.random_normal([1], name=\"b\")) # bias\n",
    "\n",
    "# actual model\n",
    "y = W * x + b"
   ]
  },
  {
   "cell_type": "markdown",
   "metadata": {},
   "source": [
    "### The Loss and Optimizer\n",
    "\n",
    "Define a loss function (here, squared error) and an optimizer (here, gradient descent)."
   ]
  },
  {
   "cell_type": "code",
   "execution_count": 6,
   "metadata": {
    "collapsed": true
   },
   "outputs": [],
   "source": [
    "loss = tf.reduce_mean(tf.square(y - y_label))\n",
    "optimizer = tf.train.GradientDescentOptimizer(learning_rate=0.1)\n",
    "train = optimizer.minimize(loss)"
   ]
  },
  {
   "cell_type": "markdown",
   "metadata": {},
   "source": [
    "### The Training Loop and generating predictions"
   ]
  },
  {
   "cell_type": "code",
   "execution_count": 7,
   "metadata": {
    "collapsed": true
   },
   "outputs": [],
   "source": [
    "init = tf.global_variables_initializer()\n",
    "\n",
    "with tf.Session() as sess:\n",
    "  sess.run(init) # initialize variables\n",
    "  for i in range(100): # train for 100 steps\n",
    "    sess.run(train, feed_dict={x: x_train, y_label:y_train})\n",
    "\n",
    "  x_plot = np.linspace(-3, 3, 101) # return evenly spaced numbers over a specified interval\n",
    "  # using the trained model to predict values for the training data\n",
    "  y_plot = sess.run(y, feed_dict={x: x_plot})\n",
    "\n",
    "  # saving final weight and bias\n",
    "  final_W = sess.run(W)\n",
    "  final_b = sess.run(b)"
   ]
  },
  {
   "cell_type": "markdown",
   "metadata": {},
   "source": [
    "### Visualizing predictions"
   ]
  },
  {
   "cell_type": "code",
   "execution_count": 8,
   "metadata": {},
   "outputs": [
    {
     "data": {
      "text/plain": [
       "[<matplotlib.lines.Line2D at 0x7f56434b8cd0>]"
      ]
     },
     "execution_count": 8,
     "metadata": {},
     "output_type": "execute_result"
    },
    {
     "data": {
      "image/png": "[encoded data removed]",
      "text/plain": [
       "<matplotlib.figure.Figure at 0x7f5641446ad0>"
      ]
     },
     "metadata": {},
     "output_type": "display_data"
    }
   ],
   "source": [
    "plt.scatter(x_train, y_train)\n",
    "plt.plot(x_plot, y_plot, 'g')"
   ]
  },
  {
   "cell_type": "markdown",
   "metadata": {},
   "source": [
    "### What is the final weight and bias?"
   ]
  },
  {
   "cell_type": "code",
   "execution_count": 9,
   "metadata": {},
   "outputs": [
    {
     "name": "stdout",
     "output_type": "stream",
     "text": [
      "W: [ 0.0981679] expected: 0.1\n",
      "b: [ 0.29952455] expected: 0.3\n"
     ]
    }
   ],
   "source": [
    "print('W:', final_W, 'expected: 0.1')\n",
    "print('b:', final_b, 'expected: 0.3')"
   ]
  },
  {
   "cell_type": "markdown",
   "metadata": {},
   "source": [
    "## 2) Simple Linear Regression with a canned estimator  "
   ]
  },
  {
   "cell_type": "markdown",
   "metadata": {},
   "source": [
    "### Input Pipeline"
   ]
  },
  {
   "cell_type": "code",
   "execution_count": 10,
   "metadata": {
    "collapsed": true
   },
   "outputs": [],
   "source": [
    "x_dict = {'x': x_train}\n",
    "train_input = tf.estimator.inputs.numpy_input_fn(x_dict, y_train,\n",
    "                                                 shuffle=True,\n",
    "                                                 num_epochs=None) # repeat forever"
   ]
  },
  {
   "cell_type": "markdown",
   "metadata": {},
   "source": [
    "### Describe input feature usage"
   ]
  },
  {
   "cell_type": "code",
   "execution_count": 11,
   "metadata": {
    "collapsed": true
   },
   "outputs": [],
   "source": [
    "features = [tf.feature_column.numeric_column('x')] # because x is a real number"
   ]
  },
  {
   "cell_type": "markdown",
   "metadata": {},
   "source": [
    "### Build and train the model"
   ]
  },
  {
   "cell_type": "code",
   "execution_count": 12,
   "metadata": {},
   "outputs": [
    {
     "name": "stdout",
     "output_type": "stream",
     "text": [
      "INFO:tensorflow:Using default config.\n",
      "WARNING:tensorflow:Using temporary folder as model directory: /tmp/tmp_eQRnF\n",
      "INFO:tensorflow:Using config: {'_save_checkpoints_secs': 600, '_session_config': None, '_keep_checkpoint_max': 5, '_tf_random_seed': 1, '_keep_checkpoint_every_n_hours': 10000, '_log_step_count_steps': 100, '_save_checkpoints_steps': None, '_model_dir': '/tmp/tmp_eQRnF', '_save_summary_steps': 100}\n",
      "INFO:tensorflow:Create CheckpointSaverHook.\n",
      "INFO:tensorflow:Saving checkpoints for 1 into /tmp/tmp_eQRnF/model.ckpt.\n",
      "INFO:tensorflow:loss = 13.0993, step = 1\n",
      "INFO:tensorflow:global_step/sec: 863.991\n",
      "INFO:tensorflow:loss = 0.0107502, step = 101 (0.117 sec)\n",
      "INFO:tensorflow:global_step/sec: 1104.09\n",
      "INFO:tensorflow:loss = 0.0100529, step = 201 (0.091 sec)\n",
      "INFO:tensorflow:global_step/sec: 1063.31\n",
      "INFO:tensorflow:loss = 0.00941867, step = 301 (0.094 sec)\n",
      "INFO:tensorflow:global_step/sec: 1115.05\n",
      "INFO:tensorflow:loss = 0.0109864, step = 401 (0.090 sec)\n",
      "INFO:tensorflow:global_step/sec: 1212.36\n",
      "INFO:tensorflow:loss = 0.0092965, step = 501 (0.082 sec)\n",
      "INFO:tensorflow:global_step/sec: 1358.07\n",
      "INFO:tensorflow:loss = 0.00972837, step = 601 (0.074 sec)\n",
      "INFO:tensorflow:global_step/sec: 1190.93\n",
      "INFO:tensorflow:loss = 0.011544, step = 701 (0.084 sec)\n",
      "INFO:tensorflow:global_step/sec: 1304.62\n",
      "INFO:tensorflow:loss = 0.0101492, step = 801 (0.077 sec)\n",
      "INFO:tensorflow:global_step/sec: 1471.58\n",
      "INFO:tensorflow:loss = 0.0100709, step = 901 (0.068 sec)\n",
      "INFO:tensorflow:Saving checkpoints for 1000 into /tmp/tmp_eQRnF/model.ckpt.\n",
      "INFO:tensorflow:Loss for final step: 0.0116731.\n"
     ]
    },
    {
     "data": {
      "text/plain": [
       "<tensorflow.python.estimator.canned.linear.LinearRegressor at 0x7f56412b5e10>"
      ]
     },
     "execution_count": 12,
     "metadata": {},
     "output_type": "execute_result"
    }
   ],
   "source": [
    "estimator = tf.estimator.LinearRegressor(features)\n",
    "estimator.train(train_input, steps = 1000)"
   ]
  },
  {
   "cell_type": "markdown",
   "metadata": {},
   "source": [
    "### Generating and visualizing predictions"
   ]
  },
  {
   "cell_type": "code",
   "execution_count": 13,
   "metadata": {},
   "outputs": [
    {
     "name": "stdout",
     "output_type": "stream",
     "text": [
      "INFO:tensorflow:Restoring parameters from /tmp/tmp_eQRnF/model.ckpt-1000\n",
      "[-0.19218418]\n",
      "[-0.0937537]\n",
      "[ 0.00467679]\n",
      "[ 0.10310729]\n",
      "[ 0.20153779]\n",
      "[ 0.29996827]\n",
      "[ 0.39839876]\n",
      "[ 0.49682927]\n",
      "[ 0.59525979]\n",
      "[ 0.69369024]\n",
      "[ 0.7921207]\n"
     ]
    }
   ],
   "source": [
    "x_test_dict = {'x': np.linspace(-5, 5, 11)}\n",
    "data_source = tf.estimator.inputs.numpy_input_fn(x_test_dict, shuffle=False)\n",
    "\n",
    "predictions = list(estimator.predict(data_source))\n",
    "preds = [p['predictions'][0] for p in predictions]\n",
    "\n",
    "for y in predictions:\n",
    "    print(y['predictions'])"
   ]
  },
  {
   "cell_type": "code",
   "execution_count": 14,
   "metadata": {},
   "outputs": [
    {
     "data": {
      "text/plain": [
       "[<matplotlib.lines.Line2D at 0x7f563c4b1fd0>]"
      ]
     },
     "execution_count": 14,
     "metadata": {},
     "output_type": "execute_result"
    },
    {
     "data": {
      "image/png": "[encoded data removed]",
      "text/plain": [
       "<matplotlib.figure.Figure at 0x7f563c4c7ad0>"
      ]
     },
     "metadata": {},
     "output_type": "display_data"
    }
   ],
   "source": [
    "plt.scatter(x_train, y_train)\n",
    "plt.plot(x_test_dict['x'], preds, 'g')"
   ]
  },
  {
   "cell_type": "markdown",
   "metadata": {},
   "source": [
    "## 3) Playing with real data: linear regressor and DNN  "
   ]
  },
  {
   "cell_type": "markdown",
   "metadata": {},
   "source": [
    "### Get the data\n",
    "\n",
    "The Adult dataset is from the Census bureau and the task is to predict whether a given adult makes more than $50,000 a year based attributes such as education, hours of work per week, etc.\n",
    "\n",
    "But the code here presented can be easilly aplicable to any csv dataset that fits in memory.\n",
    "\n",
    "More about the data [here](https://archive.ics.uci.edu/ml/machine-learning-databases/adult/old.adult.names)"
   ]
  },
  {
   "cell_type": "code",
   "execution_count": 15,
   "metadata": {
    "collapsed": true
   },
   "outputs": [],
   "source": [
    "census_train_url = 'https://archive.ics.uci.edu/ml/machine-learning-databases/adult/adult.data'\n",
    "census_train_path = tf.contrib.keras.utils.get_file('census.train', census_train_url)\n",
    "\n",
    "census_test_url = 'https://archive.ics.uci.edu/ml/machine-learning-databases/adult/adult.test'\n",
    "census_test_path = tf.contrib.keras.utils.get_file('census.test', census_test_url)"
   ]
  },
  {
   "cell_type": "markdown",
   "metadata": {},
   "source": [
    "### Load the data"
   ]
  },
  {
   "cell_type": "code",
   "execution_count": 16,
   "metadata": {
    "collapsed": true
   },
   "outputs": [],
   "source": [
    "column_names = [\n",
    "  'age', 'workclass', 'fnlwgt', 'education', 'education-num',\n",
    "  'marital-status', 'occupation', 'relationship', 'race', 'sex',\n",
    "  'capital-gain', 'capital-loss', 'hours-per-week', 'native-country',\n",
    "  'income'\n",
    "]\n",
    "\n",
    "census_train = pd.read_csv(census_train_path, index_col=False, names=column_names) \n",
    "census_test = pd.read_csv(census_train_path, index_col=False, names=column_names) \n",
    "\n",
    "census_train_label = census_train.pop('income') == \" >50K\" \n",
    "census_test_label = census_test.pop('income') == \" >50K\""
   ]
  },
  {
   "cell_type": "code",
   "execution_count": 17,
   "metadata": {
    "scrolled": false
   },
   "outputs": [
    {
     "data": {
      "text/html": [
       "<div>\n",
       "<style>\n",
       "    .dataframe thead tr:only-child th {\n",
       "        text-align: right;\n",
       "    }\n",
       "\n",
       "    .dataframe thead th {\n",
       "        text-align: left;\n",
       "    }\n",
       "\n",
       "    .dataframe tbody tr th {\n",
       "        vertical-align: top;\n",
       "    }\n",
       "</style>\n",
       "<table border=\"1\" class=\"dataframe\">\n",
       "  <thead>\n",
       "    <tr style=\"text-align: right;\">\n",
       "      <th></th>\n",
       "      <th>age</th>\n",
       "      <th>workclass</th>\n",
       "      <th>fnlwgt</th>\n",
       "      <th>education</th>\n",
       "      <th>education-num</th>\n",
       "      <th>marital-status</th>\n",
       "      <th>occupation</th>\n",
       "      <th>relationship</th>\n",
       "      <th>race</th>\n",
       "      <th>sex</th>\n",
       "      <th>capital-gain</th>\n",
       "      <th>capital-loss</th>\n",
       "      <th>hours-per-week</th>\n",
       "      <th>native-country</th>\n",
       "    </tr>\n",
       "  </thead>\n",
       "  <tbody>\n",
       "    <tr>\n",
       "      <th>0</th>\n",
       "      <td>39</td>\n",
       "      <td>State-gov</td>\n",
       "      <td>77516</td>\n",
       "      <td>Bachelors</td>\n",
       "      <td>13</td>\n",
       "      <td>Never-married</td>\n",
       "      <td>Adm-clerical</td>\n",
       "      <td>Not-in-family</td>\n",
       "      <td>White</td>\n",
       "      <td>Male</td>\n",
       "      <td>2174</td>\n",
       "      <td>0</td>\n",
       "      <td>40</td>\n",
       "      <td>United-States</td>\n",
       "    </tr>\n",
       "    <tr>\n",
       "      <th>1</th>\n",
       "      <td>50</td>\n",
       "      <td>Self-emp-not-inc</td>\n",
       "      <td>83311</td>\n",
       "      <td>Bachelors</td>\n",
       "      <td>13</td>\n",
       "      <td>Married-civ-spouse</td>\n",
       "      <td>Exec-managerial</td>\n",
       "      <td>Husband</td>\n",
       "      <td>White</td>\n",
       "      <td>Male</td>\n",
       "      <td>0</td>\n",
       "      <td>0</td>\n",
       "      <td>13</td>\n",
       "      <td>United-States</td>\n",
       "    </tr>\n",
       "    <tr>\n",
       "      <th>2</th>\n",
       "      <td>38</td>\n",
       "      <td>Private</td>\n",
       "      <td>215646</td>\n",
       "      <td>HS-grad</td>\n",
       "      <td>9</td>\n",
       "      <td>Divorced</td>\n",
       "      <td>Handlers-cleaners</td>\n",
       "      <td>Not-in-family</td>\n",
       "      <td>White</td>\n",
       "      <td>Male</td>\n",
       "      <td>0</td>\n",
       "      <td>0</td>\n",
       "      <td>40</td>\n",
       "      <td>United-States</td>\n",
       "    </tr>\n",
       "    <tr>\n",
       "      <th>3</th>\n",
       "      <td>53</td>\n",
       "      <td>Private</td>\n",
       "      <td>234721</td>\n",
       "      <td>11th</td>\n",
       "      <td>7</td>\n",
       "      <td>Married-civ-spouse</td>\n",
       "      <td>Handlers-cleaners</td>\n",
       "      <td>Husband</td>\n",
       "      <td>Black</td>\n",
       "      <td>Male</td>\n",
       "      <td>0</td>\n",
       "      <td>0</td>\n",
       "      <td>40</td>\n",
       "      <td>United-States</td>\n",
       "    </tr>\n",
       "    <tr>\n",
       "      <th>4</th>\n",
       "      <td>28</td>\n",
       "      <td>Private</td>\n",
       "      <td>338409</td>\n",
       "      <td>Bachelors</td>\n",
       "      <td>13</td>\n",
       "      <td>Married-civ-spouse</td>\n",
       "      <td>Prof-specialty</td>\n",
       "      <td>Wife</td>\n",
       "      <td>Black</td>\n",
       "      <td>Female</td>\n",
       "      <td>0</td>\n",
       "      <td>0</td>\n",
       "      <td>40</td>\n",
       "      <td>Cuba</td>\n",
       "    </tr>\n",
       "    <tr>\n",
       "      <th>5</th>\n",
       "      <td>37</td>\n",
       "      <td>Private</td>\n",
       "      <td>284582</td>\n",
       "      <td>Masters</td>\n",
       "      <td>14</td>\n",
       "      <td>Married-civ-spouse</td>\n",
       "      <td>Exec-managerial</td>\n",
       "      <td>Wife</td>\n",
       "      <td>White</td>\n",
       "      <td>Female</td>\n",
       "      <td>0</td>\n",
       "      <td>0</td>\n",
       "      <td>40</td>\n",
       "      <td>United-States</td>\n",
       "    </tr>\n",
       "    <tr>\n",
       "      <th>6</th>\n",
       "      <td>49</td>\n",
       "      <td>Private</td>\n",
       "      <td>160187</td>\n",
       "      <td>9th</td>\n",
       "      <td>5</td>\n",
       "      <td>Married-spouse-absent</td>\n",
       "      <td>Other-service</td>\n",
       "      <td>Not-in-family</td>\n",
       "      <td>Black</td>\n",
       "      <td>Female</td>\n",
       "      <td>0</td>\n",
       "      <td>0</td>\n",
       "      <td>16</td>\n",
       "      <td>Jamaica</td>\n",
       "    </tr>\n",
       "    <tr>\n",
       "      <th>7</th>\n",
       "      <td>52</td>\n",
       "      <td>Self-emp-not-inc</td>\n",
       "      <td>209642</td>\n",
       "      <td>HS-grad</td>\n",
       "      <td>9</td>\n",
       "      <td>Married-civ-spouse</td>\n",
       "      <td>Exec-managerial</td>\n",
       "      <td>Husband</td>\n",
       "      <td>White</td>\n",
       "      <td>Male</td>\n",
       "      <td>0</td>\n",
       "      <td>0</td>\n",
       "      <td>45</td>\n",
       "      <td>United-States</td>\n",
       "    </tr>\n",
       "    <tr>\n",
       "      <th>8</th>\n",
       "      <td>31</td>\n",
       "      <td>Private</td>\n",
       "      <td>45781</td>\n",
       "      <td>Masters</td>\n",
       "      <td>14</td>\n",
       "      <td>Never-married</td>\n",
       "      <td>Prof-specialty</td>\n",
       "      <td>Not-in-family</td>\n",
       "      <td>White</td>\n",
       "      <td>Female</td>\n",
       "      <td>14084</td>\n",
       "      <td>0</td>\n",
       "      <td>50</td>\n",
       "      <td>United-States</td>\n",
       "    </tr>\n",
       "    <tr>\n",
       "      <th>9</th>\n",
       "      <td>42</td>\n",
       "      <td>Private</td>\n",
       "      <td>159449</td>\n",
       "      <td>Bachelors</td>\n",
       "      <td>13</td>\n",
       "      <td>Married-civ-spouse</td>\n",
       "      <td>Exec-managerial</td>\n",
       "      <td>Husband</td>\n",
       "      <td>White</td>\n",
       "      <td>Male</td>\n",
       "      <td>5178</td>\n",
       "      <td>0</td>\n",
       "      <td>40</td>\n",
       "      <td>United-States</td>\n",
       "    </tr>\n",
       "  </tbody>\n",
       "</table>\n",
       "</div>"
      ],
      "text/plain": [
       "   age          workclass  fnlwgt   education  education-num  \\\n",
       "0   39          State-gov   77516   Bachelors             13   \n",
       "1   50   Self-emp-not-inc   83311   Bachelors             13   \n",
       "2   38            Private  215646     HS-grad              9   \n",
       "3   53            Private  234721        11th              7   \n",
       "4   28            Private  338409   Bachelors             13   \n",
       "5   37            Private  284582     Masters             14   \n",
       "6   49            Private  160187         9th              5   \n",
       "7   52   Self-emp-not-inc  209642     HS-grad              9   \n",
       "8   31            Private   45781     Masters             14   \n",
       "9   42            Private  159449   Bachelors             13   \n",
       "\n",
       "           marital-status          occupation    relationship    race  \\\n",
       "0           Never-married        Adm-clerical   Not-in-family   White   \n",
       "1      Married-civ-spouse     Exec-managerial         Husband   White   \n",
       "2                Divorced   Handlers-cleaners   Not-in-family   White   \n",
       "3      Married-civ-spouse   Handlers-cleaners         Husband   Black   \n",
       "4      Married-civ-spouse      Prof-specialty            Wife   Black   \n",
       "5      Married-civ-spouse     Exec-managerial            Wife   White   \n",
       "6   Married-spouse-absent       Other-service   Not-in-family   Black   \n",
       "7      Married-civ-spouse     Exec-managerial         Husband   White   \n",
       "8           Never-married      Prof-specialty   Not-in-family   White   \n",
       "9      Married-civ-spouse     Exec-managerial         Husband   White   \n",
       "\n",
       "       sex  capital-gain  capital-loss  hours-per-week  native-country  \n",
       "0     Male          2174             0              40   United-States  \n",
       "1     Male             0             0              13   United-States  \n",
       "2     Male             0             0              40   United-States  \n",
       "3     Male             0             0              40   United-States  \n",
       "4   Female             0             0              40            Cuba  \n",
       "5   Female             0             0              40   United-States  \n",
       "6   Female             0             0              16         Jamaica  \n",
       "7     Male             0             0              45   United-States  \n",
       "8   Female         14084             0              50   United-States  \n",
       "9     Male          5178             0              40   United-States  "
      ]
     },
     "execution_count": 17,
     "metadata": {},
     "output_type": "execute_result"
    }
   ],
   "source": [
    "census_train.head(10)"
   ]
  },
  {
   "cell_type": "code",
   "execution_count": 18,
   "metadata": {},
   "outputs": [
    {
     "data": {
      "text/plain": [
       "0     False\n",
       "1     False\n",
       "2     False\n",
       "3     False\n",
       "4     False\n",
       "5     False\n",
       "6     False\n",
       "7      True\n",
       "8      True\n",
       "9      True\n",
       "10     True\n",
       "11     True\n",
       "12    False\n",
       "13    False\n",
       "14     True\n",
       "15    False\n",
       "16    False\n",
       "17    False\n",
       "18    False\n",
       "19     True\n",
       "Name: income, dtype: bool"
      ]
     },
     "execution_count": 18,
     "metadata": {},
     "output_type": "execute_result"
    }
   ],
   "source": [
    "census_train_label[:20]"
   ]
  },
  {
   "cell_type": "markdown",
   "metadata": {},
   "source": [
    "### Input pipeline"
   ]
  },
  {
   "cell_type": "code",
   "execution_count": 19,
   "metadata": {
    "collapsed": true
   },
   "outputs": [],
   "source": [
    "train_input = tf.estimator.inputs.pandas_input_fn(\n",
    "    census_train, \n",
    "    census_train_label,\n",
    "    shuffle=True, \n",
    "    batch_size = 32, # process 32 examples at a time\n",
    "    num_epochs=None,\n",
    ")"
   ]
  },
  {
   "cell_type": "code",
   "execution_count": 20,
   "metadata": {
    "collapsed": true
   },
   "outputs": [],
   "source": [
    "test_input = tf.estimator.inputs.pandas_input_fn(\n",
    "    census_test, \n",
    "    census_test_label, \n",
    "    shuffle=True, \n",
    "    num_epochs=1)"
   ]
  },
  {
   "cell_type": "code",
   "execution_count": 21,
   "metadata": {},
   "outputs": [
    {
     "data": {
      "text/plain": [
       "{'age': <tf.Tensor 'random_shuffle_queue_DequeueMany:1' shape=(32,) dtype=int64>,\n",
       " 'capital-gain': <tf.Tensor 'random_shuffle_queue_DequeueMany:11' shape=(32,) dtype=int64>,\n",
       " 'capital-loss': <tf.Tensor 'random_shuffle_queue_DequeueMany:12' shape=(32,) dtype=int64>,\n",
       " 'education': <tf.Tensor 'random_shuffle_queue_DequeueMany:4' shape=(32,) dtype=string>,\n",
       " 'education-num': <tf.Tensor 'random_shuffle_queue_DequeueMany:5' shape=(32,) dtype=int64>,\n",
       " 'fnlwgt': <tf.Tensor 'random_shuffle_queue_DequeueMany:3' shape=(32,) dtype=int64>,\n",
       " 'hours-per-week': <tf.Tensor 'random_shuffle_queue_DequeueMany:13' shape=(32,) dtype=int64>,\n",
       " 'marital-status': <tf.Tensor 'random_shuffle_queue_DequeueMany:6' shape=(32,) dtype=string>,\n",
       " 'native-country': <tf.Tensor 'random_shuffle_queue_DequeueMany:14' shape=(32,) dtype=string>,\n",
       " 'occupation': <tf.Tensor 'random_shuffle_queue_DequeueMany:7' shape=(32,) dtype=string>,\n",
       " 'race': <tf.Tensor 'random_shuffle_queue_DequeueMany:9' shape=(32,) dtype=string>,\n",
       " 'relationship': <tf.Tensor 'random_shuffle_queue_DequeueMany:8' shape=(32,) dtype=string>,\n",
       " 'sex': <tf.Tensor 'random_shuffle_queue_DequeueMany:10' shape=(32,) dtype=string>,\n",
       " 'workclass': <tf.Tensor 'random_shuffle_queue_DequeueMany:2' shape=(32,) dtype=string>}"
      ]
     },
     "execution_count": 21,
     "metadata": {},
     "output_type": "execute_result"
    }
   ],
   "source": [
    "features, labels = train_input()\n",
    "features"
   ]
  },
  {
   "cell_type": "markdown",
   "metadata": {},
   "source": [
    "### Feature description"
   ]
  },
  {
   "cell_type": "code",
   "execution_count": 22,
   "metadata": {
    "collapsed": true
   },
   "outputs": [],
   "source": [
    "features = [\n",
    "    tf.feature_column.numeric_column('hours-per-week'),\n",
    "    tf.feature_column.bucketized_column(tf.feature_column.numeric_column('education-num'), list(range(25))),\n",
    "    tf.feature_column.categorical_column_with_vocabulary_list('sex', ['male','female']),\n",
    "    tf.feature_column.categorical_column_with_hash_bucket('native-country', 1000),\n",
    "]"
   ]
  },
  {
   "cell_type": "code",
   "execution_count": 23,
   "metadata": {},
   "outputs": [
    {
     "name": "stdout",
     "output_type": "stream",
     "text": [
      "INFO:tensorflow:Using default config.\n",
      "INFO:tensorflow:Using config: {'_save_checkpoints_secs': 600, '_session_config': None, '_keep_checkpoint_max': 5, '_tf_random_seed': 1, '_keep_checkpoint_every_n_hours': 10000, '_log_step_count_steps': 100, '_save_checkpoints_steps': None, '_model_dir': 'census/linear', '_save_summary_steps': 100}\n"
     ]
    }
   ],
   "source": [
    "estimator = tf.estimator.LinearClassifier(features, model_dir='census/linear',n_classes=2)"
   ]
  },
  {
   "cell_type": "code",
   "execution_count": 24,
   "metadata": {},
   "outputs": [
    {
     "name": "stdout",
     "output_type": "stream",
     "text": [
      "INFO:tensorflow:Create CheckpointSaverHook.\n",
      "INFO:tensorflow:Restoring parameters from census/linear/model.ckpt-7000\n",
      "INFO:tensorflow:Saving checkpoints for 7001 into census/linear/model.ckpt.\n",
      "INFO:tensorflow:loss = 20.1149, step = 7001\n",
      "INFO:tensorflow:global_step/sec: 302.798\n",
      "INFO:tensorflow:loss = 15.1638, step = 7101 (0.336 sec)\n",
      "INFO:tensorflow:global_step/sec: 467.31\n",
      "INFO:tensorflow:loss = 12.2227, step = 7201 (0.213 sec)\n",
      "INFO:tensorflow:global_step/sec: 440.354\n",
      "INFO:tensorflow:loss = 12.9704, step = 7301 (0.226 sec)\n",
      "INFO:tensorflow:global_step/sec: 453.844\n",
      "INFO:tensorflow:loss = 14.7049, step = 7401 (0.221 sec)\n",
      "INFO:tensorflow:global_step/sec: 375.504\n",
      "INFO:tensorflow:loss = 14.1362, step = 7501 (0.266 sec)\n",
      "INFO:tensorflow:global_step/sec: 455.45\n",
      "INFO:tensorflow:loss = 16.6804, step = 7601 (0.218 sec)\n",
      "INFO:tensorflow:global_step/sec: 458.844\n",
      "INFO:tensorflow:loss = 17.2591, step = 7701 (0.219 sec)\n",
      "INFO:tensorflow:global_step/sec: 458.789\n",
      "INFO:tensorflow:loss = 10.5894, step = 7801 (0.218 sec)\n",
      "INFO:tensorflow:global_step/sec: 458.84\n",
      "INFO:tensorflow:loss = 14.1496, step = 7901 (0.218 sec)\n",
      "INFO:tensorflow:global_step/sec: 400.363\n",
      "INFO:tensorflow:loss = 18.9057, step = 8001 (0.251 sec)\n",
      "INFO:tensorflow:global_step/sec: 380.182\n",
      "INFO:tensorflow:loss = 16.6861, step = 8101 (0.263 sec)\n",
      "INFO:tensorflow:global_step/sec: 404.778\n",
      "INFO:tensorflow:loss = 14.0005, step = 8201 (0.246 sec)\n",
      "INFO:tensorflow:global_step/sec: 428.671\n",
      "INFO:tensorflow:loss = 13.6911, step = 8301 (0.235 sec)\n",
      "INFO:tensorflow:global_step/sec: 396.847\n",
      "INFO:tensorflow:loss = 10.3378, step = 8401 (0.251 sec)\n",
      "INFO:tensorflow:global_step/sec: 429.961\n",
      "INFO:tensorflow:loss = 17.6118, step = 8501 (0.232 sec)\n",
      "INFO:tensorflow:global_step/sec: 433.454\n",
      "INFO:tensorflow:loss = 12.2244, step = 8601 (0.231 sec)\n",
      "INFO:tensorflow:global_step/sec: 440.319\n",
      "INFO:tensorflow:loss = 10.8648, step = 8701 (0.227 sec)\n",
      "INFO:tensorflow:global_step/sec: 430.034\n",
      "INFO:tensorflow:loss = 16.2914, step = 8801 (0.232 sec)\n",
      "INFO:tensorflow:global_step/sec: 377.44\n",
      "INFO:tensorflow:loss = 14.7425, step = 8901 (0.266 sec)\n",
      "INFO:tensorflow:global_step/sec: 331.848\n",
      "INFO:tensorflow:loss = 11.8193, step = 9001 (0.300 sec)\n",
      "INFO:tensorflow:global_step/sec: 334.59\n",
      "INFO:tensorflow:loss = 16.7798, step = 9101 (0.299 sec)\n",
      "INFO:tensorflow:global_step/sec: 363.162\n",
      "INFO:tensorflow:loss = 17.5526, step = 9201 (0.276 sec)\n",
      "INFO:tensorflow:global_step/sec: 311.361\n",
      "INFO:tensorflow:loss = 10.628, step = 9301 (0.322 sec)\n",
      "INFO:tensorflow:global_step/sec: 417.849\n",
      "INFO:tensorflow:loss = 12.6898, step = 9401 (0.237 sec)\n",
      "INFO:tensorflow:global_step/sec: 453.188\n",
      "INFO:tensorflow:loss = 10.5932, step = 9501 (0.222 sec)\n",
      "INFO:tensorflow:global_step/sec: 400.66\n",
      "INFO:tensorflow:loss = 10.6305, step = 9601 (0.250 sec)\n",
      "INFO:tensorflow:global_step/sec: 322.752\n",
      "INFO:tensorflow:loss = 13.6256, step = 9701 (0.309 sec)\n",
      "INFO:tensorflow:global_step/sec: 385.302\n",
      "INFO:tensorflow:loss = 9.97006, step = 9801 (0.258 sec)\n",
      "INFO:tensorflow:global_step/sec: 340.122\n",
      "INFO:tensorflow:loss = 13.9974, step = 9901 (0.296 sec)\n",
      "INFO:tensorflow:global_step/sec: 325.418\n",
      "INFO:tensorflow:loss = 14.3685, step = 10001 (0.307 sec)\n",
      "INFO:tensorflow:global_step/sec: 386.078\n",
      "INFO:tensorflow:loss = 14.1978, step = 10101 (0.259 sec)\n",
      "INFO:tensorflow:global_step/sec: 395.52\n",
      "INFO:tensorflow:loss = 12.6536, step = 10201 (0.257 sec)\n",
      "INFO:tensorflow:global_step/sec: 411.358\n",
      "INFO:tensorflow:loss = 15.9127, step = 10301 (0.239 sec)\n",
      "INFO:tensorflow:global_step/sec: 456.282\n",
      "INFO:tensorflow:loss = 11.331, step = 10401 (0.218 sec)\n",
      "INFO:tensorflow:global_step/sec: 413.805\n",
      "INFO:tensorflow:loss = 19.0658, step = 10501 (0.240 sec)\n",
      "INFO:tensorflow:global_step/sec: 418.546\n",
      "INFO:tensorflow:loss = 11.7981, step = 10601 (0.245 sec)\n",
      "INFO:tensorflow:global_step/sec: 430.274\n",
      "INFO:tensorflow:loss = 15.4947, step = 10701 (0.228 sec)\n",
      "INFO:tensorflow:global_step/sec: 375.697\n",
      "INFO:tensorflow:loss = 11.6418, step = 10801 (0.267 sec)\n",
      "INFO:tensorflow:global_step/sec: 441.696\n",
      "INFO:tensorflow:loss = 25.1157, step = 10901 (0.226 sec)\n",
      "INFO:tensorflow:global_step/sec: 362.349\n",
      "INFO:tensorflow:loss = 11.2369, step = 11001 (0.277 sec)\n",
      "INFO:tensorflow:global_step/sec: 408.395\n",
      "INFO:tensorflow:loss = 10.4846, step = 11101 (0.244 sec)\n",
      "INFO:tensorflow:global_step/sec: 395.265\n",
      "INFO:tensorflow:loss = 13.5304, step = 11201 (0.252 sec)\n",
      "INFO:tensorflow:global_step/sec: 351.223\n",
      "INFO:tensorflow:loss = 15.1315, step = 11301 (0.291 sec)\n",
      "INFO:tensorflow:global_step/sec: 341.125\n",
      "INFO:tensorflow:loss = 18.8153, step = 11401 (0.289 sec)\n",
      "INFO:tensorflow:global_step/sec: 373.062\n",
      "INFO:tensorflow:loss = 12.4665, step = 11501 (0.269 sec)\n",
      "INFO:tensorflow:global_step/sec: 349.686\n",
      "INFO:tensorflow:loss = 13.5067, step = 11601 (0.287 sec)\n",
      "INFO:tensorflow:global_step/sec: 419.359\n",
      "INFO:tensorflow:loss = 10.8848, step = 11701 (0.235 sec)\n",
      "INFO:tensorflow:global_step/sec: 424.061\n",
      "INFO:tensorflow:loss = 14.718, step = 11801 (0.238 sec)\n",
      "INFO:tensorflow:global_step/sec: 387.814\n",
      "INFO:tensorflow:loss = 12.1113, step = 11901 (0.262 sec)\n",
      "INFO:tensorflow:Saving checkpoints for 12000 into census/linear/model.ckpt.\n",
      "INFO:tensorflow:Loss for final step: 16.0353.\n"
     ]
    },
    {
     "data": {
      "text/plain": [
       "<tensorflow.python.estimator.canned.linear.LinearClassifier at 0x7f567a0c1110>"
      ]
     },
     "execution_count": 24,
     "metadata": {},
     "output_type": "execute_result"
    }
   ],
   "source": [
    "estimator.train(train_input, steps=5000)"
   ]
  },
  {
   "cell_type": "markdown",
   "metadata": {},
   "source": [
    "### Evaluate the model"
   ]
  },
  {
   "cell_type": "code",
   "execution_count": 25,
   "metadata": {},
   "outputs": [
    {
     "name": "stdout",
     "output_type": "stream",
     "text": [
      "WARNING:tensorflow:Casting <dtype: 'float32'> labels to bool.\n",
      "WARNING:tensorflow:Casting <dtype: 'float32'> labels to bool.\n",
      "INFO:tensorflow:Starting evaluation at 2017-07-13-18:04:05\n",
      "INFO:tensorflow:Restoring parameters from census/linear/model.ckpt-12000\n",
      "INFO:tensorflow:Finished evaluation at 2017-07-13-18:04:06\n",
      "INFO:tensorflow:Saving dict for global step 12000: accuracy = 0.784036, accuracy_baseline = 0.75919, auc = 0.764093, auc_precision_recall = 0.511886, average_loss = 0.468169, global_step = 12000, label/mean = 0.24081, loss = 59.7806, prediction/mean = 0.228052\n"
     ]
    },
    {
     "data": {
      "text/plain": [
       "{'accuracy': 0.7840361,\n",
       " 'accuracy_baseline': 0.75919044,\n",
       " 'auc': 0.7640928,\n",
       " 'auc_precision_recall': 0.51188624,\n",
       " 'average_loss': 0.46816874,\n",
       " 'global_step': 12000,\n",
       " 'label/mean': 0.24080956,\n",
       " 'loss': 59.780556,\n",
       " 'prediction/mean': 0.22805227}"
      ]
     },
     "execution_count": 25,
     "metadata": {},
     "output_type": "execute_result"
    }
   ],
   "source": [
    "estimator.evaluate(test_input)"
   ]
  },
  {
   "cell_type": "markdown",
   "metadata": {},
   "source": [
    "## DNN model"
   ]
  },
  {
   "cell_type": "markdown",
   "metadata": {},
   "source": [
    "### Update input pre-processing"
   ]
  },
  {
   "cell_type": "code",
   "execution_count": 26,
   "metadata": {
    "collapsed": true
   },
   "outputs": [],
   "source": [
    "features = [\n",
    "    tf.feature_column.numeric_column('education-num'),\n",
    "    tf.feature_column.numeric_column('hours-per-week'),\n",
    "    tf.feature_column.numeric_column('age'),\n",
    "    tf.feature_column.indicator_column(\n",
    "        tf.feature_column.categorical_column_with_vocabulary_list('sex',['male','female'])),\n",
    "    tf.feature_column.embedding_column(  # now using embedding!\n",
    "        tf.feature_column.categorical_column_with_hash_bucket('native-country', 1000), 10)\n",
    "]"
   ]
  },
  {
   "cell_type": "code",
   "execution_count": 27,
   "metadata": {},
   "outputs": [
    {
     "name": "stdout",
     "output_type": "stream",
     "text": [
      "INFO:tensorflow:Using default config.\n",
      "INFO:tensorflow:Using config: {'_save_checkpoints_secs': 600, '_session_config': None, '_keep_checkpoint_max': 5, '_tf_random_seed': 1, '_keep_checkpoint_every_n_hours': 10000, '_log_step_count_steps': 100, '_save_checkpoints_steps': None, '_model_dir': 'census/dnn', '_save_summary_steps': 100}\n"
     ]
    }
   ],
   "source": [
    "estimator = tf.estimator.DNNClassifier(hidden_units=[20,20], \n",
    "                                       feature_columns=features, \n",
    "                                       n_classes=2, \n",
    "                                       model_dir='census/dnn')"
   ]
  },
  {
   "cell_type": "code",
   "execution_count": 28,
   "metadata": {},
   "outputs": [
    {
     "name": "stdout",
     "output_type": "stream",
     "text": [
      "INFO:tensorflow:Create CheckpointSaverHook.\n",
      "INFO:tensorflow:Restoring parameters from census/dnn/model.ckpt-6001\n",
      "INFO:tensorflow:Saving checkpoints for 6002 into census/dnn/model.ckpt.\n",
      "INFO:tensorflow:loss = 15.0321, step = 6002\n",
      "INFO:tensorflow:global_step/sec: 286.769\n",
      "INFO:tensorflow:loss = 13.2672, step = 6102 (0.358 sec)\n",
      "INFO:tensorflow:global_step/sec: 354.447\n",
      "INFO:tensorflow:loss = 7.71313, step = 6202 (0.276 sec)\n",
      "INFO:tensorflow:global_step/sec: 358.693\n",
      "INFO:tensorflow:loss = 15.6592, step = 6302 (0.281 sec)\n",
      "INFO:tensorflow:global_step/sec: 452.398\n",
      "INFO:tensorflow:loss = 13.5664, step = 6402 (0.221 sec)\n",
      "INFO:tensorflow:global_step/sec: 408.684\n",
      "INFO:tensorflow:loss = 13.1125, step = 6502 (0.246 sec)\n",
      "INFO:tensorflow:global_step/sec: 399.251\n",
      "INFO:tensorflow:loss = 11.5031, step = 6602 (0.249 sec)\n",
      "INFO:tensorflow:global_step/sec: 382.475\n",
      "INFO:tensorflow:loss = 14.8688, step = 6702 (0.262 sec)\n",
      "INFO:tensorflow:global_step/sec: 454.932\n",
      "INFO:tensorflow:loss = 9.32517, step = 6802 (0.222 sec)\n",
      "INFO:tensorflow:global_step/sec: 400.437\n",
      "INFO:tensorflow:loss = 17.5457, step = 6902 (0.246 sec)\n",
      "INFO:tensorflow:global_step/sec: 434.156\n",
      "INFO:tensorflow:loss = 8.52557, step = 7002 (0.231 sec)\n",
      "INFO:tensorflow:global_step/sec: 440.236\n",
      "INFO:tensorflow:loss = 15.1226, step = 7102 (0.230 sec)\n",
      "INFO:tensorflow:global_step/sec: 412.21\n",
      "INFO:tensorflow:loss = 14.6417, step = 7202 (0.239 sec)\n",
      "INFO:tensorflow:global_step/sec: 378.594\n",
      "INFO:tensorflow:loss = 13.5937, step = 7302 (0.265 sec)\n",
      "INFO:tensorflow:global_step/sec: 465.742\n",
      "INFO:tensorflow:loss = 13.2192, step = 7402 (0.215 sec)\n",
      "INFO:tensorflow:global_step/sec: 457.425\n",
      "INFO:tensorflow:loss = 13.1118, step = 7502 (0.219 sec)\n",
      "INFO:tensorflow:global_step/sec: 419.087\n",
      "INFO:tensorflow:loss = 10.8074, step = 7602 (0.240 sec)\n",
      "INFO:tensorflow:global_step/sec: 406.461\n",
      "INFO:tensorflow:loss = 11.1998, step = 7702 (0.245 sec)\n",
      "INFO:tensorflow:global_step/sec: 417.83\n",
      "INFO:tensorflow:loss = 18.4475, step = 7802 (0.239 sec)\n",
      "INFO:tensorflow:global_step/sec: 387.535\n",
      "INFO:tensorflow:loss = 13.4742, step = 7902 (0.259 sec)\n",
      "INFO:tensorflow:global_step/sec: 310.877\n",
      "INFO:tensorflow:loss = 14.0382, step = 8002 (0.320 sec)\n",
      "INFO:tensorflow:global_step/sec: 360.827\n",
      "INFO:tensorflow:loss = 10.0719, step = 8102 (0.276 sec)\n",
      "INFO:tensorflow:global_step/sec: 344.481\n",
      "INFO:tensorflow:loss = 12.1592, step = 8202 (0.294 sec)\n",
      "INFO:tensorflow:global_step/sec: 327.163\n",
      "INFO:tensorflow:loss = 10.9708, step = 8302 (0.301 sec)\n",
      "INFO:tensorflow:global_step/sec: 474.572\n",
      "INFO:tensorflow:loss = 15.3756, step = 8402 (0.212 sec)\n",
      "INFO:tensorflow:global_step/sec: 437.738\n",
      "INFO:tensorflow:loss = 13.6643, step = 8502 (0.230 sec)\n",
      "INFO:tensorflow:global_step/sec: 411.34\n",
      "INFO:tensorflow:loss = 16.6797, step = 8602 (0.246 sec)\n",
      "INFO:tensorflow:global_step/sec: 344.559\n",
      "INFO:tensorflow:loss = 15.7203, step = 8702 (0.283 sec)\n",
      "INFO:tensorflow:global_step/sec: 446.351\n",
      "INFO:tensorflow:loss = 18.0737, step = 8802 (0.228 sec)\n",
      "INFO:tensorflow:global_step/sec: 463.772\n",
      "INFO:tensorflow:loss = 11.4268, step = 8902 (0.217 sec)\n",
      "INFO:tensorflow:global_step/sec: 410.588\n",
      "INFO:tensorflow:loss = 13.445, step = 9002 (0.243 sec)\n",
      "INFO:tensorflow:global_step/sec: 424.941\n",
      "INFO:tensorflow:loss = 19.4516, step = 9102 (0.234 sec)\n",
      "INFO:tensorflow:global_step/sec: 383.256\n",
      "INFO:tensorflow:loss = 18.4194, step = 9202 (0.259 sec)\n",
      "INFO:tensorflow:global_step/sec: 435.711\n",
      "INFO:tensorflow:loss = 6.87338, step = 9302 (0.229 sec)\n",
      "INFO:tensorflow:global_step/sec: 410.261\n",
      "INFO:tensorflow:loss = 14.5495, step = 9402 (0.247 sec)\n",
      "INFO:tensorflow:global_step/sec: 377.269\n",
      "INFO:tensorflow:loss = 10.6152, step = 9502 (0.263 sec)\n",
      "INFO:tensorflow:global_step/sec: 462.186\n",
      "INFO:tensorflow:loss = 11.7088, step = 9602 (0.217 sec)\n",
      "INFO:tensorflow:global_step/sec: 435.47\n",
      "INFO:tensorflow:loss = 15.798, step = 9702 (0.233 sec)\n",
      "INFO:tensorflow:global_step/sec: 384.057\n",
      "INFO:tensorflow:loss = 14.8131, step = 9802 (0.256 sec)\n",
      "INFO:tensorflow:global_step/sec: 400.276\n",
      "INFO:tensorflow:loss = 14.5972, step = 9902 (0.247 sec)\n",
      "INFO:tensorflow:global_step/sec: 390.753\n",
      "INFO:tensorflow:loss = 13.1746, step = 10002 (0.260 sec)\n",
      "INFO:tensorflow:global_step/sec: 364.436\n",
      "INFO:tensorflow:loss = 19.0885, step = 10102 (0.273 sec)\n",
      "INFO:tensorflow:global_step/sec: 468.287\n",
      "INFO:tensorflow:loss = 13.5989, step = 10202 (0.215 sec)\n",
      "INFO:tensorflow:global_step/sec: 462.358\n",
      "INFO:tensorflow:loss = 25.4579, step = 10302 (0.216 sec)\n",
      "INFO:tensorflow:global_step/sec: 439.261\n",
      "INFO:tensorflow:loss = 12.1536, step = 10402 (0.229 sec)\n",
      "INFO:tensorflow:global_step/sec: 377.184\n",
      "INFO:tensorflow:loss = 13.825, step = 10502 (0.265 sec)\n",
      "INFO:tensorflow:global_step/sec: 373.567\n",
      "INFO:tensorflow:loss = 12.5027, step = 10602 (0.269 sec)\n",
      "INFO:tensorflow:global_step/sec: 350.431\n",
      "INFO:tensorflow:loss = 14.9072, step = 10702 (0.284 sec)\n",
      "INFO:tensorflow:global_step/sec: 486.01\n",
      "INFO:tensorflow:loss = 13.1078, step = 10802 (0.205 sec)\n",
      "INFO:tensorflow:global_step/sec: 414.394\n",
      "INFO:tensorflow:loss = 13.2122, step = 10902 (0.241 sec)\n",
      "INFO:tensorflow:Saving checkpoints for 11001 into census/dnn/model.ckpt.\n",
      "INFO:tensorflow:Loss for final step: 10.9782.\n"
     ]
    },
    {
     "data": {
      "text/plain": [
       "<tensorflow.python.estimator.canned.dnn.DNNClassifier at 0x7f5679ba4890>"
      ]
     },
     "execution_count": 28,
     "metadata": {},
     "output_type": "execute_result"
    }
   ],
   "source": [
    "estimator.train(train_input, steps=5000)"
   ]
  },
  {
   "cell_type": "code",
   "execution_count": 29,
   "metadata": {
    "scrolled": true
   },
   "outputs": [
    {
     "name": "stdout",
     "output_type": "stream",
     "text": [
      "WARNING:tensorflow:Casting <dtype: 'float32'> labels to bool.\n",
      "WARNING:tensorflow:Casting <dtype: 'float32'> labels to bool.\n",
      "INFO:tensorflow:Starting evaluation at 2017-07-13-18:04:21\n",
      "INFO:tensorflow:Restoring parameters from census/dnn/model.ckpt-11001\n",
      "INFO:tensorflow:Finished evaluation at 2017-07-13-18:04:22\n",
      "INFO:tensorflow:Saving dict for global step 11001: accuracy = 0.799177, accuracy_baseline = 0.75919, auc = 0.821079, auc_precision_recall = 0.585971, average_loss = 0.421931, global_step = 11001, label/mean = 0.24081, loss = 53.8765, prediction/mean = 0.220763\n"
     ]
    },
    {
     "data": {
      "text/plain": [
       "{'accuracy': 0.79917693,\n",
       " 'accuracy_baseline': 0.75919044,\n",
       " 'auc': 0.82107949,\n",
       " 'auc_precision_recall': 0.585971,\n",
       " 'average_loss': 0.42193109,\n",
       " 'global_step': 11001,\n",
       " 'label/mean': 0.24080956,\n",
       " 'loss': 53.876461,\n",
       " 'prediction/mean': 0.22076258}"
      ]
     },
     "execution_count": 29,
     "metadata": {},
     "output_type": "execute_result"
    }
   ],
   "source": [
    "estimator.evaluate(test_input)"
   ]
  },
  {
   "cell_type": "markdown",
   "metadata": {},
   "source": [
    "## Custom Input Pipeline using Datasets API"
   ]
  },
  {
   "cell_type": "markdown",
   "metadata": {},
   "source": [
    "### Read the data"
   ]
  },
  {
   "cell_type": "code",
   "execution_count": 30,
   "metadata": {
    "collapsed": true
   },
   "outputs": [],
   "source": [
    "def census_input_fn(path):\n",
    "    def input_fn():    \n",
    "        dataset = (\n",
    "            tf.contrib.data.TextLineDataset(path)\n",
    "                .map(csv_decoder)\n",
    "                .shuffle(buffer_size=100)\n",
    "                .batch(32)\n",
    "                .repeat())\n",
    "\n",
    "        columns = dataset.make_one_shot_iterator().get_next()\n",
    "\n",
    "        income = tf.equal(columns.pop('income'),\" >50K\") \n",
    "\n",
    "        return columns, income\n",
    "    \n",
    "    return input_fn"
   ]
  },
  {
   "cell_type": "code",
   "execution_count": 31,
   "metadata": {
    "collapsed": true
   },
   "outputs": [],
   "source": [
    "csv_defaults = collections.OrderedDict([\n",
    "  ('age',[0]),\n",
    "  ('workclass',['']),\n",
    "  ('fnlwgt',[0]),\n",
    "  ('education',['']),\n",
    "  ('education-num',[0]),\n",
    "  ('marital-status',['']),\n",
    "  ('occupation',['']),\n",
    "  ('relationship',['']),\n",
    "  ('race',['']),\n",
    "  ('sex',['']),\n",
    "  ('capital-gain',[0]),\n",
    "  ('capital-loss',[0]),\n",
    "  ('hours-per-week',[0]),\n",
    "  ('native-country',['']),\n",
    "  ('income',['']),\n",
    "])"
   ]
  },
  {
   "cell_type": "code",
   "execution_count": 32,
   "metadata": {
    "collapsed": true
   },
   "outputs": [],
   "source": [
    "def csv_decoder(line):\n",
    "  parsed = tf.decode_csv(line, csv_defaults.values())\n",
    "  return dict(zip(csv_defaults.keys(), parsed))\n",
    "  "
   ]
  },
  {
   "cell_type": "markdown",
   "metadata": {},
   "source": [
    "### Try the input function"
   ]
  },
  {
   "cell_type": "code",
   "execution_count": 33,
   "metadata": {
    "collapsed": true
   },
   "outputs": [],
   "source": [
    "tf.reset_default_graph()\n",
    "census_input = census_input_fn(census_train_path)\n",
    "training_batch = census_input()"
   ]
  },
  {
   "cell_type": "code",
   "execution_count": 34,
   "metadata": {
    "collapsed": true
   },
   "outputs": [],
   "source": [
    "with tf.Session() as sess:\n",
    "    features, high_income = sess.run(training_batch)"
   ]
  },
  {
   "cell_type": "code",
   "execution_count": 35,
   "metadata": {},
   "outputs": [
    {
     "name": "stdout",
     "output_type": "stream",
     "text": [
      "[' HS-grad' ' Bachelors' ' HS-grad' ' HS-grad' ' HS-grad' ' Assoc-voc'\n",
      " ' 11th' ' HS-grad' ' HS-grad' ' HS-grad' ' HS-grad' ' 5th-6th'\n",
      " ' Some-college' ' HS-grad' ' Some-college' ' HS-grad' ' HS-grad'\n",
      " ' HS-grad' ' Assoc-voc' ' Bachelors' ' 9th' ' 7th-8th' ' HS-grad'\n",
      " ' Bachelors' ' Assoc-acdm' ' Some-college' ' 7th-8th' ' HS-grad'\n",
      " ' Assoc-voc' ' HS-grad' ' Bachelors' ' HS-grad']\n"
     ]
    }
   ],
   "source": [
    "print(features['education'])"
   ]
  },
  {
   "cell_type": "code",
   "execution_count": 36,
   "metadata": {},
   "outputs": [
    {
     "name": "stdout",
     "output_type": "stream",
     "text": [
      "[54 50 47 49 52 57 38 19 44 48 32 46 49 53 43 29 19 30 49 44 31 32 30 31 48\n",
      " 55 34 49 29 27 40 42]\n"
     ]
    }
   ],
   "source": [
    "print(features['age'])"
   ]
  },
  {
   "cell_type": "code",
   "execution_count": 37,
   "metadata": {},
   "outputs": [
    {
     "name": "stdout",
     "output_type": "stream",
     "text": [
      "[False False False False  True False False False  True False  True False\n",
      "  True  True  True False False False  True  True False False False False\n",
      " False False False False False False False False]\n"
     ]
    }
   ],
   "source": [
    "print(high_income)"
   ]
  },
  {
   "cell_type": "markdown",
   "metadata": {},
   "source": [
    "## 4) Building a custom estimator to classify handwritten digits (MNIST)\n",
    "\n",
    "![mnist](http://rodrigob.github.io/are_we_there_yet/build/images/mnist.png?1363085077)\n",
    "Image from: http://rodrigob.github.io/are_we_there_yet/build/images/mnist.png?1363085077"
   ]
  },
  {
   "cell_type": "code",
   "execution_count": 38,
   "metadata": {
    "collapsed": true
   },
   "outputs": [],
   "source": [
    "train,test = tf.contrib.keras.datasets.mnist.load_data()\n",
    "x_train,y_train = train \n",
    "x_test,y_test = test\n",
    "\n",
    "mnist_train_input = tf.estimator.inputs.numpy_input_fn({'x':np.array(x_train, dtype=np.float32)},\n",
    "                                                       np.array(y_train,dtype=np.int32),\n",
    "                                                       shuffle=True,\n",
    "                                                       num_epochs=None)\n",
    "\n",
    "mnist_test_input = tf.estimator.inputs.numpy_input_fn({'x':np.array(x_test, dtype=np.float32)},\n",
    "                                                      np.array(y_test,dtype=np.int32),\n",
    "                                                      shuffle=True,\n",
    "                                                      num_epochs=1)\n"
   ]
  },
  {
   "cell_type": "markdown",
   "metadata": {
    "collapsed": true
   },
   "source": [
    "### tf.estimator.LinearClassifier"
   ]
  },
  {
   "cell_type": "code",
   "execution_count": 40,
   "metadata": {},
   "outputs": [
    {
     "name": "stdout",
     "output_type": "stream",
     "text": [
      "INFO:tensorflow:Using default config.\n",
      "INFO:tensorflow:Using config: {'_save_checkpoints_secs': 600, '_session_config': None, '_keep_checkpoint_max': 5, '_tf_random_seed': 1, '_keep_checkpoint_every_n_hours': 10000, '_log_step_count_steps': 100, '_save_checkpoints_steps': None, '_model_dir': 'mnist/linear', '_save_summary_steps': 100}\n",
      "INFO:tensorflow:Create CheckpointSaverHook.\n",
      "INFO:tensorflow:Restoring parameters from mnist/linear/model.ckpt-40002\n",
      "INFO:tensorflow:Saving checkpoints for 40003 into mnist/linear/model.ckpt.\n",
      "INFO:tensorflow:loss = 523.441, step = 40003\n",
      "INFO:tensorflow:global_step/sec: 522.507\n",
      "INFO:tensorflow:loss = 224.057, step = 40103 (0.192 sec)\n",
      "INFO:tensorflow:global_step/sec: 765.69\n",
      "INFO:tensorflow:loss = 328.933, step = 40203 (0.131 sec)\n",
      "INFO:tensorflow:global_step/sec: 814.354\n",
      "INFO:tensorflow:loss = 192.314, step = 40303 (0.123 sec)\n",
      "INFO:tensorflow:global_step/sec: 919.682\n",
      "INFO:tensorflow:loss = 472.075, step = 40403 (0.109 sec)\n",
      "INFO:tensorflow:global_step/sec: 915.777\n",
      "INFO:tensorflow:loss = 441.126, step = 40503 (0.109 sec)\n",
      "INFO:tensorflow:global_step/sec: 947.679\n",
      "INFO:tensorflow:loss = 292.754, step = 40603 (0.106 sec)\n",
      "INFO:tensorflow:global_step/sec: 892.386\n",
      "INFO:tensorflow:loss = 522.521, step = 40703 (0.112 sec)\n",
      "INFO:tensorflow:global_step/sec: 893.512\n",
      "INFO:tensorflow:loss = 214.606, step = 40803 (0.112 sec)\n",
      "INFO:tensorflow:global_step/sec: 882.97\n",
      "INFO:tensorflow:loss = 401.57, step = 40903 (0.113 sec)\n",
      "INFO:tensorflow:global_step/sec: 879.586\n",
      "INFO:tensorflow:loss = 336.252, step = 41003 (0.113 sec)\n",
      "INFO:tensorflow:global_step/sec: 846.102\n",
      "INFO:tensorflow:loss = 986.988, step = 41103 (0.118 sec)\n",
      "INFO:tensorflow:global_step/sec: 845.481\n",
      "INFO:tensorflow:loss = 587.033, step = 41203 (0.119 sec)\n",
      "INFO:tensorflow:global_step/sec: 912.2\n",
      "INFO:tensorflow:loss = 194.873, step = 41303 (0.108 sec)\n",
      "INFO:tensorflow:global_step/sec: 968.814\n",
      "INFO:tensorflow:loss = 689.631, step = 41403 (0.103 sec)\n",
      "INFO:tensorflow:global_step/sec: 840.973\n",
      "INFO:tensorflow:loss = 517.357, step = 41503 (0.119 sec)\n",
      "INFO:tensorflow:global_step/sec: 901.541\n",
      "INFO:tensorflow:loss = 554.943, step = 41603 (0.111 sec)\n",
      "INFO:tensorflow:global_step/sec: 884.361\n",
      "INFO:tensorflow:loss = 131.975, step = 41703 (0.113 sec)\n",
      "INFO:tensorflow:global_step/sec: 913.702\n",
      "INFO:tensorflow:loss = 219.673, step = 41803 (0.109 sec)\n",
      "INFO:tensorflow:global_step/sec: 765.198\n",
      "INFO:tensorflow:loss = 437.133, step = 41903 (0.131 sec)\n",
      "INFO:tensorflow:global_step/sec: 881.99\n",
      "INFO:tensorflow:loss = 491.346, step = 42003 (0.113 sec)\n",
      "INFO:tensorflow:global_step/sec: 894.325\n",
      "INFO:tensorflow:loss = 229.138, step = 42103 (0.112 sec)\n",
      "INFO:tensorflow:global_step/sec: 906.602\n",
      "INFO:tensorflow:loss = 65.2129, step = 42203 (0.110 sec)\n",
      "INFO:tensorflow:global_step/sec: 856.54\n",
      "INFO:tensorflow:loss = 437.087, step = 42303 (0.117 sec)\n",
      "INFO:tensorflow:global_step/sec: 803.077\n",
      "INFO:tensorflow:loss = 426.736, step = 42403 (0.125 sec)\n",
      "INFO:tensorflow:global_step/sec: 825.252\n",
      "INFO:tensorflow:loss = 231.63, step = 42503 (0.121 sec)\n",
      "INFO:tensorflow:global_step/sec: 871.308\n",
      "INFO:tensorflow:loss = 233.802, step = 42603 (0.114 sec)\n",
      "INFO:tensorflow:global_step/sec: 902.591\n",
      "INFO:tensorflow:loss = 100.03, step = 42703 (0.111 sec)\n",
      "INFO:tensorflow:global_step/sec: 831.739\n",
      "INFO:tensorflow:loss = 587.92, step = 42803 (0.120 sec)\n",
      "INFO:tensorflow:global_step/sec: 922.671\n",
      "INFO:tensorflow:loss = 551.286, step = 42903 (0.108 sec)\n",
      "INFO:tensorflow:global_step/sec: 813.703\n",
      "INFO:tensorflow:loss = 666.145, step = 43003 (0.123 sec)\n",
      "INFO:tensorflow:global_step/sec: 813.736\n",
      "INFO:tensorflow:loss = 381.559, step = 43103 (0.123 sec)\n",
      "INFO:tensorflow:global_step/sec: 801.321\n",
      "INFO:tensorflow:loss = 193.693, step = 43203 (0.125 sec)\n",
      "INFO:tensorflow:global_step/sec: 783.669\n",
      "INFO:tensorflow:loss = 460.646, step = 43303 (0.127 sec)\n",
      "INFO:tensorflow:global_step/sec: 820.883\n",
      "INFO:tensorflow:loss = 719.336, step = 43403 (0.122 sec)\n",
      "INFO:tensorflow:global_step/sec: 836.827\n",
      "INFO:tensorflow:loss = 129.032, step = 43503 (0.119 sec)\n",
      "INFO:tensorflow:global_step/sec: 802.337\n",
      "INFO:tensorflow:loss = 348.094, step = 43603 (0.125 sec)\n",
      "INFO:tensorflow:global_step/sec: 801.102\n",
      "INFO:tensorflow:loss = 503.907, step = 43703 (0.125 sec)\n",
      "INFO:tensorflow:global_step/sec: 828.136\n",
      "INFO:tensorflow:loss = 271.608, step = 43803 (0.121 sec)\n",
      "INFO:tensorflow:global_step/sec: 838.442\n",
      "INFO:tensorflow:loss = 358.111, step = 43903 (0.119 sec)\n",
      "INFO:tensorflow:global_step/sec: 809.893\n",
      "INFO:tensorflow:loss = 421.507, step = 44003 (0.123 sec)\n",
      "INFO:tensorflow:global_step/sec: 821.646\n",
      "INFO:tensorflow:loss = 224.4, step = 44103 (0.122 sec)\n",
      "INFO:tensorflow:global_step/sec: 790.358\n",
      "INFO:tensorflow:loss = 169.664, step = 44203 (0.126 sec)\n",
      "INFO:tensorflow:global_step/sec: 940.788\n",
      "INFO:tensorflow:loss = 411.93, step = 44303 (0.106 sec)\n",
      "INFO:tensorflow:global_step/sec: 947.471\n",
      "INFO:tensorflow:loss = 369.55, step = 44403 (0.106 sec)\n",
      "INFO:tensorflow:global_step/sec: 812.407\n",
      "INFO:tensorflow:loss = 736.672, step = 44503 (0.123 sec)\n",
      "INFO:tensorflow:global_step/sec: 884.587\n",
      "INFO:tensorflow:loss = 378.4, step = 44603 (0.114 sec)\n",
      "INFO:tensorflow:global_step/sec: 740.401\n",
      "INFO:tensorflow:loss = 171.653, step = 44703 (0.135 sec)\n",
      "INFO:tensorflow:global_step/sec: 902.259\n",
      "INFO:tensorflow:loss = 331.002, step = 44803 (0.111 sec)\n",
      "INFO:tensorflow:global_step/sec: 899.531\n",
      "INFO:tensorflow:loss = 651.724, step = 44903 (0.111 sec)\n",
      "INFO:tensorflow:global_step/sec: 919.83\n",
      "INFO:tensorflow:loss = 382.485, step = 45003 (0.109 sec)\n",
      "INFO:tensorflow:global_step/sec: 954.133\n",
      "INFO:tensorflow:loss = 661.141, step = 45103 (0.105 sec)\n",
      "INFO:tensorflow:global_step/sec: 944.518\n",
      "INFO:tensorflow:loss = 613.341, step = 45203 (0.106 sec)\n",
      "INFO:tensorflow:global_step/sec: 937.524\n",
      "INFO:tensorflow:loss = 270.104, step = 45303 (0.107 sec)\n",
      "INFO:tensorflow:global_step/sec: 913.042\n",
      "INFO:tensorflow:loss = 377.591, step = 45403 (0.109 sec)\n",
      "INFO:tensorflow:global_step/sec: 933.219\n",
      "INFO:tensorflow:loss = 268.649, step = 45503 (0.107 sec)\n",
      "INFO:tensorflow:global_step/sec: 981.606\n",
      "INFO:tensorflow:loss = 618.282, step = 45603 (0.102 sec)\n",
      "INFO:tensorflow:global_step/sec: 904.044\n",
      "INFO:tensorflow:loss = 506.812, step = 45703 (0.111 sec)\n",
      "INFO:tensorflow:global_step/sec: 964.693\n",
      "INFO:tensorflow:loss = 467.239, step = 45803 (0.104 sec)\n",
      "INFO:tensorflow:global_step/sec: 960.549\n",
      "INFO:tensorflow:loss = 421.831, step = 45903 (0.104 sec)\n",
      "INFO:tensorflow:global_step/sec: 922.569\n",
      "INFO:tensorflow:loss = 246.254, step = 46003 (0.108 sec)\n",
      "INFO:tensorflow:global_step/sec: 962.029\n",
      "INFO:tensorflow:loss = 469.986, step = 46103 (0.104 sec)\n",
      "INFO:tensorflow:global_step/sec: 947.354\n",
      "INFO:tensorflow:loss = 438.547, step = 46203 (0.105 sec)\n",
      "INFO:tensorflow:global_step/sec: 925.909\n",
      "INFO:tensorflow:loss = 498.384, step = 46303 (0.108 sec)\n",
      "INFO:tensorflow:global_step/sec: 956.654\n",
      "INFO:tensorflow:loss = 317.459, step = 46403 (0.104 sec)\n",
      "INFO:tensorflow:global_step/sec: 921.473\n",
      "INFO:tensorflow:loss = 285.086, step = 46503 (0.109 sec)\n",
      "INFO:tensorflow:global_step/sec: 961.401\n",
      "INFO:tensorflow:loss = 408.372, step = 46603 (0.104 sec)\n",
      "INFO:tensorflow:global_step/sec: 928.885\n",
      "INFO:tensorflow:loss = 160.538, step = 46703 (0.108 sec)\n",
      "INFO:tensorflow:global_step/sec: 911.942\n",
      "INFO:tensorflow:loss = 126.065, step = 46803 (0.109 sec)\n",
      "INFO:tensorflow:global_step/sec: 972.101\n",
      "INFO:tensorflow:loss = 409.363, step = 46903 (0.103 sec)\n",
      "INFO:tensorflow:global_step/sec: 967.194\n",
      "INFO:tensorflow:loss = 767.325, step = 47003 (0.103 sec)\n",
      "INFO:tensorflow:global_step/sec: 934.029\n",
      "INFO:tensorflow:loss = 687.314, step = 47103 (0.107 sec)\n",
      "INFO:tensorflow:global_step/sec: 931.012\n",
      "INFO:tensorflow:loss = 386.823, step = 47203 (0.107 sec)\n",
      "INFO:tensorflow:global_step/sec: 962.334\n",
      "INFO:tensorflow:loss = 221.577, step = 47303 (0.104 sec)\n",
      "INFO:tensorflow:global_step/sec: 893.352\n",
      "INFO:tensorflow:loss = 515.302, step = 47403 (0.112 sec)\n",
      "INFO:tensorflow:global_step/sec: 892.601\n",
      "INFO:tensorflow:loss = 415.385, step = 47503 (0.112 sec)\n",
      "INFO:tensorflow:global_step/sec: 884.8\n",
      "INFO:tensorflow:loss = 459.839, step = 47603 (0.113 sec)\n",
      "INFO:tensorflow:global_step/sec: 786.906\n",
      "INFO:tensorflow:loss = 133.315, step = 47703 (0.127 sec)\n",
      "INFO:tensorflow:global_step/sec: 808.453\n",
      "INFO:tensorflow:loss = 449.682, step = 47803 (0.124 sec)\n"
     ]
    },
    {
     "name": "stdout",
     "output_type": "stream",
     "text": [
      "INFO:tensorflow:global_step/sec: 907.408\n",
      "INFO:tensorflow:loss = 556.473, step = 47903 (0.110 sec)\n",
      "INFO:tensorflow:global_step/sec: 976.037\n",
      "INFO:tensorflow:loss = 434.922, step = 48003 (0.102 sec)\n",
      "INFO:tensorflow:global_step/sec: 897.385\n",
      "INFO:tensorflow:loss = 610.174, step = 48103 (0.111 sec)\n",
      "INFO:tensorflow:global_step/sec: 813.736\n",
      "INFO:tensorflow:loss = 603.513, step = 48203 (0.123 sec)\n",
      "INFO:tensorflow:global_step/sec: 833.535\n",
      "INFO:tensorflow:loss = 167.918, step = 48303 (0.120 sec)\n",
      "INFO:tensorflow:global_step/sec: 851.587\n",
      "INFO:tensorflow:loss = 546.752, step = 48403 (0.117 sec)\n",
      "INFO:tensorflow:global_step/sec: 951.383\n",
      "INFO:tensorflow:loss = 358.82, step = 48503 (0.105 sec)\n",
      "INFO:tensorflow:global_step/sec: 919.584\n",
      "INFO:tensorflow:loss = 744.178, step = 48603 (0.109 sec)\n",
      "INFO:tensorflow:global_step/sec: 905.698\n",
      "INFO:tensorflow:loss = 77.2728, step = 48703 (0.110 sec)\n",
      "INFO:tensorflow:global_step/sec: 948.991\n",
      "INFO:tensorflow:loss = 206.162, step = 48803 (0.105 sec)\n",
      "INFO:tensorflow:global_step/sec: 965.513\n",
      "INFO:tensorflow:loss = 361.603, step = 48903 (0.104 sec)\n",
      "INFO:tensorflow:global_step/sec: 883.354\n",
      "INFO:tensorflow:loss = 459.009, step = 49003 (0.113 sec)\n",
      "INFO:tensorflow:global_step/sec: 929.169\n",
      "INFO:tensorflow:loss = 229.588, step = 49103 (0.108 sec)\n",
      "INFO:tensorflow:global_step/sec: 943.023\n",
      "INFO:tensorflow:loss = 172.127, step = 49203 (0.106 sec)\n",
      "INFO:tensorflow:global_step/sec: 906.741\n",
      "INFO:tensorflow:loss = 376.392, step = 49303 (0.110 sec)\n",
      "INFO:tensorflow:global_step/sec: 876.333\n",
      "INFO:tensorflow:loss = 710.361, step = 49403 (0.114 sec)\n",
      "INFO:tensorflow:global_step/sec: 865.074\n",
      "INFO:tensorflow:loss = 589.128, step = 49503 (0.116 sec)\n",
      "INFO:tensorflow:global_step/sec: 939.654\n",
      "INFO:tensorflow:loss = 348.416, step = 49603 (0.106 sec)\n",
      "INFO:tensorflow:global_step/sec: 961.511\n",
      "INFO:tensorflow:loss = 150.515, step = 49703 (0.104 sec)\n",
      "INFO:tensorflow:global_step/sec: 941.275\n",
      "INFO:tensorflow:loss = 137.432, step = 49803 (0.106 sec)\n",
      "INFO:tensorflow:global_step/sec: 891.256\n",
      "INFO:tensorflow:loss = 427.903, step = 49903 (0.112 sec)\n",
      "INFO:tensorflow:Saving checkpoints for 50002 into mnist/linear/model.ckpt.\n",
      "INFO:tensorflow:Loss for final step: 219.711.\n"
     ]
    },
    {
     "data": {
      "text/plain": [
       "<tensorflow.python.estimator.canned.linear.LinearClassifier at 0x7f5678643110>"
      ]
     },
     "execution_count": 40,
     "metadata": {},
     "output_type": "execute_result"
    }
   ],
   "source": [
    "estimator = tf.estimator.LinearClassifier([tf.feature_column.numeric_column('x',shape=784)], \n",
    "                                          n_classes=10,\n",
    "                                          model_dir=\"mnist/linear\")\n",
    "estimator.train(mnist_train_input, steps = 10000)"
   ]
  },
  {
   "cell_type": "code",
   "execution_count": 41,
   "metadata": {},
   "outputs": [
    {
     "name": "stdout",
     "output_type": "stream",
     "text": [
      "INFO:tensorflow:Starting evaluation at 2017-07-13-18:04:35\n",
      "INFO:tensorflow:Restoring parameters from mnist/linear/model.ckpt-50002\n",
      "INFO:tensorflow:Finished evaluation at 2017-07-13-18:04:35\n",
      "INFO:tensorflow:Saving dict for global step 50002: accuracy = 0.9012, average_loss = 4.98164, global_step = 50002, loss = 630.588\n"
     ]
    },
    {
     "data": {
      "text/plain": [
       "{'accuracy': 0.9012,\n",
       " 'average_loss': 4.9816413,\n",
       " 'global_step': 50002,\n",
       " 'loss': 630.58752}"
      ]
     },
     "execution_count": 41,
     "metadata": {},
     "output_type": "execute_result"
    }
   ],
   "source": [
    "estimator.evaluate(mnist_test_input)"
   ]
  },
  {
   "cell_type": "markdown",
   "metadata": {},
   "source": [
    "### Examine the results with [TensorBoard](http://0.0.0.0:6006)\n",
    "$> tensorboard --logdir census"
   ]
  },
  {
   "cell_type": "code",
   "execution_count": 42,
   "metadata": {},
   "outputs": [
    {
     "name": "stdout",
     "output_type": "stream",
     "text": [
      "INFO:tensorflow:Using default config.\n",
      "INFO:tensorflow:Using config: {'_save_checkpoints_secs': 600, '_session_config': None, '_keep_checkpoint_max': 5, '_tf_random_seed': 1, '_keep_checkpoint_every_n_hours': 10000, '_log_step_count_steps': 100, '_save_checkpoints_steps': None, '_model_dir': 'mnist/DNN', '_save_summary_steps': 100}\n",
      "INFO:tensorflow:Create CheckpointSaverHook.\n",
      "INFO:tensorflow:Restoring parameters from mnist/DNN/model.ckpt-40001\n",
      "INFO:tensorflow:Saving checkpoints for 40002 into mnist/DNN/model.ckpt.\n",
      "INFO:tensorflow:loss = 20.4059, step = 40002\n",
      "INFO:tensorflow:global_step/sec: 333.091\n",
      "INFO:tensorflow:loss = 25.0221, step = 40102 (0.300 sec)\n",
      "INFO:tensorflow:global_step/sec: 367.488\n",
      "INFO:tensorflow:loss = 34.8886, step = 40202 (0.272 sec)\n",
      "INFO:tensorflow:global_step/sec: 370.04\n",
      "INFO:tensorflow:loss = 27.3445, step = 40302 (0.270 sec)\n",
      "INFO:tensorflow:global_step/sec: 374.413\n",
      "INFO:tensorflow:loss = 19.9712, step = 40402 (0.267 sec)\n",
      "INFO:tensorflow:global_step/sec: 375.55\n",
      "INFO:tensorflow:loss = 12.7345, step = 40502 (0.266 sec)\n",
      "INFO:tensorflow:global_step/sec: 382.102\n",
      "INFO:tensorflow:loss = 4.42723, step = 40602 (0.262 sec)\n",
      "INFO:tensorflow:global_step/sec: 390.655\n",
      "INFO:tensorflow:loss = 23.4216, step = 40702 (0.256 sec)\n",
      "INFO:tensorflow:global_step/sec: 388.345\n",
      "INFO:tensorflow:loss = 12.9914, step = 40802 (0.257 sec)\n",
      "INFO:tensorflow:global_step/sec: 345.955\n",
      "INFO:tensorflow:loss = 16.2477, step = 40902 (0.289 sec)\n",
      "INFO:tensorflow:global_step/sec: 327.326\n",
      "INFO:tensorflow:loss = 15.525, step = 41002 (0.305 sec)\n",
      "INFO:tensorflow:global_step/sec: 390.273\n",
      "INFO:tensorflow:loss = 16.0928, step = 41102 (0.256 sec)\n",
      "INFO:tensorflow:global_step/sec: 381.035\n",
      "INFO:tensorflow:loss = 13.7238, step = 41202 (0.262 sec)\n",
      "INFO:tensorflow:global_step/sec: 374.887\n",
      "INFO:tensorflow:loss = 30.3196, step = 41302 (0.267 sec)\n",
      "INFO:tensorflow:global_step/sec: 307.752\n",
      "INFO:tensorflow:loss = 22.3215, step = 41402 (0.325 sec)\n",
      "INFO:tensorflow:global_step/sec: 384.451\n",
      "INFO:tensorflow:loss = 14.4886, step = 41502 (0.260 sec)\n",
      "INFO:tensorflow:global_step/sec: 387.505\n",
      "INFO:tensorflow:loss = 19.2227, step = 41602 (0.258 sec)\n",
      "INFO:tensorflow:global_step/sec: 391.61\n",
      "INFO:tensorflow:loss = 9.67383, step = 41702 (0.255 sec)\n",
      "INFO:tensorflow:global_step/sec: 392.401\n",
      "INFO:tensorflow:loss = 9.24746, step = 41802 (0.255 sec)\n",
      "INFO:tensorflow:global_step/sec: 385.453\n",
      "INFO:tensorflow:loss = 13.3365, step = 41902 (0.259 sec)\n",
      "INFO:tensorflow:global_step/sec: 380.719\n",
      "INFO:tensorflow:loss = 9.52944, step = 42002 (0.263 sec)\n",
      "INFO:tensorflow:global_step/sec: 387.708\n",
      "INFO:tensorflow:loss = 29.1738, step = 42102 (0.258 sec)\n",
      "INFO:tensorflow:global_step/sec: 394.417\n",
      "INFO:tensorflow:loss = 15.4786, step = 42202 (0.254 sec)\n",
      "INFO:tensorflow:global_step/sec: 386.053\n",
      "INFO:tensorflow:loss = 19.3768, step = 42302 (0.259 sec)\n",
      "INFO:tensorflow:global_step/sec: 392.198\n",
      "INFO:tensorflow:loss = 21.4434, step = 42402 (0.255 sec)\n",
      "INFO:tensorflow:global_step/sec: 384.796\n",
      "INFO:tensorflow:loss = 15.1987, step = 42502 (0.260 sec)\n",
      "INFO:tensorflow:global_step/sec: 390.689\n",
      "INFO:tensorflow:loss = 19.6099, step = 42602 (0.256 sec)\n",
      "INFO:tensorflow:global_step/sec: 391.239\n",
      "INFO:tensorflow:loss = 7.94017, step = 42702 (0.256 sec)\n",
      "INFO:tensorflow:global_step/sec: 392.019\n",
      "INFO:tensorflow:loss = 7.97696, step = 42802 (0.255 sec)\n",
      "INFO:tensorflow:global_step/sec: 394.909\n",
      "INFO:tensorflow:loss = 11.2066, step = 42902 (0.253 sec)\n",
      "INFO:tensorflow:global_step/sec: 385.031\n",
      "INFO:tensorflow:loss = 8.49086, step = 43002 (0.260 sec)\n",
      "INFO:tensorflow:global_step/sec: 388.16\n",
      "INFO:tensorflow:loss = 12.4103, step = 43102 (0.258 sec)\n",
      "INFO:tensorflow:global_step/sec: 395.205\n",
      "INFO:tensorflow:loss = 24.0194, step = 43202 (0.253 sec)\n",
      "INFO:tensorflow:global_step/sec: 387.441\n",
      "INFO:tensorflow:loss = 27.2065, step = 43302 (0.258 sec)\n",
      "INFO:tensorflow:global_step/sec: 390.791\n",
      "INFO:tensorflow:loss = 12.116, step = 43402 (0.256 sec)\n",
      "INFO:tensorflow:global_step/sec: 388.855\n",
      "INFO:tensorflow:loss = 7.38143, step = 43502 (0.257 sec)\n",
      "INFO:tensorflow:global_step/sec: 381.385\n",
      "INFO:tensorflow:loss = 33.429, step = 43602 (0.262 sec)\n",
      "INFO:tensorflow:global_step/sec: 387.163\n",
      "INFO:tensorflow:loss = 20.8088, step = 43702 (0.258 sec)\n",
      "INFO:tensorflow:global_step/sec: 357.49\n",
      "INFO:tensorflow:loss = 14.931, step = 43802 (0.280 sec)\n",
      "INFO:tensorflow:global_step/sec: 347.81\n",
      "INFO:tensorflow:loss = 31.3252, step = 43902 (0.287 sec)\n",
      "INFO:tensorflow:global_step/sec: 337.662\n",
      "INFO:tensorflow:loss = 10.2943, step = 44002 (0.296 sec)\n",
      "INFO:tensorflow:global_step/sec: 342.108\n",
      "INFO:tensorflow:loss = 10.1225, step = 44102 (0.292 sec)\n",
      "INFO:tensorflow:global_step/sec: 341.031\n",
      "INFO:tensorflow:loss = 21.3659, step = 44202 (0.293 sec)\n",
      "INFO:tensorflow:global_step/sec: 369.54\n",
      "INFO:tensorflow:loss = 9.74118, step = 44302 (0.271 sec)\n",
      "INFO:tensorflow:global_step/sec: 379.661\n",
      "INFO:tensorflow:loss = 26.5208, step = 44402 (0.263 sec)\n",
      "INFO:tensorflow:global_step/sec: 386.879\n",
      "INFO:tensorflow:loss = 6.32994, step = 44502 (0.258 sec)\n",
      "INFO:tensorflow:global_step/sec: 391.75\n",
      "INFO:tensorflow:loss = 20.1623, step = 44602 (0.255 sec)\n",
      "INFO:tensorflow:global_step/sec: 394.728\n",
      "INFO:tensorflow:loss = 20.3927, step = 44702 (0.253 sec)\n",
      "INFO:tensorflow:global_step/sec: 391.587\n",
      "INFO:tensorflow:loss = 20.8277, step = 44802 (0.255 sec)\n",
      "INFO:tensorflow:global_step/sec: 383.659\n",
      "INFO:tensorflow:loss = 30.4846, step = 44902 (0.261 sec)\n",
      "INFO:tensorflow:global_step/sec: 380.786\n",
      "INFO:tensorflow:loss = 11.6605, step = 45002 (0.263 sec)\n",
      "INFO:tensorflow:global_step/sec: 399.698\n",
      "INFO:tensorflow:loss = 7.98221, step = 45102 (0.250 sec)\n",
      "INFO:tensorflow:global_step/sec: 391.446\n",
      "INFO:tensorflow:loss = 17.7248, step = 45202 (0.255 sec)\n",
      "INFO:tensorflow:global_step/sec: 353.294\n",
      "INFO:tensorflow:loss = 13.9711, step = 45302 (0.283 sec)\n",
      "INFO:tensorflow:global_step/sec: 362.689\n",
      "INFO:tensorflow:loss = 18.0874, step = 45402 (0.276 sec)\n",
      "INFO:tensorflow:global_step/sec: 364.04\n",
      "INFO:tensorflow:loss = 7.98847, step = 45502 (0.275 sec)\n",
      "INFO:tensorflow:global_step/sec: 360.127\n",
      "INFO:tensorflow:loss = 13.5995, step = 45602 (0.278 sec)\n",
      "INFO:tensorflow:global_step/sec: 335.308\n",
      "INFO:tensorflow:loss = 10.076, step = 45702 (0.298 sec)\n",
      "INFO:tensorflow:global_step/sec: 365.648\n",
      "INFO:tensorflow:loss = 15.3053, step = 45802 (0.274 sec)\n",
      "INFO:tensorflow:global_step/sec: 362.323\n",
      "INFO:tensorflow:loss = 6.98811, step = 45902 (0.276 sec)\n",
      "INFO:tensorflow:global_step/sec: 319.266\n",
      "INFO:tensorflow:loss = 15.2807, step = 46002 (0.313 sec)\n",
      "INFO:tensorflow:global_step/sec: 380.355\n",
      "INFO:tensorflow:loss = 18.8629, step = 46102 (0.263 sec)\n",
      "INFO:tensorflow:global_step/sec: 375.308\n",
      "INFO:tensorflow:loss = 14.2457, step = 46202 (0.266 sec)\n",
      "INFO:tensorflow:global_step/sec: 365.162\n",
      "INFO:tensorflow:loss = 10.4608, step = 46302 (0.274 sec)\n",
      "INFO:tensorflow:global_step/sec: 382.512\n",
      "INFO:tensorflow:loss = 15.0061, step = 46402 (0.261 sec)\n",
      "INFO:tensorflow:global_step/sec: 390.962\n",
      "INFO:tensorflow:loss = 16.6534, step = 46502 (0.256 sec)\n",
      "INFO:tensorflow:global_step/sec: 384.324\n",
      "INFO:tensorflow:loss = 10.235, step = 46602 (0.260 sec)\n",
      "INFO:tensorflow:global_step/sec: 382.437\n",
      "INFO:tensorflow:loss = 14.6542, step = 46702 (0.261 sec)\n",
      "INFO:tensorflow:global_step/sec: 382.214\n",
      "INFO:tensorflow:loss = 15.448, step = 46802 (0.262 sec)\n",
      "INFO:tensorflow:global_step/sec: 399.382\n",
      "INFO:tensorflow:loss = 10.6443, step = 46902 (0.251 sec)\n",
      "INFO:tensorflow:global_step/sec: 395.746\n",
      "INFO:tensorflow:loss = 18.3274, step = 47002 (0.253 sec)\n",
      "INFO:tensorflow:global_step/sec: 389.75\n",
      "INFO:tensorflow:loss = 8.63073, step = 47102 (0.257 sec)\n",
      "INFO:tensorflow:global_step/sec: 359.068\n",
      "INFO:tensorflow:loss = 8.58208, step = 47202 (0.279 sec)\n",
      "INFO:tensorflow:global_step/sec: 377.821\n",
      "INFO:tensorflow:loss = 15.9975, step = 47302 (0.265 sec)\n",
      "INFO:tensorflow:global_step/sec: 349.487\n",
      "INFO:tensorflow:loss = 14.8768, step = 47402 (0.286 sec)\n",
      "INFO:tensorflow:global_step/sec: 357.35\n",
      "INFO:tensorflow:loss = 13.0863, step = 47502 (0.280 sec)\n",
      "INFO:tensorflow:global_step/sec: 355.343\n",
      "INFO:tensorflow:loss = 19.036, step = 47602 (0.281 sec)\n",
      "INFO:tensorflow:global_step/sec: 346.886\n",
      "INFO:tensorflow:loss = 9.55777, step = 47702 (0.288 sec)\n",
      "INFO:tensorflow:global_step/sec: 354.05\n",
      "INFO:tensorflow:loss = 26.2822, step = 47802 (0.282 sec)\n",
      "INFO:tensorflow:global_step/sec: 351.53\n"
     ]
    },
    {
     "name": "stdout",
     "output_type": "stream",
     "text": [
      "INFO:tensorflow:loss = 14.2463, step = 47902 (0.284 sec)\n",
      "INFO:tensorflow:global_step/sec: 378.838\n",
      "INFO:tensorflow:loss = 31.2345, step = 48002 (0.264 sec)\n",
      "INFO:tensorflow:global_step/sec: 344.783\n",
      "INFO:tensorflow:loss = 15.5333, step = 48102 (0.290 sec)\n",
      "INFO:tensorflow:global_step/sec: 391.137\n",
      "INFO:tensorflow:loss = 31.9774, step = 48202 (0.256 sec)\n",
      "INFO:tensorflow:global_step/sec: 394.328\n",
      "INFO:tensorflow:loss = 12.7595, step = 48302 (0.254 sec)\n",
      "INFO:tensorflow:global_step/sec: 349.371\n",
      "INFO:tensorflow:loss = 18.8486, step = 48402 (0.286 sec)\n",
      "INFO:tensorflow:global_step/sec: 384.397\n",
      "INFO:tensorflow:loss = 8.32962, step = 48502 (0.260 sec)\n",
      "INFO:tensorflow:global_step/sec: 348.682\n",
      "INFO:tensorflow:loss = 23.0522, step = 48602 (0.287 sec)\n",
      "INFO:tensorflow:global_step/sec: 373.4\n",
      "INFO:tensorflow:loss = 33.2136, step = 48702 (0.268 sec)\n",
      "INFO:tensorflow:global_step/sec: 329.296\n",
      "INFO:tensorflow:loss = 8.8079, step = 48802 (0.304 sec)\n",
      "INFO:tensorflow:global_step/sec: 390.692\n",
      "INFO:tensorflow:loss = 15.0631, step = 48902 (0.256 sec)\n",
      "INFO:tensorflow:global_step/sec: 385.825\n",
      "INFO:tensorflow:loss = 14.424, step = 49002 (0.259 sec)\n",
      "INFO:tensorflow:global_step/sec: 398.416\n",
      "INFO:tensorflow:loss = 22.2621, step = 49102 (0.251 sec)\n",
      "INFO:tensorflow:global_step/sec: 389.75\n",
      "INFO:tensorflow:loss = 17.2221, step = 49202 (0.257 sec)\n",
      "INFO:tensorflow:global_step/sec: 391.777\n",
      "INFO:tensorflow:loss = 24.0641, step = 49302 (0.255 sec)\n",
      "INFO:tensorflow:global_step/sec: 379.621\n",
      "INFO:tensorflow:loss = 16.1325, step = 49402 (0.263 sec)\n",
      "INFO:tensorflow:global_step/sec: 377.872\n",
      "INFO:tensorflow:loss = 7.04931, step = 49502 (0.265 sec)\n",
      "INFO:tensorflow:global_step/sec: 398.318\n",
      "INFO:tensorflow:loss = 14.785, step = 49602 (0.251 sec)\n",
      "INFO:tensorflow:global_step/sec: 388.932\n",
      "INFO:tensorflow:loss = 16.339, step = 49702 (0.257 sec)\n",
      "INFO:tensorflow:global_step/sec: 394.25\n",
      "INFO:tensorflow:loss = 17.2215, step = 49802 (0.254 sec)\n",
      "INFO:tensorflow:global_step/sec: 397.085\n",
      "INFO:tensorflow:loss = 18.673, step = 49902 (0.252 sec)\n",
      "INFO:tensorflow:Saving checkpoints for 50001 into mnist/DNN/model.ckpt.\n",
      "INFO:tensorflow:Loss for final step: 5.65905.\n"
     ]
    },
    {
     "data": {
      "text/plain": [
       "<tensorflow.python.estimator.canned.dnn.DNNClassifier at 0x7f5679f29390>"
      ]
     },
     "execution_count": 42,
     "metadata": {},
     "output_type": "execute_result"
    }
   ],
   "source": [
    "estimator = tf.estimator.DNNClassifier(hidden_units=[256],\n",
    "                                       feature_columns=[tf.feature_column.numeric_column('x',shape=784)], \n",
    "                                       n_classes=10,\n",
    "                                       model_dir=\"mnist/DNN\")\n",
    "estimator.train(mnist_train_input, steps = 10000)"
   ]
  },
  {
   "cell_type": "code",
   "execution_count": 43,
   "metadata": {},
   "outputs": [
    {
     "name": "stdout",
     "output_type": "stream",
     "text": [
      "INFO:tensorflow:Starting evaluation at 2017-07-13-18:05:03\n",
      "INFO:tensorflow:Restoring parameters from mnist/DNN/model.ckpt-50001\n",
      "INFO:tensorflow:Finished evaluation at 2017-07-13-18:05:03\n",
      "INFO:tensorflow:Saving dict for global step 50001: accuracy = 0.9402, average_loss = 0.289987, global_step = 50001, loss = 36.7072\n"
     ]
    },
    {
     "data": {
      "text/plain": [
       "{'accuracy': 0.94019997,\n",
       " 'average_loss': 0.2899867,\n",
       " 'global_step': 50001,\n",
       " 'loss': 36.707176}"
      ]
     },
     "execution_count": 43,
     "metadata": {},
     "output_type": "execute_result"
    }
   ],
   "source": [
    "estimator.evaluate(mnist_test_input)"
   ]
  },
  {
   "cell_type": "code",
   "execution_count": 44,
   "metadata": {
    "collapsed": true
   },
   "outputs": [],
   "source": [
    "# Parameters\n",
    "BATCH_SIZE = 128\n",
    "STEPS = 10000"
   ]
  },
  {
   "cell_type": "markdown",
   "metadata": {},
   "source": [
    "## A Custom Model"
   ]
  },
  {
   "cell_type": "code",
   "execution_count": 53,
   "metadata": {
    "collapsed": true
   },
   "outputs": [],
   "source": [
    "def build_cnn(input_layer, mode):\n",
    "  with tf.name_scope(\"CNN\"):\n",
    "      conv1 = tf.layers.conv2d(inputs=input_layer,filters=32, kernel_size=[5, 5],\n",
    "                               padding='same', activation=tf.nn.relu)\n",
    "      pool1 = tf.layers.max_pooling2d(inputs=conv1, pool_size=[2, 2], strides=2)\n",
    "\n",
    "      conv2 = tf.layers.conv2d(inputs=pool1,filters=64, kernel_size=[5, 5],\n",
    "                               padding='same', activation=tf.nn.relu)\n",
    "      pool2 = tf.layers.max_pooling2d(inputs=conv2, pool_size=[2, 2], strides=2)\n",
    "\n",
    "      pool2_flat = tf.reshape(pool2, [-1, 7 * 7 * 64])\n",
    "\n",
    "      dense = tf.layers.dense(inputs=pool2_flat, units=1024, activation=tf.nn.relu)\n",
    "\n",
    "      is_training_mode = mode == tf.estimator.ModeKeys.TRAIN\n",
    "      dropout = tf.layers.dropout(inputs=dense, rate=0.4, training=is_training_mode)\n",
    "\n",
    "      logits = tf.layers.dense(inputs=dropout, units=10)\n",
    "        \n",
    "      return logits\n"
   ]
  },
  {
   "cell_type": "code",
   "execution_count": 62,
   "metadata": {
    "collapsed": true
   },
   "outputs": [],
   "source": [
    "def model_fn(features, labels, mode):\n",
    "  # Describing the model\n",
    "  input_layer = tf.reshape(features['x'], [-1, 28, 28, 1])\n",
    "    \n",
    "  tf.summary.image('mnist_input',input_layer)\n",
    "    \n",
    "  logits = build_cnn(input_layer, mode)\n",
    " \n",
    "  # Generate Predictions\n",
    "  classes = tf.argmax(input=logits, axis=1)\n",
    "  predictions = {\n",
    "      'classes': classes,\n",
    "      'probabilities': tf.nn.softmax(logits, name='softmax_tensor')\n",
    "  }\n",
    "\n",
    "  if mode == tf.estimator.ModeKeys.PREDICT:\n",
    "    # Return an EstimatorSpec object\n",
    "    return tf.estimator.EstimatorSpec(mode=mode, predictions=predictions)\n",
    "\n",
    "  loss = tf.nn.sparse_softmax_cross_entropy_with_logits(labels=labels, logits=logits)\n",
    "  loss = tf.reduce_sum(loss)\n",
    "\n",
    "  tf.summary.scalar('loss', loss)\n",
    "    \n",
    "  accuracy = tf.cast(tf.equal(tf.cast(classes,tf.int32),labels),tf.float32)\n",
    "  accuracy = tf.reduce_mean(accuracy)\n",
    "  tf.summary.scalar('accuracy', accuracy)\n",
    "\n",
    "  # Configure the Training Op (for TRAIN mode)\n",
    "  if mode == tf.estimator.ModeKeys.TRAIN:\n",
    "    train_op = tf.contrib.layers.optimize_loss(\n",
    "        loss=loss,\n",
    "        global_step=tf.train.get_global_step(),\n",
    "        learning_rate=1e-4,\n",
    "        optimizer='Adam')\n",
    "\n",
    "    return tf.estimator.EstimatorSpec(mode=mode, predictions=predictions,\n",
    "                                      loss=loss, train_op=train_op)\n",
    "\n",
    "  # Configure the accuracy metric for evaluation\n",
    "  eval_metric_ops = {\n",
    "      'accuracy': tf.metrics.accuracy(\n",
    "          classes,\n",
    "          input=labels)\n",
    "  }\n",
    "\n",
    "  return tf.estimator.EstimatorSpec(mode=mode, predictions=predictions,\n",
    "                                    loss=loss, eval_metric_ops=eval_metric_ops)\n"
   ]
  },
  {
   "cell_type": "markdown",
   "metadata": {},
   "source": [
    "## Runs estimator"
   ]
  },
  {
   "cell_type": "code",
   "execution_count": 63,
   "metadata": {},
   "outputs": [
    {
     "name": "stdout",
     "output_type": "stream",
     "text": [
      "INFO:tensorflow:Using config: {'_model_dir': 'mnist/CNN', '_save_checkpoints_secs': 600, '_num_ps_replicas': 0, '_keep_checkpoint_max': 5, '_session_config': None, '_tf_random_seed': None, '_task_type': None, '_environment': 'local', '_is_chief': True, '_cluster_spec': <tensorflow.python.training.server_lib.ClusterSpec object at 0x7f5679e16d90>, '_tf_config': gpu_options {\n",
      "  per_process_gpu_memory_fraction: 1.0\n",
      "}\n",
      ", '_num_worker_replicas': 0, '_task_id': 0, '_save_summary_steps': 100, '_save_checkpoints_steps': None, '_evaluation_master': '', '_keep_checkpoint_every_n_hours': 10000, '_master': '', '_log_step_count_steps': 100}\n",
      "INFO:tensorflow:Create CheckpointSaverHook.\n",
      "INFO:tensorflow:Restoring parameters from mnist/CNN/model.ckpt-2\n",
      "INFO:tensorflow:Saving checkpoints for 3 into mnist/CNN/model.ckpt.\n",
      "INFO:tensorflow:loss = 2716.56, step = 3\n"
     ]
    },
    {
     "ename": "KeyboardInterrupt",
     "evalue": "",
     "output_type": "error",
     "traceback": [
      "\u001b[0;31m\u001b[0m",
      "\u001b[0;31mKeyboardInterrupt\u001b[0mTraceback (most recent call last)",
      "\u001b[0;32m<ipython-input-63-038c863f71a5>\u001b[0m in \u001b[0;36m<module>\u001b[0;34m()\u001b[0m\n\u001b[1;32m      4\u001b[0m \u001b[0;34m\u001b[0m\u001b[0m\n\u001b[1;32m      5\u001b[0m \u001b[0;31m# train for 10000 steps\u001b[0m\u001b[0;34m\u001b[0m\u001b[0;34m\u001b[0m\u001b[0m\n\u001b[0;32m----> 6\u001b[0;31m \u001b[0mestimator\u001b[0m\u001b[0;34m.\u001b[0m\u001b[0mtrain\u001b[0m\u001b[0;34m(\u001b[0m\u001b[0minput_fn\u001b[0m\u001b[0;34m=\u001b[0m\u001b[0mmnist_train_input\u001b[0m\u001b[0;34m,\u001b[0m \u001b[0msteps\u001b[0m\u001b[0;34m=\u001b[0m\u001b[0;36m10000\u001b[0m\u001b[0;34m)\u001b[0m\u001b[0;34m\u001b[0m\u001b[0m\n\u001b[0m\u001b[1;32m      7\u001b[0m \u001b[0;34m\u001b[0m\u001b[0m\n\u001b[1;32m      8\u001b[0m \u001b[0;31m# evaluate\u001b[0m\u001b[0;34m\u001b[0m\u001b[0;34m\u001b[0m\u001b[0m\n",
      "\u001b[0;32m/usr/local/google/home/markdaoust/venv/local/lib/python2.7/site-packages/tensorflow/python/estimator/estimator.pyc\u001b[0m in \u001b[0;36mtrain\u001b[0;34m(self, input_fn, hooks, steps, max_steps)\u001b[0m\n\u001b[1;32m    239\u001b[0m       \u001b[0mhooks\u001b[0m\u001b[0;34m.\u001b[0m\u001b[0mappend\u001b[0m\u001b[0;34m(\u001b[0m\u001b[0mtraining\u001b[0m\u001b[0;34m.\u001b[0m\u001b[0mStopAtStepHook\u001b[0m\u001b[0;34m(\u001b[0m\u001b[0msteps\u001b[0m\u001b[0;34m,\u001b[0m \u001b[0mmax_steps\u001b[0m\u001b[0;34m)\u001b[0m\u001b[0;34m)\u001b[0m\u001b[0;34m\u001b[0m\u001b[0m\n\u001b[1;32m    240\u001b[0m \u001b[0;34m\u001b[0m\u001b[0m\n\u001b[0;32m--> 241\u001b[0;31m     \u001b[0mloss\u001b[0m \u001b[0;34m=\u001b[0m \u001b[0mself\u001b[0m\u001b[0;34m.\u001b[0m\u001b[0m_train_model\u001b[0m\u001b[0;34m(\u001b[0m\u001b[0minput_fn\u001b[0m\u001b[0;34m=\u001b[0m\u001b[0minput_fn\u001b[0m\u001b[0;34m,\u001b[0m \u001b[0mhooks\u001b[0m\u001b[0;34m=\u001b[0m\u001b[0mhooks\u001b[0m\u001b[0;34m)\u001b[0m\u001b[0;34m\u001b[0m\u001b[0m\n\u001b[0m\u001b[1;32m    242\u001b[0m     \u001b[0mlogging\u001b[0m\u001b[0;34m.\u001b[0m\u001b[0minfo\u001b[0m\u001b[0;34m(\u001b[0m\u001b[0;34m'Loss for final step: %s.'\u001b[0m\u001b[0;34m,\u001b[0m \u001b[0mloss\u001b[0m\u001b[0;34m)\u001b[0m\u001b[0;34m\u001b[0m\u001b[0m\n\u001b[1;32m    243\u001b[0m     \u001b[0;32mreturn\u001b[0m \u001b[0mself\u001b[0m\u001b[0;34m\u001b[0m\u001b[0m\n",
      "\u001b[0;32m/usr/local/google/home/markdaoust/venv/local/lib/python2.7/site-packages/tensorflow/python/estimator/estimator.pyc\u001b[0m in \u001b[0;36m_train_model\u001b[0;34m(self, input_fn, hooks)\u001b[0m\n\u001b[1;32m    684\u001b[0m         \u001b[0mloss\u001b[0m \u001b[0;34m=\u001b[0m \u001b[0mNone\u001b[0m\u001b[0;34m\u001b[0m\u001b[0m\n\u001b[1;32m    685\u001b[0m         \u001b[0;32mwhile\u001b[0m \u001b[0;32mnot\u001b[0m \u001b[0mmon_sess\u001b[0m\u001b[0;34m.\u001b[0m\u001b[0mshould_stop\u001b[0m\u001b[0;34m(\u001b[0m\u001b[0;34m)\u001b[0m\u001b[0;34m:\u001b[0m\u001b[0;34m\u001b[0m\u001b[0m\n\u001b[0;32m--> 686\u001b[0;31m           \u001b[0m_\u001b[0m\u001b[0;34m,\u001b[0m \u001b[0mloss\u001b[0m \u001b[0;34m=\u001b[0m \u001b[0mmon_sess\u001b[0m\u001b[0;34m.\u001b[0m\u001b[0mrun\u001b[0m\u001b[0;34m(\u001b[0m\u001b[0;34m[\u001b[0m\u001b[0mestimator_spec\u001b[0m\u001b[0;34m.\u001b[0m\u001b[0mtrain_op\u001b[0m\u001b[0;34m,\u001b[0m \u001b[0mestimator_spec\u001b[0m\u001b[0;34m.\u001b[0m\u001b[0mloss\u001b[0m\u001b[0;34m]\u001b[0m\u001b[0;34m)\u001b[0m\u001b[0;34m\u001b[0m\u001b[0m\n\u001b[0m\u001b[1;32m    687\u001b[0m       \u001b[0;32mreturn\u001b[0m \u001b[0mloss\u001b[0m\u001b[0;34m\u001b[0m\u001b[0m\n\u001b[1;32m    688\u001b[0m \u001b[0;34m\u001b[0m\u001b[0m\n",
      "\u001b[0;32m/usr/local/google/home/markdaoust/venv/local/lib/python2.7/site-packages/tensorflow/python/training/monitored_session.pyc\u001b[0m in \u001b[0;36mrun\u001b[0;34m(self, fetches, feed_dict, options, run_metadata)\u001b[0m\n\u001b[1;32m    516\u001b[0m                           \u001b[0mfeed_dict\u001b[0m\u001b[0;34m=\u001b[0m\u001b[0mfeed_dict\u001b[0m\u001b[0;34m,\u001b[0m\u001b[0;34m\u001b[0m\u001b[0m\n\u001b[1;32m    517\u001b[0m                           \u001b[0moptions\u001b[0m\u001b[0;34m=\u001b[0m\u001b[0moptions\u001b[0m\u001b[0;34m,\u001b[0m\u001b[0;34m\u001b[0m\u001b[0m\n\u001b[0;32m--> 518\u001b[0;31m                           run_metadata=run_metadata)\n\u001b[0m\u001b[1;32m    519\u001b[0m \u001b[0;34m\u001b[0m\u001b[0m\n\u001b[1;32m    520\u001b[0m   \u001b[0;32mdef\u001b[0m \u001b[0mshould_stop\u001b[0m\u001b[0;34m(\u001b[0m\u001b[0mself\u001b[0m\u001b[0;34m)\u001b[0m\u001b[0;34m:\u001b[0m\u001b[0;34m\u001b[0m\u001b[0m\n",
      "\u001b[0;32m/usr/local/google/home/markdaoust/venv/local/lib/python2.7/site-packages/tensorflow/python/training/monitored_session.pyc\u001b[0m in \u001b[0;36mrun\u001b[0;34m(self, fetches, feed_dict, options, run_metadata)\u001b[0m\n\u001b[1;32m    860\u001b[0m                               \u001b[0mfeed_dict\u001b[0m\u001b[0;34m=\u001b[0m\u001b[0mfeed_dict\u001b[0m\u001b[0;34m,\u001b[0m\u001b[0;34m\u001b[0m\u001b[0m\n\u001b[1;32m    861\u001b[0m                               \u001b[0moptions\u001b[0m\u001b[0;34m=\u001b[0m\u001b[0moptions\u001b[0m\u001b[0;34m,\u001b[0m\u001b[0;34m\u001b[0m\u001b[0m\n\u001b[0;32m--> 862\u001b[0;31m                               run_metadata=run_metadata)\n\u001b[0m\u001b[1;32m    863\u001b[0m       \u001b[0;32mexcept\u001b[0m \u001b[0m_PREEMPTION_ERRORS\u001b[0m \u001b[0;32mas\u001b[0m \u001b[0me\u001b[0m\u001b[0;34m:\u001b[0m\u001b[0;34m\u001b[0m\u001b[0m\n\u001b[1;32m    864\u001b[0m         logging.info('An error was raised. This may be due to a preemption in '\n",
      "\u001b[0;32m/usr/local/google/home/markdaoust/venv/local/lib/python2.7/site-packages/tensorflow/python/training/monitored_session.pyc\u001b[0m in \u001b[0;36mrun\u001b[0;34m(self, *args, **kwargs)\u001b[0m\n\u001b[1;32m    816\u001b[0m \u001b[0;34m\u001b[0m\u001b[0m\n\u001b[1;32m    817\u001b[0m   \u001b[0;32mdef\u001b[0m \u001b[0mrun\u001b[0m\u001b[0;34m(\u001b[0m\u001b[0mself\u001b[0m\u001b[0;34m,\u001b[0m \u001b[0;34m*\u001b[0m\u001b[0margs\u001b[0m\u001b[0;34m,\u001b[0m \u001b[0;34m**\u001b[0m\u001b[0mkwargs\u001b[0m\u001b[0;34m)\u001b[0m\u001b[0;34m:\u001b[0m\u001b[0;34m\u001b[0m\u001b[0m\n\u001b[0;32m--> 818\u001b[0;31m     \u001b[0;32mreturn\u001b[0m \u001b[0mself\u001b[0m\u001b[0;34m.\u001b[0m\u001b[0m_sess\u001b[0m\u001b[0;34m.\u001b[0m\u001b[0mrun\u001b[0m\u001b[0;34m(\u001b[0m\u001b[0;34m*\u001b[0m\u001b[0margs\u001b[0m\u001b[0;34m,\u001b[0m \u001b[0;34m**\u001b[0m\u001b[0mkwargs\u001b[0m\u001b[0;34m)\u001b[0m\u001b[0;34m\u001b[0m\u001b[0m\n\u001b[0m\u001b[1;32m    819\u001b[0m \u001b[0;34m\u001b[0m\u001b[0m\n\u001b[1;32m    820\u001b[0m \u001b[0;34m\u001b[0m\u001b[0m\n",
      "\u001b[0;32m/usr/local/google/home/markdaoust/venv/local/lib/python2.7/site-packages/tensorflow/python/training/monitored_session.pyc\u001b[0m in \u001b[0;36mrun\u001b[0;34m(self, fetches, feed_dict, options, run_metadata)\u001b[0m\n\u001b[1;32m    970\u001b[0m                                   \u001b[0mfeed_dict\u001b[0m\u001b[0;34m=\u001b[0m\u001b[0mfeed_dict\u001b[0m\u001b[0;34m,\u001b[0m\u001b[0;34m\u001b[0m\u001b[0m\n\u001b[1;32m    971\u001b[0m                                   \u001b[0moptions\u001b[0m\u001b[0;34m=\u001b[0m\u001b[0moptions\u001b[0m\u001b[0;34m,\u001b[0m\u001b[0;34m\u001b[0m\u001b[0m\n\u001b[0;32m--> 972\u001b[0;31m                                   run_metadata=run_metadata)\n\u001b[0m\u001b[1;32m    973\u001b[0m \u001b[0;34m\u001b[0m\u001b[0m\n\u001b[1;32m    974\u001b[0m     \u001b[0;32mfor\u001b[0m \u001b[0mhook\u001b[0m \u001b[0;32min\u001b[0m \u001b[0mself\u001b[0m\u001b[0;34m.\u001b[0m\u001b[0m_hooks\u001b[0m\u001b[0;34m:\u001b[0m\u001b[0;34m\u001b[0m\u001b[0m\n",
      "\u001b[0;32m/usr/local/google/home/markdaoust/venv/local/lib/python2.7/site-packages/tensorflow/python/training/monitored_session.pyc\u001b[0m in \u001b[0;36mrun\u001b[0;34m(self, *args, **kwargs)\u001b[0m\n\u001b[1;32m    816\u001b[0m \u001b[0;34m\u001b[0m\u001b[0m\n\u001b[1;32m    817\u001b[0m   \u001b[0;32mdef\u001b[0m \u001b[0mrun\u001b[0m\u001b[0;34m(\u001b[0m\u001b[0mself\u001b[0m\u001b[0;34m,\u001b[0m \u001b[0;34m*\u001b[0m\u001b[0margs\u001b[0m\u001b[0;34m,\u001b[0m \u001b[0;34m**\u001b[0m\u001b[0mkwargs\u001b[0m\u001b[0;34m)\u001b[0m\u001b[0;34m:\u001b[0m\u001b[0;34m\u001b[0m\u001b[0m\n\u001b[0;32m--> 818\u001b[0;31m     \u001b[0;32mreturn\u001b[0m \u001b[0mself\u001b[0m\u001b[0;34m.\u001b[0m\u001b[0m_sess\u001b[0m\u001b[0;34m.\u001b[0m\u001b[0mrun\u001b[0m\u001b[0;34m(\u001b[0m\u001b[0;34m*\u001b[0m\u001b[0margs\u001b[0m\u001b[0;34m,\u001b[0m \u001b[0;34m**\u001b[0m\u001b[0mkwargs\u001b[0m\u001b[0;34m)\u001b[0m\u001b[0;34m\u001b[0m\u001b[0m\n\u001b[0m\u001b[1;32m    819\u001b[0m \u001b[0;34m\u001b[0m\u001b[0m\n\u001b[1;32m    820\u001b[0m \u001b[0;34m\u001b[0m\u001b[0m\n",
      "\u001b[0;32m/usr/local/google/home/markdaoust/venv/local/lib/python2.7/site-packages/tensorflow/python/client/session.pyc\u001b[0m in \u001b[0;36mrun\u001b[0;34m(self, fetches, feed_dict, options, run_metadata)\u001b[0m\n\u001b[1;32m    893\u001b[0m     \u001b[0;32mtry\u001b[0m\u001b[0;34m:\u001b[0m\u001b[0;34m\u001b[0m\u001b[0m\n\u001b[1;32m    894\u001b[0m       result = self._run(None, fetches, feed_dict, options_ptr,\n\u001b[0;32m--> 895\u001b[0;31m                          run_metadata_ptr)\n\u001b[0m\u001b[1;32m    896\u001b[0m       \u001b[0;32mif\u001b[0m \u001b[0mrun_metadata\u001b[0m\u001b[0;34m:\u001b[0m\u001b[0;34m\u001b[0m\u001b[0m\n\u001b[1;32m    897\u001b[0m         \u001b[0mproto_data\u001b[0m \u001b[0;34m=\u001b[0m \u001b[0mtf_session\u001b[0m\u001b[0;34m.\u001b[0m\u001b[0mTF_GetBuffer\u001b[0m\u001b[0;34m(\u001b[0m\u001b[0mrun_metadata_ptr\u001b[0m\u001b[0;34m)\u001b[0m\u001b[0;34m\u001b[0m\u001b[0m\n",
      "\u001b[0;32m/usr/local/google/home/markdaoust/venv/local/lib/python2.7/site-packages/tensorflow/python/client/session.pyc\u001b[0m in \u001b[0;36m_run\u001b[0;34m(self, handle, fetches, feed_dict, options, run_metadata)\u001b[0m\n\u001b[1;32m   1122\u001b[0m     \u001b[0;32mif\u001b[0m \u001b[0mfinal_fetches\u001b[0m \u001b[0;32mor\u001b[0m \u001b[0mfinal_targets\u001b[0m \u001b[0;32mor\u001b[0m \u001b[0;34m(\u001b[0m\u001b[0mhandle\u001b[0m \u001b[0;32mand\u001b[0m \u001b[0mfeed_dict_tensor\u001b[0m\u001b[0;34m)\u001b[0m\u001b[0;34m:\u001b[0m\u001b[0;34m\u001b[0m\u001b[0m\n\u001b[1;32m   1123\u001b[0m       results = self._do_run(handle, final_targets, final_fetches,\n\u001b[0;32m-> 1124\u001b[0;31m                              feed_dict_tensor, options, run_metadata)\n\u001b[0m\u001b[1;32m   1125\u001b[0m     \u001b[0;32melse\u001b[0m\u001b[0;34m:\u001b[0m\u001b[0;34m\u001b[0m\u001b[0m\n\u001b[1;32m   1126\u001b[0m       \u001b[0mresults\u001b[0m \u001b[0;34m=\u001b[0m \u001b[0;34m[\u001b[0m\u001b[0;34m]\u001b[0m\u001b[0;34m\u001b[0m\u001b[0m\n",
      "\u001b[0;32m/usr/local/google/home/markdaoust/venv/local/lib/python2.7/site-packages/tensorflow/python/client/session.pyc\u001b[0m in \u001b[0;36m_do_run\u001b[0;34m(self, handle, target_list, fetch_list, feed_dict, options, run_metadata)\u001b[0m\n\u001b[1;32m   1319\u001b[0m     \u001b[0;32mif\u001b[0m \u001b[0mhandle\u001b[0m \u001b[0;32mis\u001b[0m \u001b[0mNone\u001b[0m\u001b[0;34m:\u001b[0m\u001b[0;34m\u001b[0m\u001b[0m\n\u001b[1;32m   1320\u001b[0m       return self._do_call(_run_fn, self._session, feeds, fetches, targets,\n\u001b[0;32m-> 1321\u001b[0;31m                            options, run_metadata)\n\u001b[0m\u001b[1;32m   1322\u001b[0m     \u001b[0;32melse\u001b[0m\u001b[0;34m:\u001b[0m\u001b[0;34m\u001b[0m\u001b[0m\n\u001b[1;32m   1323\u001b[0m       \u001b[0;32mreturn\u001b[0m \u001b[0mself\u001b[0m\u001b[0;34m.\u001b[0m\u001b[0m_do_call\u001b[0m\u001b[0;34m(\u001b[0m\u001b[0m_prun_fn\u001b[0m\u001b[0;34m,\u001b[0m \u001b[0mself\u001b[0m\u001b[0;34m.\u001b[0m\u001b[0m_session\u001b[0m\u001b[0;34m,\u001b[0m \u001b[0mhandle\u001b[0m\u001b[0;34m,\u001b[0m \u001b[0mfeeds\u001b[0m\u001b[0;34m,\u001b[0m \u001b[0mfetches\u001b[0m\u001b[0;34m)\u001b[0m\u001b[0;34m\u001b[0m\u001b[0m\n",
      "\u001b[0;32m/usr/local/google/home/markdaoust/venv/local/lib/python2.7/site-packages/tensorflow/python/client/session.pyc\u001b[0m in \u001b[0;36m_do_call\u001b[0;34m(self, fn, *args)\u001b[0m\n\u001b[1;32m   1325\u001b[0m   \u001b[0;32mdef\u001b[0m \u001b[0m_do_call\u001b[0m\u001b[0;34m(\u001b[0m\u001b[0mself\u001b[0m\u001b[0;34m,\u001b[0m \u001b[0mfn\u001b[0m\u001b[0;34m,\u001b[0m \u001b[0;34m*\u001b[0m\u001b[0margs\u001b[0m\u001b[0;34m)\u001b[0m\u001b[0;34m:\u001b[0m\u001b[0;34m\u001b[0m\u001b[0m\n\u001b[1;32m   1326\u001b[0m     \u001b[0;32mtry\u001b[0m\u001b[0;34m:\u001b[0m\u001b[0;34m\u001b[0m\u001b[0m\n\u001b[0;32m-> 1327\u001b[0;31m       \u001b[0;32mreturn\u001b[0m \u001b[0mfn\u001b[0m\u001b[0;34m(\u001b[0m\u001b[0;34m*\u001b[0m\u001b[0margs\u001b[0m\u001b[0;34m)\u001b[0m\u001b[0;34m\u001b[0m\u001b[0m\n\u001b[0m\u001b[1;32m   1328\u001b[0m     \u001b[0;32mexcept\u001b[0m \u001b[0merrors\u001b[0m\u001b[0;34m.\u001b[0m\u001b[0mOpError\u001b[0m \u001b[0;32mas\u001b[0m \u001b[0me\u001b[0m\u001b[0;34m:\u001b[0m\u001b[0;34m\u001b[0m\u001b[0m\n\u001b[1;32m   1329\u001b[0m       \u001b[0mmessage\u001b[0m \u001b[0;34m=\u001b[0m \u001b[0mcompat\u001b[0m\u001b[0;34m.\u001b[0m\u001b[0mas_text\u001b[0m\u001b[0;34m(\u001b[0m\u001b[0me\u001b[0m\u001b[0;34m.\u001b[0m\u001b[0mmessage\u001b[0m\u001b[0;34m)\u001b[0m\u001b[0;34m\u001b[0m\u001b[0m\n",
      "\u001b[0;32m/usr/local/google/home/markdaoust/venv/local/lib/python2.7/site-packages/tensorflow/python/client/session.pyc\u001b[0m in \u001b[0;36m_run_fn\u001b[0;34m(session, feed_dict, fetch_list, target_list, options, run_metadata)\u001b[0m\n\u001b[1;32m   1304\u001b[0m           return tf_session.TF_Run(session, options,\n\u001b[1;32m   1305\u001b[0m                                    \u001b[0mfeed_dict\u001b[0m\u001b[0;34m,\u001b[0m \u001b[0mfetch_list\u001b[0m\u001b[0;34m,\u001b[0m \u001b[0mtarget_list\u001b[0m\u001b[0;34m,\u001b[0m\u001b[0;34m\u001b[0m\u001b[0m\n\u001b[0;32m-> 1306\u001b[0;31m                                    status, run_metadata)\n\u001b[0m\u001b[1;32m   1307\u001b[0m \u001b[0;34m\u001b[0m\u001b[0m\n\u001b[1;32m   1308\u001b[0m     \u001b[0;32mdef\u001b[0m \u001b[0m_prun_fn\u001b[0m\u001b[0;34m(\u001b[0m\u001b[0msession\u001b[0m\u001b[0;34m,\u001b[0m \u001b[0mhandle\u001b[0m\u001b[0;34m,\u001b[0m \u001b[0mfeed_dict\u001b[0m\u001b[0;34m,\u001b[0m \u001b[0mfetch_list\u001b[0m\u001b[0;34m)\u001b[0m\u001b[0;34m:\u001b[0m\u001b[0;34m\u001b[0m\u001b[0m\n",
      "\u001b[0;31mKeyboardInterrupt\u001b[0m: "
     ]
    }
   ],
   "source": [
    "# create estimator\n",
    "run_config = tf.contrib.learn.RunConfig(model_dir='mnist/CNN')\n",
    "estimator = tf.estimator.Estimator(model_fn=model_fn, config=run_config)\n",
    "\n",
    "# train for 10000 steps\n",
    "estimator.train(input_fn=mnist_train_input, steps=10000)\n",
    "\n",
    "# evaluate\n",
    "estimator.evaluate(input_fn=mnist_test_input)\n",
    "\n",
    "# predict\n",
    "preds = estimator.predict(input_fn=test_input_fn)"
   ]
  },
  {
   "cell_type": "markdown",
   "metadata": {},
   "source": [
    "## Distributed tensorflow: using experiments"
   ]
  },
  {
   "cell_type": "code",
   "execution_count": null,
   "metadata": {
    "collapsed": true
   },
   "outputs": [],
   "source": [
    "# Run an experiment\n",
    "from tensorflow.contrib.learn.python.learn import learn_runner\n",
    "\n",
    "# Enable TensorFlow logs\n",
    "tf.logging.set_verbosity(tf.logging.INFO)"
   ]
  },
  {
   "cell_type": "code",
   "execution_count": null,
   "metadata": {
    "collapsed": true
   },
   "outputs": [],
   "source": [
    "# create experiment\n",
    "def experiment_fn(run_config, hparams):\n",
    "  # create estimator\n",
    "  estimator = tf.estimator.Estimator(model_fn=model_fn,\n",
    "                                     config=run_config)\n",
    "  return tf.contrib.learn.Experiment(\n",
    "      estimator,\n",
    "      train_input_fn=train_input_fn,\n",
    "      eval_input_fn=test_input_fn,\n",
    "      train_steps=STEPS\n",
    "  )\n",
    "\n",
    "# run experiment\n",
    "learn_runner.run(experiment_fn,\n",
    "    run_config=run_config)"
   ]
  },
  {
   "cell_type": "markdown",
   "metadata": {},
   "source": [
    "### Examine the results with [TensorBoard](http://0.0.0.0:6006)\n",
    "$> tensorboard --logdir census"
   ]
  }
 ],
 "metadata": {
  "kernelspec": {
   "display_name": "Python 2",
   "language": "python",
   "name": "python2"
  },
  "language_info": {
   "codemirror_mode": {
    "name": "ipython",
    "version": 2
   },
   "file_extension": ".py",
   "mimetype": "text/x-python",
   "name": "python",
   "nbconvert_exporter": "python",
   "pygments_lexer": "ipython2",
   "version": "2.7.6"
  }
 },
 "nbformat": 4,
 "nbformat_minor": 2
}
