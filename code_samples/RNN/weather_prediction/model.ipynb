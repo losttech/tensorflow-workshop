{
 "cells": [
  {
   "cell_type": "markdown",
   "metadata": {},
   "source": [
    "## Time series prediction\n",
    "\n",
    "This is a full example of how to do time series prediction with TensorFlow high level APIs. We'll use the weather dataset available at [big query](https://bigquery.cloud.google.com/dataset/bigquery-public-data:noaa_gsod) and can be generated with the following query:\n",
    "\n",
    "```\n",
    "SELECT year, mo, da, \n",
    "avg(temp) as avg_tmp, \n",
    "avg(dewp) as avg_dewp, \n",
    "avg(slp) as avg_slp\n",
    "FROM `bigquery-public-data.noaa_gsod.gsod*`\n",
    "WHERE temp <> 9999.9 and dewp <> 9999.9 and slp <> 9999.9\n",
    "GROUP BY year, mo, da\n",
    "ORDER BY year asc, mo asc, da asc\n",
    "```\n",
    "\n",
    "You can download the data from [here](https://drive.google.com/file/d/0B5o0xAAYXFw2V1M2NDBUeHV4bEU/view?usp=sharing).\n",
    "\n",
    "We'll implement a RNN model using the Estimators API that given the average temperature of 10 days can predict the average temperature of the following day (11th).\n"
   ]
  },
  {
   "cell_type": "markdown",
   "metadata": {},
   "source": [
    "## Dependecies"
   ]
  },
  {
   "cell_type": "code",
   "execution_count": 46,
   "metadata": {},
   "outputs": [],
   "source": [
    "# tensorflow\n",
    "import tensorflow as tf\n",
    "\n",
    "# rnn common functions\n",
    "from tensorflow.contrib.learn.python.learn.estimators import rnn_common\n",
    "\n",
    "# visualization\n",
    "import seaborn as sns\n",
    "import matplotlib.pyplot as plt\n",
    "\n",
    "# helpers\n",
    "import numpy as np\n",
    "import pandas as pd\n",
    "import csv\n",
    "\n",
    "# enable tensorflow logs\n",
    "tf.logging.set_verbosity(tf.logging.INFO)"
   ]
  },
  {
   "cell_type": "markdown",
   "metadata": {},
   "source": [
    "## Describing the data set and the model\n",
    "\n",
    "We're using a weather dataset....[DESCRIBE DATA SET, HOW THE DATA WAS GENERATED AND OTHER DETAILS].\n",
    "\n",
    "The goal is: based on features from the past days predict the avg temperature in the next day. More specifically we'll use the data from 10 days in sequence to predict the avg temperature in the next day.\n"
   ]
  },
  {
   "cell_type": "markdown",
   "metadata": {},
   "source": [
    "## Preparing the data\n",
    "\n",
    "First let's prepare the data for the RNN, the RNN input is:\n",
    "\n",
    "* x = sequence of features\n",
    "* y = what we want to predict/classify from x, in our casewe want to predict the next avg temperature\n",
    "\n",
    "Then we have to separe trainning data from test data."
   ]
  },
  {
   "cell_type": "code",
   "execution_count": 47,
   "metadata": {},
   "outputs": [
    {
     "name": "stdout",
     "output_type": "stream",
     "text": [
      "number of rows in the dataset: 32094\n",
      "how a row looks like:\n",
      "    year  mo  da  avg_tmp  avg_dewp   avg_slp\n",
      "0   1929   8   1   58.200    52.875   994.950\n",
      "1   1929   8   2   55.925    49.500  1013.075\n",
      "2   1929   8   3   56.650    51.350  1013.675\n",
      "3   1929   8   4   60.625    55.350  1004.625\n",
      "4   1929   8   5   58.450    48.300  1010.400\n",
      "5   1929   8   6   58.700    56.525  1008.000\n",
      "6   1929   8   7   58.525    54.975  1007.825\n",
      "7   1929   8   8   58.200    49.925  1015.800\n",
      "8   1929   8   9   58.850    52.150  1016.400\n",
      "9   1929   8  10   62.225    56.175  1018.250\n",
      "10  1929   8  11   62.975    57.900  1017.550\n",
      "\n",
      "we don't the year mo da columns, so let's forget about them\n",
      "    avg_tmp  avg_dewp   avg_slp\n",
      "0    58.200    52.875   994.950\n",
      "1    55.925    49.500  1013.075\n",
      "2    56.650    51.350  1013.675\n",
      "3    60.625    55.350  1004.625\n",
      "4    58.450    48.300  1010.400\n",
      "5    58.700    56.525  1008.000\n",
      "6    58.525    54.975  1007.825\n",
      "7    58.200    49.925  1015.800\n",
      "8    58.850    52.150  1016.400\n",
      "9    62.225    56.175  1018.250\n",
      "10   62.975    57.900  1017.550\n"
     ]
    }
   ],
   "source": [
    "df = pd.read_csv('weather.csv')\n",
    "\n",
    "number_of_rows = len(df)\n",
    "print('number of rows in the dataset:', number_of_rows)\n",
    "\n",
    "print('how a row looks like:')\n",
    "print(df.head(11))\n",
    "\n",
    "print()\n",
    "print(\"we don't the year mo da columns, so let's forget about them\")\n",
    "df = df[['avg_tmp', 'avg_dewp', 'avg_slp']]\n",
    "print(df.head(11))"
   ]
  },
  {
   "cell_type": "code",
   "execution_count": 48,
   "metadata": {},
   "outputs": [
    {
     "name": "stdout",
     "output_type": "stream",
     "text": [
      "--------------------\n",
      "Example\n",
      "--------------------\n",
      "sequence:\n",
      "[[   58.20000076    52.875        994.95001221]\n",
      " [   55.92499924    49.5         1013.07501221]\n",
      " [   56.65000153    51.34999847  1013.67498779]\n",
      " [   60.625         55.34999847  1004.625     ]\n",
      " [   58.45000076    48.29999924  1010.40002441]\n",
      " [   58.70000076    56.52500153  1008.        ]\n",
      " [   58.52500153    54.97499847  1007.82501221]\n",
      " [   58.20000076    49.92499924  1015.79998779]\n",
      " [   58.84999847    52.15000153  1016.40002441]\n",
      " [   62.22499847    56.17499924  1018.25      ]]\n",
      "prediction: [ 62.975]\n"
     ]
    }
   ],
   "source": [
    "SEQ_LEN = 10\n",
    "VALID_ROWS = number_of_rows - SEQ_LEN - 1\n",
    "NUM_FEATURES = 3\n",
    "\n",
    "# then we can use indexes to access rows easily\n",
    "df = np.asarray(df)\n",
    "\n",
    "# sequences will have shape: [VALID_ROWS, SEQ_LEN, NUM_FEATURES]\n",
    "sequences = np.zeros((VALID_ROWS, SEQ_LEN, NUM_FEATURES), dtype=np.float32)\n",
    "labels = np.zeros((VALID_ROWS, 1))\n",
    "\n",
    "# sequences are 10 days\n",
    "# label is the avg_tmp for the following day (11th)\n",
    "for i in range(VALID_ROWS):\n",
    "    sequences[i] = df[i: i + SEQ_LEN]\n",
    "    labels[i] = df[i + SEQ_LEN][0]\n",
    "\n",
    "print('-' * 20)\n",
    "print('Example')\n",
    "print('-' * 20)\n",
    "\n",
    "print('sequence:')\n",
    "print(sequences[0])\n",
    "print('prediction:', labels[0])"
   ]
  },
  {
   "cell_type": "markdown",
   "metadata": {},
   "source": [
    "### Separating training, evaluation and a small test data\n",
    "\n",
    "The test data is going to be very small (10 sequences) and is being used just for visualization."
   ]
  },
  {
   "cell_type": "code",
   "execution_count": 49,
   "metadata": {},
   "outputs": [
    {
     "name": "stdout",
     "output_type": "stream",
     "text": [
      "train shape: (30000, 10, 3)\n",
      "eval shape: (2073, 10, 3)\n",
      "test shape: (10, 10, 3)\n"
     ]
    }
   ],
   "source": [
    "# these values are based on the number of valid rows which is 32083\n",
    "TRAIN_SIZE = 30000\n",
    "EVAL_SIZE = 2073\n",
    "TEST_SIZE = 10\n",
    "\n",
    "# TODO(@monteirom): suffle\n",
    "\n",
    "train_seq = sequences[:TRAIN_SIZE]\n",
    "train_label = np.asarray(labels[:TRAIN_SIZE], dtype=np.float32)\n",
    "\n",
    "eval_seq = sequences[TRAIN_SIZE: TRAIN_SIZE + EVAL_SIZE]\n",
    "eval_label = np.asarray(labels[TRAIN_SIZE:TRAIN_SIZE + EVAL_SIZE], dtype=np.float32)\n",
    "\n",
    "test_seq = sequences[TRAIN_SIZE + EVAL_SIZE: ]\n",
    "test_label = np.asarray(labels[TRAIN_SIZE + EVAL_SIZE: ], dtype=np.float32)\n",
    "\n",
    "print('train shape:', train_seq.shape)\n",
    "print('eval shape:', eval_seq.shape)\n",
    "print('test shape:', test_seq.shape)"
   ]
  },
  {
   "cell_type": "markdown",
   "metadata": {},
   "source": [
    "### What we want to predict\n",
    "\n",
    "This is the plot of the labels from the test data."
   ]
  },
  {
   "cell_type": "code",
   "execution_count": 50,
   "metadata": {},
   "outputs": [
    {
     "name": "stderr",
     "output_type": "stream",
     "text": [
      "/usr/local/lib/python3.4/dist-packages/seaborn/timeseries.py:183: UserWarning: The tsplot function is deprecated and will be removed or replaced (in a substantially altered version) in a future release.\n",
      "  warnings.warn(msg, UserWarning)\n"
     ]
    },
    {
     "data": {
      "image/png": "[encoded data removed]",
      "text/plain": [
       "<matplotlib.figure.Figure at 0x7ff8ac760710>"
      ]
     },
     "metadata": {},
     "output_type": "display_data"
    }
   ],
   "source": [
    "# getting test labels\n",
    "test_plot_data = [test_label[i][0] for i in range(TEST_SIZE)]\n",
    "\n",
    "# plotting\n",
    "sns.tsplot(test_plot_data)\n",
    "plt.show()"
   ]
  },
  {
   "cell_type": "markdown",
   "metadata": {},
   "source": [
    "## Defining Input functions"
   ]
  },
  {
   "cell_type": "code",
   "execution_count": 51,
   "metadata": {
    "collapsed": true
   },
   "outputs": [],
   "source": [
    "BATCH_SIZE = 64\n",
    "\n",
    "FEATURE_KEY = 'x'\n",
    "SEQ_LEN_KEY = 'sequence_length'\n",
    "def make_dict(x):\n",
    "    d = {}\n",
    "    d[FEATURE_KEY] = x\n",
    "    # [SIZE OF DATA SET, 1]\n",
    "    # where the second dimesion contains the sequence of each\n",
    "    # sequence in the data set\n",
    "    d[SEQ_LEN_KEY] = np.asarray(x.shape[0] * [SEQ_LEN], dtype=np.int32)\n",
    "    return d\n",
    "\n",
    "# Make input function for training: \n",
    "#   num_epochs=None -> will cycle through input data forever\n",
    "#   shuffle=True -> randomize order of input data\n",
    "train_input_fn = tf.estimator.inputs.numpy_input_fn(x=make_dict(train_seq),\n",
    "                                                    y=train_label,\n",
    "                                                    batch_size=BATCH_SIZE,\n",
    "                                                    shuffle=True,\n",
    "                                                    num_epochs=None)\n",
    "\n",
    "# Make input function for evaluation:\n",
    "# shuffle=False -> do not randomize input data\n",
    "eval_input_fn = tf.estimator.inputs.numpy_input_fn(x=make_dict(eval_seq),\n",
    "                                                    y=eval_label,\n",
    "                                                    batch_size=BATCH_SIZE,\n",
    "                                                    shuffle=False)\n",
    "\n",
    "# Make input function for testing:\n",
    "# shuffle=False -> do not randomize input data\n",
    "test_input_fn = tf.estimator.inputs.numpy_input_fn(x=make_dict(test_seq),\n",
    "                                                    y=test_label,\n",
    "                                                    batch_size=1,\n",
    "                                                    shuffle=False)"
   ]
  },
  {
   "cell_type": "markdown",
   "metadata": {},
   "source": [
    "### RNN Model"
   ]
  },
  {
   "cell_type": "code",
   "execution_count": 52,
   "metadata": {
    "collapsed": true
   },
   "outputs": [],
   "source": [
    "N_OUTPUTS = 1 # 1 prediction\n",
    "NUM_FEATURES = 3\n",
    "\n",
    "def get_model_fn(rnn_cell_sizes,\n",
    "                 label_dimension,\n",
    "                 dnn_layer_sizes=[],\n",
    "                 optimizer='SGD',\n",
    "                 learning_rate=0.01):\n",
    "    \n",
    "    def model_fn(features, labels, mode, params):\n",
    "\n",
    "        x = features[FEATURE_KEY]\n",
    "        sequence_length = features[SEQ_LEN_KEY]\n",
    "\n",
    "        # 1. configure the RNN\n",
    "        \n",
    "        # Each RNN layer will consist of a LSTM cell\n",
    "        rnn_layers = [tf.nn.rnn_cell.LSTMCell(size) for size in rnn_cell_sizes]\n",
    "        \n",
    "        # Construct the layers\n",
    "        multi_rnn_cell = tf.nn.rnn_cell.MultiRNNCell(rnn_layers)\n",
    "        \n",
    "        outputs, _ = tf.nn.dynamic_rnn(multi_rnn_cell, x, dtype=tf.float32)\n",
    "\n",
    "        # Slice to keep only the last cell of the RNN\n",
    "        last_activations = rnn_common.select_last_activations(outputs,\n",
    "                                                              sequence_length)\n",
    "\n",
    "        # Construct dense layers on top of the last cell of the RNN\n",
    "        for units in dnn_layer_sizes:\n",
    "            last_activations = tf.layers.dense(last_activations,\n",
    "                                               units,\n",
    "                                               activation=tf.nn.relu)\n",
    "        \n",
    "        # Final dense layer for prediction\n",
    "        predictions = tf.layers.dense(last_activations, label_dimension)\n",
    "        \n",
    "        # 2. Define the loss function for training/evaluation\n",
    "        loss = None\n",
    "        eval_metric_ops = None\n",
    "        train_op = None\n",
    "\n",
    "        # if predicting labels can be None\n",
    "        if mode != tf.estimator.ModeKeys.PREDICT:\n",
    "            loss = tf.losses.mean_squared_error(labels, predictions)\n",
    "            eval_metric_ops = {\n",
    "              \"rmse\": tf.metrics.root_mean_squared_error(labels, predictions)\n",
    "            }\n",
    "\n",
    "            # 3. Define the training operation/optimizer\n",
    "            train_op = tf.contrib.layers.optimize_loss(\n",
    "              loss=loss,\n",
    "              global_step=tf.contrib.framework.get_global_step(),\n",
    "              learning_rate=learning_rate,\n",
    "              optimizer=optimizer)\n",
    "\n",
    "        # 4. Create predictions\n",
    "        predictions_dict = {\"predicted\": predictions}\n",
    "\n",
    "        # 5. return ModelFnOps\n",
    "        return tf.estimator.EstimatorSpec(\n",
    "          mode=mode,\n",
    "          predictions=predictions_dict,\n",
    "          loss=loss,\n",
    "          train_op=train_op,\n",
    "          eval_metric_ops=eval_metric_ops)\n",
    "    \n",
    "    return model_fn"
   ]
  },
  {
   "cell_type": "markdown",
   "metadata": {},
   "source": [
    "## Running model"
   ]
  },
  {
   "cell_type": "code",
   "execution_count": 53,
   "metadata": {},
   "outputs": [
    {
     "name": "stdout",
     "output_type": "stream",
     "text": [
      "INFO:tensorflow:Using default config.\n",
      "WARNING:tensorflow:Using temporary folder as model directory: /tmp/tmps11p7sjm\n",
      "INFO:tensorflow:Using config: {'_save_summary_steps': 100, '_keep_checkpoint_every_n_hours': 10000, '_log_step_count_steps': 100, '_session_config': None, '_save_checkpoints_secs': 600, '_model_dir': '/tmp/tmps11p7sjm', '_tf_random_seed': 1, '_keep_checkpoint_max': 5, '_save_checkpoints_steps': None}\n",
      "WARNING:tensorflow:Estimator's model_fn (<function get_model_fn.<locals>.model_fn at 0x7ff8ac7e4840>) includes params argument, but params are not passed to Estimator.\n"
     ]
    }
   ],
   "source": [
    "model_fn = get_model_fn(rnn_cell_sizes=[64], # size of the hidden layers\n",
    "                        label_dimension=1, # since is just 1 prediction\n",
    "                        dnn_layer_sizes=[32], # size of units in the dense layers on top of the RNN\n",
    "                        optimizer='Adam',\n",
    "                        learning_rate=0.001)\n",
    "\n",
    "estimator = tf.estimator.Estimator(model_fn=model_fn)"
   ]
  },
  {
   "cell_type": "markdown",
   "metadata": {},
   "source": [
    "### Trainning"
   ]
  },
  {
   "cell_type": "code",
   "execution_count": 54,
   "metadata": {},
   "outputs": [
    {
     "name": "stdout",
     "output_type": "stream",
     "text": [
      "WARNING:tensorflow:From <ipython-input-52-0393b090cf77>:53: get_global_step (from tensorflow.contrib.framework.python.ops.variables) is deprecated and will be removed in a future version.\n",
      "Instructions for updating:\n",
      "Please switch to tf.train.get_global_step\n",
      "WARNING:tensorflow:From /usr/local/lib/python3.4/dist-packages/tensorflow/contrib/layers/python/layers/optimizers.py:160: assert_global_step (from tensorflow.contrib.framework.python.ops.variables) is deprecated and will be removed in a future version.\n",
      "Instructions for updating:\n",
      "Please switch to tf.train.assert_global_step\n",
      "INFO:tensorflow:Create CheckpointSaverHook.\n"
     ]
    },
    {
     "name": "stderr",
     "output_type": "stream",
     "text": [
      "/usr/local/lib/python3.4/dist-packages/tensorflow/python/ops/gradients_impl.py:95: UserWarning: Converting sparse IndexedSlices to a dense Tensor of unknown shape. This may consume a large amount of memory.\n",
      "  \"Converting sparse IndexedSlices to a dense Tensor of unknown shape. \"\n"
     ]
    },
    {
     "name": "stdout",
     "output_type": "stream",
     "text": [
      "INFO:tensorflow:Saving checkpoints for 1 into /tmp/tmps11p7sjm/model.ckpt.\n",
      "INFO:tensorflow:loss = 2432.35, step = 1\n",
      "INFO:tensorflow:global_step/sec: 162.07\n",
      "INFO:tensorflow:loss = 2108.45, step = 101 (0.618 sec)\n",
      "INFO:tensorflow:global_step/sec: 181.016\n",
      "INFO:tensorflow:loss = 685.139, step = 201 (0.552 sec)\n",
      "INFO:tensorflow:global_step/sec: 214.737\n",
      "INFO:tensorflow:loss = 244.134, step = 301 (0.466 sec)\n",
      "INFO:tensorflow:global_step/sec: 223.519\n",
      "INFO:tensorflow:loss = 92.9953, step = 401 (0.447 sec)\n",
      "INFO:tensorflow:global_step/sec: 217.433\n",
      "INFO:tensorflow:loss = 50.4184, step = 501 (0.460 sec)\n",
      "INFO:tensorflow:global_step/sec: 222.926\n",
      "INFO:tensorflow:loss = 87.9727, step = 601 (0.449 sec)\n",
      "INFO:tensorflow:global_step/sec: 215.832\n",
      "INFO:tensorflow:loss = 94.4517, step = 701 (0.463 sec)\n",
      "INFO:tensorflow:global_step/sec: 223.48\n",
      "INFO:tensorflow:loss = 8.63677, step = 801 (0.448 sec)\n",
      "INFO:tensorflow:global_step/sec: 208.979\n",
      "INFO:tensorflow:loss = 2.39279, step = 901 (0.478 sec)\n",
      "INFO:tensorflow:global_step/sec: 209.057\n",
      "INFO:tensorflow:loss = 17.6544, step = 1001 (0.478 sec)\n",
      "INFO:tensorflow:global_step/sec: 207.158\n",
      "INFO:tensorflow:loss = 6.09578, step = 1101 (0.483 sec)\n",
      "INFO:tensorflow:global_step/sec: 208.916\n",
      "INFO:tensorflow:loss = 3.08206, step = 1201 (0.479 sec)\n",
      "INFO:tensorflow:global_step/sec: 204.758\n",
      "INFO:tensorflow:loss = 1.49777, step = 1301 (0.488 sec)\n",
      "INFO:tensorflow:global_step/sec: 204.487\n",
      "INFO:tensorflow:loss = 4.62279, step = 1401 (0.489 sec)\n",
      "INFO:tensorflow:global_step/sec: 212.203\n",
      "INFO:tensorflow:loss = 4.08888, step = 1501 (0.471 sec)\n",
      "INFO:tensorflow:global_step/sec: 201.688\n",
      "INFO:tensorflow:loss = 1.57109, step = 1601 (0.496 sec)\n",
      "INFO:tensorflow:global_step/sec: 208.56\n",
      "INFO:tensorflow:loss = 1.28143, step = 1701 (0.480 sec)\n",
      "INFO:tensorflow:global_step/sec: 200.892\n",
      "INFO:tensorflow:loss = 1.12934, step = 1801 (0.498 sec)\n",
      "INFO:tensorflow:global_step/sec: 222.958\n",
      "INFO:tensorflow:loss = 7.44331, step = 1901 (0.449 sec)\n",
      "INFO:tensorflow:global_step/sec: 214.967\n",
      "INFO:tensorflow:loss = 3.20228, step = 2001 (0.465 sec)\n",
      "INFO:tensorflow:global_step/sec: 223.208\n",
      "INFO:tensorflow:loss = 11.1714, step = 2101 (0.448 sec)\n",
      "INFO:tensorflow:global_step/sec: 217.262\n",
      "INFO:tensorflow:loss = 1.15603, step = 2201 (0.461 sec)\n",
      "INFO:tensorflow:global_step/sec: 197.246\n",
      "INFO:tensorflow:loss = 0.703166, step = 2301 (0.507 sec)\n",
      "INFO:tensorflow:global_step/sec: 213.341\n",
      "INFO:tensorflow:loss = 7.65022, step = 2401 (0.469 sec)\n",
      "INFO:tensorflow:global_step/sec: 222.54\n",
      "INFO:tensorflow:loss = 2.37742, step = 2501 (0.449 sec)\n",
      "INFO:tensorflow:global_step/sec: 222.486\n",
      "INFO:tensorflow:loss = 2.97222, step = 2601 (0.449 sec)\n",
      "INFO:tensorflow:global_step/sec: 211.077\n",
      "INFO:tensorflow:loss = 0.48259, step = 2701 (0.474 sec)\n",
      "INFO:tensorflow:global_step/sec: 202.806\n",
      "INFO:tensorflow:loss = 2.44409, step = 2801 (0.493 sec)\n",
      "INFO:tensorflow:global_step/sec: 209.52\n",
      "INFO:tensorflow:loss = 2.34389, step = 2901 (0.477 sec)\n",
      "INFO:tensorflow:global_step/sec: 204.16\n",
      "INFO:tensorflow:loss = 1.16919, step = 3001 (0.490 sec)\n",
      "INFO:tensorflow:global_step/sec: 215.858\n",
      "INFO:tensorflow:loss = 0.887743, step = 3101 (0.463 sec)\n",
      "INFO:tensorflow:global_step/sec: 210.114\n",
      "INFO:tensorflow:loss = 0.433529, step = 3201 (0.476 sec)\n",
      "INFO:tensorflow:global_step/sec: 219.568\n",
      "INFO:tensorflow:loss = 3.86377, step = 3301 (0.455 sec)\n",
      "INFO:tensorflow:global_step/sec: 224.478\n",
      "INFO:tensorflow:loss = 2.99067, step = 3401 (0.445 sec)\n",
      "INFO:tensorflow:global_step/sec: 221.096\n",
      "INFO:tensorflow:loss = 5.21679, step = 3501 (0.452 sec)\n",
      "INFO:tensorflow:global_step/sec: 227.464\n",
      "INFO:tensorflow:loss = 0.974926, step = 3601 (0.440 sec)\n",
      "INFO:tensorflow:global_step/sec: 214.255\n",
      "INFO:tensorflow:loss = 0.918701, step = 3701 (0.467 sec)\n",
      "INFO:tensorflow:global_step/sec: 215.435\n",
      "INFO:tensorflow:loss = 10.2067, step = 3801 (0.464 sec)\n",
      "INFO:tensorflow:global_step/sec: 223.911\n",
      "INFO:tensorflow:loss = 2.29104, step = 3901 (0.447 sec)\n",
      "INFO:tensorflow:global_step/sec: 224.306\n",
      "INFO:tensorflow:loss = 0.968132, step = 4001 (0.446 sec)\n",
      "INFO:tensorflow:global_step/sec: 220.097\n",
      "INFO:tensorflow:loss = 0.487839, step = 4101 (0.454 sec)\n",
      "INFO:tensorflow:global_step/sec: 208.709\n",
      "INFO:tensorflow:loss = 3.04669, step = 4201 (0.479 sec)\n",
      "INFO:tensorflow:global_step/sec: 217.575\n",
      "INFO:tensorflow:loss = 2.73367, step = 4301 (0.460 sec)\n",
      "INFO:tensorflow:global_step/sec: 222.263\n",
      "INFO:tensorflow:loss = 0.77022, step = 4401 (0.450 sec)\n",
      "INFO:tensorflow:global_step/sec: 222.668\n",
      "INFO:tensorflow:loss = 0.768263, step = 4501 (0.449 sec)\n",
      "INFO:tensorflow:global_step/sec: 222.417\n",
      "INFO:tensorflow:loss = 0.515308, step = 4601 (0.450 sec)\n",
      "INFO:tensorflow:global_step/sec: 217.189\n",
      "INFO:tensorflow:loss = 5.13322, step = 4701 (0.460 sec)\n",
      "INFO:tensorflow:global_step/sec: 221.741\n",
      "INFO:tensorflow:loss = 2.37877, step = 4801 (0.451 sec)\n",
      "INFO:tensorflow:global_step/sec: 223.568\n",
      "INFO:tensorflow:loss = 2.40216, step = 4901 (0.447 sec)\n",
      "INFO:tensorflow:global_step/sec: 198.432\n",
      "INFO:tensorflow:loss = 0.655012, step = 5001 (0.504 sec)\n",
      "INFO:tensorflow:global_step/sec: 207.052\n",
      "INFO:tensorflow:loss = 0.688889, step = 5101 (0.483 sec)\n",
      "INFO:tensorflow:global_step/sec: 197.119\n",
      "INFO:tensorflow:loss = 6.95615, step = 5201 (0.507 sec)\n",
      "INFO:tensorflow:global_step/sec: 217.012\n",
      "INFO:tensorflow:loss = 1.7891, step = 5301 (0.461 sec)\n",
      "INFO:tensorflow:global_step/sec: 219.421\n",
      "INFO:tensorflow:loss = 1.12414, step = 5401 (0.456 sec)\n",
      "INFO:tensorflow:global_step/sec: 226.242\n",
      "INFO:tensorflow:loss = 0.387164, step = 5501 (0.442 sec)\n",
      "INFO:tensorflow:global_step/sec: 219.485\n",
      "INFO:tensorflow:loss = 0.442431, step = 5601 (0.456 sec)\n",
      "INFO:tensorflow:global_step/sec: 216.958\n",
      "INFO:tensorflow:loss = 4.21743, step = 5701 (0.461 sec)\n",
      "INFO:tensorflow:global_step/sec: 210.281\n",
      "INFO:tensorflow:loss = 0.701394, step = 5801 (0.476 sec)\n",
      "INFO:tensorflow:global_step/sec: 221.239\n",
      "INFO:tensorflow:loss = 0.542924, step = 5901 (0.452 sec)\n",
      "INFO:tensorflow:global_step/sec: 205.431\n",
      "INFO:tensorflow:loss = 0.442746, step = 6001 (0.487 sec)\n",
      "INFO:tensorflow:global_step/sec: 202.422\n",
      "INFO:tensorflow:loss = 4.46415, step = 6101 (0.494 sec)\n",
      "INFO:tensorflow:global_step/sec: 221.754\n",
      "INFO:tensorflow:loss = 2.94044, step = 6201 (0.451 sec)\n",
      "INFO:tensorflow:global_step/sec: 207.593\n",
      "INFO:tensorflow:loss = 2.12925, step = 6301 (0.482 sec)\n",
      "INFO:tensorflow:global_step/sec: 213.965\n",
      "INFO:tensorflow:loss = 0.562413, step = 6401 (0.467 sec)\n",
      "INFO:tensorflow:global_step/sec: 214.756\n",
      "INFO:tensorflow:loss = 0.326047, step = 6501 (0.466 sec)\n",
      "INFO:tensorflow:global_step/sec: 211.933\n",
      "INFO:tensorflow:loss = 6.7392, step = 6601 (0.472 sec)\n",
      "INFO:tensorflow:global_step/sec: 209.162\n",
      "INFO:tensorflow:loss = 7.94897, step = 6701 (0.478 sec)\n",
      "INFO:tensorflow:global_step/sec: 203.252\n",
      "INFO:tensorflow:loss = 4.78001, step = 6801 (0.492 sec)\n",
      "INFO:tensorflow:global_step/sec: 193.814\n",
      "INFO:tensorflow:loss = 0.545542, step = 6901 (0.516 sec)\n",
      "INFO:tensorflow:global_step/sec: 216.26\n",
      "INFO:tensorflow:loss = 0.40431, step = 7001 (0.462 sec)\n",
      "INFO:tensorflow:global_step/sec: 212.642\n",
      "INFO:tensorflow:loss = 4.98732, step = 7101 (0.470 sec)\n",
      "INFO:tensorflow:global_step/sec: 221.373\n",
      "INFO:tensorflow:loss = 1.51961, step = 7201 (0.452 sec)\n",
      "INFO:tensorflow:global_step/sec: 205.786\n",
      "INFO:tensorflow:loss = 0.626234, step = 7301 (0.486 sec)\n",
      "INFO:tensorflow:global_step/sec: 215.614\n",
      "INFO:tensorflow:loss = 0.387444, step = 7401 (0.464 sec)\n",
      "INFO:tensorflow:global_step/sec: 223.059\n",
      "INFO:tensorflow:loss = 3.72367, step = 7501 (0.448 sec)\n",
      "INFO:tensorflow:global_step/sec: 210.782\n",
      "INFO:tensorflow:loss = 1.80488, step = 7601 (0.474 sec)\n",
      "INFO:tensorflow:global_step/sec: 222.427\n",
      "INFO:tensorflow:loss = 1.34275, step = 7701 (0.450 sec)\n",
      "INFO:tensorflow:global_step/sec: 211.223\n",
      "INFO:tensorflow:loss = 0.460348, step = 7801 (0.473 sec)\n",
      "INFO:tensorflow:global_step/sec: 220.994\n",
      "INFO:tensorflow:loss = 0.292856, step = 7901 (0.452 sec)\n",
      "INFO:tensorflow:global_step/sec: 220.971\n",
      "INFO:tensorflow:loss = 5.08593, step = 8001 (0.453 sec)\n",
      "INFO:tensorflow:global_step/sec: 219.072\n",
      "INFO:tensorflow:loss = 1.94579, step = 8101 (0.456 sec)\n",
      "INFO:tensorflow:global_step/sec: 213.417\n",
      "INFO:tensorflow:loss = 2.90097, step = 8201 (0.469 sec)\n",
      "INFO:tensorflow:global_step/sec: 199.368\n",
      "INFO:tensorflow:loss = 0.470805, step = 8301 (0.502 sec)\n",
      "INFO:tensorflow:global_step/sec: 215.525\n"
     ]
    },
    {
     "name": "stdout",
     "output_type": "stream",
     "text": [
      "INFO:tensorflow:loss = 0.371441, step = 8401 (0.464 sec)\n",
      "INFO:tensorflow:global_step/sec: 226.412\n",
      "INFO:tensorflow:loss = 2.93243, step = 8501 (0.442 sec)\n",
      "INFO:tensorflow:global_step/sec: 195.523\n",
      "INFO:tensorflow:loss = 1.52685, step = 8601 (0.511 sec)\n",
      "INFO:tensorflow:global_step/sec: 222.687\n",
      "INFO:tensorflow:loss = 0.921148, step = 8701 (0.449 sec)\n",
      "INFO:tensorflow:global_step/sec: 217.159\n",
      "INFO:tensorflow:loss = 0.326806, step = 8801 (0.460 sec)\n",
      "INFO:tensorflow:global_step/sec: 213.31\n",
      "INFO:tensorflow:loss = 3.81109, step = 8901 (0.469 sec)\n",
      "INFO:tensorflow:global_step/sec: 223.972\n",
      "INFO:tensorflow:loss = 1.76936, step = 9001 (0.446 sec)\n",
      "INFO:tensorflow:global_step/sec: 218.241\n",
      "INFO:tensorflow:loss = 0.748776, step = 9101 (0.458 sec)\n",
      "INFO:tensorflow:global_step/sec: 220.002\n",
      "INFO:tensorflow:loss = 1.11636, step = 9201 (0.455 sec)\n",
      "INFO:tensorflow:global_step/sec: 223.48\n",
      "INFO:tensorflow:loss = 0.342541, step = 9301 (0.447 sec)\n",
      "INFO:tensorflow:global_step/sec: 221.62\n",
      "INFO:tensorflow:loss = 6.021, step = 9401 (0.451 sec)\n",
      "INFO:tensorflow:global_step/sec: 211.058\n",
      "INFO:tensorflow:loss = 2.13318, step = 9501 (0.474 sec)\n",
      "INFO:tensorflow:global_step/sec: 218.263\n",
      "INFO:tensorflow:loss = 1.30814, step = 9601 (0.458 sec)\n",
      "INFO:tensorflow:global_step/sec: 214.934\n",
      "INFO:tensorflow:loss = 0.486767, step = 9701 (0.465 sec)\n",
      "INFO:tensorflow:global_step/sec: 219.461\n",
      "INFO:tensorflow:loss = 0.47932, step = 9801 (0.455 sec)\n",
      "INFO:tensorflow:global_step/sec: 220.783\n",
      "INFO:tensorflow:loss = 7.2142, step = 9901 (0.453 sec)\n",
      "INFO:tensorflow:Saving checkpoints for 10000 into /tmp/tmps11p7sjm/model.ckpt.\n",
      "INFO:tensorflow:Loss for final step: 1.19168.\n"
     ]
    },
    {
     "data": {
      "text/plain": [
       "<tensorflow.python.estimator.estimator.Estimator at 0x7ff8ac7604a8>"
      ]
     },
     "execution_count": 54,
     "metadata": {},
     "output_type": "execute_result"
    }
   ],
   "source": [
    "estimator.train(input_fn=train_input_fn, steps=10000)"
   ]
  },
  {
   "cell_type": "markdown",
   "metadata": {},
   "source": [
    "### Evaluating"
   ]
  },
  {
   "cell_type": "code",
   "execution_count": 55,
   "metadata": {},
   "outputs": [
    {
     "name": "stdout",
     "output_type": "stream",
     "text": [
      "WARNING:tensorflow:From <ipython-input-52-0393b090cf77>:53: get_global_step (from tensorflow.contrib.framework.python.ops.variables) is deprecated and will be removed in a future version.\n",
      "Instructions for updating:\n",
      "Please switch to tf.train.get_global_step\n",
      "WARNING:tensorflow:From /usr/local/lib/python3.4/dist-packages/tensorflow/contrib/layers/python/layers/optimizers.py:160: assert_global_step (from tensorflow.contrib.framework.python.ops.variables) is deprecated and will be removed in a future version.\n",
      "Instructions for updating:\n",
      "Please switch to tf.train.assert_global_step\n",
      "INFO:tensorflow:Starting evaluation at 2017-08-14-17:53:00\n"
     ]
    },
    {
     "name": "stderr",
     "output_type": "stream",
     "text": [
      "/usr/local/lib/python3.4/dist-packages/tensorflow/python/ops/gradients_impl.py:95: UserWarning: Converting sparse IndexedSlices to a dense Tensor of unknown shape. This may consume a large amount of memory.\n",
      "  \"Converting sparse IndexedSlices to a dense Tensor of unknown shape. \"\n"
     ]
    },
    {
     "name": "stdout",
     "output_type": "stream",
     "text": [
      "INFO:tensorflow:Restoring parameters from /tmp/tmps11p7sjm/model.ckpt-10000\n",
      "INFO:tensorflow:Finished evaluation at 2017-08-14-17:53:01\n",
      "INFO:tensorflow:Saving dict for global step 10000: global_step = 10000, loss = 0.445435, rmse = 0.671269\n",
      "{'rmse': 0.67126906, 'global_step': 10000, 'loss': 0.44543543}\n"
     ]
    }
   ],
   "source": [
    "ev = estimator.evaluate(input_fn=eval_input_fn)\n",
    "print(ev)"
   ]
  },
  {
   "cell_type": "markdown",
   "metadata": {},
   "source": [
    "### Testing"
   ]
  },
  {
   "cell_type": "code",
   "execution_count": 56,
   "metadata": {},
   "outputs": [
    {
     "name": "stdout",
     "output_type": "stream",
     "text": [
      "INFO:tensorflow:Restoring parameters from /tmp/tmps11p7sjm/model.ckpt-10000\n",
      "{'predicted': array([ 64.33269501], dtype=float32)}\n",
      "{'predicted': array([ 64.43370056], dtype=float32)}\n",
      "{'predicted': array([ 64.95011139], dtype=float32)}\n",
      "{'predicted': array([ 65.11882782], dtype=float32)}\n",
      "{'predicted': array([ 65.12838745], dtype=float32)}\n",
      "{'predicted': array([ 65.16017914], dtype=float32)}\n",
      "{'predicted': array([ 65.70585632], dtype=float32)}\n",
      "{'predicted': array([ 65.77359772], dtype=float32)}\n",
      "{'predicted': array([ 65.74475098], dtype=float32)}\n",
      "{'predicted': array([ 66.49647522], dtype=float32)}\n"
     ]
    }
   ],
   "source": [
    "preds = list(estimator.predict(input_fn=test_input_fn))\n",
    "predictions = []\n",
    "for p in preds:\n",
    "    print(p)\n",
    "    predictions.append(p[\"predicted\"][0])"
   ]
  },
  {
   "cell_type": "markdown",
   "metadata": {},
   "source": [
    "### Visualizing predictions"
   ]
  },
  {
   "cell_type": "code",
   "execution_count": 57,
   "metadata": {},
   "outputs": [
    {
     "name": "stderr",
     "output_type": "stream",
     "text": [
      "/usr/local/lib/python3.4/dist-packages/seaborn/timeseries.py:183: UserWarning: The tsplot function is deprecated and will be removed or replaced (in a substantially altered version) in a future release.\n",
      "  warnings.warn(msg, UserWarning)\n"
     ]
    },
    {
     "data": {
      "image/png": "[encoded data removed]",
      "text/plain": [
       "<matplotlib.figure.Figure at 0x7ff8467d04e0>"
      ]
     },
     "metadata": {},
     "output_type": "display_data"
    }
   ],
   "source": [
    "# plotting real values in black\n",
    "sns.tsplot(test_plot_data, color=\"black\")\n",
    "# plotting predictions in red\n",
    "sns.tsplot(predictions, color=\"red\")\n",
    "\n",
    "plt.show()"
   ]
  },
  {
   "cell_type": "code",
   "execution_count": null,
   "metadata": {
    "collapsed": true
   },
   "outputs": [],
   "source": []
  }
 ],
 "metadata": {
  "kernelspec": {
   "display_name": "Python 2",
   "language": "python",
   "name": "python2"
  },
  "language_info": {
   "codemirror_mode": {
    "name": "ipython",
    "version": 3
   },
   "file_extension": ".py",
   "mimetype": "text/x-python",
   "name": "python",
   "nbconvert_exporter": "python",
   "pygments_lexer": "ipython3",
   "version": "3.4.3"
  }
 },
 "nbformat": 4,
 "nbformat_minor": 2
}
