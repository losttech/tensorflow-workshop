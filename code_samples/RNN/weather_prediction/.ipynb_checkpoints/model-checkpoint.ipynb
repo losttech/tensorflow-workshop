{
 "cells": [
  {
   "cell_type": "markdown",
   "metadata": {},
   "source": [
    "## Time series prediction using RNNs + Estimators\n",
    "\n",
    "This notebook illustrates how to:\n",
    "   1. Creating a Recurrent Neural Network in TensorFlow\n",
    "   2. Creating a Custom Estimator in tf.contrib.learn\n"
   ]
  },
  {
   "cell_type": "markdown",
   "metadata": {},
   "source": [
    "## Dependecies"
   ]
  },
  {
   "cell_type": "code",
   "execution_count": 105,
   "metadata": {},
   "outputs": [],
   "source": [
    "#!/usr/bin/env python\n",
    "\n",
    "# Copyright 2017 Google Inc. All Rights Reserved.\n",
    "#\n",
    "# Licensed under the Apache License, Version 2.0 (the \"License\");\n",
    "# you may not use this file except in compliance with the License.\n",
    "# You may obtain a copy of the License at\n",
    "#\n",
    "#      http://www.apache.org/licenses/LICENSE-2.0\n",
    "#\n",
    "# Unless required by applicable law or agreed to in writing, software\n",
    "# distributed under the License is distributed on an \"AS IS\" BASIS,\n",
    "# WITHOUT WARRANTIES OR CONDITIONS OF ANY KIND, either express or implied.\n",
    "# See the License for the specific language governing permissions and\n",
    "# limitations under the License.\n",
    "\n",
    "# original code from: https://github.com/GoogleCloudPlatform/training-data-analyst/tree/master/blogs/timeseries\n",
    "# modified by: Marianne Linhares, monteirom@google.com, May 2017\n",
    "\n",
    "# tensorflow\n",
    "import tensorflow as tf\n",
    "import tensorflow.contrib.learn as tflearn\n",
    "import tensorflow.contrib.layers as tflayers\n",
    "from tensorflow.contrib.learn.python.learn import learn_runner\n",
    "import tensorflow.contrib.metrics as metrics\n",
    "import tensorflow.contrib.rnn as rnn\n",
    "# Rnn common functions\n",
    "from tensorflow.contrib.learn.python.learn.estimators import rnn_common\n",
    "\n",
    "# visualization\n",
    "import matplotlib.pyplot as plt\n",
    "\n",
    "# helpers\n",
    "import numpy as np\n",
    "import pandas as pd\n",
    "import csv\n",
    "\n",
    "# enable tensorflow logs\n",
    "tf.logging.set_verbosity(tf.logging.INFO)"
   ]
  },
  {
   "cell_type": "markdown",
   "metadata": {},
   "source": [
    "## Describing the data set and the model\n",
    "\n",
    "We're using a weather dataset....[DESCRIBE DATA SET, HOW THE DATA WAS GENERATED AND OTHER DETAILS].\n",
    "\n",
    "The goal is: based on features from the past days predict the avg temperature in the next day. More specifically we'll use the data from 10 days in sequence to predict the avg temperature in the next day.\n"
   ]
  },
  {
   "cell_type": "markdown",
   "metadata": {},
   "source": [
    "## Preparing the data\n",
    "\n",
    "First let's prepare the data for the RNN, the RNN input is:\n",
    "\n",
    "* x = sequence of features\n",
    "* y = what we want to predict/classify from x, in our casewe want to predict the next avg temperature\n",
    "\n",
    "Then we have to separe trainning data from test data."
   ]
  },
  {
   "cell_type": "code",
   "execution_count": 71,
   "metadata": {},
   "outputs": [
    {
     "name": "stdout",
     "output_type": "stream",
     "text": [
      "number of rows in the dataset: 32094\n",
      "how a row looks like:\n",
      "    year  mo  da  avg_tmp  avg_dewp   avg_slp\n",
      "0   1929   8   1   58.200    52.875   994.950\n",
      "1   1929   8   2   55.925    49.500  1013.075\n",
      "2   1929   8   3   56.650    51.350  1013.675\n",
      "3   1929   8   4   60.625    55.350  1004.625\n",
      "4   1929   8   5   58.450    48.300  1010.400\n",
      "5   1929   8   6   58.700    56.525  1008.000\n",
      "6   1929   8   7   58.525    54.975  1007.825\n",
      "7   1929   8   8   58.200    49.925  1015.800\n",
      "8   1929   8   9   58.850    52.150  1016.400\n",
      "9   1929   8  10   62.225    56.175  1018.250\n",
      "10  1929   8  11   62.975    57.900  1017.550\n",
      "\n",
      "we don't the year mo da columns, so let's forget about them\n",
      "    avg_tmp  avg_dewp   avg_slp\n",
      "0    58.200    52.875   994.950\n",
      "1    55.925    49.500  1013.075\n",
      "2    56.650    51.350  1013.675\n",
      "3    60.625    55.350  1004.625\n",
      "4    58.450    48.300  1010.400\n",
      "5    58.700    56.525  1008.000\n",
      "6    58.525    54.975  1007.825\n",
      "7    58.200    49.925  1015.800\n",
      "8    58.850    52.150  1016.400\n",
      "9    62.225    56.175  1018.250\n",
      "10   62.975    57.900  1017.550\n"
     ]
    }
   ],
   "source": [
    "df = pd.read_csv('weather.csv')\n",
    "\n",
    "number_of_rows = len(df)\n",
    "print('number of rows in the dataset:', number_of_rows)\n",
    "\n",
    "print('how a row looks like:')\n",
    "print(df.head(11))\n",
    "\n",
    "print()\n",
    "print(\"we don't the year mo da columns, so let's forget about them\")\n",
    "df = df[['avg_tmp', 'avg_dewp', 'avg_slp']]\n",
    "print(df.head(11))"
   ]
  },
  {
   "cell_type": "code",
   "execution_count": 72,
   "metadata": {},
   "outputs": [
    {
     "name": "stdout",
     "output_type": "stream",
     "text": [
      "--------------------\n",
      "Example\n",
      "--------------------\n",
      "sequence:\n",
      "[[   58.20000076    52.875        994.95001221]\n",
      " [   55.92499924    49.5         1013.07501221]\n",
      " [   56.65000153    51.34999847  1013.67498779]\n",
      " [   60.625         55.34999847  1004.625     ]\n",
      " [   58.45000076    48.29999924  1010.40002441]\n",
      " [   58.70000076    56.52500153  1008.        ]\n",
      " [   58.52500153    54.97499847  1007.82501221]\n",
      " [   58.20000076    49.92499924  1015.79998779]\n",
      " [   58.84999847    52.15000153  1016.40002441]\n",
      " [   62.22499847    56.17499924  1018.25      ]]\n",
      "prediction: [ 62.975]\n"
     ]
    }
   ],
   "source": [
    "SEQ_LEN = 10\n",
    "VALID_ROWS = number_of_rows - SEQ_LEN - 1\n",
    "NUM_FEATURES = 3\n",
    "\n",
    "# then we can use indexes to access rows easily\n",
    "df = np.asarray(df)\n",
    "\n",
    "# sequences will have shape: [VALID_ROWS, SEQ_LEN, NUM_FEATURES]\n",
    "sequences = np.zeros((VALID_ROWS, SEQ_LEN, NUM_FEATURES), dtype=np.float32)\n",
    "labels = np.zeros((VALID_ROWS, 1))\n",
    "\n",
    "# if the sequence would have len < SEQ_LEN we don't want to use it\n",
    "# @monteirom: but we can, just need to pass the seq_len as parameter to the dynamic RNN,\n",
    "# but for now let's keep things simple\n",
    "for i in range(VALID_ROWS):\n",
    "    sequences[i] = df[i: i + SEQ_LEN]\n",
    "    labels[i] = df[i + SEQ_LEN][0]\n",
    "\n",
    "print('-' * 20)\n",
    "print('Example')\n",
    "print('-' * 20)\n",
    "\n",
    "print('sequence:')\n",
    "print(sequences[0])\n",
    "print('prediction:', labels[0])"
   ]
  },
  {
   "cell_type": "markdown",
   "metadata": {},
   "source": [
    "### Separating training, evaluation and a small test data\n",
    "\n",
    "The test data is going to be very small (10 sequences) and is being used just for visualization."
   ]
  },
  {
   "cell_type": "code",
   "execution_count": 146,
   "metadata": {},
   "outputs": [
    {
     "name": "stdout",
     "output_type": "stream",
     "text": [
      "train shape: (30000, 10, 3)\n",
      "eval shape: (2073, 10, 3)\n",
      "test shape: (10, 10, 3)\n"
     ]
    }
   ],
   "source": [
    "# these values are based on the number of valid rows which is 32083\n",
    "TRAIN_SIZE = 30000\n",
    "EVAL_SIZE = 2073\n",
    "TEST_SIZE = 10\n",
    "\n",
    "# TODO(@monteirom): suffle\n",
    "\n",
    "train_seq = sequences[:TRAIN_SIZE]\n",
    "train_label = np.asarray(labels[:TRAIN_SIZE], dtype=np.float32)\n",
    "\n",
    "eval_seq = sequences[TRAIN_SIZE: TRAIN_SIZE + EVAL_SIZE]\n",
    "eval_label = np.asarray(labels[TRAIN_SIZE:TRAIN_SIZE + EVAL_SIZE], dtype=np.float32)\n",
    "\n",
    "test_seq = sequences[TRAIN_SIZE + EVAL_SIZE: ]\n",
    "test_label = np.asarray(labels[TRAIN_SIZE + EVAL_SIZE: ], dtype=np.float32)\n",
    "\n",
    "print('train shape:', train_seq.shape)\n",
    "print('eval shape:', eval_seq.shape)\n",
    "print('test shape:', test_seq.shape)"
   ]
  },
  {
   "cell_type": "markdown",
   "metadata": {},
   "source": [
    "### What we want to predict\n",
    "\n",
    "This is the plot of the labels from the test data."
   ]
  },
  {
   "cell_type": "code",
   "execution_count": 166,
   "metadata": {},
   "outputs": [
    {
     "data": {
      "image/png": "[encoded data removed]",
      "text/plain": [
       "<matplotlib.figure.Figure at 0x7fd2bf483630>"
      ]
     },
     "metadata": {},
     "output_type": "display_data"
    }
   ],
   "source": [
    "# getting test labels\n",
    "test_plot_data = [test_label[i][0] for i in range(TEST_SIZE)]\n",
    "\n",
    "# plotting\n",
    "sns.tsplot(test_plot_data)\n",
    "plt.show()"
   ]
  },
  {
   "cell_type": "markdown",
   "metadata": {},
   "source": [
    "## Defining Input functions"
   ]
  },
  {
   "cell_type": "code",
   "execution_count": 148,
   "metadata": {},
   "outputs": [],
   "source": [
    "BATCH_SIZE = 64\n",
    "\n",
    "FEATURE_KEY = 'x'\n",
    "SEQ_LEN_KEY = 'sequence_length'\n",
    "def make_dict(x):\n",
    "    d = {}\n",
    "    d[FEATURE_KEY] = x\n",
    "    # [SIZE OF DATA SET, 1]\n",
    "    # where the second dimesion contains the sequence of each\n",
    "    # sequence in the data set\n",
    "    d[SEQ_LEN_KEY] = np.asarray(x.shape[0] * [SEQ_LEN], dtype=np.int32)\n",
    "    return d\n",
    "\n",
    "# Make input function for training: \n",
    "#   num_epochs=None -> will cycle through input data forever\n",
    "#   shuffle=True -> randomize order of input data\n",
    "train_input_fn = tf.estimator.inputs.numpy_input_fn(x=make_dict(train_seq),\n",
    "                                                    y=train_label,\n",
    "                                                    batch_size=BATCH_SIZE,\n",
    "                                                    shuffle=True,\n",
    "                                                    num_epochs=None)\n",
    "\n",
    "# Make input function for evaluation:\n",
    "# shuffle=False -> do not randomize input data\n",
    "eval_input_fn = tf.estimator.inputs.numpy_input_fn(x=make_dict(eval_seq),\n",
    "                                                    y=eval_label,\n",
    "                                                    batch_size=BATCH_SIZE,\n",
    "                                                    shuffle=False)\n",
    "\n",
    "# Make input function for testing:\n",
    "# shuffle=False -> do not randomize input data\n",
    "test_input_fn = tf.estimator.inputs.numpy_input_fn(x=make_dict(test_seq),\n",
    "                                                    y=test_label,\n",
    "                                                    batch_size=1,\n",
    "                                                    shuffle=False)"
   ]
  },
  {
   "cell_type": "markdown",
   "metadata": {},
   "source": [
    "### RNN Model"
   ]
  },
  {
   "cell_type": "code",
   "execution_count": 140,
   "metadata": {
    "collapsed": true
   },
   "outputs": [],
   "source": [
    "N_OUTPUTS = 1 # 1 prediction\n",
    "NUM_FEATURES = 3\n",
    "\n",
    "def get_model_fn(rnn_cell_sizes,\n",
    "                 label_dimension,\n",
    "                 dnn_layer_sizes=[],\n",
    "                 optimizer='SGD',\n",
    "                 learning_rate=0.01):\n",
    "    \n",
    "    def model_fn(features, targets, mode, params):\n",
    "\n",
    "        x = features[FEATURES_KEY]\n",
    "        sequence_length = features[SEQ_LEN_KEY]\n",
    "\n",
    "        # 1. configure the RNN\n",
    "        \n",
    "        # Each RNN layer will consist of a LSTM cell\n",
    "        rnn_layers = [tf.contrib.rnn.LSTMCell(size) for size in rnn_cell_sizes]\n",
    "        \n",
    "        # Construct the layers\n",
    "        multi_rnn_cell = tf.contrib.rnn.MultiRNNCell(rnn_layers)\n",
    "        \n",
    "        outputs, _ = tf.nn.dynamic_rnn(multi_rnn_cell, x, dtype=tf.float32)\n",
    "\n",
    "        # Slice to keep only the last cell of the RNN\n",
    "        last_activations = rnn_common.select_last_activations(outputs,\n",
    "                                                              sequence_length)\n",
    "\n",
    "        # Construct dense layers on top of the last cell of the RNN\n",
    "        for units in dnn_layer_sizes:\n",
    "            last_activations = tf.layers.dense(last_activations,\n",
    "                                               units,\n",
    "                                               activation=tf.nn.relu)\n",
    "        \n",
    "        # Final dense layer for prediction\n",
    "        predictions = tf.layers.dense(last_activations, label_dimension)\n",
    "        \n",
    "        # 2. Define the loss function for training/evaluation\n",
    "        #print 'targets={}'.format(targets)\n",
    "        #print 'preds={}'.format(predictions)\n",
    "        loss = tf.losses.mean_squared_error(targets, predictions)\n",
    "        eval_metric_ops = {\n",
    "          \"rmse\": tf.metrics.root_mean_squared_error(targets, predictions)\n",
    "        }\n",
    "\n",
    "        # 3. Define the training operation/optimizer\n",
    "        train_op = tf.contrib.layers.optimize_loss(\n",
    "          loss=loss,\n",
    "          global_step=tf.contrib.framework.get_global_step(),\n",
    "          learning_rate=learning_rate,\n",
    "          optimizer=optimizer)\n",
    "\n",
    "        # 4. Create predictions\n",
    "        predictions_dict = {\"predicted\": predictions}\n",
    "\n",
    "        # 5. return ModelFnOps\n",
    "        return tflearn.ModelFnOps(\n",
    "          mode=mode,\n",
    "          predictions=predictions_dict,\n",
    "          loss=loss,\n",
    "          train_op=train_op,\n",
    "          eval_metric_ops=eval_metric_ops)\n",
    "    \n",
    "    return model_fn"
   ]
  },
  {
   "cell_type": "markdown",
   "metadata": {},
   "source": [
    "## Running model"
   ]
  },
  {
   "cell_type": "code",
   "execution_count": 141,
   "metadata": {},
   "outputs": [
    {
     "name": "stdout",
     "output_type": "stream",
     "text": [
      "INFO:tensorflow:Using default config.\n",
      "WARNING:tensorflow:Using temporary folder as model directory: /tmp/tmpx2dxdi53\n",
      "INFO:tensorflow:Using config: {'_evaluation_master': '', '_session_config': None, '_cluster_spec': <tensorflow.python.training.server_lib.ClusterSpec object at 0x7fd2c4378d68>, '_keep_checkpoint_max': 5, '_environment': 'local', '_num_worker_replicas': 0, '_model_dir': '/tmp/tmpx2dxdi53', '_num_ps_replicas': 0, '_tf_config': gpu_options {\n",
      "  per_process_gpu_memory_fraction: 1\n",
      "}\n",
      ", '_master': '', '_save_summary_steps': 100, '_save_checkpoints_steps': None, '_task_id': 0, '_save_checkpoints_secs': 600, '_tf_random_seed': None, '_is_chief': True, '_task_type': None, '_keep_checkpoint_every_n_hours': 10000}\n",
      "WARNING:tensorflow:Estimator's model_fn (<function get_model_fn.<locals>.model_fn at 0x7fd2bf6a2488>) includes params argument, but params are not passed to Estimator.\n"
     ]
    }
   ],
   "source": [
    "model_fn = get_model_fn(rnn_cell_sizes=[64], # size of the hidden layers\n",
    "                        label_dimension=1, # since is just 1 prediction\n",
    "                        dnn_layer_sizes=[32], # size of units in the dense layers on top of the RNN\n",
    "                        optimizer='Adam',\n",
    "                        learning_rate=0.001)\n",
    "\n",
    "estimator = tf.contrib.learn.Estimator(model_fn=model_fn)"
   ]
  },
  {
   "cell_type": "markdown",
   "metadata": {},
   "source": [
    "### Trainning"
   ]
  },
  {
   "cell_type": "code",
   "execution_count": 167,
   "metadata": {},
   "outputs": [
    {
     "name": "stderr",
     "output_type": "stream",
     "text": [
      "/usr/local/lib/python3.4/dist-packages/tensorflow/python/ops/gradients_impl.py:93: UserWarning: Converting sparse IndexedSlices to a dense Tensor of unknown shape. This may consume a large amount of memory.\n",
      "  \"Converting sparse IndexedSlices to a dense Tensor of unknown shape. \"\n"
     ]
    },
    {
     "name": "stdout",
     "output_type": "stream",
     "text": [
      "INFO:tensorflow:Create CheckpointSaverHook.\n",
      "WARNING:tensorflow:Error encountered when serializing LAYER_NAME_UIDS.\n",
      "Type is unsupported, or the types of the items don't match field type in CollectionDef.\n",
      "'dict' object has no attribute 'name'\n",
      "INFO:tensorflow:Restoring parameters from /tmp/tmpx2dxdi53/model.ckpt-10000\n",
      "WARNING:tensorflow:Error encountered when serializing LAYER_NAME_UIDS.\n",
      "Type is unsupported, or the types of the items don't match field type in CollectionDef.\n",
      "'dict' object has no attribute 'name'\n",
      "INFO:tensorflow:Saving checkpoints for 10001 into /tmp/tmpx2dxdi53/model.ckpt.\n",
      "WARNING:tensorflow:Error encountered when serializing LAYER_NAME_UIDS.\n",
      "Type is unsupported, or the types of the items don't match field type in CollectionDef.\n",
      "'dict' object has no attribute 'name'\n",
      "INFO:tensorflow:loss = 0.624791, step = 10001\n",
      "INFO:tensorflow:global_step/sec: 174.571\n",
      "INFO:tensorflow:loss = 0.609394, step = 10101 (0.574 sec)\n",
      "INFO:tensorflow:global_step/sec: 214.748\n",
      "INFO:tensorflow:loss = 3.75179, step = 10201 (0.466 sec)\n",
      "INFO:tensorflow:global_step/sec: 217.294\n",
      "INFO:tensorflow:loss = 2.38958, step = 10301 (0.460 sec)\n",
      "INFO:tensorflow:global_step/sec: 224.35\n",
      "INFO:tensorflow:loss = 2.87315, step = 10401 (0.446 sec)\n",
      "INFO:tensorflow:global_step/sec: 220.56\n",
      "INFO:tensorflow:loss = 0.565767, step = 10501 (0.453 sec)\n",
      "INFO:tensorflow:global_step/sec: 221.665\n",
      "INFO:tensorflow:loss = 0.478508, step = 10601 (0.451 sec)\n",
      "INFO:tensorflow:global_step/sec: 225.538\n",
      "INFO:tensorflow:loss = 4.27246, step = 10701 (0.443 sec)\n",
      "INFO:tensorflow:global_step/sec: 219.726\n",
      "INFO:tensorflow:loss = 1.33334, step = 10801 (0.455 sec)\n",
      "INFO:tensorflow:global_step/sec: 224.38\n",
      "INFO:tensorflow:loss = 2.66933, step = 10901 (0.446 sec)\n",
      "INFO:tensorflow:global_step/sec: 220.75\n",
      "INFO:tensorflow:loss = 0.3985, step = 11001 (0.453 sec)\n",
      "INFO:tensorflow:global_step/sec: 221.944\n",
      "INFO:tensorflow:loss = 2.97408, step = 11101 (0.451 sec)\n",
      "INFO:tensorflow:global_step/sec: 224.588\n",
      "INFO:tensorflow:loss = 2.2236, step = 11201 (0.445 sec)\n",
      "INFO:tensorflow:global_step/sec: 219.788\n",
      "INFO:tensorflow:loss = 0.695852, step = 11301 (0.455 sec)\n",
      "INFO:tensorflow:global_step/sec: 223.554\n",
      "INFO:tensorflow:loss = 0.60163, step = 11401 (0.447 sec)\n",
      "INFO:tensorflow:global_step/sec: 222.059\n",
      "INFO:tensorflow:loss = 0.445206, step = 11501 (0.450 sec)\n",
      "INFO:tensorflow:global_step/sec: 206.39\n",
      "INFO:tensorflow:loss = 3.94332, step = 11601 (0.485 sec)\n",
      "INFO:tensorflow:global_step/sec: 220.998\n",
      "INFO:tensorflow:loss = 2.1236, step = 11701 (0.452 sec)\n",
      "INFO:tensorflow:global_step/sec: 223.531\n",
      "INFO:tensorflow:loss = 2.1767, step = 11801 (0.447 sec)\n",
      "INFO:tensorflow:global_step/sec: 224.329\n",
      "INFO:tensorflow:loss = 0.266538, step = 11901 (0.446 sec)\n",
      "INFO:tensorflow:global_step/sec: 222.393\n",
      "INFO:tensorflow:loss = 0.430484, step = 12001 (0.450 sec)\n",
      "INFO:tensorflow:global_step/sec: 221.83\n",
      "INFO:tensorflow:loss = 6.77654, step = 12101 (0.451 sec)\n",
      "INFO:tensorflow:global_step/sec: 217.858\n",
      "INFO:tensorflow:loss = 1.45121, step = 12201 (0.459 sec)\n",
      "INFO:tensorflow:global_step/sec: 216.306\n",
      "INFO:tensorflow:loss = 1.27801, step = 12301 (0.462 sec)\n",
      "INFO:tensorflow:global_step/sec: 224.585\n",
      "INFO:tensorflow:loss = 0.386939, step = 12401 (0.445 sec)\n",
      "INFO:tensorflow:global_step/sec: 211.697\n",
      "INFO:tensorflow:loss = 2.28383, step = 12501 (0.472 sec)\n",
      "INFO:tensorflow:global_step/sec: 209.802\n",
      "INFO:tensorflow:loss = 1.4403, step = 12601 (0.477 sec)\n",
      "INFO:tensorflow:global_step/sec: 221.938\n",
      "INFO:tensorflow:loss = 0.572057, step = 12701 (0.450 sec)\n",
      "INFO:tensorflow:global_step/sec: 217.306\n",
      "INFO:tensorflow:loss = 0.521414, step = 12801 (0.460 sec)\n",
      "INFO:tensorflow:global_step/sec: 220.574\n",
      "INFO:tensorflow:loss = 0.294471, step = 12901 (0.453 sec)\n",
      "INFO:tensorflow:global_step/sec: 226.12\n",
      "INFO:tensorflow:loss = 3.5573, step = 13001 (0.442 sec)\n",
      "INFO:tensorflow:global_step/sec: 222.123\n",
      "INFO:tensorflow:loss = 2.63305, step = 13101 (0.450 sec)\n",
      "INFO:tensorflow:global_step/sec: 215.744\n",
      "INFO:tensorflow:loss = 1.08016, step = 13201 (0.464 sec)\n",
      "INFO:tensorflow:global_step/sec: 222.628\n",
      "INFO:tensorflow:loss = 0.52581, step = 13301 (0.449 sec)\n",
      "INFO:tensorflow:global_step/sec: 216.086\n",
      "INFO:tensorflow:loss = 0.389347, step = 13401 (0.463 sec)\n",
      "INFO:tensorflow:global_step/sec: 222.423\n",
      "INFO:tensorflow:loss = 8.7956, step = 13501 (0.450 sec)\n",
      "INFO:tensorflow:global_step/sec: 216.036\n",
      "INFO:tensorflow:loss = 2.03815, step = 13601 (0.463 sec)\n",
      "INFO:tensorflow:global_step/sec: 220.041\n",
      "INFO:tensorflow:loss = 0.990746, step = 13701 (0.454 sec)\n",
      "INFO:tensorflow:global_step/sec: 222.59\n",
      "INFO:tensorflow:loss = 0.414991, step = 13801 (0.449 sec)\n",
      "INFO:tensorflow:global_step/sec: 221.039\n",
      "INFO:tensorflow:loss = 0.753714, step = 13901 (0.452 sec)\n",
      "INFO:tensorflow:global_step/sec: 207.066\n",
      "INFO:tensorflow:loss = 2.65897, step = 14001 (0.483 sec)\n",
      "INFO:tensorflow:global_step/sec: 218.257\n",
      "INFO:tensorflow:loss = 0.692365, step = 14101 (0.458 sec)\n",
      "INFO:tensorflow:global_step/sec: 216.326\n",
      "INFO:tensorflow:loss = 0.446008, step = 14201 (0.462 sec)\n",
      "INFO:tensorflow:global_step/sec: 217.652\n",
      "INFO:tensorflow:loss = 0.572175, step = 14301 (0.459 sec)\n",
      "INFO:tensorflow:global_step/sec: 221.894\n",
      "INFO:tensorflow:loss = 3.4343, step = 14401 (0.451 sec)\n",
      "INFO:tensorflow:global_step/sec: 215.258\n",
      "INFO:tensorflow:loss = 1.82866, step = 14501 (0.465 sec)\n",
      "INFO:tensorflow:global_step/sec: 211.972\n",
      "INFO:tensorflow:loss = 2.17783, step = 14601 (0.472 sec)\n",
      "INFO:tensorflow:global_step/sec: 222.926\n",
      "INFO:tensorflow:loss = 0.488388, step = 14701 (0.449 sec)\n",
      "INFO:tensorflow:global_step/sec: 220.29\n",
      "INFO:tensorflow:loss = 0.313431, step = 14801 (0.454 sec)\n",
      "INFO:tensorflow:global_step/sec: 208.979\n",
      "INFO:tensorflow:loss = 8.44724, step = 14901 (0.478 sec)\n",
      "INFO:tensorflow:global_step/sec: 215.197\n",
      "INFO:tensorflow:loss = 2.22418, step = 15001 (0.465 sec)\n",
      "INFO:tensorflow:global_step/sec: 212.084\n",
      "INFO:tensorflow:loss = 1.14468, step = 15101 (0.472 sec)\n",
      "INFO:tensorflow:global_step/sec: 219.677\n",
      "INFO:tensorflow:loss = 0.322908, step = 15201 (0.455 sec)\n",
      "INFO:tensorflow:global_step/sec: 211.732\n",
      "INFO:tensorflow:loss = 0.517554, step = 15301 (0.472 sec)\n",
      "INFO:tensorflow:global_step/sec: 216.612\n",
      "INFO:tensorflow:loss = 3.41087, step = 15401 (0.462 sec)\n",
      "INFO:tensorflow:global_step/sec: 223.754\n",
      "INFO:tensorflow:loss = 1.36985, step = 15501 (0.447 sec)\n",
      "INFO:tensorflow:global_step/sec: 206.881\n",
      "INFO:tensorflow:loss = 0.42084, step = 15601 (0.483 sec)\n",
      "INFO:tensorflow:global_step/sec: 223.11\n",
      "INFO:tensorflow:loss = 0.421255, step = 15701 (0.448 sec)\n",
      "INFO:tensorflow:global_step/sec: 216.216\n",
      "INFO:tensorflow:loss = 2.87442, step = 15801 (0.462 sec)\n",
      "INFO:tensorflow:global_step/sec: 224.895\n",
      "INFO:tensorflow:loss = 2.87897, step = 15901 (0.445 sec)\n",
      "INFO:tensorflow:global_step/sec: 220.474\n",
      "INFO:tensorflow:loss = 2.36745, step = 16001 (0.454 sec)\n",
      "INFO:tensorflow:global_step/sec: 226.613\n",
      "INFO:tensorflow:loss = 0.626587, step = 16101 (0.441 sec)\n",
      "INFO:tensorflow:global_step/sec: 218.955\n",
      "INFO:tensorflow:loss = 0.565466, step = 16201 (0.457 sec)\n",
      "INFO:tensorflow:global_step/sec: 221.42\n",
      "INFO:tensorflow:loss = 5.32842, step = 16301 (0.452 sec)\n",
      "INFO:tensorflow:global_step/sec: 220.903\n",
      "INFO:tensorflow:loss = 1.11754, step = 16401 (0.453 sec)\n",
      "INFO:tensorflow:global_step/sec: 221.529\n",
      "INFO:tensorflow:loss = 1.79527, step = 16501 (0.451 sec)\n",
      "INFO:tensorflow:global_step/sec: 221.047\n",
      "INFO:tensorflow:loss = 0.566482, step = 16601 (0.452 sec)\n",
      "INFO:tensorflow:global_step/sec: 221.413\n",
      "INFO:tensorflow:loss = 0.410068, step = 16701 (0.452 sec)\n",
      "INFO:tensorflow:global_step/sec: 226.995\n",
      "INFO:tensorflow:loss = 2.43707, step = 16801 (0.441 sec)\n",
      "INFO:tensorflow:global_step/sec: 221.305\n",
      "INFO:tensorflow:loss = 1.30276, step = 16901 (0.452 sec)\n",
      "INFO:tensorflow:global_step/sec: 216.459\n",
      "INFO:tensorflow:loss = 1.20359, step = 17001 (0.462 sec)\n",
      "INFO:tensorflow:global_step/sec: 221.005\n",
      "INFO:tensorflow:loss = 0.364844, step = 17101 (0.453 sec)\n",
      "INFO:tensorflow:global_step/sec: 215.181\n",
      "INFO:tensorflow:loss = 3.30819, step = 17201 (0.465 sec)\n",
      "INFO:tensorflow:global_step/sec: 214.663\n",
      "INFO:tensorflow:loss = 2.19812, step = 17301 (0.466 sec)\n",
      "INFO:tensorflow:global_step/sec: 218.919\n",
      "INFO:tensorflow:loss = 1.42075, step = 17401 (0.457 sec)\n",
      "INFO:tensorflow:global_step/sec: 224.003\n",
      "INFO:tensorflow:loss = 0.396161, step = 17501 (0.446 sec)\n"
     ]
    },
    {
     "name": "stdout",
     "output_type": "stream",
     "text": [
      "INFO:tensorflow:global_step/sec: 217.932\n",
      "INFO:tensorflow:loss = 0.419296, step = 17601 (0.459 sec)\n",
      "INFO:tensorflow:global_step/sec: 221.891\n",
      "INFO:tensorflow:loss = 4.25041, step = 17701 (0.451 sec)\n",
      "INFO:tensorflow:global_step/sec: 214.559\n",
      "INFO:tensorflow:loss = 1.06043, step = 17801 (0.466 sec)\n",
      "INFO:tensorflow:global_step/sec: 215.11\n",
      "INFO:tensorflow:loss = 1.88006, step = 17901 (0.465 sec)\n",
      "INFO:tensorflow:global_step/sec: 211.211\n",
      "INFO:tensorflow:loss = 0.433759, step = 18001 (0.474 sec)\n",
      "INFO:tensorflow:global_step/sec: 220.434\n",
      "INFO:tensorflow:loss = 0.208091, step = 18101 (0.454 sec)\n",
      "INFO:tensorflow:global_step/sec: 217.259\n",
      "INFO:tensorflow:loss = 5.40114, step = 18201 (0.460 sec)\n",
      "INFO:tensorflow:global_step/sec: 213.747\n",
      "INFO:tensorflow:loss = 1.23059, step = 18301 (0.468 sec)\n",
      "INFO:tensorflow:global_step/sec: 220.907\n",
      "INFO:tensorflow:loss = 0.691913, step = 18401 (0.453 sec)\n",
      "INFO:tensorflow:global_step/sec: 220.307\n",
      "INFO:tensorflow:loss = 0.417544, step = 18501 (0.454 sec)\n",
      "INFO:tensorflow:global_step/sec: 224.785\n",
      "INFO:tensorflow:loss = 2.1053, step = 18601 (0.445 sec)\n",
      "INFO:tensorflow:global_step/sec: 220.753\n",
      "INFO:tensorflow:loss = 1.67306, step = 18701 (0.453 sec)\n",
      "INFO:tensorflow:global_step/sec: 224.163\n",
      "INFO:tensorflow:loss = 1.28819, step = 18801 (0.446 sec)\n",
      "INFO:tensorflow:global_step/sec: 221.593\n",
      "INFO:tensorflow:loss = 0.706468, step = 18901 (0.451 sec)\n",
      "INFO:tensorflow:global_step/sec: 215.683\n",
      "INFO:tensorflow:loss = 0.291713, step = 19001 (0.464 sec)\n",
      "INFO:tensorflow:global_step/sec: 220.87\n",
      "INFO:tensorflow:loss = 5.20336, step = 19101 (0.453 sec)\n",
      "INFO:tensorflow:global_step/sec: 225.05\n",
      "INFO:tensorflow:loss = 1.2072, step = 19201 (0.444 sec)\n",
      "INFO:tensorflow:global_step/sec: 224.94\n",
      "INFO:tensorflow:loss = 1.84804, step = 19301 (0.445 sec)\n",
      "INFO:tensorflow:global_step/sec: 226.687\n",
      "INFO:tensorflow:loss = 0.331116, step = 19401 (0.441 sec)\n",
      "INFO:tensorflow:global_step/sec: 221.129\n",
      "INFO:tensorflow:loss = 0.334256, step = 19501 (0.452 sec)\n",
      "INFO:tensorflow:global_step/sec: 222.141\n",
      "INFO:tensorflow:loss = 8.76528, step = 19601 (0.450 sec)\n",
      "INFO:tensorflow:global_step/sec: 220.814\n",
      "INFO:tensorflow:loss = 2.03203, step = 19701 (0.453 sec)\n",
      "INFO:tensorflow:global_step/sec: 215.718\n",
      "INFO:tensorflow:loss = 0.922788, step = 19801 (0.464 sec)\n",
      "INFO:tensorflow:global_step/sec: 221.304\n",
      "INFO:tensorflow:loss = 0.334275, step = 19901 (0.452 sec)\n",
      "INFO:tensorflow:Saving checkpoints for 20000 into /tmp/tmpx2dxdi53/model.ckpt.\n",
      "WARNING:tensorflow:Error encountered when serializing LAYER_NAME_UIDS.\n",
      "Type is unsupported, or the types of the items don't match field type in CollectionDef.\n",
      "'dict' object has no attribute 'name'\n",
      "INFO:tensorflow:Loss for final step: 3.37264.\n"
     ]
    },
    {
     "data": {
      "text/plain": [
       "Estimator(params=None)"
      ]
     },
     "execution_count": 167,
     "metadata": {},
     "output_type": "execute_result"
    }
   ],
   "source": [
    "estimator.fit(input_fn=train_input_fn, steps=10000)"
   ]
  },
  {
   "cell_type": "markdown",
   "metadata": {},
   "source": [
    "### Evaluating"
   ]
  },
  {
   "cell_type": "code",
   "execution_count": 168,
   "metadata": {},
   "outputs": [
    {
     "name": "stderr",
     "output_type": "stream",
     "text": [
      "/usr/local/lib/python3.4/dist-packages/tensorflow/python/ops/gradients_impl.py:93: UserWarning: Converting sparse IndexedSlices to a dense Tensor of unknown shape. This may consume a large amount of memory.\n",
      "  \"Converting sparse IndexedSlices to a dense Tensor of unknown shape. \"\n"
     ]
    },
    {
     "name": "stdout",
     "output_type": "stream",
     "text": [
      "INFO:tensorflow:Starting evaluation at 2017-06-15-18:57:22\n",
      "INFO:tensorflow:Restoring parameters from /tmp/tmpx2dxdi53/model.ckpt-20000\n",
      "INFO:tensorflow:Finished evaluation at 2017-06-15-18:57:23\n",
      "INFO:tensorflow:Saving dict for global step 20000: global_step = 20000, loss = 1.12044, rmse = 1.05857\n",
      "WARNING:tensorflow:Error encountered when serializing LAYER_NAME_UIDS.\n",
      "Type is unsupported, or the types of the items don't match field type in CollectionDef.\n",
      "'dict' object has no attribute 'name'\n",
      "{'loss': 1.120443, 'global_step': 20000, 'rmse': 1.058568}\n"
     ]
    }
   ],
   "source": [
    "ev = estimator.evaluate(input_fn=eval_input_fn)\n",
    "print(ev)"
   ]
  },
  {
   "cell_type": "markdown",
   "metadata": {},
   "source": [
    "### Testing"
   ]
  },
  {
   "cell_type": "code",
   "execution_count": 169,
   "metadata": {},
   "outputs": [
    {
     "name": "stderr",
     "output_type": "stream",
     "text": [
      "/usr/local/lib/python3.4/dist-packages/tensorflow/python/ops/gradients_impl.py:93: UserWarning: Converting sparse IndexedSlices to a dense Tensor of unknown shape. This may consume a large amount of memory.\n",
      "  \"Converting sparse IndexedSlices to a dense Tensor of unknown shape. \"\n"
     ]
    },
    {
     "name": "stdout",
     "output_type": "stream",
     "text": [
      "INFO:tensorflow:Restoring parameters from /tmp/tmpx2dxdi53/model.ckpt-20000\n",
      "{'predicted': array([ 65.95652771], dtype=float32)}\n",
      "{'predicted': array([ 66.04210663], dtype=float32)}\n",
      "{'predicted': array([ 66.49085236], dtype=float32)}\n",
      "{'predicted': array([ 66.49862671], dtype=float32)}\n",
      "{'predicted': array([ 66.5960083], dtype=float32)}\n",
      "{'predicted': array([ 66.78509521], dtype=float32)}\n",
      "{'predicted': array([ 67.30899048], dtype=float32)}\n",
      "{'predicted': array([ 67.2804718], dtype=float32)}\n",
      "{'predicted': array([ 67.24388885], dtype=float32)}\n",
      "{'predicted': array([ 67.93393707], dtype=float32)}\n"
     ]
    }
   ],
   "source": [
    "preds = list(estimator.predict(input_fn=test_input_fn))\n",
    "predictions = []\n",
    "for p in preds:\n",
    "    print(p)\n",
    "    predictions.append(p[\"predicted\"][0])"
   ]
  },
  {
   "cell_type": "markdown",
   "metadata": {},
   "source": [
    "### Visualizing predictions"
   ]
  },
  {
   "cell_type": "code",
   "execution_count": 170,
   "metadata": {},
   "outputs": [
    {
     "data": {
      "image/png": "[encoded data removed]",
      "text/plain": [
       "<matplotlib.figure.Figure at 0x7fd2be13acf8>"
      ]
     },
     "metadata": {},
     "output_type": "display_data"
    }
   ],
   "source": [
    "# plotting real values in black\n",
    "sns.tsplot(test_plot_data, color=\"black\")\n",
    "# plotting predictions in red\n",
    "sns.tsplot(predictions, color=\"red\")\n",
    "\n",
    "plt.show()"
   ]
  }
 ],
 "metadata": {
  "kernelspec": {
   "display_name": "Python 3",
   "language": "python",
   "name": "python3"
  },
  "language_info": {
   "codemirror_mode": {
    "name": "ipython",
    "version": 3
   },
   "file_extension": ".py",
   "mimetype": "text/x-python",
   "name": "python",
   "nbconvert_exporter": "python",
   "pygments_lexer": "ipython3",
   "version": "3.4.3"
  }
 },
 "nbformat": 4,
 "nbformat_minor": 2
}
