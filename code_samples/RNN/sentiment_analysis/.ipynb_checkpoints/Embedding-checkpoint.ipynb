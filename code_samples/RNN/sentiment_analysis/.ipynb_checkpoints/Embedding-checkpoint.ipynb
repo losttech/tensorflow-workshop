{
 "cells": [
  {
   "cell_type": "markdown",
   "metadata": {},
   "source": [
    "# Generating Embedding visualization on Tensorboard\n",
    "\n",
    "This was based on the great tutorial by @odduer, available [here](https://github.com/oduerr/dl_tutorial/blob/master/tensorflow/debugging/embedding.ipynb), it shows how to get cifar10 visualized on Tensorboard!\n",
    "\n",
    "Here you'll find an example with word vector visualization :)"
   ]
  },
  {
   "cell_type": "markdown",
   "metadata": {},
   "source": [
    "## Load embedding\n",
    "\n",
    "We'll be using a embedding matrix that is trained using [GloVe](http://nlp.stanford.edu/projects/glove/), a word vector generation model. The matrix will contain 400,000 word vectors, each with a dimensionality of 50. "
   ]
  },
  {
   "cell_type": "code",
   "execution_count": 30,
   "metadata": {},
   "outputs": [
    {
     "name": "stdout",
     "output_type": "stream",
     "text": [
      "(400000, 50)\n"
     ]
    }
   ],
   "source": [
    "import numpy as np\n",
    "\n",
    "word_vector = np.load('word_vector.npy')\n",
    "print(word_vector.shape)"
   ]
  },
  {
   "cell_type": "markdown",
   "metadata": {},
   "source": [
    "## Choose a directory to save the embedding"
   ]
  },
  {
   "cell_type": "code",
   "execution_count": 31,
   "metadata": {
    "collapsed": true
   },
   "outputs": [],
   "source": [
    "LOG_DIR = 'tensorboard/embedding/'"
   ]
  },
  {
   "cell_type": "markdown",
   "metadata": {},
   "source": [
    "## Generate metadata"
   ]
  },
  {
   "cell_type": "code",
   "execution_count": 32,
   "metadata": {},
   "outputs": [],
   "source": [
    "word_list = np.load('word_list.npy') # this maps an index to a word\n",
    "word_list = word_list.tolist() # originally loaded as numpy array\n",
    "\n",
    "# create metadata.tsv file\n",
    "metadata_file = open(os.path.join(LOG_DIR, 'metadata.tsv'), \"w+\")\n",
    "\n",
    "# write header\n",
    "metadata_file.write('Word\\tIndex\\n')\n",
    "\n",
    "# write metadata mapping\n",
    "for index, word in enumerate(word_list):\n",
    "    metadata_file.write(str(word) + '\\t' + str(index) + '\\n')"
   ]
  },
  {
   "cell_type": "markdown",
   "metadata": {},
   "source": [
    "## Generate TensorBoard Visualization"
   ]
  },
  {
   "cell_type": "code",
   "execution_count": 33,
   "metadata": {},
   "outputs": [
    {
     "name": "stdout",
     "output_type": "stream",
     "text": [
      "Tested with TensorFlow 1.2.0\n",
      "Your TensorFlow version: 1.2.0\n"
     ]
    }
   ],
   "source": [
    "import tensorflow as tf\n",
    "from tensorflow.contrib.tensorboard.plugins import projector\n",
    "print('Tested with TensorFlow 1.2.0')\n",
    "print('Your TensorFlow version:', tf.__version__)\n",
    "\n",
    "import os\n",
    "\n",
    "# create a tf.Variable to store the embedding\n",
    "embedding_var = tf.Variable(word_vector,  name='embedding')\n",
    "\n",
    "with tf.Session() as sess:\n",
    "    # initialize variable\n",
    "    sess.run(embedding_var.initializer)\n",
    "    \n",
    "    # creates a summary writer\n",
    "    summary_writer = tf.summary.FileWriter(LOG_DIR)\n",
    "    \n",
    "    # adds embedding in tensorboard\n",
    "    config = projector.ProjectorConfig()\n",
    "    embedding = config.embeddings.add()\n",
    "    embedding.tensor_name = embedding_var.name\n",
    "\n",
    "    # adds a metadata, comment the line bellow if you don't have\n",
    "    # a metadata\n",
    "    embedding.metadata_path = 'metadata.tsv'\n",
    "\n",
    "    projector.visualize_embeddings(summary_writer, config)\n",
    "    saver = tf.train.Saver([embedding_var])\n",
    "    saver.save(sess, os.path.join(LOG_DIR, 'embedding.ckpt'), 1)"
   ]
  },
  {
   "cell_type": "markdown",
   "metadata": {},
   "source": [
    "## Done\n",
    "\n",
    "If you want to you can upload the metadata using the tensorboard web interface as well :)"
   ]
  },
  {
   "cell_type": "code",
   "execution_count": 29,
   "metadata": {
    "collapsed": true
   },
   "outputs": [],
   "source": [
    "## TODO ## Insert screenshots of embedding"
   ]
  }
 ],
 "metadata": {
  "kernelspec": {
   "display_name": "Python 3",
   "language": "python",
   "name": "python3"
  },
  "language_info": {
   "codemirror_mode": {
    "name": "ipython",
    "version": 3
   },
   "file_extension": ".py",
   "mimetype": "text/x-python",
   "name": "python",
   "nbconvert_exporter": "python",
   "pygments_lexer": "ipython3",
   "version": "3.5.2"
  }
 },
 "nbformat": 4,
 "nbformat_minor": 2
}
