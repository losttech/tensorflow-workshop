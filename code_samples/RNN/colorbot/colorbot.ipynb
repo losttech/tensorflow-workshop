{
 "cells": [
  {
   "cell_type": "markdown",
   "metadata": {},
   "source": [
    "# Colorbot\n",
    "\n",
    "**Special thanks to @MarkDaoust that helped us with this material**\n",
    "\n",
    "## What is the content of this notebook?\n",
    "\n",
    "In this notebook you'll find a full implementation of a RNN model using the TensorFlow High level API including comments and details about how to do it. Once you finish this notebook, you'll have a better understanding about:\n",
    "  * TensorFlow High level API\n",
    "  * TensorFlow DataSets\n",
    "  * RNNs\n",
    "\n",
    "\n",
    "## What is colorbot?\n",
    "\n",
    "Colorbot is a RNN model that receives a sequence of characters as input and learns to predict a rgb value as output. As a result we have a color generator!\n",
    "\n",
    "![colorbot in action](imgs/model_gif.gif)\n",
    "\n",
    "## How the model looks like?\n",
    "\n",
    "![img](imgs/colorbot_model.png)\n",
    "![img](imgs/colorbot_execution.png)\n",
    "\n"
   ]
  },
  {
   "cell_type": "markdown",
   "metadata": {},
   "source": [
    "## Dependencies"
   ]
  },
  {
   "cell_type": "code",
   "execution_count": 1,
   "metadata": {
    "colab": {
     "autoexec": {
      "startup": false,
      "wait_interval": 0
     }
    },
    "colab_type": "code",
    "collapsed": false,
    "id": "mDT8S9C9CYtr"
   },
   "outputs": [
    {
     "name": "stdout",
     "output_type": "stream",
     "text": [
      "Tested with TensorFLow 1.2.0\n",
      "Your TensorFlow version: 1.2.0\n"
     ]
    }
   ],
   "source": [
    "# Tensorflow\n",
    "import tensorflow as tf\n",
    "print('Tested with TensorFLow 1.2.0')\n",
    "print('Your TensorFlow version:', tf.__version__) \n",
    "\n",
    "# Feeding function for enqueue data\n",
    "from tensorflow.python.estimator.inputs.queues import feeding_functions as ff\n",
    "\n",
    "# Rnn common functions\n",
    "from tensorflow.contrib.learn.python.learn.estimators import rnn_common\n",
    "\n",
    "# Run an experiment\n",
    "from tensorflow.contrib.learn.python.learn import learn_runner\n",
    "\n",
    "# Model builder\n",
    "from tensorflow.python.estimator import model_fn as model_fn_lib\n",
    "\n",
    "# Plot images with pyplot\n",
    "%matplotlib inline\n",
    "from matplotlib import pyplot as plt\n",
    "\n",
    "# Helpers for data processing\n",
    "import pandas as pd\n",
    "import numpy as np\n",
    "import argparse"
   ]
  },
  {
   "cell_type": "markdown",
   "metadata": {},
   "source": [
    "## Parameters"
   ]
  },
  {
   "cell_type": "code",
   "execution_count": 2,
   "metadata": {
    "colab": {
     "autoexec": {
      "startup": false,
      "wait_interval": 0
     }
    },
    "colab_type": "code",
    "collapsed": true,
    "id": "UrAyWt23AtCM"
   },
   "outputs": [],
   "source": [
    "# Data files\n",
    "TRAIN_INPUT = 'data/train.csv'\n",
    "TEST_INPUT = 'data/test.csv'\n",
    "MY_TEST_INPUT = 'data/mytest.csv'\n",
    "\n",
    "# Parameters for training\n",
    "BATCH_SIZE = 64\n",
    "\n",
    "# Parameters for data processing\n",
    "VOCAB_SIZE = 256\n",
    "CHARACTERS = [chr(i) for i in range(VOCAB_SIZE)]\n",
    "SEQUENCE_LENGTH_KEY = 'sequence_length'\n",
    "COLOR_NAME_KEY = 'color_name'"
   ]
  },
  {
   "cell_type": "markdown",
   "metadata": {},
   "source": [
    "## Helper functions"
   ]
  },
  {
   "cell_type": "code",
   "execution_count": 3,
   "metadata": {
    "colab": {
     "autoexec": {
      "startup": false,
      "wait_interval": 0
     }
    },
    "colab_type": "code",
    "collapsed": true,
    "id": "0dlZ9C27M-bS"
   },
   "outputs": [],
   "source": [
    "# Returns the column values from a CSV file as a list\n",
    "def _get_csv_column(csv_file, column_name):\n",
    "    with open(csv_file, 'r') as f:\n",
    "        df = pd.read_csv(f)\n",
    "        return df[column_name].tolist()\n",
    "\n",
    "# Plot a color image\n",
    "def _plot_rgb(rgb):\n",
    "    data = [[rgb]]\n",
    "    plt.figure(figsize=(2,2))\n",
    "    plt.imshow(data, interpolation='nearest')\n",
    "    plt.show()"
   ]
  },
  {
   "cell_type": "markdown",
   "metadata": {},
   "source": [
    "## Input function"
   ]
  },
  {
   "cell_type": "code",
   "execution_count": 15,
   "metadata": {
    "collapsed": true
   },
   "outputs": [],
   "source": [
    "def get_input_fn(csv_file, batch_size, num_epochs=1, shuffle=True):\n",
    "    def _parse(line):\n",
    "        # line: name, red, green, blue\n",
    "        # split line\n",
    "        items = tf.string_split([line],',').values\n",
    "\n",
    "        # get color (r, g, b)\n",
    "        color = tf.string_to_number(items[1:], out_type=tf.float32) / 255.0\n",
    "\n",
    "        # split color_name into a sequence of characters\n",
    "        color_name = tf.string_split([items[0]], '')\n",
    "        length = color_name.indices[-1, 1] + 1 # length = index of last char + 1\n",
    "        color_name = color_name.values\n",
    "\n",
    "        return color, color_name, length\n",
    "\n",
    "    def _length_bin(length, cast_value=5, max_bin_id=10):\n",
    "        '''\n",
    "        Chooses a bin for a word given it's length.\n",
    "        The goal is to use group_by_window to group words\n",
    "        with the ~ same ~ length in the same bin.\n",
    "\n",
    "        Each bin will have the size of a batch, so it can train faster.\n",
    "        '''\n",
    "        bin_id = tf.cast(length / cast_value, dtype=tf.int64)\n",
    "        return tf.minimum(bin_id, max_bin_id)\n",
    "\n",
    "    def _pad_batch(ds, batch_size):\n",
    "        return ds.padded_batch(batch_size, \n",
    "                               padded_shapes=([None], [None], []),\n",
    "                               padding_values=(0.0, chr(0), tf.cast(0, tf.int64)))\n",
    "\n",
    "    def input_fn():\n",
    "        # https://github.com/tensorflow/tensorflow/tree/master/tensorflow/contrib/data\n",
    "        dataset = (\n",
    "            tf.contrib.data.TextLineDataset(csv_file) # reading from the HD\n",
    "            .skip(1) # skip header\n",
    "            .repeat(num_epochs) # repeat dataset the number of epochs\n",
    "            .map(_parse) # parse text to variables\n",
    "            .group_by_window(key_func=lambda color, color_name, length: _length_bin(length), # choose a bin\n",
    "                             reduce_func=lambda key, ds: _pad_batch(ds, batch_size), # apply reduce funtion\n",
    "                             window_size=batch_size)\n",
    "        )\n",
    "        \n",
    "        # for our \"manual\" test we don't want to shuffle the data\n",
    "        if shuffle:\n",
    "            dataset = dataset.shuffle(buffer_size=100000)\n",
    "\n",
    "        # create iterator\n",
    "        color, color_name, length = dataset.make_one_shot_iterator().get_next()\n",
    "\n",
    "        features = {\n",
    "            COLOR_NAME_KEY: color_name,\n",
    "            SEQUENCE_LENGTH_KEY: length,\n",
    "        }\n",
    "\n",
    "        return features, color\n",
    "    return input_fn"
   ]
  },
  {
   "cell_type": "code",
   "execution_count": 16,
   "metadata": {
    "colab": {
     "autoexec": {
      "startup": false,
      "wait_interval": 0
     }
    },
    "colab_type": "code",
    "collapsed": true,
    "id": "m5UJyvW5P0Sy"
   },
   "outputs": [],
   "source": [
    "train_input_fn = get_input_fn(TRAIN_INPUT, BATCH_SIZE)\n",
    "test_input_fn = get_input_fn(TEST_INPUT, BATCH_SIZE)"
   ]
  },
  {
   "cell_type": "markdown",
   "metadata": {},
   "source": [
    "## Creating the Estimator model"
   ]
  },
  {
   "cell_type": "code",
   "execution_count": 17,
   "metadata": {
    "colab": {
     "autoexec": {
      "startup": false,
      "wait_interval": 0
     }
    },
    "colab_type": "code",
    "collapsed": true,
    "id": "VxXAUrYN7TvR"
   },
   "outputs": [],
   "source": [
    "def get_model_fn(rnn_cell_sizes,\n",
    "                 label_dimension,\n",
    "                 dnn_layer_sizes=[],\n",
    "                 optimizer='SGD',\n",
    "                 learning_rate=0.01):\n",
    "    \n",
    "    def model_fn(features, labels, mode):\n",
    "        \n",
    "        color_name = features[COLOR_NAME_KEY]\n",
    "        sequence_length = tf.cast(features[SEQUENCE_LENGTH_KEY], dtype=tf.int32) # int64 -> int32\n",
    "        \n",
    "        # ----------- Preparing input --------------------\n",
    "        # Creating a tf constant to hold the map char -> index\n",
    "        # this is need to create the sparse tensor and after the one hot encode\n",
    "        mapping = tf.constant(CHARACTERS, name=\"mapping\")\n",
    "        table = tf.contrib.lookup.index_table_from_tensor(mapping, dtype=tf.string)\n",
    "        int_color_name = table.lookup(color_name)\n",
    "        \n",
    "        # representing colornames with one hot representation\n",
    "        color_name_onehot = tf.one_hot(int_color_name, depth=len(CHARACTERS) + 1)\n",
    "        \n",
    "        # ---------- RNN -------------------\n",
    "        # Each RNN layer will consist of a LSTM cell\n",
    "        rnn_layers = [tf.contrib.rnn.LSTMCell(size) for size in rnn_cell_sizes]\n",
    "        \n",
    "        # Construct the layers\n",
    "        multi_rnn_cell = tf.contrib.rnn.MultiRNNCell(rnn_layers)\n",
    "        \n",
    "        # Runs the RNN model dynamically\n",
    "        # more about it at: \n",
    "        # https://www.tensorflow.org/api_docs/python/tf/nn/dynamic_rnn\n",
    "        outputs, final_state = tf.nn.dynamic_rnn(cell=multi_rnn_cell,\n",
    "                                                 inputs=color_name_onehot,\n",
    "                                                 sequence_length=sequence_length,\n",
    "                                                 dtype=tf.float32)\n",
    "\n",
    "        # Slice to keep only the last cell of the RNN\n",
    "        last_activations = rnn_common.select_last_activations(outputs,\n",
    "                                                              sequence_length)\n",
    "\n",
    "        # ------------ Dense layers -------------------\n",
    "        # Construct dense layers on top of the last cell of the RNN\n",
    "        for units in dnn_layer_sizes:\n",
    "            last_activations = tf.layers.dense(\n",
    "              last_activations, units, activation=tf.nn.relu)\n",
    "        \n",
    "        # Final dense layer for prediction\n",
    "        predictions = tf.layers.dense(last_activations, label_dimension)\n",
    "\n",
    "        # ----------- Loss and Optimizer ----------------\n",
    "        loss = None\n",
    "        train_op = None\n",
    "\n",
    "        if mode != tf.contrib.learn.ModeKeys.INFER:    \n",
    "            loss = tf.losses.mean_squared_error(labels, predictions)\n",
    "    \n",
    "        if mode == tf.contrib.learn.ModeKeys.TRAIN:    \n",
    "            train_op = tf.contrib.layers.optimize_loss(\n",
    "              loss,\n",
    "              tf.contrib.framework.get_global_step(),\n",
    "              optimizer=optimizer,\n",
    "              learning_rate=learning_rate)\n",
    "        \n",
    "        return model_fn_lib.EstimatorSpec(mode,\n",
    "                                           predictions=predictions,\n",
    "                                           loss=loss,\n",
    "                                           train_op=train_op)\n",
    "    return model_fn"
   ]
  },
  {
   "cell_type": "code",
   "execution_count": 19,
   "metadata": {
    "colab": {
     "autoexec": {
      "startup": false,
      "wait_interval": 0
     }
    },
    "colab_type": "code",
    "collapsed": false,
    "id": "gUHR3Mzc7Tvb"
   },
   "outputs": [
    {
     "name": "stdout",
     "output_type": "stream",
     "text": [
      "INFO:tensorflow:Using default config.\n",
      "INFO:tensorflow:Using config: {'_model_dir': '/tmp/colorbot', '_keep_checkpoint_every_n_hours': 10000, '_tf_random_seed': 1, '_save_summary_steps': 100, '_save_checkpoints_steps': None, '_session_config': None, '_save_checkpoints_secs': 600, '_keep_checkpoint_max': 5}\n"
     ]
    }
   ],
   "source": [
    "model_fn = get_model_fn(rnn_cell_sizes=[256, 128], # size of the hidden layers\n",
    "                        label_dimension=3, # since is RGB\n",
    "                        dnn_layer_sizes=[128], # size of units in the dense layers on top of the RNN\n",
    "                        optimizer='Adam', #changing optimizer to Adam\n",
    "                        learning_rate=0.01)\n",
    "\n",
    "estimator = tf.estimator.Estimator(model_fn=model_fn, model_dir='/tmp/colorbot')"
   ]
  },
  {
   "cell_type": "markdown",
   "metadata": {},
   "source": [
    "## Trainning and Evaluating\n",
    "\n",
    "We could use a [experiment](https://www.tensorflow.org/api_docs/python/tf/contrib/learn/Experiment) instead.\n"
   ]
  },
  {
   "cell_type": "code",
   "execution_count": 20,
   "metadata": {
    "colab": {
     "autoexec": {
      "startup": false,
      "wait_interval": 0
     }
    },
    "colab_type": "code",
    "collapsed": false,
    "id": "DUZEKQrdGgZE"
   },
   "outputs": [
    {
     "name": "stdout",
     "output_type": "stream",
     "text": [
      "Training epoch 0\n",
      "--------------------\n"
     ]
    },
    {
     "name": "stderr",
     "output_type": "stream",
     "text": [
      "/usr/local/lib/python3.5/dist-packages/tensorflow/python/ops/gradients_impl.py:93: UserWarning: Converting sparse IndexedSlices to a dense Tensor of unknown shape. This may consume a large amount of memory.\n",
      "  \"Converting sparse IndexedSlices to a dense Tensor of unknown shape. \"\n"
     ]
    },
    {
     "name": "stdout",
     "output_type": "stream",
     "text": [
      "INFO:tensorflow:Create CheckpointSaverHook.\n",
      "INFO:tensorflow:Saving checkpoints for 1 into /tmp/colorbot/model.ckpt.\n",
      "INFO:tensorflow:loss = 0.372918, step = 1\n",
      "INFO:tensorflow:Saving checkpoints for 23 into /tmp/colorbot/model.ckpt.\n",
      "INFO:tensorflow:Loss for final step: 0.0824605.\n",
      "Evaluating epoch 0\n",
      "--------------------\n",
      "INFO:tensorflow:Starting evaluation at 2017-06-28-02:35:39\n",
      "INFO:tensorflow:Restoring parameters from /tmp/colorbot/model.ckpt-23\n",
      "INFO:tensorflow:Finished evaluation at 2017-06-28-02:35:39\n",
      "INFO:tensorflow:Saving dict for global step 23: global_step = 23, loss = 0.0954898\n",
      "Training epoch 1\n",
      "--------------------\n",
      "INFO:tensorflow:Create CheckpointSaverHook.\n",
      "INFO:tensorflow:Restoring parameters from /tmp/colorbot/model.ckpt-23\n",
      "INFO:tensorflow:Saving checkpoints for 24 into /tmp/colorbot/model.ckpt.\n",
      "INFO:tensorflow:loss = 0.0994802, step = 24\n",
      "INFO:tensorflow:Saving checkpoints for 46 into /tmp/colorbot/model.ckpt.\n",
      "INFO:tensorflow:Loss for final step: 0.0647639.\n",
      "Evaluating epoch 1\n",
      "--------------------\n",
      "INFO:tensorflow:Starting evaluation at 2017-06-28-02:35:47\n",
      "INFO:tensorflow:Restoring parameters from /tmp/colorbot/model.ckpt-46\n",
      "INFO:tensorflow:Finished evaluation at 2017-06-28-02:35:47\n",
      "INFO:tensorflow:Saving dict for global step 46: global_step = 46, loss = 0.102245\n",
      "Training epoch 2\n",
      "--------------------\n",
      "INFO:tensorflow:Create CheckpointSaverHook.\n",
      "INFO:tensorflow:Restoring parameters from /tmp/colorbot/model.ckpt-46\n",
      "INFO:tensorflow:Saving checkpoints for 47 into /tmp/colorbot/model.ckpt.\n",
      "INFO:tensorflow:loss = 0.0986986, step = 47\n",
      "INFO:tensorflow:Saving checkpoints for 69 into /tmp/colorbot/model.ckpt.\n",
      "INFO:tensorflow:Loss for final step: 0.0927868.\n",
      "Evaluating epoch 2\n",
      "--------------------\n",
      "INFO:tensorflow:Starting evaluation at 2017-06-28-02:35:53\n",
      "INFO:tensorflow:Restoring parameters from /tmp/colorbot/model.ckpt-69\n",
      "INFO:tensorflow:Finished evaluation at 2017-06-28-02:35:53\n",
      "INFO:tensorflow:Saving dict for global step 69: global_step = 69, loss = 0.0812882\n",
      "Training epoch 3\n",
      "--------------------\n",
      "INFO:tensorflow:Create CheckpointSaverHook.\n",
      "INFO:tensorflow:Restoring parameters from /tmp/colorbot/model.ckpt-69\n",
      "INFO:tensorflow:Saving checkpoints for 70 into /tmp/colorbot/model.ckpt.\n",
      "INFO:tensorflow:loss = 0.0964924, step = 70\n",
      "INFO:tensorflow:Saving checkpoints for 92 into /tmp/colorbot/model.ckpt.\n",
      "INFO:tensorflow:Loss for final step: 0.0761905.\n",
      "Evaluating epoch 3\n",
      "--------------------\n",
      "INFO:tensorflow:Starting evaluation at 2017-06-28-02:36:00\n",
      "INFO:tensorflow:Restoring parameters from /tmp/colorbot/model.ckpt-92\n",
      "INFO:tensorflow:Finished evaluation at 2017-06-28-02:36:00\n",
      "INFO:tensorflow:Saving dict for global step 92: global_step = 92, loss = 0.083149\n",
      "Training epoch 4\n",
      "--------------------\n",
      "INFO:tensorflow:Create CheckpointSaverHook.\n",
      "INFO:tensorflow:Restoring parameters from /tmp/colorbot/model.ckpt-92\n",
      "INFO:tensorflow:Saving checkpoints for 93 into /tmp/colorbot/model.ckpt.\n",
      "INFO:tensorflow:loss = 0.098203, step = 93\n",
      "INFO:tensorflow:Saving checkpoints for 115 into /tmp/colorbot/model.ckpt.\n",
      "INFO:tensorflow:Loss for final step: 0.0715288.\n",
      "Evaluating epoch 4\n",
      "--------------------\n",
      "INFO:tensorflow:Starting evaluation at 2017-06-28-02:36:07\n",
      "INFO:tensorflow:Restoring parameters from /tmp/colorbot/model.ckpt-115\n",
      "INFO:tensorflow:Finished evaluation at 2017-06-28-02:36:07\n",
      "INFO:tensorflow:Saving dict for global step 115: global_step = 115, loss = 0.0952814\n",
      "Training epoch 5\n",
      "--------------------\n",
      "INFO:tensorflow:Create CheckpointSaverHook.\n",
      "INFO:tensorflow:Restoring parameters from /tmp/colorbot/model.ckpt-115\n",
      "INFO:tensorflow:Saving checkpoints for 116 into /tmp/colorbot/model.ckpt.\n",
      "INFO:tensorflow:loss = 0.10845, step = 116\n",
      "INFO:tensorflow:Saving checkpoints for 138 into /tmp/colorbot/model.ckpt.\n",
      "INFO:tensorflow:Loss for final step: 0.0390269.\n",
      "Evaluating epoch 5\n",
      "--------------------\n",
      "INFO:tensorflow:Starting evaluation at 2017-06-28-02:36:14\n",
      "INFO:tensorflow:Restoring parameters from /tmp/colorbot/model.ckpt-138\n",
      "INFO:tensorflow:Finished evaluation at 2017-06-28-02:36:14\n",
      "INFO:tensorflow:Saving dict for global step 138: global_step = 138, loss = 0.0750029\n",
      "Training epoch 6\n",
      "--------------------\n",
      "INFO:tensorflow:Create CheckpointSaverHook.\n",
      "INFO:tensorflow:Restoring parameters from /tmp/colorbot/model.ckpt-138\n",
      "INFO:tensorflow:Saving checkpoints for 139 into /tmp/colorbot/model.ckpt.\n",
      "INFO:tensorflow:loss = 0.0918744, step = 139\n",
      "INFO:tensorflow:Saving checkpoints for 161 into /tmp/colorbot/model.ckpt.\n",
      "INFO:tensorflow:Loss for final step: 0.040798.\n",
      "Evaluating epoch 6\n",
      "--------------------\n",
      "INFO:tensorflow:Starting evaluation at 2017-06-28-02:36:20\n",
      "INFO:tensorflow:Restoring parameters from /tmp/colorbot/model.ckpt-161\n",
      "INFO:tensorflow:Finished evaluation at 2017-06-28-02:36:21\n",
      "INFO:tensorflow:Saving dict for global step 161: global_step = 161, loss = 0.0731551\n",
      "Training epoch 7\n",
      "--------------------\n",
      "INFO:tensorflow:Create CheckpointSaverHook.\n",
      "INFO:tensorflow:Restoring parameters from /tmp/colorbot/model.ckpt-161\n",
      "INFO:tensorflow:Saving checkpoints for 162 into /tmp/colorbot/model.ckpt.\n",
      "INFO:tensorflow:loss = 0.0924742, step = 162\n",
      "INFO:tensorflow:Saving checkpoints for 184 into /tmp/colorbot/model.ckpt.\n",
      "INFO:tensorflow:Loss for final step: 0.0467871.\n",
      "Evaluating epoch 7\n",
      "--------------------\n",
      "INFO:tensorflow:Starting evaluation at 2017-06-28-02:36:27\n",
      "INFO:tensorflow:Restoring parameters from /tmp/colorbot/model.ckpt-184\n",
      "INFO:tensorflow:Finished evaluation at 2017-06-28-02:36:27\n",
      "INFO:tensorflow:Saving dict for global step 184: global_step = 184, loss = 0.0960772\n",
      "Training epoch 8\n",
      "--------------------\n",
      "INFO:tensorflow:Create CheckpointSaverHook.\n",
      "INFO:tensorflow:Restoring parameters from /tmp/colorbot/model.ckpt-184\n",
      "INFO:tensorflow:Saving checkpoints for 185 into /tmp/colorbot/model.ckpt.\n",
      "INFO:tensorflow:loss = 0.11175, step = 185\n",
      "INFO:tensorflow:Saving checkpoints for 207 into /tmp/colorbot/model.ckpt.\n",
      "INFO:tensorflow:Loss for final step: 0.0249051.\n",
      "Evaluating epoch 8\n",
      "--------------------\n",
      "INFO:tensorflow:Starting evaluation at 2017-06-28-02:36:34\n",
      "INFO:tensorflow:Restoring parameters from /tmp/colorbot/model.ckpt-207\n",
      "INFO:tensorflow:Finished evaluation at 2017-06-28-02:36:34\n",
      "INFO:tensorflow:Saving dict for global step 207: global_step = 207, loss = 0.0785817\n",
      "Training epoch 9\n",
      "--------------------\n",
      "INFO:tensorflow:Create CheckpointSaverHook.\n",
      "INFO:tensorflow:Restoring parameters from /tmp/colorbot/model.ckpt-207\n",
      "INFO:tensorflow:Saving checkpoints for 208 into /tmp/colorbot/model.ckpt.\n",
      "INFO:tensorflow:loss = 0.0906201, step = 208\n",
      "INFO:tensorflow:Saving checkpoints for 230 into /tmp/colorbot/model.ckpt.\n",
      "INFO:tensorflow:Loss for final step: 0.018581.\n",
      "Evaluating epoch 9\n",
      "--------------------\n",
      "INFO:tensorflow:Starting evaluation at 2017-06-28-02:36:40\n",
      "INFO:tensorflow:Restoring parameters from /tmp/colorbot/model.ckpt-230\n",
      "INFO:tensorflow:Finished evaluation at 2017-06-28-02:36:40\n",
      "INFO:tensorflow:Saving dict for global step 230: global_step = 230, loss = 0.0698065\n",
      "Training epoch 10\n",
      "--------------------\n",
      "INFO:tensorflow:Create CheckpointSaverHook.\n",
      "INFO:tensorflow:Restoring parameters from /tmp/colorbot/model.ckpt-230\n",
      "INFO:tensorflow:Saving checkpoints for 231 into /tmp/colorbot/model.ckpt.\n",
      "INFO:tensorflow:loss = 0.0878039, step = 231\n",
      "INFO:tensorflow:Saving checkpoints for 253 into /tmp/colorbot/model.ckpt.\n",
      "INFO:tensorflow:Loss for final step: 0.0322558.\n",
      "Evaluating epoch 10\n",
      "--------------------\n",
      "INFO:tensorflow:Starting evaluation at 2017-06-28-02:36:47\n",
      "INFO:tensorflow:Restoring parameters from /tmp/colorbot/model.ckpt-253\n",
      "INFO:tensorflow:Finished evaluation at 2017-06-28-02:36:47\n",
      "INFO:tensorflow:Saving dict for global step 253: global_step = 253, loss = 0.084126\n",
      "Training epoch 11\n",
      "--------------------\n",
      "INFO:tensorflow:Create CheckpointSaverHook.\n",
      "INFO:tensorflow:Restoring parameters from /tmp/colorbot/model.ckpt-253\n",
      "INFO:tensorflow:Saving checkpoints for 254 into /tmp/colorbot/model.ckpt.\n",
      "INFO:tensorflow:loss = 0.0965165, step = 254\n",
      "INFO:tensorflow:Saving checkpoints for 276 into /tmp/colorbot/model.ckpt.\n",
      "INFO:tensorflow:Loss for final step: 0.0111067.\n",
      "Evaluating epoch 11\n",
      "--------------------\n",
      "INFO:tensorflow:Starting evaluation at 2017-06-28-02:36:54\n",
      "INFO:tensorflow:Restoring parameters from /tmp/colorbot/model.ckpt-276\n",
      "INFO:tensorflow:Finished evaluation at 2017-06-28-02:36:55\n",
      "INFO:tensorflow:Saving dict for global step 276: global_step = 276, loss = 0.0731877\n",
      "Training epoch 12\n",
      "--------------------\n",
      "INFO:tensorflow:Create CheckpointSaverHook.\n",
      "INFO:tensorflow:Restoring parameters from /tmp/colorbot/model.ckpt-276\n",
      "INFO:tensorflow:Saving checkpoints for 277 into /tmp/colorbot/model.ckpt.\n",
      "INFO:tensorflow:loss = 0.0915138, step = 277\n",
      "INFO:tensorflow:Saving checkpoints for 299 into /tmp/colorbot/model.ckpt.\n",
      "INFO:tensorflow:Loss for final step: 0.00214087.\n",
      "Evaluating epoch 12\n",
      "--------------------\n",
      "INFO:tensorflow:Starting evaluation at 2017-06-28-02:37:00\n",
      "INFO:tensorflow:Restoring parameters from /tmp/colorbot/model.ckpt-299\n",
      "INFO:tensorflow:Finished evaluation at 2017-06-28-02:37:01\n",
      "INFO:tensorflow:Saving dict for global step 299: global_step = 299, loss = 0.0762868\n",
      "Training epoch 13\n",
      "--------------------\n",
      "INFO:tensorflow:Create CheckpointSaverHook.\n",
      "INFO:tensorflow:Restoring parameters from /tmp/colorbot/model.ckpt-299\n",
      "INFO:tensorflow:Saving checkpoints for 300 into /tmp/colorbot/model.ckpt.\n",
      "INFO:tensorflow:loss = 0.0893422, step = 300\n",
      "INFO:tensorflow:Saving checkpoints for 322 into /tmp/colorbot/model.ckpt.\n",
      "INFO:tensorflow:Loss for final step: 0.00229317.\n",
      "Evaluating epoch 13\n",
      "--------------------\n",
      "INFO:tensorflow:Starting evaluation at 2017-06-28-02:37:07\n",
      "INFO:tensorflow:Restoring parameters from /tmp/colorbot/model.ckpt-322\n",
      "INFO:tensorflow:Finished evaluation at 2017-06-28-02:37:07\n",
      "INFO:tensorflow:Saving dict for global step 322: global_step = 322, loss = 0.0764978\n",
      "Training epoch 14\n",
      "--------------------\n",
      "INFO:tensorflow:Create CheckpointSaverHook.\n",
      "INFO:tensorflow:Restoring parameters from /tmp/colorbot/model.ckpt-322\n",
      "INFO:tensorflow:Saving checkpoints for 323 into /tmp/colorbot/model.ckpt.\n",
      "INFO:tensorflow:loss = 0.0883323, step = 323\n",
      "INFO:tensorflow:Saving checkpoints for 345 into /tmp/colorbot/model.ckpt.\n",
      "INFO:tensorflow:Loss for final step: 0.0128561.\n",
      "Evaluating epoch 14\n",
      "--------------------\n",
      "INFO:tensorflow:Starting evaluation at 2017-06-28-02:37:13\n",
      "INFO:tensorflow:Restoring parameters from /tmp/colorbot/model.ckpt-345\n",
      "INFO:tensorflow:Finished evaluation at 2017-06-28-02:37:13\n",
      "INFO:tensorflow:Saving dict for global step 345: global_step = 345, loss = 0.0888286\n",
      "Training epoch 15\n",
      "--------------------\n",
      "INFO:tensorflow:Create CheckpointSaverHook.\n",
      "INFO:tensorflow:Restoring parameters from /tmp/colorbot/model.ckpt-345\n",
      "INFO:tensorflow:Saving checkpoints for 346 into /tmp/colorbot/model.ckpt.\n",
      "INFO:tensorflow:loss = 0.0935682, step = 346\n",
      "INFO:tensorflow:Saving checkpoints for 368 into /tmp/colorbot/model.ckpt.\n",
      "INFO:tensorflow:Loss for final step: 0.0101696.\n",
      "Evaluating epoch 15\n",
      "--------------------\n",
      "INFO:tensorflow:Starting evaluation at 2017-06-28-02:37:19\n",
      "INFO:tensorflow:Restoring parameters from /tmp/colorbot/model.ckpt-368\n",
      "INFO:tensorflow:Finished evaluation at 2017-06-28-02:37:19\n",
      "INFO:tensorflow:Saving dict for global step 368: global_step = 368, loss = 0.0763375\n",
      "Training epoch 16\n",
      "--------------------\n",
      "INFO:tensorflow:Create CheckpointSaverHook.\n",
      "INFO:tensorflow:Restoring parameters from /tmp/colorbot/model.ckpt-368\n",
      "INFO:tensorflow:Saving checkpoints for 369 into /tmp/colorbot/model.ckpt.\n",
      "INFO:tensorflow:loss = 0.0789261, step = 369\n",
      "INFO:tensorflow:Saving checkpoints for 391 into /tmp/colorbot/model.ckpt.\n",
      "INFO:tensorflow:Loss for final step: 0.016138.\n",
      "Evaluating epoch 16\n",
      "--------------------\n",
      "INFO:tensorflow:Starting evaluation at 2017-06-28-02:37:25\n",
      "INFO:tensorflow:Restoring parameters from /tmp/colorbot/model.ckpt-391\n",
      "INFO:tensorflow:Finished evaluation at 2017-06-28-02:37:26\n",
      "INFO:tensorflow:Saving dict for global step 391: global_step = 391, loss = 0.0655067\n",
      "Training epoch 17\n",
      "--------------------\n",
      "INFO:tensorflow:Create CheckpointSaverHook.\n",
      "INFO:tensorflow:Restoring parameters from /tmp/colorbot/model.ckpt-391\n",
      "INFO:tensorflow:Saving checkpoints for 392 into /tmp/colorbot/model.ckpt.\n",
      "INFO:tensorflow:loss = 0.0728631, step = 392\n",
      "INFO:tensorflow:Saving checkpoints for 414 into /tmp/colorbot/model.ckpt.\n",
      "INFO:tensorflow:Loss for final step: 0.0508708.\n",
      "Evaluating epoch 17\n",
      "--------------------\n",
      "INFO:tensorflow:Starting evaluation at 2017-06-28-02:37:31\n",
      "INFO:tensorflow:Restoring parameters from /tmp/colorbot/model.ckpt-414\n",
      "INFO:tensorflow:Finished evaluation at 2017-06-28-02:37:32\n",
      "INFO:tensorflow:Saving dict for global step 414: global_step = 414, loss = 0.0908748\n",
      "Training epoch 18\n",
      "--------------------\n",
      "INFO:tensorflow:Create CheckpointSaverHook.\n",
      "INFO:tensorflow:Restoring parameters from /tmp/colorbot/model.ckpt-414\n",
      "INFO:tensorflow:Saving checkpoints for 415 into /tmp/colorbot/model.ckpt.\n",
      "INFO:tensorflow:loss = 0.0916891, step = 415\n",
      "INFO:tensorflow:Saving checkpoints for 437 into /tmp/colorbot/model.ckpt.\n",
      "INFO:tensorflow:Loss for final step: 0.0252501.\n",
      "Evaluating epoch 18\n",
      "--------------------\n",
      "INFO:tensorflow:Starting evaluation at 2017-06-28-02:37:38\n",
      "INFO:tensorflow:Restoring parameters from /tmp/colorbot/model.ckpt-437\n",
      "INFO:tensorflow:Finished evaluation at 2017-06-28-02:37:38\n",
      "INFO:tensorflow:Saving dict for global step 437: global_step = 437, loss = 0.0879458\n",
      "Training epoch 19\n",
      "--------------------\n",
      "INFO:tensorflow:Create CheckpointSaverHook.\n",
      "INFO:tensorflow:Restoring parameters from /tmp/colorbot/model.ckpt-437\n",
      "INFO:tensorflow:Saving checkpoints for 438 into /tmp/colorbot/model.ckpt.\n",
      "INFO:tensorflow:loss = 0.0842887, step = 438\n",
      "INFO:tensorflow:Saving checkpoints for 460 into /tmp/colorbot/model.ckpt.\n",
      "INFO:tensorflow:Loss for final step: 0.0136866.\n",
      "Evaluating epoch 19\n",
      "--------------------\n",
      "INFO:tensorflow:Starting evaluation at 2017-06-28-02:37:44\n",
      "INFO:tensorflow:Restoring parameters from /tmp/colorbot/model.ckpt-460\n",
      "INFO:tensorflow:Finished evaluation at 2017-06-28-02:37:44\n",
      "INFO:tensorflow:Saving dict for global step 460: global_step = 460, loss = 0.0658603\n",
      "Training epoch 20\n",
      "--------------------\n",
      "INFO:tensorflow:Create CheckpointSaverHook.\n",
      "INFO:tensorflow:Restoring parameters from /tmp/colorbot/model.ckpt-460\n",
      "INFO:tensorflow:Saving checkpoints for 461 into /tmp/colorbot/model.ckpt.\n",
      "INFO:tensorflow:loss = 0.071634, step = 461\n",
      "INFO:tensorflow:Saving checkpoints for 483 into /tmp/colorbot/model.ckpt.\n",
      "INFO:tensorflow:Loss for final step: 0.0096562.\n",
      "Evaluating epoch 20\n",
      "--------------------\n",
      "INFO:tensorflow:Starting evaluation at 2017-06-28-02:37:51\n",
      "INFO:tensorflow:Restoring parameters from /tmp/colorbot/model.ckpt-483\n",
      "INFO:tensorflow:Finished evaluation at 2017-06-28-02:37:51\n",
      "INFO:tensorflow:Saving dict for global step 483: global_step = 483, loss = 0.073327\n",
      "Training epoch 21\n",
      "--------------------\n",
      "INFO:tensorflow:Create CheckpointSaverHook.\n",
      "INFO:tensorflow:Restoring parameters from /tmp/colorbot/model.ckpt-483\n",
      "INFO:tensorflow:Saving checkpoints for 484 into /tmp/colorbot/model.ckpt.\n",
      "INFO:tensorflow:loss = 0.0735931, step = 484\n",
      "INFO:tensorflow:Saving checkpoints for 506 into /tmp/colorbot/model.ckpt.\n",
      "INFO:tensorflow:Loss for final step: 0.0105215.\n",
      "Evaluating epoch 21\n",
      "--------------------\n",
      "INFO:tensorflow:Starting evaluation at 2017-06-28-02:37:57\n",
      "INFO:tensorflow:Restoring parameters from /tmp/colorbot/model.ckpt-506\n",
      "INFO:tensorflow:Finished evaluation at 2017-06-28-02:37:58\n",
      "INFO:tensorflow:Saving dict for global step 506: global_step = 506, loss = 0.0606367\n",
      "Training epoch 22\n",
      "--------------------\n",
      "INFO:tensorflow:Create CheckpointSaverHook.\n",
      "INFO:tensorflow:Restoring parameters from /tmp/colorbot/model.ckpt-506\n",
      "INFO:tensorflow:Saving checkpoints for 507 into /tmp/colorbot/model.ckpt.\n",
      "INFO:tensorflow:loss = 0.0670767, step = 507\n",
      "INFO:tensorflow:Saving checkpoints for 529 into /tmp/colorbot/model.ckpt.\n",
      "INFO:tensorflow:Loss for final step: 0.00940824.\n",
      "Evaluating epoch 22\n",
      "--------------------\n",
      "INFO:tensorflow:Starting evaluation at 2017-06-28-02:38:04\n",
      "INFO:tensorflow:Restoring parameters from /tmp/colorbot/model.ckpt-529\n",
      "INFO:tensorflow:Finished evaluation at 2017-06-28-02:38:04\n",
      "INFO:tensorflow:Saving dict for global step 529: global_step = 529, loss = 0.0595843\n",
      "Training epoch 23\n",
      "--------------------\n",
      "INFO:tensorflow:Create CheckpointSaverHook.\n",
      "INFO:tensorflow:Restoring parameters from /tmp/colorbot/model.ckpt-529\n",
      "INFO:tensorflow:Saving checkpoints for 530 into /tmp/colorbot/model.ckpt.\n",
      "INFO:tensorflow:loss = 0.0613532, step = 530\n",
      "INFO:tensorflow:Saving checkpoints for 552 into /tmp/colorbot/model.ckpt.\n",
      "INFO:tensorflow:Loss for final step: 0.00288535.\n",
      "Evaluating epoch 23\n",
      "--------------------\n",
      "INFO:tensorflow:Starting evaluation at 2017-06-28-02:38:11\n",
      "INFO:tensorflow:Restoring parameters from /tmp/colorbot/model.ckpt-552\n",
      "INFO:tensorflow:Finished evaluation at 2017-06-28-02:38:11\n",
      "INFO:tensorflow:Saving dict for global step 552: global_step = 552, loss = 0.0563596\n",
      "Training epoch 24\n",
      "--------------------\n",
      "INFO:tensorflow:Create CheckpointSaverHook.\n",
      "INFO:tensorflow:Restoring parameters from /tmp/colorbot/model.ckpt-552\n",
      "INFO:tensorflow:Saving checkpoints for 553 into /tmp/colorbot/model.ckpt.\n",
      "INFO:tensorflow:loss = 0.052846, step = 553\n",
      "INFO:tensorflow:Saving checkpoints for 575 into /tmp/colorbot/model.ckpt.\n",
      "INFO:tensorflow:Loss for final step: 0.00718242.\n",
      "Evaluating epoch 24\n",
      "--------------------\n",
      "INFO:tensorflow:Starting evaluation at 2017-06-28-02:38:17\n",
      "INFO:tensorflow:Restoring parameters from /tmp/colorbot/model.ckpt-575\n",
      "INFO:tensorflow:Finished evaluation at 2017-06-28-02:38:17\n",
      "INFO:tensorflow:Saving dict for global step 575: global_step = 575, loss = 0.0558685\n",
      "Training epoch 25\n",
      "--------------------\n",
      "INFO:tensorflow:Create CheckpointSaverHook.\n",
      "INFO:tensorflow:Restoring parameters from /tmp/colorbot/model.ckpt-575\n",
      "INFO:tensorflow:Saving checkpoints for 576 into /tmp/colorbot/model.ckpt.\n",
      "INFO:tensorflow:loss = 0.0507478, step = 576\n",
      "INFO:tensorflow:Saving checkpoints for 598 into /tmp/colorbot/model.ckpt.\n",
      "INFO:tensorflow:Loss for final step: 0.00942253.\n",
      "Evaluating epoch 25\n",
      "--------------------\n",
      "INFO:tensorflow:Starting evaluation at 2017-06-28-02:38:23\n",
      "INFO:tensorflow:Restoring parameters from /tmp/colorbot/model.ckpt-598\n",
      "INFO:tensorflow:Finished evaluation at 2017-06-28-02:38:23\n",
      "INFO:tensorflow:Saving dict for global step 598: global_step = 598, loss = 0.0541042\n",
      "Training epoch 26\n",
      "--------------------\n",
      "INFO:tensorflow:Create CheckpointSaverHook.\n",
      "INFO:tensorflow:Restoring parameters from /tmp/colorbot/model.ckpt-598\n",
      "INFO:tensorflow:Saving checkpoints for 599 into /tmp/colorbot/model.ckpt.\n",
      "INFO:tensorflow:loss = 0.0585796, step = 599\n",
      "INFO:tensorflow:Saving checkpoints for 621 into /tmp/colorbot/model.ckpt.\n",
      "INFO:tensorflow:Loss for final step: 0.00962922.\n",
      "Evaluating epoch 26\n",
      "--------------------\n",
      "INFO:tensorflow:Starting evaluation at 2017-06-28-02:38:29\n",
      "INFO:tensorflow:Restoring parameters from /tmp/colorbot/model.ckpt-621\n",
      "INFO:tensorflow:Finished evaluation at 2017-06-28-02:38:30\n",
      "INFO:tensorflow:Saving dict for global step 621: global_step = 621, loss = 0.0639904\n",
      "Training epoch 27\n",
      "--------------------\n",
      "INFO:tensorflow:Create CheckpointSaverHook.\n",
      "INFO:tensorflow:Restoring parameters from /tmp/colorbot/model.ckpt-621\n",
      "INFO:tensorflow:Saving checkpoints for 622 into /tmp/colorbot/model.ckpt.\n",
      "INFO:tensorflow:loss = 0.0577728, step = 622\n",
      "INFO:tensorflow:Saving checkpoints for 644 into /tmp/colorbot/model.ckpt.\n",
      "INFO:tensorflow:Loss for final step: 0.0333434.\n",
      "Evaluating epoch 27\n",
      "--------------------\n",
      "INFO:tensorflow:Starting evaluation at 2017-06-28-02:38:35\n",
      "INFO:tensorflow:Restoring parameters from /tmp/colorbot/model.ckpt-644\n",
      "INFO:tensorflow:Finished evaluation at 2017-06-28-02:38:35\n",
      "INFO:tensorflow:Saving dict for global step 644: global_step = 644, loss = 0.0704458\n",
      "Training epoch 28\n",
      "--------------------\n",
      "INFO:tensorflow:Create CheckpointSaverHook.\n",
      "INFO:tensorflow:Restoring parameters from /tmp/colorbot/model.ckpt-644\n",
      "INFO:tensorflow:Saving checkpoints for 645 into /tmp/colorbot/model.ckpt.\n",
      "INFO:tensorflow:loss = 0.0570882, step = 645\n",
      "INFO:tensorflow:Saving checkpoints for 667 into /tmp/colorbot/model.ckpt.\n",
      "INFO:tensorflow:Loss for final step: 0.003277.\n",
      "Evaluating epoch 28\n",
      "--------------------\n",
      "INFO:tensorflow:Starting evaluation at 2017-06-28-02:38:41\n",
      "INFO:tensorflow:Restoring parameters from /tmp/colorbot/model.ckpt-667\n",
      "INFO:tensorflow:Finished evaluation at 2017-06-28-02:38:41\n",
      "INFO:tensorflow:Saving dict for global step 667: global_step = 667, loss = 0.071586\n",
      "Training epoch 29\n",
      "--------------------\n",
      "INFO:tensorflow:Create CheckpointSaverHook.\n",
      "INFO:tensorflow:Restoring parameters from /tmp/colorbot/model.ckpt-667\n",
      "INFO:tensorflow:Saving checkpoints for 668 into /tmp/colorbot/model.ckpt.\n",
      "INFO:tensorflow:loss = 0.048364, step = 668\n",
      "INFO:tensorflow:Saving checkpoints for 690 into /tmp/colorbot/model.ckpt.\n",
      "INFO:tensorflow:Loss for final step: 0.0145544.\n",
      "Evaluating epoch 29\n",
      "--------------------\n",
      "INFO:tensorflow:Starting evaluation at 2017-06-28-02:38:47\n",
      "INFO:tensorflow:Restoring parameters from /tmp/colorbot/model.ckpt-690\n",
      "INFO:tensorflow:Finished evaluation at 2017-06-28-02:38:47\n",
      "INFO:tensorflow:Saving dict for global step 690: global_step = 690, loss = 0.0513626\n",
      "Training epoch 30\n",
      "--------------------\n",
      "INFO:tensorflow:Create CheckpointSaverHook.\n",
      "INFO:tensorflow:Restoring parameters from /tmp/colorbot/model.ckpt-690\n",
      "INFO:tensorflow:Saving checkpoints for 691 into /tmp/colorbot/model.ckpt.\n",
      "INFO:tensorflow:loss = 0.0399841, step = 691\n",
      "INFO:tensorflow:Saving checkpoints for 713 into /tmp/colorbot/model.ckpt.\n",
      "INFO:tensorflow:Loss for final step: 0.0139253.\n",
      "Evaluating epoch 30\n",
      "--------------------\n",
      "INFO:tensorflow:Starting evaluation at 2017-06-28-02:38:53\n",
      "INFO:tensorflow:Restoring parameters from /tmp/colorbot/model.ckpt-713\n",
      "INFO:tensorflow:Finished evaluation at 2017-06-28-02:38:53\n",
      "INFO:tensorflow:Saving dict for global step 713: global_step = 713, loss = 0.0565116\n",
      "Training epoch 31\n",
      "--------------------\n",
      "INFO:tensorflow:Create CheckpointSaverHook.\n",
      "INFO:tensorflow:Restoring parameters from /tmp/colorbot/model.ckpt-713\n",
      "INFO:tensorflow:Saving checkpoints for 714 into /tmp/colorbot/model.ckpt.\n",
      "INFO:tensorflow:loss = 0.0398536, step = 714\n",
      "INFO:tensorflow:Saving checkpoints for 736 into /tmp/colorbot/model.ckpt.\n",
      "INFO:tensorflow:Loss for final step: 0.0164084.\n",
      "Evaluating epoch 31\n",
      "--------------------\n",
      "INFO:tensorflow:Starting evaluation at 2017-06-28-02:38:59\n",
      "INFO:tensorflow:Restoring parameters from /tmp/colorbot/model.ckpt-736\n",
      "INFO:tensorflow:Finished evaluation at 2017-06-28-02:38:59\n",
      "INFO:tensorflow:Saving dict for global step 736: global_step = 736, loss = 0.0520479\n",
      "Training epoch 32\n",
      "--------------------\n",
      "INFO:tensorflow:Create CheckpointSaverHook.\n",
      "INFO:tensorflow:Restoring parameters from /tmp/colorbot/model.ckpt-736\n",
      "INFO:tensorflow:Saving checkpoints for 737 into /tmp/colorbot/model.ckpt.\n",
      "INFO:tensorflow:loss = 0.0353314, step = 737\n",
      "INFO:tensorflow:Saving checkpoints for 759 into /tmp/colorbot/model.ckpt.\n",
      "INFO:tensorflow:Loss for final step: 0.0103122.\n",
      "Evaluating epoch 32\n",
      "--------------------\n",
      "INFO:tensorflow:Starting evaluation at 2017-06-28-02:39:05\n",
      "INFO:tensorflow:Restoring parameters from /tmp/colorbot/model.ckpt-759\n",
      "INFO:tensorflow:Finished evaluation at 2017-06-28-02:39:05\n",
      "INFO:tensorflow:Saving dict for global step 759: global_step = 759, loss = 0.0531136\n",
      "Training epoch 33\n",
      "--------------------\n",
      "INFO:tensorflow:Create CheckpointSaverHook.\n",
      "INFO:tensorflow:Restoring parameters from /tmp/colorbot/model.ckpt-759\n",
      "INFO:tensorflow:Saving checkpoints for 760 into /tmp/colorbot/model.ckpt.\n",
      "INFO:tensorflow:loss = 0.0276007, step = 760\n",
      "INFO:tensorflow:Saving checkpoints for 782 into /tmp/colorbot/model.ckpt.\n",
      "INFO:tensorflow:Loss for final step: 0.00283034.\n",
      "Evaluating epoch 33\n",
      "--------------------\n",
      "INFO:tensorflow:Starting evaluation at 2017-06-28-02:39:11\n",
      "INFO:tensorflow:Restoring parameters from /tmp/colorbot/model.ckpt-782\n",
      "INFO:tensorflow:Finished evaluation at 2017-06-28-02:39:11\n",
      "INFO:tensorflow:Saving dict for global step 782: global_step = 782, loss = 0.0481051\n",
      "Training epoch 34\n",
      "--------------------\n",
      "INFO:tensorflow:Create CheckpointSaverHook.\n",
      "INFO:tensorflow:Restoring parameters from /tmp/colorbot/model.ckpt-782\n",
      "INFO:tensorflow:Saving checkpoints for 783 into /tmp/colorbot/model.ckpt.\n",
      "INFO:tensorflow:loss = 0.0264262, step = 783\n",
      "INFO:tensorflow:Saving checkpoints for 805 into /tmp/colorbot/model.ckpt.\n",
      "INFO:tensorflow:Loss for final step: 0.000906388.\n",
      "Evaluating epoch 34\n",
      "--------------------\n",
      "INFO:tensorflow:Starting evaluation at 2017-06-28-02:39:17\n",
      "INFO:tensorflow:Restoring parameters from /tmp/colorbot/model.ckpt-805\n",
      "INFO:tensorflow:Finished evaluation at 2017-06-28-02:39:17\n",
      "INFO:tensorflow:Saving dict for global step 805: global_step = 805, loss = 0.0490656\n",
      "Training epoch 35\n",
      "--------------------\n",
      "INFO:tensorflow:Create CheckpointSaverHook.\n",
      "INFO:tensorflow:Restoring parameters from /tmp/colorbot/model.ckpt-805\n",
      "INFO:tensorflow:Saving checkpoints for 806 into /tmp/colorbot/model.ckpt.\n",
      "INFO:tensorflow:loss = 0.0225186, step = 806\n",
      "INFO:tensorflow:Saving checkpoints for 828 into /tmp/colorbot/model.ckpt.\n",
      "INFO:tensorflow:Loss for final step: 0.00639401.\n",
      "Evaluating epoch 35\n",
      "--------------------\n",
      "INFO:tensorflow:Starting evaluation at 2017-06-28-02:39:23\n",
      "INFO:tensorflow:Restoring parameters from /tmp/colorbot/model.ckpt-828\n",
      "INFO:tensorflow:Finished evaluation at 2017-06-28-02:39:24\n",
      "INFO:tensorflow:Saving dict for global step 828: global_step = 828, loss = 0.0510266\n",
      "Training epoch 36\n",
      "--------------------\n",
      "INFO:tensorflow:Create CheckpointSaverHook.\n",
      "INFO:tensorflow:Restoring parameters from /tmp/colorbot/model.ckpt-828\n",
      "INFO:tensorflow:Saving checkpoints for 829 into /tmp/colorbot/model.ckpt.\n",
      "INFO:tensorflow:loss = 0.0241904, step = 829\n",
      "INFO:tensorflow:Saving checkpoints for 851 into /tmp/colorbot/model.ckpt.\n",
      "INFO:tensorflow:Loss for final step: 0.0193809.\n",
      "Evaluating epoch 36\n",
      "--------------------\n",
      "INFO:tensorflow:Starting evaluation at 2017-06-28-02:39:29\n",
      "INFO:tensorflow:Restoring parameters from /tmp/colorbot/model.ckpt-851\n",
      "INFO:tensorflow:Finished evaluation at 2017-06-28-02:39:30\n",
      "INFO:tensorflow:Saving dict for global step 851: global_step = 851, loss = 0.0489838\n",
      "Training epoch 37\n",
      "--------------------\n",
      "INFO:tensorflow:Create CheckpointSaverHook.\n",
      "INFO:tensorflow:Restoring parameters from /tmp/colorbot/model.ckpt-851\n",
      "INFO:tensorflow:Saving checkpoints for 852 into /tmp/colorbot/model.ckpt.\n",
      "INFO:tensorflow:loss = 0.0159903, step = 852\n",
      "INFO:tensorflow:Saving checkpoints for 874 into /tmp/colorbot/model.ckpt.\n",
      "INFO:tensorflow:Loss for final step: 0.00673583.\n",
      "Evaluating epoch 37\n",
      "--------------------\n",
      "INFO:tensorflow:Starting evaluation at 2017-06-28-02:39:35\n",
      "INFO:tensorflow:Restoring parameters from /tmp/colorbot/model.ckpt-874\n",
      "INFO:tensorflow:Finished evaluation at 2017-06-28-02:39:36\n",
      "INFO:tensorflow:Saving dict for global step 874: global_step = 874, loss = 0.0453029\n",
      "Training epoch 38\n",
      "--------------------\n",
      "INFO:tensorflow:Create CheckpointSaverHook.\n",
      "INFO:tensorflow:Restoring parameters from /tmp/colorbot/model.ckpt-874\n",
      "INFO:tensorflow:Saving checkpoints for 875 into /tmp/colorbot/model.ckpt.\n",
      "INFO:tensorflow:loss = 0.0148224, step = 875\n",
      "INFO:tensorflow:Saving checkpoints for 897 into /tmp/colorbot/model.ckpt.\n",
      "INFO:tensorflow:Loss for final step: 0.0252576.\n",
      "Evaluating epoch 38\n",
      "--------------------\n",
      "INFO:tensorflow:Starting evaluation at 2017-06-28-02:39:46\n",
      "INFO:tensorflow:Restoring parameters from /tmp/colorbot/model.ckpt-897\n",
      "INFO:tensorflow:Finished evaluation at 2017-06-28-02:39:46\n",
      "INFO:tensorflow:Saving dict for global step 897: global_step = 897, loss = 0.048416\n",
      "Training epoch 39\n",
      "--------------------\n",
      "INFO:tensorflow:Create CheckpointSaverHook.\n",
      "INFO:tensorflow:Restoring parameters from /tmp/colorbot/model.ckpt-897\n",
      "INFO:tensorflow:Saving checkpoints for 898 into /tmp/colorbot/model.ckpt.\n",
      "INFO:tensorflow:loss = 0.0233025, step = 898\n",
      "INFO:tensorflow:Saving checkpoints for 920 into /tmp/colorbot/model.ckpt.\n",
      "INFO:tensorflow:Loss for final step: 0.00560891.\n",
      "Evaluating epoch 39\n",
      "--------------------\n",
      "INFO:tensorflow:Starting evaluation at 2017-06-28-02:39:52\n",
      "INFO:tensorflow:Restoring parameters from /tmp/colorbot/model.ckpt-920\n",
      "INFO:tensorflow:Finished evaluation at 2017-06-28-02:39:52\n",
      "INFO:tensorflow:Saving dict for global step 920: global_step = 920, loss = 0.0482685\n"
     ]
    }
   ],
   "source": [
    "NUM_EPOCHS = 40\n",
    "for i in range(NUM_EPOCHS):\n",
    "    print('Training epoch %d' % i)\n",
    "    print('-' * 20)\n",
    "    estimator.train(input_fn=train_input_fn)\n",
    "    print('Evaluating epoch %d' % i)\n",
    "    print('-' * 20)\n",
    "    estimator.evaluate(input_fn = test_input_fn)"
   ]
  },
  {
   "cell_type": "markdown",
   "metadata": {},
   "source": [
    "## Making Predictions"
   ]
  },
  {
   "cell_type": "code",
   "execution_count": 21,
   "metadata": {
    "collapsed": false
   },
   "outputs": [
    {
     "name": "stdout",
     "output_type": "stream",
     "text": [
      "\n",
      "WARNING:tensorflow:Input graph does not contain a QueueRunner. That means predict yields forever. This is probably a mistake.\n",
      "INFO:tensorflow:Restoring parameters from /tmp/colorbot/model.ckpt-920\n",
      "orange, rgb: (218, 101, 49)\n"
     ]
    },
    {
     "data": {
      "image/png": "[encoded data removed]",
      "text/plain": [
       "<matplotlib.figure.Figure at 0x7fd076636940>"
      ]
     },
     "metadata": {},
     "output_type": "display_data"
    },
    {
     "name": "stdout",
     "output_type": "stream",
     "text": [
      "tensorflow orange, rgb: (216, 107, 51)\n"
     ]
    },
    {
     "data": {
      "image/png": "[encoded data removed]",
      "text/plain": [
       "<matplotlib.figure.Figure at 0x7fd09dda9978>"
      ]
     },
     "metadata": {},
     "output_type": "display_data"
    },
    {
     "name": "stdout",
     "output_type": "stream",
     "text": [
      "adfgasdgasd, rgb: (181, 182, 141)\n"
     ]
    },
    {
     "data": {
      "image/png": "[encoded data removed]",
      "text/plain": [
       "<matplotlib.figure.Figure at 0x7fd07808fb38>"
      ]
     },
     "metadata": {},
     "output_type": "display_data"
    },
    {
     "name": "stdout",
     "output_type": "stream",
     "text": [
      "purple blue, rgb: (106, 96, 217)\n"
     ]
    },
    {
     "data": {
      "image/png": "[encoded data removed]",
      "text/plain": [
       "<matplotlib.figure.Figure at 0x7fd077fef630>"
      ]
     },
     "metadata": {},
     "output_type": "display_data"
    },
    {
     "name": "stdout",
     "output_type": "stream",
     "text": [
      "purple red, rgb: (230, 53, 102)\n"
     ]
    },
    {
     "data": {
      "image/png": "[encoded data removed]",
      "text/plain": [
       "<matplotlib.figure.Figure at 0x7fd0780ba438>"
      ]
     },
     "metadata": {},
     "output_type": "display_data"
    },
    {
     "name": "stdout",
     "output_type": "stream",
     "text": [
      "purple, rgb: (101, 23, 155)\n"
     ]
    },
    {
     "data": {
      "image/png": "[encoded data removed]",
      "text/plain": [
       "<matplotlib.figure.Figure at 0x7fd077f29860>"
      ]
     },
     "metadata": {},
     "output_type": "display_data"
    },
    {
     "name": "stdout",
     "output_type": "stream",
     "text": [
      "water, rgb: (207, 197, 201)\n"
     ]
    },
    {
     "data": {
      "image/png": "[encoded data removed]",
      "text/plain": [
       "<matplotlib.figure.Figure at 0x7fd077ffe0b8>"
      ]
     },
     "metadata": {},
     "output_type": "display_data"
    },
    {
     "name": "stdout",
     "output_type": "stream",
     "text": [
      "pink, rgb: (271, 151, 192)\n"
     ]
    },
    {
     "data": {
      "image/png": "[encoded data removed]",
      "text/plain": [
       "<matplotlib.figure.Figure at 0x7fd077edb438>"
      ]
     },
     "metadata": {},
     "output_type": "display_data"
    },
    {
     "name": "stdout",
     "output_type": "stream",
     "text": [
      "rock, rgb: (95, 54, 38)\n"
     ]
    },
    {
     "data": {
      "image/png": "[encoded data removed]",
      "text/plain": [
       "<matplotlib.figure.Figure at 0x7fd077e47a58>"
      ]
     },
     "metadata": {},
     "output_type": "display_data"
    }
   ],
   "source": [
    "def predict(estimator, input_file):\n",
    "    preds = estimator.predict(input_fn=get_input_fn(input_file, 1, shuffle=False))\n",
    "    color_names = _get_csv_column(input_file, 'name')\n",
    "\n",
    "    print()\n",
    "    for p, name in zip(preds, color_names):\n",
    "        color = tuple(map(int, p * 255))\n",
    "        print(name + ',', 'rgb:', color)\n",
    "        _plot_rgb(p)\n",
    "    \n",
    "predict(estimator, MY_TEST_INPUT)"
   ]
  },
  {
   "cell_type": "markdown",
   "metadata": {},
   "source": [
    "## Pre-trained model predictions"
   ]
  },
  {
   "cell_type": "code",
   "execution_count": 14,
   "metadata": {
    "collapsed": false
   },
   "outputs": [
    {
     "name": "stdout",
     "output_type": "stream",
     "text": [
      "INFO:tensorflow:Using default config.\n",
      "INFO:tensorflow:Using config: {'_model_dir': 'pretrained', '_keep_checkpoint_every_n_hours': 10000, '_tf_random_seed': 1, '_save_summary_steps': 100, '_save_checkpoints_steps': None, '_session_config': None, '_save_checkpoints_secs': 600, '_keep_checkpoint_max': 5}\n",
      "\n",
      "WARNING:tensorflow:Input graph does not contain a QueueRunner. That means predict yields forever. This is probably a mistake.\n",
      "INFO:tensorflow:Restoring parameters from pretrained/model.ckpt-10020\n",
      "orange, rgb: (249, 89, 4)\n"
     ]
    },
    {
     "data": {
      "image/png": "[encoded data removed]",
      "text/plain": [
       "<matplotlib.figure.Figure at 0x7fd09f709160>"
      ]
     },
     "metadata": {},
     "output_type": "display_data"
    },
    {
     "name": "stdout",
     "output_type": "stream",
     "text": [
      "tensorflow orange, rgb: (243, 99, 40)\n"
     ]
    },
    {
     "data": {
      "image/png": "[encoded data removed]",
      "text/plain": [
       "<matplotlib.figure.Figure at 0x7fd09f63de10>"
      ]
     },
     "metadata": {},
     "output_type": "display_data"
    },
    {
     "name": "stdout",
     "output_type": "stream",
     "text": [
      "adfgasdgasd, rgb: (172, 152, 103)\n"
     ]
    },
    {
     "data": {
      "image/png": "[encoded data removed]",
      "text/plain": [
       "<matplotlib.figure.Figure at 0x7fd09f5a9908>"
      ]
     },
     "metadata": {},
     "output_type": "display_data"
    },
    {
     "name": "stdout",
     "output_type": "stream",
     "text": [
      "purple blue, rgb: (56, 50, 214)\n"
     ]
    },
    {
     "data": {
      "image/png": "[encoded data removed]",
      "text/plain": [
       "<matplotlib.figure.Figure at 0x7fd09fbd0fd0>"
      ]
     },
     "metadata": {},
     "output_type": "display_data"
    },
    {
     "name": "stdout",
     "output_type": "stream",
     "text": [
      "purple red, rgb: (168, 20, 69)\n"
     ]
    },
    {
     "data": {
      "image/png": "[encoded data removed]",
      "text/plain": [
       "<matplotlib.figure.Figure at 0x7fd09df23630>"
      ]
     },
     "metadata": {},
     "output_type": "display_data"
    },
    {
     "name": "stdout",
     "output_type": "stream",
     "text": [
      "purple, rgb: (133, 49, 193)\n"
     ]
    },
    {
     "data": {
      "image/png": "[encoded data removed]",
      "text/plain": [
       "<matplotlib.figure.Figure at 0x7fd09de85c88>"
      ]
     },
     "metadata": {},
     "output_type": "display_data"
    },
    {
     "name": "stdout",
     "output_type": "stream",
     "text": [
      "water, rgb: (148, 218, 240)\n"
     ]
    },
    {
     "data": {
      "image/png": "[encoded data removed]",
      "text/plain": [
       "<matplotlib.figure.Figure at 0x7fd09de61d68>"
      ]
     },
     "metadata": {},
     "output_type": "display_data"
    },
    {
     "name": "stdout",
     "output_type": "stream",
     "text": [
      "pink, rgb: (247, 123, 182)\n"
     ]
    },
    {
     "data": {
      "image/png": "[encoded data removed]",
      "text/plain": [
       "<matplotlib.figure.Figure at 0x7fd09ddc0f28>"
      ]
     },
     "metadata": {},
     "output_type": "display_data"
    },
    {
     "name": "stdout",
     "output_type": "stream",
     "text": [
      "rock, rgb: (111, 46, 57)\n"
     ]
    },
    {
     "data": {
      "image/png": "[encoded data removed]",
      "text/plain": [
       "<matplotlib.figure.Figure at 0x7fd09de8f1d0>"
      ]
     },
     "metadata": {},
     "output_type": "display_data"
    }
   ],
   "source": [
    "pre_estimator = tf.estimator.Estimator(model_dir='pretrained', model_fn=model_fn)\n",
    "predict(pre_estimator, MY_TEST_INPUT)"
   ]
  }
 ],
 "metadata": {
  "colab": {
   "default_view": {},
   "last_runtime": {
    "build_target": "//experimental/users/jamieas/transform_colab:notebook",
    "kind": "private"
   },
   "name": "Copy of CustomEstimator.ipynb",
   "provenance": [
    {
     "file_id": "0BwN-JPfIIHwgdFkwUTVIWTQwU00",
     "timestamp": 1496845355496
    }
   ],
   "version": "0.3.2",
   "views": {}
  },
  "kernelspec": {
   "display_name": "Python 3",
   "language": "python",
   "name": "python3"
  },
  "language_info": {
   "codemirror_mode": {
    "name": "ipython",
    "version": 3
   },
   "file_extension": ".py",
   "mimetype": "text/x-python",
   "name": "python",
   "nbconvert_exporter": "python",
   "pygments_lexer": "ipython3",
   "version": "3.5.2"
  }
 },
 "nbformat": 4,
 "nbformat_minor": 1
}
