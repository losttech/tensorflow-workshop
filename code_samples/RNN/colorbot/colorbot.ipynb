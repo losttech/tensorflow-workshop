{
 "cells": [
  {
   "cell_type": "markdown",
   "metadata": {},
   "source": [
    "# Colorbot\n",
    "\n",
    "**Special thanks to @MarkDaoust that helped us with this material**\n",
    "\n",
    "In order to have a better experience follow these steps:\n",
    "\n",
    "1. Just read all the notebook, try to understand what each part of the code is doing and get familiar with the implementation.\n",
    "2. For each exercise in this notebook make a copy of this notebook and try to implement what is expected. We suggest the following order for the exercises: HYPERPARAMETERS, EXPERIMENT, DATASET\n",
    "3. Troubles or doubts about the code/exercises? Ask the instructor about it or check colorbot_solutions.ipnyb for a possible implementation/instruction if available\n",
    "\n",
    "## Content of this notebook\n",
    "\n",
    "In this notebook you'll find a full implementation of a RNN model using the TensorFlow Estimators including comments and details about how to do it. \n",
    "\n",
    "Once you finish this notebook, you'll have a better understanding of:\n",
    "  * [TensorFlow Estimators](https://www.tensorflow.org/extend/estimators)\n",
    "  * [TensorFlow DataSets](https://github.com/tensorflow/tensorflow/tree/r1.2/tensorflow/contrib/data)\n",
    "  * [RNNs](http://colah.github.io/posts/2015-08-Understanding-LSTMs/)\n",
    "\n",
    "\n",
    "## What is colorbot?\n",
    "\n",
    "Colorbot is a RNN model that receives a word (sequence of characters) as input and learns to predict a rgb value that better represents this word. As a result we have a color generator!\n",
    "\n",
    "![colorbot in action](imgs/model_gif.gif)"
   ]
  },
  {
   "cell_type": "markdown",
   "metadata": {},
   "source": [
    "## Dependencies"
   ]
  },
  {
   "cell_type": "code",
   "execution_count": 26,
   "metadata": {
    "colab": {
     "autoexec": {
      "startup": false,
      "wait_interval": 0
     }
    },
    "colab_type": "code",
    "id": "mDT8S9C9CYtr"
   },
   "outputs": [
    {
     "name": "stdout",
     "output_type": "stream",
     "text": [
      "Use TensorFlow v1.2 or higher\n",
      "Your TensorFlow version: 1.2.0\n"
     ]
    }
   ],
   "source": [
    "from __future__ import absolute_import\n",
    "from __future__ import division\n",
    "from __future__ import print_function\n",
    "\n",
    "# Tensorflow\n",
    "import tensorflow as tf\n",
    "print('Use TensorFlow v1.2 or higher')\n",
    "print('Your TensorFlow version:', tf.__version__) \n",
    "\n",
    "# Feeding function for enqueue data\n",
    "from tensorflow.python.estimator.inputs.queues import feeding_functions as ff\n",
    "\n",
    "# Rnn common functions\n",
    "from tensorflow.contrib.learn.python.learn.estimators import rnn_common\n",
    "\n",
    "# Run an experiment\n",
    "from tensorflow.contrib.learn.python.learn import learn_runner\n",
    "\n",
    "# Model builder\n",
    "from tensorflow.python.estimator import model_fn as model_fn_lib\n",
    "\n",
    "# Plot images with pyplot\n",
    "%matplotlib inline\n",
    "from matplotlib import pyplot as plt\n",
    "\n",
    "# Helpers for data processing\n",
    "import pandas as pd\n",
    "import numpy as np\n",
    "import argparse"
   ]
  },
  {
   "cell_type": "markdown",
   "metadata": {},
   "source": [
    "## Parameters"
   ]
  },
  {
   "cell_type": "code",
   "execution_count": 27,
   "metadata": {
    "colab": {
     "autoexec": {
      "startup": false,
      "wait_interval": 0
     }
    },
    "colab_type": "code",
    "collapsed": true,
    "id": "UrAyWt23AtCM"
   },
   "outputs": [],
   "source": [
    "# Data files\n",
    "TRAIN_INPUT = 'data/train.csv'\n",
    "TEST_INPUT = 'data/test.csv'\n",
    "MY_TEST_INPUT = 'data/mytest.csv'\n",
    "\n",
    "# Parameters for training\n",
    "BATCH_SIZE = 64\n",
    "\n",
    "# Parameters for data processing\n",
    "VOCAB_SIZE = 256\n",
    "CHARACTERS = [chr(i) for i in range(VOCAB_SIZE)]\n",
    "SEQUENCE_LENGTH_KEY = 'sequence_length'\n",
    "COLOR_NAME_KEY = 'color_name'"
   ]
  },
  {
   "cell_type": "markdown",
   "metadata": {},
   "source": [
    "## Helper functions"
   ]
  },
  {
   "cell_type": "code",
   "execution_count": 28,
   "metadata": {
    "colab": {
     "autoexec": {
      "startup": false,
      "wait_interval": 0
     }
    },
    "colab_type": "code",
    "collapsed": true,
    "id": "0dlZ9C27M-bS"
   },
   "outputs": [],
   "source": [
    "# Returns the column values from a CSV file as a list\n",
    "def _get_csv_column(csv_file, column_name):\n",
    "    with open(csv_file, 'r') as f:\n",
    "        df = pd.read_csv(f)\n",
    "        return df[column_name].tolist()\n",
    "\n",
    "# Plots a color image\n",
    "def _plot_rgb(rgb):\n",
    "    data = [[rgb]]\n",
    "    plt.figure(figsize=(2,2))\n",
    "    plt.imshow(data, interpolation='nearest')\n",
    "    plt.show()"
   ]
  },
  {
   "cell_type": "markdown",
   "metadata": {},
   "source": [
    "## Input function\n",
    "\n",
    "Here we are defining the input pipeline using the [Dataset API](https://github.com/tensorflow/tensorflow/tree/master/tensorflow/contrib/data).\n",
    "\n",
    "One special operation that we're doing is called **group_by_window**, what this function does is to map each consecutive element in this dataset to a key using `key_func` and then groups the elements by key. It then applies `reduce_func` to at most `window_size` elements matching the same key. All except the final window for each key will contain `window_size` elements; the final window may be smaller.\n",
    "\n",
    "In the code below what we're doing is using the group_by_window to batch color names that have similar length together, this makes the code more efficient since the RNN will be unfolded (approximately) the same number of steps in each batch.\n",
    "\n",
    "![](imgs/batch_by_length.png)\n",
    "*Image from [Sequence Models and the RNN API (TensorFlow Dev Summit 2017)](https://www.youtube.com/watch?v=RIR_-Xlbp7s)*\n",
    "\n",
    "** *EXERCISE DATASET (first complete the EXERCISE EXPERIMENT: change the input function bellow so it will just use normal padded_batch instead sorting the batches. Then run each model using experiments and compare the efficiency (time, global_step/sec) using TensorBoard.\n",
    "hint: to compare the implementations using tensorboard just copy the model_dir folder of both executions to the same directory (the model dir should be different at each time you run the model) and point tensorboard to it with: tensorboard --logdir=path_to_model_dirs_par)* **"
   ]
  },
  {
   "cell_type": "code",
   "execution_count": 29,
   "metadata": {
    "collapsed": true
   },
   "outputs": [],
   "source": [
    "def get_input_fn(csv_file, batch_size, num_epochs=1, shuffle=True):\n",
    "    def _parse(line):\n",
    "        '''\n",
    "            This function will parse each line of the text,\n",
    "            returning 3 variables.\n",
    "            \n",
    "            Each line contains: name, red, green, blue separated by \",\"\n",
    "            Where:\n",
    "                name: string\n",
    "                red, green, blue: int [0, 255]\n",
    "    \n",
    "            The variables returned are:\n",
    "                color: tensor containing the rgb values normalized that represent the color name.\n",
    "                Each rgb values is an int [0, 1].\n",
    "                \n",
    "                color_name: a sequence of characters. Example: if name is \"blue\"\n",
    "                color_name will be [\"b\", \"l\", \"u\", \"e\"]\n",
    "                \n",
    "                length = len(color_name). Example: if color_name = [\"b\", \"l\", \"u\", \"e\"], then length = 4 \n",
    "        '''\n",
    "    \n",
    "        # split line\n",
    "        items = tf.string_split([line],',').values\n",
    "\n",
    "        # get 3 last values in the line that are the color rgb values\n",
    "        color = tf.string_to_number(items[1:], out_type=tf.float32) / 255.0\n",
    "\n",
    "        # split color_name (first value in the line)\n",
    "        # into a sequence of characters and calculates the length\n",
    "        color_name = tf.string_split([items[0]], '')\n",
    "        length = color_name.indices[-1, 1] + 1 # length = index of last char + 1\n",
    "        color_name = color_name.values\n",
    "        \n",
    "        return color, color_name, length\n",
    "\n",
    "    def _length_bin(length, cast_value=5, max_bin_id=10):\n",
    "        '''\n",
    "        Chooses a bin for a word given it's length.\n",
    "        The goal is to use group_by_window to group words\n",
    "        with the ~ same ~ length in the same bin.\n",
    "\n",
    "        Each bin will have the size of a batch, so it can train faster.\n",
    "        '''\n",
    "        bin_id = tf.cast(length / cast_value, dtype=tf.int64)\n",
    "        return tf.minimum(bin_id, max_bin_id)\n",
    "\n",
    "    def _pad_batch(ds, batch_size):\n",
    "        return ds.padded_batch(batch_size, \n",
    "                               padded_shapes=([None], [None], []),\n",
    "                               padding_values=(0.0, chr(0), tf.cast(0, tf.int64)))\n",
    "\n",
    "    def input_fn():\n",
    "        # https://github.com/tensorflow/tensorflow/tree/master/tensorflow/contrib/data\n",
    "        dataset = (\n",
    "            tf.contrib.data.TextLineDataset(csv_file) # reading from the HD\n",
    "            .skip(1) # skip header\n",
    "            .repeat(num_epochs) # repeat dataset the number of epochs\n",
    "            .map(_parse) # parse each line of text to variables\n",
    "            .group_by_window(key_func=lambda color, color_name, length: _length_bin(length), # choose a bin\n",
    "                             reduce_func=lambda key, ds: _pad_batch(ds, batch_size), # apply reduce funtion\n",
    "                             window_size=batch_size)\n",
    "        )\n",
    "        \n",
    "        # for our \"manual\" test we don't want to shuffle the data\n",
    "        if shuffle:\n",
    "            dataset = dataset.shuffle(buffer_size=100000)\n",
    "\n",
    "        # create iterator\n",
    "        color, color_name, length = dataset.make_one_shot_iterator().get_next()\n",
    "\n",
    "        features = {\n",
    "            COLOR_NAME_KEY: color_name,\n",
    "            SEQUENCE_LENGTH_KEY: length,\n",
    "        }\n",
    "\n",
    "        return features, color\n",
    "    return input_fn"
   ]
  },
  {
   "cell_type": "code",
   "execution_count": 30,
   "metadata": {
    "colab": {
     "autoexec": {
      "startup": false,
      "wait_interval": 0
     }
    },
    "colab_type": "code",
    "collapsed": true,
    "id": "m5UJyvW5P0Sy"
   },
   "outputs": [],
   "source": [
    "train_input_fn = get_input_fn(TRAIN_INPUT, BATCH_SIZE)\n",
    "test_input_fn = get_input_fn(TEST_INPUT, BATCH_SIZE)"
   ]
  },
  {
   "cell_type": "markdown",
   "metadata": {},
   "source": [
    "## Creating the Estimator model\n",
    "\n",
    "![](imgs/colorbot_model.png)"
   ]
  },
  {
   "cell_type": "code",
   "execution_count": 45,
   "metadata": {
    "colab": {
     "autoexec": {
      "startup": false,
      "wait_interval": 0
     }
    },
    "colab_type": "code",
    "collapsed": true,
    "id": "VxXAUrYN7TvR"
   },
   "outputs": [],
   "source": [
    "def get_model_fn(rnn_cell_sizes,\n",
    "                 label_dimension,\n",
    "                 dnn_layer_sizes=[],\n",
    "                 optimizer='SGD',\n",
    "                 learning_rate=0.01):\n",
    "    \n",
    "    def model_fn(features, labels, mode):\n",
    "        \n",
    "        color_name = features[COLOR_NAME_KEY]\n",
    "        sequence_length = tf.cast(features[SEQUENCE_LENGTH_KEY], dtype=tf.int32) # int64 -> int32\n",
    "        \n",
    "        # ----------- Preparing input --------------------\n",
    "        # Creating a tf constant to hold the characters used in the data\n",
    "        mapping = tf.constant(CHARACTERS, name=\"mapping\")\n",
    "        table = tf.contrib.lookup.index_table_from_tensor(mapping, dtype=tf.string)\n",
    "        int_color_name = table.lookup(color_name)\n",
    "        \n",
    "        # converting color names to one hot representation\n",
    "        color_name_onehot = tf.one_hot(int_color_name, depth=len(CHARACTERS) + 1)\n",
    "        \n",
    "        # ---------- RNN -------------------\n",
    "        # Each RNN layer will consist of a LSTM cell\n",
    "        rnn_layers = [tf.nn.rnn_cell.LSTMCell(size) for size in rnn_cell_sizes]\n",
    "        \n",
    "        # Construct the layers\n",
    "        multi_rnn_cell = tf.nn.rnn_cell.MultiRNNCell(rnn_layers)\n",
    "        \n",
    "        # Runs the RNN model dynamically\n",
    "        # more about it at: \n",
    "        # https://www.tensorflow.org/api_docs/python/tf/nn/dynamic_rnn\n",
    "        outputs, final_state = tf.nn.dynamic_rnn(cell=multi_rnn_cell,\n",
    "                                                 inputs=color_name_onehot,\n",
    "                                                 sequence_length=sequence_length,\n",
    "                                                 dtype=tf.float32)\n",
    "\n",
    "        # Slice to keep only the last cell of the RNN\n",
    "        last_activations = rnn_common.select_last_activations(outputs,\n",
    "                                                              sequence_length)\n",
    "\n",
    "        # ------------ Dense layers -------------------\n",
    "        # Construct dense layers on top of the last cell of the RNN\n",
    "        for units in dnn_layer_sizes:\n",
    "            last_activations = tf.layers.dense(\n",
    "              last_activations, units, activation=tf.nn.relu)\n",
    "        \n",
    "        # Final dense layer for prediction\n",
    "        predictions = tf.layers.dense(last_activations, label_dimension)\n",
    "\n",
    "        # ----------- Loss and Optimizer ----------------\n",
    "        loss = None\n",
    "        train_op = None\n",
    "\n",
    "        if mode != tf.estimator.ModeKeys.PREDICT:    \n",
    "            loss = tf.losses.mean_squared_error(labels, predictions)\n",
    "    \n",
    "        if mode == tf.estimator.ModeKeys.TRAIN:    \n",
    "            train_op = tf.contrib.layers.optimize_loss(\n",
    "              loss,\n",
    "              tf.contrib.framework.get_global_step(),\n",
    "              optimizer=optimizer,\n",
    "              learning_rate=learning_rate)\n",
    "        \n",
    "        return model_fn_lib.EstimatorSpec(mode,\n",
    "                                           predictions=predictions,\n",
    "                                           loss=loss,\n",
    "                                           train_op=train_op)\n",
    "    return model_fn"
   ]
  },
  {
   "cell_type": "markdown",
   "metadata": {},
   "source": [
    "** *EXERCISE HYPERPARAMETERS: try making changes to the model and see if you can improve the results.\n",
    "Run the original model, run yours and compare them using Tensorboard. What improvements do you see?  \n",
    "hint 0: change the type of RNNCell, maybe a GRUCell? Change the number of hidden layers, or add dnn layers.  \n",
    "hint 1: to compare the implementations using tensorboard just copy the model_dir folder of both executions to the same directory (the model dir should be different at each time you run the model) and point tensorboard to it with: tensorboard --logdir=path_to_model_dirs_par)* **"
   ]
  },
  {
   "cell_type": "code",
   "execution_count": 47,
   "metadata": {
    "colab": {
     "autoexec": {
      "startup": false,
      "wait_interval": 0
     }
    },
    "colab_type": "code",
    "id": "gUHR3Mzc7Tvb"
   },
   "outputs": [
    {
     "name": "stdout",
     "output_type": "stream",
     "text": [
      "INFO:tensorflow:Using default config.\n",
      "INFO:tensorflow:Using config: {'_save_checkpoints_secs': 600, '_session_config': None, '_keep_checkpoint_max': 5, '_tf_random_seed': 1, '_keep_checkpoint_every_n_hours': 10000, '_save_checkpoints_steps': None, '_model_dir': 'colorbot', '_save_summary_steps': 100}\n"
     ]
    }
   ],
   "source": [
    "model_fn = get_model_fn(rnn_cell_sizes=[256, 128], # size of the hidden layers\n",
    "                        label_dimension=3, # since is RGB\n",
    "                        dnn_layer_sizes=[128], # size of units in the dense layers on top of the RNN\n",
    "                        optimizer='Adam', # changing optimizer to Adam\n",
    "                        learning_rate=0.01)\n",
    "\n",
    "estimator = tf.estimator.Estimator(model_fn=model_fn, model_dir='colorbot')"
   ]
  },
  {
   "cell_type": "markdown",
   "metadata": {},
   "source": [
    "## Trainning and Evaluating\n",
    "\n",
    "** *EXERCISE EXPERIMENT: The code below works, but we can use an experiment instead. Add a cell that runs an experiment instead of interacting directly with the estimator.  \n",
    "hint 0: you'll need to change the train_input_fn definition, think about it...  \n",
    "hint 1: the change is related with the for loop* **"
   ]
  },
  {
   "cell_type": "code",
   "execution_count": 36,
   "metadata": {
    "colab": {
     "autoexec": {
      "startup": false,
      "wait_interval": 0
     }
    },
    "colab_type": "code",
    "id": "DUZEKQrdGgZE"
   },
   "outputs": [
    {
     "name": "stdout",
     "output_type": "stream",
     "text": [
      "Training epoch 0\n",
      "--------------------\n",
      "INFO:tensorflow:Create CheckpointSaverHook.\n",
      "INFO:tensorflow:Restoring parameters from colorbot/model.ckpt-1381\n",
      "INFO:tensorflow:Saving checkpoints for 1382 into colorbot/model.ckpt.\n",
      "INFO:tensorflow:loss = 0.0165094, step = 1382\n",
      "INFO:tensorflow:Saving checkpoints for 1404 into colorbot/model.ckpt.\n",
      "INFO:tensorflow:Loss for final step: 0.00569388.\n",
      "Evaluating epoch 0\n",
      "--------------------\n",
      "INFO:tensorflow:Starting evaluation at 2017-07-08-22:38:42\n",
      "INFO:tensorflow:Restoring parameters from colorbot/model.ckpt-1404\n",
      "INFO:tensorflow:Finished evaluation at 2017-07-08-22:38:42\n",
      "INFO:tensorflow:Saving dict for global step 1404: global_step = 1404, loss = 0.0637945\n",
      "Training epoch 1\n",
      "--------------------\n",
      "INFO:tensorflow:Create CheckpointSaverHook.\n",
      "INFO:tensorflow:Restoring parameters from colorbot/model.ckpt-1404\n",
      "INFO:tensorflow:Saving checkpoints for 1405 into colorbot/model.ckpt.\n",
      "INFO:tensorflow:loss = 0.0158734, step = 1405\n",
      "INFO:tensorflow:Saving checkpoints for 1427 into colorbot/model.ckpt.\n",
      "INFO:tensorflow:Loss for final step: 0.00318574.\n",
      "Evaluating epoch 1\n",
      "--------------------\n",
      "INFO:tensorflow:Starting evaluation at 2017-07-08-22:38:47\n",
      "INFO:tensorflow:Restoring parameters from colorbot/model.ckpt-1427\n",
      "INFO:tensorflow:Finished evaluation at 2017-07-08-22:38:48\n",
      "INFO:tensorflow:Saving dict for global step 1427: global_step = 1427, loss = 0.0665903\n",
      "Training epoch 2\n",
      "--------------------\n",
      "INFO:tensorflow:Create CheckpointSaverHook.\n",
      "INFO:tensorflow:Restoring parameters from colorbot/model.ckpt-1427\n",
      "INFO:tensorflow:Saving checkpoints for 1428 into colorbot/model.ckpt.\n",
      "INFO:tensorflow:loss = 0.0142296, step = 1428\n",
      "INFO:tensorflow:Saving checkpoints for 1450 into colorbot/model.ckpt.\n",
      "INFO:tensorflow:Loss for final step: 0.00401684.\n",
      "Evaluating epoch 2\n",
      "--------------------\n",
      "INFO:tensorflow:Starting evaluation at 2017-07-08-22:38:54\n",
      "INFO:tensorflow:Restoring parameters from colorbot/model.ckpt-1450\n",
      "INFO:tensorflow:Finished evaluation at 2017-07-08-22:38:54\n",
      "INFO:tensorflow:Saving dict for global step 1450: global_step = 1450, loss = 0.0707794\n",
      "Training epoch 3\n",
      "--------------------\n",
      "INFO:tensorflow:Create CheckpointSaverHook.\n",
      "INFO:tensorflow:Restoring parameters from colorbot/model.ckpt-1450\n",
      "INFO:tensorflow:Saving checkpoints for 1451 into colorbot/model.ckpt.\n",
      "INFO:tensorflow:loss = 0.0189991, step = 1451\n",
      "INFO:tensorflow:Saving checkpoints for 1473 into colorbot/model.ckpt.\n",
      "INFO:tensorflow:Loss for final step: 0.00359854.\n",
      "Evaluating epoch 3\n",
      "--------------------\n",
      "INFO:tensorflow:Starting evaluation at 2017-07-08-22:38:59\n",
      "INFO:tensorflow:Restoring parameters from colorbot/model.ckpt-1473\n",
      "INFO:tensorflow:Finished evaluation at 2017-07-08-22:38:59\n",
      "INFO:tensorflow:Saving dict for global step 1473: global_step = 1473, loss = 0.0727971\n",
      "Training epoch 4\n",
      "--------------------\n",
      "INFO:tensorflow:Create CheckpointSaverHook.\n",
      "INFO:tensorflow:Restoring parameters from colorbot/model.ckpt-1473\n",
      "INFO:tensorflow:Saving checkpoints for 1474 into colorbot/model.ckpt.\n",
      "INFO:tensorflow:loss = 0.0163917, step = 1474\n",
      "INFO:tensorflow:Saving checkpoints for 1496 into colorbot/model.ckpt.\n",
      "INFO:tensorflow:Loss for final step: 0.00188074.\n",
      "Evaluating epoch 4\n",
      "--------------------\n",
      "INFO:tensorflow:Starting evaluation at 2017-07-08-22:39:04\n",
      "INFO:tensorflow:Restoring parameters from colorbot/model.ckpt-1496\n",
      "INFO:tensorflow:Finished evaluation at 2017-07-08-22:39:04\n",
      "INFO:tensorflow:Saving dict for global step 1496: global_step = 1496, loss = 0.0905451\n",
      "Training epoch 5\n",
      "--------------------\n",
      "INFO:tensorflow:Create CheckpointSaverHook.\n",
      "INFO:tensorflow:Restoring parameters from colorbot/model.ckpt-1496\n",
      "INFO:tensorflow:Saving checkpoints for 1497 into colorbot/model.ckpt.\n",
      "INFO:tensorflow:loss = 0.0139115, step = 1497\n",
      "INFO:tensorflow:Saving checkpoints for 1519 into colorbot/model.ckpt.\n",
      "INFO:tensorflow:Loss for final step: 0.00296479.\n",
      "Evaluating epoch 5\n",
      "--------------------\n",
      "INFO:tensorflow:Starting evaluation at 2017-07-08-22:39:09\n",
      "INFO:tensorflow:Restoring parameters from colorbot/model.ckpt-1519\n",
      "INFO:tensorflow:Finished evaluation at 2017-07-08-22:39:09\n",
      "INFO:tensorflow:Saving dict for global step 1519: global_step = 1519, loss = 0.0943052\n",
      "Training epoch 6\n",
      "--------------------\n",
      "INFO:tensorflow:Create CheckpointSaverHook.\n",
      "INFO:tensorflow:Restoring parameters from colorbot/model.ckpt-1519\n",
      "INFO:tensorflow:Saving checkpoints for 1520 into colorbot/model.ckpt.\n",
      "INFO:tensorflow:loss = 0.0131195, step = 1520\n",
      "INFO:tensorflow:Saving checkpoints for 1542 into colorbot/model.ckpt.\n",
      "INFO:tensorflow:Loss for final step: 0.00201756.\n",
      "Evaluating epoch 6\n",
      "--------------------\n",
      "INFO:tensorflow:Starting evaluation at 2017-07-08-22:39:15\n",
      "INFO:tensorflow:Restoring parameters from colorbot/model.ckpt-1542\n",
      "INFO:tensorflow:Finished evaluation at 2017-07-08-22:39:16\n",
      "INFO:tensorflow:Saving dict for global step 1542: global_step = 1542, loss = 0.0753412\n",
      "Training epoch 7\n",
      "--------------------\n",
      "INFO:tensorflow:Create CheckpointSaverHook.\n",
      "INFO:tensorflow:Restoring parameters from colorbot/model.ckpt-1542\n",
      "INFO:tensorflow:Saving checkpoints for 1543 into colorbot/model.ckpt.\n",
      "INFO:tensorflow:loss = 0.0101099, step = 1543\n",
      "INFO:tensorflow:Saving checkpoints for 1565 into colorbot/model.ckpt.\n",
      "INFO:tensorflow:Loss for final step: 0.00109635.\n",
      "Evaluating epoch 7\n",
      "--------------------\n",
      "INFO:tensorflow:Starting evaluation at 2017-07-08-22:39:20\n",
      "INFO:tensorflow:Restoring parameters from colorbot/model.ckpt-1565\n",
      "INFO:tensorflow:Finished evaluation at 2017-07-08-22:39:21\n",
      "INFO:tensorflow:Saving dict for global step 1565: global_step = 1565, loss = 0.0601702\n",
      "Training epoch 8\n",
      "--------------------\n",
      "INFO:tensorflow:Create CheckpointSaverHook.\n",
      "INFO:tensorflow:Restoring parameters from colorbot/model.ckpt-1565\n",
      "INFO:tensorflow:Saving checkpoints for 1566 into colorbot/model.ckpt.\n",
      "INFO:tensorflow:loss = 0.0086827, step = 1566\n",
      "INFO:tensorflow:Saving checkpoints for 1588 into colorbot/model.ckpt.\n",
      "INFO:tensorflow:Loss for final step: 0.0012162.\n",
      "Evaluating epoch 8\n",
      "--------------------\n",
      "INFO:tensorflow:Starting evaluation at 2017-07-08-22:39:26\n",
      "INFO:tensorflow:Restoring parameters from colorbot/model.ckpt-1588\n",
      "INFO:tensorflow:Finished evaluation at 2017-07-08-22:39:26\n",
      "INFO:tensorflow:Saving dict for global step 1588: global_step = 1588, loss = 0.0540546\n",
      "Training epoch 9\n",
      "--------------------\n",
      "INFO:tensorflow:Create CheckpointSaverHook.\n",
      "INFO:tensorflow:Restoring parameters from colorbot/model.ckpt-1588\n",
      "INFO:tensorflow:Saving checkpoints for 1589 into colorbot/model.ckpt.\n",
      "INFO:tensorflow:loss = 0.0117262, step = 1589\n",
      "INFO:tensorflow:Saving checkpoints for 1611 into colorbot/model.ckpt.\n",
      "INFO:tensorflow:Loss for final step: 0.00253231.\n",
      "Evaluating epoch 9\n",
      "--------------------\n",
      "INFO:tensorflow:Starting evaluation at 2017-07-08-22:39:31\n",
      "INFO:tensorflow:Restoring parameters from colorbot/model.ckpt-1611\n",
      "INFO:tensorflow:Finished evaluation at 2017-07-08-22:39:31\n",
      "INFO:tensorflow:Saving dict for global step 1611: global_step = 1611, loss = 0.0598507\n",
      "Training epoch 10\n",
      "--------------------\n",
      "INFO:tensorflow:Create CheckpointSaverHook.\n",
      "INFO:tensorflow:Restoring parameters from colorbot/model.ckpt-1611\n",
      "INFO:tensorflow:Saving checkpoints for 1612 into colorbot/model.ckpt.\n",
      "INFO:tensorflow:loss = 0.0189293, step = 1612\n",
      "INFO:tensorflow:Saving checkpoints for 1634 into colorbot/model.ckpt.\n",
      "INFO:tensorflow:Loss for final step: 0.00197189.\n",
      "Evaluating epoch 10\n",
      "--------------------\n",
      "INFO:tensorflow:Starting evaluation at 2017-07-08-22:39:36\n",
      "INFO:tensorflow:Restoring parameters from colorbot/model.ckpt-1634\n",
      "INFO:tensorflow:Finished evaluation at 2017-07-08-22:39:36\n",
      "INFO:tensorflow:Saving dict for global step 1634: global_step = 1634, loss = 0.0584386\n",
      "Training epoch 11\n",
      "--------------------\n",
      "INFO:tensorflow:Create CheckpointSaverHook.\n",
      "INFO:tensorflow:Restoring parameters from colorbot/model.ckpt-1634\n",
      "INFO:tensorflow:Saving checkpoints for 1635 into colorbot/model.ckpt.\n",
      "INFO:tensorflow:loss = 0.0103366, step = 1635\n",
      "INFO:tensorflow:Saving checkpoints for 1657 into colorbot/model.ckpt.\n",
      "INFO:tensorflow:Loss for final step: 0.00403985.\n",
      "Evaluating epoch 11\n",
      "--------------------\n",
      "INFO:tensorflow:Starting evaluation at 2017-07-08-22:39:41\n",
      "INFO:tensorflow:Restoring parameters from colorbot/model.ckpt-1657\n"
     ]
    },
    {
     "name": "stdout",
     "output_type": "stream",
     "text": [
      "INFO:tensorflow:Finished evaluation at 2017-07-08-22:39:42\n",
      "INFO:tensorflow:Saving dict for global step 1657: global_step = 1657, loss = 0.0679379\n",
      "Training epoch 12\n",
      "--------------------\n",
      "INFO:tensorflow:Create CheckpointSaverHook.\n",
      "INFO:tensorflow:Restoring parameters from colorbot/model.ckpt-1657\n",
      "INFO:tensorflow:Saving checkpoints for 1658 into colorbot/model.ckpt.\n",
      "INFO:tensorflow:loss = 0.0180977, step = 1658\n",
      "INFO:tensorflow:Saving checkpoints for 1680 into colorbot/model.ckpt.\n",
      "INFO:tensorflow:Loss for final step: 0.00222656.\n",
      "Evaluating epoch 12\n",
      "--------------------\n",
      "INFO:tensorflow:Starting evaluation at 2017-07-08-22:39:46\n",
      "INFO:tensorflow:Restoring parameters from colorbot/model.ckpt-1680\n",
      "INFO:tensorflow:Finished evaluation at 2017-07-08-22:39:47\n",
      "INFO:tensorflow:Saving dict for global step 1680: global_step = 1680, loss = 0.0824235\n",
      "Training epoch 13\n",
      "--------------------\n",
      "INFO:tensorflow:Create CheckpointSaverHook.\n",
      "INFO:tensorflow:Restoring parameters from colorbot/model.ckpt-1680\n",
      "INFO:tensorflow:Saving checkpoints for 1681 into colorbot/model.ckpt.\n",
      "INFO:tensorflow:loss = 0.0191736, step = 1681\n",
      "INFO:tensorflow:Saving checkpoints for 1703 into colorbot/model.ckpt.\n",
      "INFO:tensorflow:Loss for final step: 0.00321273.\n",
      "Evaluating epoch 13\n",
      "--------------------\n",
      "INFO:tensorflow:Starting evaluation at 2017-07-08-22:39:52\n",
      "INFO:tensorflow:Restoring parameters from colorbot/model.ckpt-1703\n",
      "INFO:tensorflow:Finished evaluation at 2017-07-08-22:39:52\n",
      "INFO:tensorflow:Saving dict for global step 1703: global_step = 1703, loss = 0.0713647\n",
      "Training epoch 14\n",
      "--------------------\n",
      "INFO:tensorflow:Create CheckpointSaverHook.\n",
      "INFO:tensorflow:Restoring parameters from colorbot/model.ckpt-1703\n",
      "INFO:tensorflow:Saving checkpoints for 1704 into colorbot/model.ckpt.\n",
      "INFO:tensorflow:loss = 0.00985775, step = 1704\n",
      "INFO:tensorflow:Saving checkpoints for 1726 into colorbot/model.ckpt.\n",
      "INFO:tensorflow:Loss for final step: 0.00177918.\n",
      "Evaluating epoch 14\n",
      "--------------------\n",
      "INFO:tensorflow:Starting evaluation at 2017-07-08-22:39:57\n",
      "INFO:tensorflow:Restoring parameters from colorbot/model.ckpt-1726\n",
      "INFO:tensorflow:Finished evaluation at 2017-07-08-22:39:57\n",
      "INFO:tensorflow:Saving dict for global step 1726: global_step = 1726, loss = 0.0527267\n",
      "Training epoch 15\n",
      "--------------------\n",
      "INFO:tensorflow:Create CheckpointSaverHook.\n",
      "INFO:tensorflow:Restoring parameters from colorbot/model.ckpt-1726\n",
      "INFO:tensorflow:Saving checkpoints for 1727 into colorbot/model.ckpt.\n",
      "INFO:tensorflow:loss = 0.00979857, step = 1727\n",
      "INFO:tensorflow:Saving checkpoints for 1749 into colorbot/model.ckpt.\n",
      "INFO:tensorflow:Loss for final step: 0.000807603.\n",
      "Evaluating epoch 15\n",
      "--------------------\n",
      "INFO:tensorflow:Starting evaluation at 2017-07-08-22:40:03\n",
      "INFO:tensorflow:Restoring parameters from colorbot/model.ckpt-1749\n",
      "INFO:tensorflow:Finished evaluation at 2017-07-08-22:40:03\n",
      "INFO:tensorflow:Saving dict for global step 1749: global_step = 1749, loss = 0.053175\n",
      "Training epoch 16\n",
      "--------------------\n",
      "INFO:tensorflow:Create CheckpointSaverHook.\n",
      "INFO:tensorflow:Restoring parameters from colorbot/model.ckpt-1749\n",
      "INFO:tensorflow:Saving checkpoints for 1750 into colorbot/model.ckpt.\n",
      "INFO:tensorflow:loss = 6.79833, step = 1750\n",
      "INFO:tensorflow:Saving checkpoints for 1772 into colorbot/model.ckpt.\n",
      "INFO:tensorflow:Loss for final step: 0.0883046.\n",
      "Evaluating epoch 16\n",
      "--------------------\n",
      "INFO:tensorflow:Starting evaluation at 2017-07-08-22:40:08\n",
      "INFO:tensorflow:Restoring parameters from colorbot/model.ckpt-1772\n",
      "INFO:tensorflow:Finished evaluation at 2017-07-08-22:40:08\n",
      "INFO:tensorflow:Saving dict for global step 1772: global_step = 1772, loss = 0.0910235\n",
      "Training epoch 17\n",
      "--------------------\n",
      "INFO:tensorflow:Create CheckpointSaverHook.\n",
      "INFO:tensorflow:Restoring parameters from colorbot/model.ckpt-1772\n",
      "INFO:tensorflow:Saving checkpoints for 1773 into colorbot/model.ckpt.\n",
      "INFO:tensorflow:loss = 0.104514, step = 1773\n",
      "INFO:tensorflow:Saving checkpoints for 1795 into colorbot/model.ckpt.\n",
      "INFO:tensorflow:Loss for final step: 0.0654753.\n",
      "Evaluating epoch 17\n",
      "--------------------\n",
      "INFO:tensorflow:Starting evaluation at 2017-07-08-22:40:13\n",
      "INFO:tensorflow:Restoring parameters from colorbot/model.ckpt-1795\n",
      "INFO:tensorflow:Finished evaluation at 2017-07-08-22:40:13\n",
      "INFO:tensorflow:Saving dict for global step 1795: global_step = 1795, loss = 0.0946405\n",
      "Training epoch 18\n",
      "--------------------\n",
      "INFO:tensorflow:Create CheckpointSaverHook.\n",
      "INFO:tensorflow:Restoring parameters from colorbot/model.ckpt-1795\n",
      "INFO:tensorflow:Saving checkpoints for 1796 into colorbot/model.ckpt.\n",
      "INFO:tensorflow:loss = 0.106346, step = 1796\n",
      "INFO:tensorflow:Saving checkpoints for 1818 into colorbot/model.ckpt.\n",
      "INFO:tensorflow:Loss for final step: 0.0766245.\n",
      "Evaluating epoch 18\n",
      "--------------------\n",
      "INFO:tensorflow:Starting evaluation at 2017-07-08-22:40:18\n",
      "INFO:tensorflow:Restoring parameters from colorbot/model.ckpt-1818\n",
      "INFO:tensorflow:Finished evaluation at 2017-07-08-22:40:18\n",
      "INFO:tensorflow:Saving dict for global step 1818: global_step = 1818, loss = 0.0996569\n",
      "Training epoch 19\n",
      "--------------------\n",
      "INFO:tensorflow:Create CheckpointSaverHook.\n",
      "INFO:tensorflow:Restoring parameters from colorbot/model.ckpt-1818\n",
      "INFO:tensorflow:Saving checkpoints for 1819 into colorbot/model.ckpt.\n",
      "INFO:tensorflow:loss = 0.100114, step = 1819\n",
      "INFO:tensorflow:Saving checkpoints for 1841 into colorbot/model.ckpt.\n",
      "INFO:tensorflow:Loss for final step: 0.0831799.\n",
      "Evaluating epoch 19\n",
      "--------------------\n",
      "INFO:tensorflow:Starting evaluation at 2017-07-08-22:40:27\n",
      "INFO:tensorflow:Restoring parameters from colorbot/model.ckpt-1841\n",
      "INFO:tensorflow:Finished evaluation at 2017-07-08-22:40:27\n",
      "INFO:tensorflow:Saving dict for global step 1841: global_step = 1841, loss = 0.0945658\n",
      "Training epoch 20\n",
      "--------------------\n",
      "INFO:tensorflow:Create CheckpointSaverHook.\n",
      "INFO:tensorflow:Restoring parameters from colorbot/model.ckpt-1841\n",
      "INFO:tensorflow:Saving checkpoints for 1842 into colorbot/model.ckpt.\n",
      "INFO:tensorflow:loss = 0.0951005, step = 1842\n",
      "INFO:tensorflow:Saving checkpoints for 1864 into colorbot/model.ckpt.\n",
      "INFO:tensorflow:Loss for final step: 0.0785651.\n",
      "Evaluating epoch 20\n",
      "--------------------\n",
      "INFO:tensorflow:Starting evaluation at 2017-07-08-22:40:33\n",
      "INFO:tensorflow:Restoring parameters from colorbot/model.ckpt-1864\n",
      "INFO:tensorflow:Finished evaluation at 2017-07-08-22:40:33\n",
      "INFO:tensorflow:Saving dict for global step 1864: global_step = 1864, loss = 0.0774367\n",
      "Training epoch 21\n",
      "--------------------\n",
      "INFO:tensorflow:Create CheckpointSaverHook.\n",
      "INFO:tensorflow:Restoring parameters from colorbot/model.ckpt-1864\n",
      "INFO:tensorflow:Saving checkpoints for 1865 into colorbot/model.ckpt.\n",
      "INFO:tensorflow:loss = 0.0943607, step = 1865\n",
      "INFO:tensorflow:Saving checkpoints for 1887 into colorbot/model.ckpt.\n",
      "INFO:tensorflow:Loss for final step: 0.0643739.\n",
      "Evaluating epoch 21\n",
      "--------------------\n",
      "INFO:tensorflow:Starting evaluation at 2017-07-08-22:40:39\n",
      "INFO:tensorflow:Restoring parameters from colorbot/model.ckpt-1887\n",
      "INFO:tensorflow:Finished evaluation at 2017-07-08-22:40:39\n",
      "INFO:tensorflow:Saving dict for global step 1887: global_step = 1887, loss = 0.0805664\n",
      "Training epoch 22\n",
      "--------------------\n",
      "INFO:tensorflow:Create CheckpointSaverHook.\n",
      "INFO:tensorflow:Restoring parameters from colorbot/model.ckpt-1887\n",
      "INFO:tensorflow:Saving checkpoints for 1888 into colorbot/model.ckpt.\n",
      "INFO:tensorflow:loss = 0.0921569, step = 1888\n",
      "INFO:tensorflow:Saving checkpoints for 1910 into colorbot/model.ckpt.\n",
      "INFO:tensorflow:Loss for final step: 0.0529737.\n",
      "Evaluating epoch 22\n",
      "--------------------\n",
      "INFO:tensorflow:Starting evaluation at 2017-07-08-22:40:46\n",
      "INFO:tensorflow:Restoring parameters from colorbot/model.ckpt-1910\n",
      "INFO:tensorflow:Finished evaluation at 2017-07-08-22:40:46\n",
      "INFO:tensorflow:Saving dict for global step 1910: global_step = 1910, loss = 0.0871821\n",
      "Training epoch 23\n",
      "--------------------\n",
      "INFO:tensorflow:Create CheckpointSaverHook.\n",
      "INFO:tensorflow:Restoring parameters from colorbot/model.ckpt-1910\n",
      "INFO:tensorflow:Saving checkpoints for 1911 into colorbot/model.ckpt.\n",
      "INFO:tensorflow:loss = 0.0919935, step = 1911\n",
      "INFO:tensorflow:Saving checkpoints for 1933 into colorbot/model.ckpt.\n",
      "INFO:tensorflow:Loss for final step: 0.0386864.\n"
     ]
    },
    {
     "name": "stdout",
     "output_type": "stream",
     "text": [
      "Evaluating epoch 23\n",
      "--------------------\n",
      "INFO:tensorflow:Starting evaluation at 2017-07-08-22:40:53\n",
      "INFO:tensorflow:Restoring parameters from colorbot/model.ckpt-1933\n",
      "INFO:tensorflow:Finished evaluation at 2017-07-08-22:40:54\n",
      "INFO:tensorflow:Saving dict for global step 1933: global_step = 1933, loss = 0.0826303\n",
      "Training epoch 24\n",
      "--------------------\n",
      "INFO:tensorflow:Create CheckpointSaverHook.\n",
      "INFO:tensorflow:Restoring parameters from colorbot/model.ckpt-1933\n",
      "INFO:tensorflow:Saving checkpoints for 1934 into colorbot/model.ckpt.\n",
      "INFO:tensorflow:loss = 0.0840174, step = 1934\n",
      "INFO:tensorflow:Saving checkpoints for 1956 into colorbot/model.ckpt.\n",
      "INFO:tensorflow:Loss for final step: 0.0219377.\n",
      "Evaluating epoch 24\n",
      "--------------------\n",
      "INFO:tensorflow:Starting evaluation at 2017-07-08-22:41:00\n",
      "INFO:tensorflow:Restoring parameters from colorbot/model.ckpt-1956\n",
      "INFO:tensorflow:Finished evaluation at 2017-07-08-22:41:00\n",
      "INFO:tensorflow:Saving dict for global step 1956: global_step = 1956, loss = 0.0831427\n",
      "Training epoch 25\n",
      "--------------------\n",
      "INFO:tensorflow:Create CheckpointSaverHook.\n",
      "INFO:tensorflow:Restoring parameters from colorbot/model.ckpt-1956\n",
      "INFO:tensorflow:Saving checkpoints for 1957 into colorbot/model.ckpt.\n",
      "INFO:tensorflow:loss = 0.0811818, step = 1957\n",
      "INFO:tensorflow:Saving checkpoints for 1979 into colorbot/model.ckpt.\n",
      "INFO:tensorflow:Loss for final step: 0.0104229.\n",
      "Evaluating epoch 25\n",
      "--------------------\n",
      "INFO:tensorflow:Starting evaluation at 2017-07-08-22:41:05\n",
      "INFO:tensorflow:Restoring parameters from colorbot/model.ckpt-1979\n",
      "INFO:tensorflow:Finished evaluation at 2017-07-08-22:41:06\n",
      "INFO:tensorflow:Saving dict for global step 1979: global_step = 1979, loss = 0.0798853\n",
      "Training epoch 26\n",
      "--------------------\n",
      "INFO:tensorflow:Create CheckpointSaverHook.\n",
      "INFO:tensorflow:Restoring parameters from colorbot/model.ckpt-1979\n",
      "INFO:tensorflow:Saving checkpoints for 1980 into colorbot/model.ckpt.\n",
      "INFO:tensorflow:loss = 0.07383, step = 1980\n",
      "INFO:tensorflow:Saving checkpoints for 2002 into colorbot/model.ckpt.\n",
      "INFO:tensorflow:Loss for final step: 0.00902009.\n",
      "Evaluating epoch 26\n",
      "--------------------\n",
      "INFO:tensorflow:Starting evaluation at 2017-07-08-22:41:12\n",
      "INFO:tensorflow:Restoring parameters from colorbot/model.ckpt-2002\n",
      "INFO:tensorflow:Finished evaluation at 2017-07-08-22:41:12\n",
      "INFO:tensorflow:Saving dict for global step 2002: global_step = 2002, loss = 0.07984\n",
      "Training epoch 27\n",
      "--------------------\n",
      "INFO:tensorflow:Create CheckpointSaverHook.\n",
      "INFO:tensorflow:Restoring parameters from colorbot/model.ckpt-2002\n",
      "INFO:tensorflow:Saving checkpoints for 2003 into colorbot/model.ckpt.\n",
      "INFO:tensorflow:loss = 0.0766028, step = 2003\n",
      "INFO:tensorflow:Saving checkpoints for 2025 into colorbot/model.ckpt.\n",
      "INFO:tensorflow:Loss for final step: 0.024311.\n",
      "Evaluating epoch 27\n",
      "--------------------\n",
      "INFO:tensorflow:Starting evaluation at 2017-07-08-22:41:17\n",
      "INFO:tensorflow:Restoring parameters from colorbot/model.ckpt-2025\n",
      "INFO:tensorflow:Finished evaluation at 2017-07-08-22:41:17\n",
      "INFO:tensorflow:Saving dict for global step 2025: global_step = 2025, loss = 0.0845618\n",
      "Training epoch 28\n",
      "--------------------\n",
      "INFO:tensorflow:Create CheckpointSaverHook.\n",
      "INFO:tensorflow:Restoring parameters from colorbot/model.ckpt-2025\n",
      "INFO:tensorflow:Saving checkpoints for 2026 into colorbot/model.ckpt.\n",
      "INFO:tensorflow:loss = 0.0697323, step = 2026\n",
      "INFO:tensorflow:Saving checkpoints for 2048 into colorbot/model.ckpt.\n",
      "INFO:tensorflow:Loss for final step: 0.0137942.\n",
      "Evaluating epoch 28\n",
      "--------------------\n",
      "INFO:tensorflow:Starting evaluation at 2017-07-08-22:41:29\n",
      "INFO:tensorflow:Restoring parameters from colorbot/model.ckpt-2048\n",
      "INFO:tensorflow:Finished evaluation at 2017-07-08-22:41:29\n",
      "INFO:tensorflow:Saving dict for global step 2048: global_step = 2048, loss = 0.0806277\n",
      "Training epoch 29\n",
      "--------------------\n",
      "INFO:tensorflow:Create CheckpointSaverHook.\n",
      "INFO:tensorflow:Restoring parameters from colorbot/model.ckpt-2048\n",
      "INFO:tensorflow:Saving checkpoints for 2049 into colorbot/model.ckpt.\n",
      "INFO:tensorflow:loss = 0.0640129, step = 2049\n",
      "INFO:tensorflow:Saving checkpoints for 2071 into colorbot/model.ckpt.\n",
      "INFO:tensorflow:Loss for final step: 0.0180459.\n",
      "Evaluating epoch 29\n",
      "--------------------\n",
      "INFO:tensorflow:Starting evaluation at 2017-07-08-22:41:35\n",
      "INFO:tensorflow:Restoring parameters from colorbot/model.ckpt-2071\n",
      "INFO:tensorflow:Finished evaluation at 2017-07-08-22:41:35\n",
      "INFO:tensorflow:Saving dict for global step 2071: global_step = 2071, loss = 0.0727009\n",
      "Training epoch 30\n",
      "--------------------\n",
      "INFO:tensorflow:Create CheckpointSaverHook.\n",
      "INFO:tensorflow:Restoring parameters from colorbot/model.ckpt-2071\n",
      "INFO:tensorflow:Saving checkpoints for 2072 into colorbot/model.ckpt.\n",
      "INFO:tensorflow:loss = 0.0633928, step = 2072\n",
      "INFO:tensorflow:Saving checkpoints for 2094 into colorbot/model.ckpt.\n",
      "INFO:tensorflow:Loss for final step: 0.000413578.\n",
      "Evaluating epoch 30\n",
      "--------------------\n",
      "INFO:tensorflow:Starting evaluation at 2017-07-08-22:41:41\n",
      "INFO:tensorflow:Restoring parameters from colorbot/model.ckpt-2094\n",
      "INFO:tensorflow:Finished evaluation at 2017-07-08-22:41:42\n",
      "INFO:tensorflow:Saving dict for global step 2094: global_step = 2094, loss = 0.0869119\n",
      "Training epoch 31\n",
      "--------------------\n",
      "INFO:tensorflow:Create CheckpointSaverHook.\n",
      "INFO:tensorflow:Restoring parameters from colorbot/model.ckpt-2094\n",
      "INFO:tensorflow:Saving checkpoints for 2095 into colorbot/model.ckpt.\n",
      "INFO:tensorflow:loss = 0.0634992, step = 2095\n",
      "INFO:tensorflow:Saving checkpoints for 2117 into colorbot/model.ckpt.\n",
      "INFO:tensorflow:Loss for final step: 0.000620235.\n",
      "Evaluating epoch 31\n",
      "--------------------\n",
      "INFO:tensorflow:Starting evaluation at 2017-07-08-22:41:47\n",
      "INFO:tensorflow:Restoring parameters from colorbot/model.ckpt-2117\n",
      "INFO:tensorflow:Finished evaluation at 2017-07-08-22:41:47\n",
      "INFO:tensorflow:Saving dict for global step 2117: global_step = 2117, loss = 0.0786031\n",
      "Training epoch 32\n",
      "--------------------\n",
      "INFO:tensorflow:Create CheckpointSaverHook.\n",
      "INFO:tensorflow:Restoring parameters from colorbot/model.ckpt-2117\n",
      "INFO:tensorflow:Saving checkpoints for 2118 into colorbot/model.ckpt.\n",
      "INFO:tensorflow:loss = 0.0530672, step = 2118\n",
      "INFO:tensorflow:Saving checkpoints for 2140 into colorbot/model.ckpt.\n",
      "INFO:tensorflow:Loss for final step: 0.00331294.\n",
      "Evaluating epoch 32\n",
      "--------------------\n",
      "INFO:tensorflow:Starting evaluation at 2017-07-08-22:41:52\n",
      "INFO:tensorflow:Restoring parameters from colorbot/model.ckpt-2140\n",
      "INFO:tensorflow:Finished evaluation at 2017-07-08-22:41:53\n",
      "INFO:tensorflow:Saving dict for global step 2140: global_step = 2140, loss = 0.0836149\n",
      "Training epoch 33\n",
      "--------------------\n",
      "INFO:tensorflow:Create CheckpointSaverHook.\n",
      "INFO:tensorflow:Restoring parameters from colorbot/model.ckpt-2140\n",
      "INFO:tensorflow:Saving checkpoints for 2141 into colorbot/model.ckpt.\n",
      "INFO:tensorflow:loss = 0.0512465, step = 2141\n",
      "INFO:tensorflow:Saving checkpoints for 2163 into colorbot/model.ckpt.\n",
      "INFO:tensorflow:Loss for final step: 0.0150481.\n",
      "Evaluating epoch 33\n",
      "--------------------\n",
      "INFO:tensorflow:Starting evaluation at 2017-07-08-22:41:58\n",
      "INFO:tensorflow:Restoring parameters from colorbot/model.ckpt-2163\n",
      "INFO:tensorflow:Finished evaluation at 2017-07-08-22:41:58\n",
      "INFO:tensorflow:Saving dict for global step 2163: global_step = 2163, loss = 0.0747601\n",
      "Training epoch 34\n",
      "--------------------\n",
      "INFO:tensorflow:Create CheckpointSaverHook.\n",
      "INFO:tensorflow:Restoring parameters from colorbot/model.ckpt-2163\n",
      "INFO:tensorflow:Saving checkpoints for 2164 into colorbot/model.ckpt.\n",
      "INFO:tensorflow:loss = 0.0481319, step = 2164\n",
      "INFO:tensorflow:Saving checkpoints for 2186 into colorbot/model.ckpt.\n",
      "INFO:tensorflow:Loss for final step: 0.0149724.\n",
      "Evaluating epoch 34\n",
      "--------------------\n",
      "INFO:tensorflow:Starting evaluation at 2017-07-08-22:42:08\n",
      "INFO:tensorflow:Restoring parameters from colorbot/model.ckpt-2186\n",
      "INFO:tensorflow:Finished evaluation at 2017-07-08-22:42:09\n",
      "INFO:tensorflow:Saving dict for global step 2186: global_step = 2186, loss = 0.0902184\n",
      "Training epoch 35\n",
      "--------------------\n",
      "INFO:tensorflow:Create CheckpointSaverHook.\n",
      "INFO:tensorflow:Restoring parameters from colorbot/model.ckpt-2186\n",
      "INFO:tensorflow:Saving checkpoints for 2187 into colorbot/model.ckpt.\n"
     ]
    },
    {
     "name": "stdout",
     "output_type": "stream",
     "text": [
      "INFO:tensorflow:loss = 0.0471903, step = 2187\n",
      "INFO:tensorflow:Saving checkpoints for 2209 into colorbot/model.ckpt.\n",
      "INFO:tensorflow:Loss for final step: 0.00313982.\n",
      "Evaluating epoch 35\n",
      "--------------------\n",
      "INFO:tensorflow:Starting evaluation at 2017-07-08-22:42:14\n",
      "INFO:tensorflow:Restoring parameters from colorbot/model.ckpt-2209\n",
      "INFO:tensorflow:Finished evaluation at 2017-07-08-22:42:14\n",
      "INFO:tensorflow:Saving dict for global step 2209: global_step = 2209, loss = 0.0879443\n",
      "Training epoch 36\n",
      "--------------------\n",
      "INFO:tensorflow:Create CheckpointSaverHook.\n",
      "INFO:tensorflow:Restoring parameters from colorbot/model.ckpt-2209\n",
      "INFO:tensorflow:Saving checkpoints for 2210 into colorbot/model.ckpt.\n",
      "INFO:tensorflow:loss = 0.0427003, step = 2210\n",
      "INFO:tensorflow:Saving checkpoints for 2232 into colorbot/model.ckpt.\n",
      "INFO:tensorflow:Loss for final step: 0.000384435.\n",
      "Evaluating epoch 36\n",
      "--------------------\n",
      "INFO:tensorflow:Starting evaluation at 2017-07-08-22:42:19\n",
      "INFO:tensorflow:Restoring parameters from colorbot/model.ckpt-2232\n",
      "INFO:tensorflow:Finished evaluation at 2017-07-08-22:42:20\n",
      "INFO:tensorflow:Saving dict for global step 2232: global_step = 2232, loss = 0.0769831\n",
      "Training epoch 37\n",
      "--------------------\n",
      "INFO:tensorflow:Create CheckpointSaverHook.\n",
      "INFO:tensorflow:Restoring parameters from colorbot/model.ckpt-2232\n",
      "INFO:tensorflow:Saving checkpoints for 2233 into colorbot/model.ckpt.\n",
      "INFO:tensorflow:loss = 0.0396498, step = 2233\n",
      "INFO:tensorflow:Saving checkpoints for 2255 into colorbot/model.ckpt.\n",
      "INFO:tensorflow:Loss for final step: 0.0025502.\n",
      "Evaluating epoch 37\n",
      "--------------------\n",
      "INFO:tensorflow:Starting evaluation at 2017-07-08-22:42:25\n",
      "INFO:tensorflow:Restoring parameters from colorbot/model.ckpt-2255\n",
      "INFO:tensorflow:Finished evaluation at 2017-07-08-22:42:25\n",
      "INFO:tensorflow:Saving dict for global step 2255: global_step = 2255, loss = 0.0761027\n",
      "Training epoch 38\n",
      "--------------------\n",
      "INFO:tensorflow:Create CheckpointSaverHook.\n",
      "INFO:tensorflow:Restoring parameters from colorbot/model.ckpt-2255\n",
      "INFO:tensorflow:Saving checkpoints for 2256 into colorbot/model.ckpt.\n",
      "INFO:tensorflow:loss = 0.0399452, step = 2256\n",
      "INFO:tensorflow:Saving checkpoints for 2278 into colorbot/model.ckpt.\n",
      "INFO:tensorflow:Loss for final step: 0.0153463.\n",
      "Evaluating epoch 38\n",
      "--------------------\n",
      "INFO:tensorflow:Starting evaluation at 2017-07-08-22:42:30\n",
      "INFO:tensorflow:Restoring parameters from colorbot/model.ckpt-2278\n",
      "INFO:tensorflow:Finished evaluation at 2017-07-08-22:42:30\n",
      "INFO:tensorflow:Saving dict for global step 2278: global_step = 2278, loss = 0.0861692\n",
      "Training epoch 39\n",
      "--------------------\n",
      "INFO:tensorflow:Create CheckpointSaverHook.\n",
      "INFO:tensorflow:Restoring parameters from colorbot/model.ckpt-2278\n",
      "INFO:tensorflow:Saving checkpoints for 2279 into colorbot/model.ckpt.\n",
      "INFO:tensorflow:loss = 0.0390593, step = 2279\n",
      "INFO:tensorflow:Saving checkpoints for 2301 into colorbot/model.ckpt.\n",
      "INFO:tensorflow:Loss for final step: 0.0005621.\n",
      "Evaluating epoch 39\n",
      "--------------------\n",
      "INFO:tensorflow:Starting evaluation at 2017-07-08-22:42:35\n",
      "INFO:tensorflow:Restoring parameters from colorbot/model.ckpt-2301\n",
      "INFO:tensorflow:Finished evaluation at 2017-07-08-22:42:35\n",
      "INFO:tensorflow:Saving dict for global step 2301: global_step = 2301, loss = 0.0760995\n"
     ]
    }
   ],
   "source": [
    "NUM_EPOCHS = 40\n",
    "for i in range(NUM_EPOCHS):\n",
    "    print('Training epoch %d' % i)\n",
    "    print('-' * 20)\n",
    "    estimator.train(input_fn=train_input_fn)\n",
    "    print('Evaluating epoch %d' % i)\n",
    "    print('-' * 20)\n",
    "    estimator.evaluate(input_fn = test_input_fn)"
   ]
  },
  {
   "cell_type": "markdown",
   "metadata": {},
   "source": [
    "## Making Predictions"
   ]
  },
  {
   "cell_type": "code",
   "execution_count": 37,
   "metadata": {
    "collapsed": true
   },
   "outputs": [],
   "source": [
    "def predict(estimator, input_file):\n",
    "    preds = estimator.predict(input_fn=get_input_fn(input_file, 1, shuffle=False))\n",
    "    color_names = _get_csv_column(input_file, 'name')\n",
    "\n",
    "    print()\n",
    "    for p, name in zip(preds, color_names):\n",
    "        color = tuple(map(int, p * 255))\n",
    "        print(name + ',', 'rgb:', color)\n",
    "        _plot_rgb(p)"
   ]
  },
  {
   "cell_type": "code",
   "execution_count": 40,
   "metadata": {},
   "outputs": [
    {
     "name": "stdout",
     "output_type": "stream",
     "text": [
      "\n",
      "WARNING:tensorflow:Input graph does not contain a QueueRunner. That means predict yields forever. This is probably a mistake.\n",
      "INFO:tensorflow:Restoring parameters from colorbot/model.ckpt-2301\n",
      "orange, rgb: (219, 68, 53)\n"
     ]
    },
    {
     "data": {
      "image/png": "[encoded data removed]",
      "text/plain": [
       "<matplotlib.figure.Figure at 0x7f02b6475b50>"
      ]
     },
     "metadata": {},
     "output_type": "display_data"
    },
    {
     "name": "stdout",
     "output_type": "stream",
     "text": [
      "tensorflow orange, rgb: (242, 115, 18)\n"
     ]
    },
    {
     "data": {
      "image/png": "[encoded data removed]",
      "text/plain": [
       "<matplotlib.figure.Figure at 0x7f02b6e07f10>"
      ]
     },
     "metadata": {},
     "output_type": "display_data"
    },
    {
     "name": "stdout",
     "output_type": "stream",
     "text": [
      "adfgasdgasd, rgb: (135, 181, 185)\n"
     ]
    },
    {
     "data": {
      "image/png": "[encoded data removed]",
      "text/plain": [
       "<matplotlib.figure.Figure at 0x7f02b6d30590>"
      ]
     },
     "metadata": {},
     "output_type": "display_data"
    },
    {
     "name": "stdout",
     "output_type": "stream",
     "text": [
      "purple blue, rgb: (56, 140, 191)\n"
     ]
    },
    {
     "data": {
      "image/png": "[encoded data removed]",
      "text/plain": [
       "<matplotlib.figure.Figure at 0x7f02b6ccf050>"
      ]
     },
     "metadata": {},
     "output_type": "display_data"
    },
    {
     "name": "stdout",
     "output_type": "stream",
     "text": [
      "purple red, rgb: (192, 26, 51)\n"
     ]
    },
    {
     "data": {
      "image/png": "[encoded data removed]",
      "text/plain": [
       "<matplotlib.figure.Figure at 0x7f02b6bed350>"
      ]
     },
     "metadata": {},
     "output_type": "display_data"
    },
    {
     "name": "stdout",
     "output_type": "stream",
     "text": [
      "purple, rgb: (80, 61, 118)\n"
     ]
    },
    {
     "data": {
      "image/png": "[encoded data removed]",
      "text/plain": [
       "<matplotlib.figure.Figure at 0x7f02b6b87250>"
      ]
     },
     "metadata": {},
     "output_type": "display_data"
    },
    {
     "name": "stdout",
     "output_type": "stream",
     "text": [
      "water, rgb: (186, 113, 65)\n"
     ]
    },
    {
     "data": {
      "image/png": "[encoded data removed]",
      "text/plain": [
       "<matplotlib.figure.Figure at 0x7f02b6b1db10>"
      ]
     },
     "metadata": {},
     "output_type": "display_data"
    },
    {
     "name": "stdout",
     "output_type": "stream",
     "text": [
      "pink, rgb: (238, 189, 224)\n"
     ]
    },
    {
     "data": {
      "image/png": "[encoded data removed]",
      "text/plain": [
       "<matplotlib.figure.Figure at 0x7f02b6a3b690>"
      ]
     },
     "metadata": {},
     "output_type": "display_data"
    },
    {
     "name": "stdout",
     "output_type": "stream",
     "text": [
      "rock, rgb: (170, 85, 92)\n"
     ]
    },
    {
     "data": {
      "image/png": "[encoded data removed]",
      "text/plain": [
       "<matplotlib.figure.Figure at 0x7f02b6a07390>"
      ]
     },
     "metadata": {},
     "output_type": "display_data"
    }
   ],
   "source": [
    "predict(estimator, MY_TEST_INPUT)"
   ]
  },
  {
   "cell_type": "markdown",
   "metadata": {},
   "source": [
    "## Pre-trained model predictions\n",
    "\n",
    "In order to load the pre-trained model we can just create an estimator using the model_fn and use the model_dir that contains the pre-trained model files in this case it's 'pretrained'"
   ]
  },
  {
   "cell_type": "code",
   "execution_count": 48,
   "metadata": {},
   "outputs": [
    {
     "name": "stdout",
     "output_type": "stream",
     "text": [
      "INFO:tensorflow:Using default config.\n",
      "INFO:tensorflow:Using config: {'_save_checkpoints_secs': 600, '_session_config': None, '_keep_checkpoint_max': 5, '_tf_random_seed': 1, '_keep_checkpoint_every_n_hours': 10000, '_save_checkpoints_steps': None, '_model_dir': 'pretrained', '_save_summary_steps': 100}\n",
      "\n",
      "WARNING:tensorflow:Input graph does not contain a QueueRunner. That means predict yields forever. This is probably a mistake.\n",
      "INFO:tensorflow:Restoring parameters from pretrained/model.ckpt-8069\n",
      "orange, rgb: (233, 124, 19)\n"
     ]
    },
    {
     "data": {
      "image/png": "[encoded data removed]",
      "text/plain": [
       "<matplotlib.figure.Figure at 0x7f02b5ec3090>"
      ]
     },
     "metadata": {},
     "output_type": "display_data"
    },
    {
     "name": "stdout",
     "output_type": "stream",
     "text": [
      "tensorflow orange, rgb: (232, 149, 88)\n"
     ]
    },
    {
     "data": {
      "image/png": "[encoded data removed]",
      "text/plain": [
       "<matplotlib.figure.Figure at 0x7f02b4802ad0>"
      ]
     },
     "metadata": {},
     "output_type": "display_data"
    },
    {
     "name": "stdout",
     "output_type": "stream",
     "text": [
      "adfgasdgasd, rgb: (201, 184, 157)\n"
     ]
    },
    {
     "data": {
      "image/png": "[encoded data removed]",
      "text/plain": [
       "<matplotlib.figure.Figure at 0x7f02b478bfd0>"
      ]
     },
     "metadata": {},
     "output_type": "display_data"
    },
    {
     "name": "stdout",
     "output_type": "stream",
     "text": [
      "purple blue, rgb: (51, 13, 220)\n"
     ]
    },
    {
     "data": {
      "image/png": "[encoded data removed]",
      "text/plain": [
       "<matplotlib.figure.Figure at 0x7f02b46a8d10>"
      ]
     },
     "metadata": {},
     "output_type": "display_data"
    },
    {
     "name": "stdout",
     "output_type": "stream",
     "text": [
      "purple red, rgb: (152, 40, 61)\n"
     ]
    },
    {
     "data": {
      "image/png": "[encoded data removed]",
      "text/plain": [
       "<matplotlib.figure.Figure at 0x7f02b46438d0>"
      ]
     },
     "metadata": {},
     "output_type": "display_data"
    },
    {
     "name": "stdout",
     "output_type": "stream",
     "text": [
      "purple, rgb: (92, 23, 109)\n"
     ]
    },
    {
     "data": {
      "image/png": "[encoded data removed]",
      "text/plain": [
       "<matplotlib.figure.Figure at 0x7f02b45dd6d0>"
      ]
     },
     "metadata": {},
     "output_type": "display_data"
    },
    {
     "name": "stdout",
     "output_type": "stream",
     "text": [
      "water, rgb: (160, 201, 202)\n"
     ]
    },
    {
     "data": {
      "image/png": "[encoded data removed]",
      "text/plain": [
       "<matplotlib.figure.Figure at 0x7f02b44faa90>"
      ]
     },
     "metadata": {},
     "output_type": "display_data"
    },
    {
     "name": "stdout",
     "output_type": "stream",
     "text": [
      "pink, rgb: (257, 153, 165)\n"
     ]
    },
    {
     "data": {
      "image/png": "[encoded data removed]",
      "text/plain": [
       "<matplotlib.figure.Figure at 0x7f02b44949d0>"
      ]
     },
     "metadata": {},
     "output_type": "display_data"
    },
    {
     "name": "stdout",
     "output_type": "stream",
     "text": [
      "rock, rgb: (83, 65, 52)\n"
     ]
    },
    {
     "data": {
      "image/png": "[encoded data removed]",
      "text/plain": [
       "<matplotlib.figure.Figure at 0x7f02b43b14d0>"
      ]
     },
     "metadata": {},
     "output_type": "display_data"
    }
   ],
   "source": [
    "pre_estimator = tf.estimator.Estimator(model_dir='pretrained', model_fn=model_fn)\n",
    "predict(pre_estimator, MY_TEST_INPUT)"
   ]
  }
 ],
 "metadata": {
  "colab": {
   "default_view": {},
   "last_runtime": {
    "build_target": "//experimental/users/jamieas/transform_colab:notebook",
    "kind": "private"
   },
   "name": "Copy of CustomEstimator.ipynb",
   "provenance": [
    {
     "file_id": "0BwN-JPfIIHwgdFkwUTVIWTQwU00",
     "timestamp": 1496845355496
    }
   ],
   "version": "0.3.2",
   "views": {}
  },
  "kernelspec": {
   "display_name": "Python 2",
   "language": "python",
   "name": "python2"
  },
  "language_info": {
   "codemirror_mode": {
    "name": "ipython",
    "version": 2
   },
   "file_extension": ".py",
   "mimetype": "text/x-python",
   "name": "python",
   "nbconvert_exporter": "python",
   "pygments_lexer": "ipython2",
   "version": "2.7.6"
  }
 },
 "nbformat": 4,
 "nbformat_minor": 1
}
