{
 "cells": [
  {
   "cell_type": "markdown",
   "metadata": {
    "colab_type": "text",
    "id": "pL5cEtBil01d"
   },
   "source": [
    "## Dependencies"
   ]
  },
  {
   "cell_type": "markdown",
   "metadata": {
    "colab_type": "text",
    "id": "KM2CCX6dAquT"
   },
   "source": [
    "#download the data\n",
    "http://xkcd.com/color/colorsurvey.tar.gz"
   ]
  },
  {
   "cell_type": "code",
   "execution_count": 0,
   "metadata": {
    "colab": {
     "autoexec": {
      "startup": false,
      "wait_interval": 0
     }
    },
    "colab_type": "code",
    "collapsed": true,
    "id": "QOZTIekiAquU"
   },
   "outputs": [],
   "source": [
    "import random\n",
    "import argparse"
   ]
  },
  {
   "cell_type": "code",
   "execution_count": 0,
   "metadata": {
    "colab": {
     "autoexec": {
      "startup": false,
      "wait_interval": 0
     },
     "output_extras": [
      {}
     ]
    },
    "colab_type": "code",
    "id": "v-aABfjLAquX",
    "outputId": "d1febaf5-777f-4dcc-b4a0-37164ed29167"
   },
   "outputs": [
    {
     "name": "stdout",
     "output_type": "stream",
     "text": [
      "mainsurvey_sqldump.txt\n",
      "satfaces_sqldump.txt\n"
     ]
    }
   ],
   "source": [
    "%%bash\n",
    "tar -xvzf data/colorsurvey.tar.gz -C data"
   ]
  },
  {
   "cell_type": "code",
   "execution_count": 0,
   "metadata": {
    "colab": {
     "autoexec": {
      "startup": false,
      "wait_interval": 0
     },
     "output_extras": [
      {}
     ]
    },
    "colab_type": "code",
    "id": "Mton5djZAquc",
    "outputId": "634807d3-ded5-4b0c-82bf-7a1a022a7ca6"
   },
   "outputs": [
    {
     "name": "stdout",
     "output_type": "stream",
     "text": [
      "\u001b[0m\u001b[01;31mcolorsurvey.tar.gz\u001b[0m  mainsurvey_sqldump.txt  satfaces_sqldump.txt  train.csv\r\n",
      "_DS_Store           mytest.csv              test.csv\r\n"
     ]
    }
   ],
   "source": [
    "ls data"
   ]
  },
  {
   "cell_type": "code",
   "execution_count": 0,
   "metadata": {
    "colab": {
     "autoexec": {
      "startup": false,
      "wait_interval": 0
     }
    },
    "colab_type": "code",
    "collapsed": true,
    "id": "M8S-kDxWAquf"
   },
   "outputs": [],
   "source": [
    "all_fields = []\n",
    "with open('data/mainsurvey_sqldump.txt') as f:\n",
    "    for line in f:\n",
    "        if '\"answers\"' not in line:\n",
    "            continue\n",
    "        \n",
    "        fields = line[:-3].split(',')[3:7]\n",
    "        fields[-1] = fields[-1].strip(\"'\")\n",
    "        all_fields.append(fields)\n",
    "        \n",
    "random.shuffle(all_fields)"
   ]
  },
  {
   "cell_type": "code",
   "execution_count": 0,
   "metadata": {
    "colab": {
     "autoexec": {
      "startup": false,
      "wait_interval": 0
     }
    },
    "colab_type": "code",
    "collapsed": true,
    "id": "9NWJmfmkAqui"
   },
   "outputs": [],
   "source": [
    "split = int(0.9*len(all_fields))\n",
    "with open('data/train.csv','w') as out_file:\n",
    "    out_file.write(\"red,green,blue,name\\n\")\n",
    "    for fields in all_fields[:split]:\n",
    "        out_file.write(','.join(fields)+\"\\n\")\n"
   ]
  },
  {
   "cell_type": "code",
   "execution_count": 0,
   "metadata": {
    "colab": {
     "autoexec": {
      "startup": false,
      "wait_interval": 0
     }
    },
    "colab_type": "code",
    "collapsed": true,
    "id": "zwxbVb5PAquo"
   },
   "outputs": [],
   "source": [
    "with open('data/test.csv','w') as out_file:\n",
    "    out_file.write(\"red,green,blue,name\\n\")\n",
    "    for fields in all_fields[split:]:\n",
    "        out_file.write(','.join(fields)+\"\\n\")"
   ]
  },
  {
   "cell_type": "code",
   "execution_count": 0,
   "metadata": {
    "colab": {
     "autoexec": {
      "startup": false,
      "wait_interval": 0
     },
     "output_extras": [
      {}
     ]
    },
    "colab_type": "code",
    "id": "JE7LPUw_Aquq",
    "outputId": "15bbcda8-9596-4f5a-e9bd-830547fa75ff"
   },
   "outputs": [
    {
     "name": "stdout",
     "output_type": "stream",
     "text": [
      "red,green,blue,name\n",
      "121,107,126,grey\n",
      "183,152,160,rosa opaco\n",
      "25,61,200,blue\n",
      "2,194,213,light blue\n",
      "75,127,37,moss\n",
      "18,73,38,hunter green\n",
      "63,181,161,green\n",
      "82,241,222,droopy\n",
      "59,43,186,vibrant blue\n"
     ]
    }
   ],
   "source": [
    "%%bash\n",
    "head data/test.csv"
   ]
  },
  {
   "cell_type": "code",
   "execution_count": 0,
   "metadata": {
    "colab": {
     "autoexec": {
      "startup": false,
      "wait_interval": 0
     }
    },
    "colab_type": "code",
    "collapsed": true,
    "id": "dsQBSD_uAquu"
   },
   "outputs": [],
   "source": [
    "%%bash\n",
    "head data/test.csv > data/mytest.csv"
   ]
  },
  {
   "cell_type": "code",
   "execution_count": 0,
   "metadata": {
    "colab": {
     "autoexec": {
      "startup": false,
      "wait_interval": 0
     }
    },
    "colab_type": "code",
    "collapsed": true,
    "id": "4orDOWcHAquy"
   },
   "outputs": [],
   "source": [
    "del all_fields"
   ]
  },
  {
   "cell_type": "code",
   "execution_count": 0,
   "metadata": {
    "colab": {
     "autoexec": {
      "startup": false,
      "wait_interval": 0
     }
    },
    "colab_type": "code",
    "collapsed": true,
    "id": "mDT8S9C9CYtr"
   },
   "outputs": [],
   "source": [
    "\n",
    "# Tensorflow\n",
    "import tensorflow as tf\n",
    "\n",
    "# Feeding function for enqueue data\n",
    "# \n",
    "from tensorflow.python.estimator.inputs.queues import feeding_functions as ff\n",
    "\n",
    "# Rnn common functions\n",
    "from tensorflow.contrib.learn.python.learn.estimators import rnn_common\n",
    "\n",
    "# Run an experiment\n",
    "from tensorflow.contrib.learn.python.learn import learn_runner\n",
    "\n",
    "# Input function\n",
    "from tensorflow.python.estimator.inputs import numpy_io\n",
    "\n",
    "# Helpers for data processing\n",
    "import pandas as pd\n",
    "import numpy as np\n",
    "\n",
    "# Plot images with pyplot\n",
    "%matplotlib inline\n",
    "from matplotlib import pyplot as plt"
   ]
  },
  {
   "cell_type": "markdown",
   "metadata": {
    "colab_type": "text",
    "id": "Ddn7MIl6l01f"
   },
   "source": [
    "## Parameters"
   ]
  },
  {
   "cell_type": "code",
   "execution_count": 0,
   "metadata": {
    "colab": {
     "autoexec": {
      "startup": false,
      "wait_interval": 0
     }
    },
    "colab_type": "code",
    "collapsed": true,
    "id": "UrAyWt23AtCM"
   },
   "outputs": [],
   "source": [
    "# Data files\n",
    "TRAIN_INPUT = 'data/train.csv'\n",
    "TEST_INPUT = 'data/test.csv'\n",
    "MY_TEST_INPUT = 'data/mytest.csv'\n",
    "\n",
    "# Parameters for training\n",
    "STEPS = 10000\n",
    "BATCH_SIZE = 64\n",
    "\n",
    "# Parameters for data processing\n",
    "CHARACTERS = [chr(i) for i in range(256)]\n",
    "\n",
    "SEQUENCE_LENGTH_KEY = 'sequence_length'\n",
    "COLOR_NAME_KEY = 'color_name'\n",
    "RGB_KEY = 'rgb'"
   ]
  },
  {
   "cell_type": "markdown",
   "metadata": {
    "colab_type": "text",
    "id": "1Gl9pgOvl01i"
   },
   "source": [
    "## Helper functions"
   ]
  },
  {
   "cell_type": "code",
   "execution_count": 0,
   "metadata": {
    "colab": {
     "autoexec": {
      "startup": false,
      "wait_interval": 0
     }
    },
    "colab_type": "code",
    "collapsed": true,
    "id": "0dlZ9C27M-bS"
   },
   "outputs": [],
   "source": [
    "# This function creates a sparse tensor in the following way, given:\n",
    "# indices = [[0, 0], [1, 1], [2, 2]]\n",
    "# values = [1, 2, 3]\n",
    "# dense_shape = [3, 4]\n",
    "#\n",
    "# The output will be a sparse tensor that represents this dense tensor:\n",
    "# [ \n",
    "#   [1, 0, 0, 0]\n",
    "#   [0, 2, 0, 0]\n",
    "#   [0, 0, 3, 0]\n",
    "# ]\n",
    "#\n",
    "# We're using this to generate a Sparse tensor that can be easily\n",
    "# formated in a one hot representation.\n",
    "# More at: https://www.tensorflow.org/api_docs/python/tf/SparseTensor\n",
    "def _sparse_string_to_index(sp, mapping):\n",
    "    table = tf.contrib.lookup.index_table_from_tensor(mapping, dtype=tf.string)\n",
    "    \n",
    "    return tf.SparseTensor(indices=sp.indices,\n",
    "                           values=table.lookup(sp.values),\n",
    "                           dense_shape=sp.dense_shape)\n",
    "\n",
    "# Returns the column values from a CSV file as a list\n",
    "def _get_csv_column(csv_file, column_name):\n",
    "    with open(csv_file, 'r') as f:\n",
    "        df = pd.read_csv(f)\n",
    "        return df[column_name].tolist()\n",
    "\n",
    "# Plot a color image\n",
    "def _plot_rgb(rgb):\n",
    "    data = [[rgb]]\n",
    "    plt.figure(figsize=(2,2))\n",
    "    plt.imshow(data, interpolation='nearest')\n",
    "    plt.show()"
   ]
  },
  {
   "cell_type": "markdown",
   "metadata": {
    "colab_type": "text",
    "id": "BjEeB6_5l01p"
   },
   "source": [
    "## Input functions"
   ]
  },
  {
   "cell_type": "code",
   "execution_count": 0,
   "metadata": {
    "colab": {
     "autoexec": {
      "startup": false,
      "wait_interval": 0
     }
    },
    "colab_type": "code",
    "collapsed": true,
    "id": "L65I08woAqvA"
   },
   "outputs": [],
   "source": [
    "df = pd.read_csv('data/train.csv')"
   ]
  },
  {
   "cell_type": "code",
   "execution_count": 0,
   "metadata": {
    "colab": {
     "autoexec": {
      "startup": false,
      "wait_interval": 0
     },
     "output_extras": [
      {}
     ]
    },
    "colab_type": "code",
    "id": "4FHVYBI_AqvD",
    "outputId": "60f05b9d-1266-4390-a39a-02f98fd5046c"
   },
   "outputs": [
    {
     "data": {
      "text/plain": [
       "2982631"
      ]
     },
     "execution_count": 14,
     "metadata": {
      "tags": []
     },
     "output_type": "execute_result"
    }
   ],
   "source": [
    "len(df)"
   ]
  },
  {
   "cell_type": "code",
   "execution_count": 0,
   "metadata": {
    "colab": {
     "autoexec": {
      "startup": false,
      "wait_interval": 0
     },
     "output_extras": [
      {}
     ]
    },
    "colab_type": "code",
    "id": "rneqE9nHAqvH",
    "outputId": "133ca72f-d77c-476f-dd48-43e9bd9ac497"
   },
   "outputs": [
    {
     "data": {
      "text/plain": [
       "99.0"
      ]
     },
     "execution_count": 15,
     "metadata": {
      "tags": []
     },
     "output_type": "execute_result"
    }
   ],
   "source": [
    "length = df.name.str.len()\n",
    "length.quantile(0.9999)"
   ]
  },
  {
   "cell_type": "code",
   "execution_count": 0,
   "metadata": {
    "colab": {
     "autoexec": {
      "startup": false,
      "wait_interval": 0
     }
    },
    "colab_type": "code",
    "collapsed": true,
    "id": "xcsI9cuwAqvM"
   },
   "outputs": [],
   "source": [
    "class ColorsDataset(object):\n",
    "    def __init__(self, csv_file, batch_size, epochs=1):\n",
    "        self.csv_file = csv_file\n",
    "        self.batch_size = batch_size\n",
    "        self.epochs = epochs\n",
    "\n",
    "        df = pd.read_csv(csv_file)\n",
    "        df.red = np.int32(df.red)\n",
    "        df.green = np.int32(df.green)\n",
    "        df.blue = np.int32(df.blue)\n",
    "        df = df.dropna()\n",
    "        \n",
    "        # Sequence length is used by the Dynamic RNN\n",
    "        # to dynamically unroll the graph :D!\n",
    "        df['sequence_length'] = df.name.str.len().astype(np.int32)\n",
    "        df = df[df.sequence_length < df.sequence_length.quantile(0.9999)]\n",
    "\n",
    "        self.df = df        \n",
    "        self.pd_fn = tf.estimator.inputs.pandas_input_fn(\n",
    "            self.df, shuffle=True, \n",
    "            batch_size=self.batch_size, \n",
    "            num_epochs=self.epochs,\n",
    "            queue_capacity=100000)\n",
    "\n",
    "    def __call__(self):\n",
    "        fields = argparse.Namespace(**self.pd_fn())\n",
    "\n",
    "        # Split strings into chars\n",
    "        split_color_name = tf.string_split(fields.name, delimiter='')\n",
    "        # Creating a tf constant to hold the map char -> index\n",
    "        # this is need to create the sparse tensor and after the one hot encode\n",
    "        table = tf.contrib.lookup.index_table_from_tensor(CHARACTERS, dtype=tf.string)\n",
    "\n",
    "        # Names represented in a sparse tensor\n",
    "        integerized_color_name = table.lookup(split_color_name)\n",
    "        \n",
    "        print(integerized_color_name)\n",
    "        \n",
    "        # Tensor of normalized RGB values\n",
    "        rgb = tf.to_float(tf.stack([fields.red, fields.green, fields.blue], axis=1)) / 255.0\n",
    "\n",
    "        features = {COLOR_NAME_KEY: integerized_color_name, SEQUENCE_LENGTH_KEY: fields.sequence_length}\n",
    "        return features, rgb\n"
   ]
  },
  {
   "cell_type": "code",
   "execution_count": 0,
   "metadata": {
    "colab": {
     "autoexec": {
      "startup": false,
      "wait_interval": 0
     }
    },
    "colab_type": "code",
    "collapsed": true,
    "id": "7KKDP574AqvP"
   },
   "outputs": [],
   "source": [
    "# Creating my own input function for a custom CSV file\n",
    "# it's simpler than the input_fn above but just used for small tests\n",
    "\n",
    "def my_test_input_fn():\n",
    "    df = pd.read_csv(MY_TEST_INPUT)\n",
    "    df = df.dropna()\n",
    "    df['sequence_length'] = df.name.str.len().astype(np.int32)\n",
    "\n",
    "    color_name = df.name.tolist()\n",
    "\n",
    "    split_color_name = tf.string_split(color_name, delimiter='')\n",
    "    mapping = tf.constant(CHARACTERS, name=\"mapping\")\n",
    "    integerized_color_name = _sparse_string_to_index(split_color_name, mapping)\n",
    "\n",
    "    x = {COLOR_NAME_KEY: integerized_color_name, SEQUENCE_LENGTH_KEY: df.sequence_length.tolist()}\n",
    "\n",
    "    y = np.asarray([[0, 0, 0]], dtype=np.float32)\n",
    "\n",
    "    return x, y\n",
    "    "
   ]
  },
  {
   "cell_type": "code",
   "execution_count": 0,
   "metadata": {
    "colab": {
     "autoexec": {
      "startup": false,
      "wait_interval": 0
     }
    },
    "colab_type": "code",
    "collapsed": true,
    "id": "m5UJyvW5P0Sy"
   },
   "outputs": [],
   "source": [
    "train_input_fn = ColorsDataset(TRAIN_INPUT, BATCH_SIZE)\n",
    "test_input_fn = ColorsDataset(TEST_INPUT, BATCH_SIZE)"
   ]
  },
  {
   "cell_type": "code",
   "execution_count": 0,
   "metadata": {
    "colab": {
     "autoexec": {
      "startup": false,
      "wait_interval": 0
     },
     "output_extras": [
      {}
     ]
    },
    "colab_type": "code",
    "id": "lE4c3ELMQjHJ",
    "outputId": "8d5ff5c5-3cfa-433a-9224-fa9a2751660a"
   },
   "outputs": [
    {
     "data": {
      "text/plain": [
       "'\\n# Testing the input function\\nwith tf.Graph().as_default():\\n    train_input = train_input_fn()\\n    with tf.train.MonitoredSession() as sess:\\n        print (train_input)\\n        print (sess.run(train_input))\\n'"
      ]
     },
     "execution_count": 24,
     "metadata": {
      "tags": []
     },
     "output_type": "execute_result"
    }
   ],
   "source": [
    "'''\n",
    "# Testing the input function\n",
    "with tf.Graph().as_default():\n",
    "    train_input = train_input_fn()\n",
    "    with tf.train.MonitoredSession() as sess:\n",
    "        print (train_input)\n",
    "        print (sess.run(train_input))\n",
    "'''"
   ]
  },
  {
   "cell_type": "markdown",
   "metadata": {
    "colab_type": "text",
    "id": "_g9ztlOql01z"
   },
   "source": [
    "## Creating the Estimator model"
   ]
  },
  {
   "cell_type": "code",
   "execution_count": 0,
   "metadata": {
    "colab": {
     "autoexec": {
      "startup": false,
      "wait_interval": 0
     }
    },
    "colab_type": "code",
    "collapsed": true,
    "id": "VxXAUrYN7TvR"
   },
   "outputs": [],
   "source": [
    "def get_model_fn(rnn_cell_sizes,\n",
    "                 label_dimension,\n",
    "                 dnn_layer_sizes=[],\n",
    "                 optimizer='SGD',\n",
    "                 learning_rate=0.01):\n",
    "    \n",
    "    def model_fn(features, labels, mode):\n",
    "        color_name = features[COLOR_NAME_KEY]\n",
    "        sequence_length = features[SEQUENCE_LENGTH_KEY]\n",
    "\n",
    "        # Creating dense representation for the names\n",
    "        # and then converting it to one hot representation\n",
    "        dense_color_name = tf.sparse_tensor_to_dense(color_name)\n",
    "        e_layer = tf.contrib.keras.layers.Embedding(len(CHARACTERS), 30)\n",
    "        embedded = e_layer(dense_color_name)\n",
    "        color_name_onehot = embedded\n",
    "        #color_name_onehot = tf.one_hot(dense_color_name, depth=len(CHARACTERS) + 1)\n",
    "        \n",
    "        \n",
    "        # Each RNN layer will consist of a LSTM cell\n",
    "        rnn_layers = [tf.nn.rnn_cell.BasicLSTMCell(size) for size in rnn_cell_sizes]\n",
    "        \n",
    "        # Construct the layers\n",
    "        multi_rnn_cell = tf.contrib.rnn.MultiRNNCell(rnn_layers)\n",
    "        \n",
    "        # Runs the RNN model dynamically\n",
    "        # more about it at: \n",
    "        # https://www.tensorflow.org/api_docs/python/tf/nn/dynamic_rnn\n",
    "        outputs, final_state = tf.nn.dynamic_rnn(cell=multi_rnn_cell,\n",
    "                                                 inputs=color_name_onehot,\n",
    "                                                 sequence_length=sequence_length,\n",
    "                                                 dtype=tf.float32)\n",
    "\n",
    "        # Slice to keep only the last cell of the RNN\n",
    "        last_activations = rnn_common.select_last_activations(outputs,\n",
    "                                                              sequence_length)\n",
    "\n",
    "        # Construct dense layers on top of the last cell of the RNN\n",
    "        for units in dnn_layer_sizes:\n",
    "            last_activations = tf.layers.dense(\n",
    "              last_activations, units, activation=tf.nn.relu)\n",
    "        \n",
    "        # Final dense layer for prediction\n",
    "        predictions = tf.layers.dense(last_activations, label_dimension, activation=tf.nn.sigmoid)\n",
    "\n",
    "        loss = None\n",
    "        train_op = None\n",
    "\n",
    "        if mode != tf.contrib.learn.ModeKeys.INFER:    \n",
    "            loss = tf.losses.mean_squared_error(labels, predictions)\n",
    "    \n",
    "        if mode == tf.contrib.learn.ModeKeys.TRAIN:  \n",
    "            global_step = tf.contrib.framework.get_global_step()\n",
    "        \n",
    "            train_op = tf.contrib.layers.optimize_loss(\n",
    "              loss,\n",
    "              global_step,\n",
    "              optimizer=optimizer,\n",
    "              learning_rate=learning_rate)\n",
    "                \n",
    "            \n",
    "        \n",
    "        return tf.estimator.EstimatorSpec(mode,\n",
    "                                          predictions=predictions,\n",
    "                                          loss=loss,\n",
    "                                          train_op=train_op)\n",
    "    return model_fn"
   ]
  },
  {
   "cell_type": "code",
   "execution_count": 0,
   "metadata": {
    "colab": {
     "autoexec": {
      "startup": false,
      "wait_interval": 0
     },
     "output_extras": [
      {}
     ]
    },
    "colab_type": "code",
    "id": "gUHR3Mzc7Tvb",
    "outputId": "c46e540a-5f32-4314-efc1-b948a1ce3493"
   },
   "outputs": [
    {
     "name": "stdout",
     "output_type": "stream",
     "text": [
      "INFO:tensorflow:Using default config.\n",
      "INFO:tensorflow:Using config: {'_save_checkpoints_secs': 600, '_session_config': None, '_keep_checkpoint_max': 5, '_tf_random_seed': 1, '_keep_checkpoint_every_n_hours': 10000, '_save_checkpoints_steps': None, '_model_dir': './checkpoints/c/', '_save_summary_steps': 100}\n"
     ]
    }
   ],
   "source": [
    "model_fn = get_model_fn(rnn_cell_sizes=[256, 128], # size of the hidden layers\n",
    "                        label_dimension=3, # since is RGB\n",
    "                        dnn_layer_sizes=[64], # size of units in the dense layers on top of the RNN\n",
    "                        optimizer='Adam',\n",
    "                        learning_rate=0.01)\n",
    "estimator = tf.estimator.Estimator(model_fn=model_fn, model_dir='./checkpoints/c/')"
   ]
  },
  {
   "cell_type": "code",
   "execution_count": 0,
   "metadata": {
    "colab": {
     "autoexec": {
      "startup": false,
      "wait_interval": 0
     },
     "output_extras": [
      {},
      {},
      {}
     ]
    },
    "colab_type": "code",
    "id": "vPfgqB2KAqvk",
    "outputId": "86bca467-0d0f-47c8-9e2f-bede84cd1b3c"
   },
   "outputs": [
    {
     "name": "stdout",
     "output_type": "stream",
     "text": [
      "SparseTensor(indices=Tensor(\"StringSplit:0\", shape=(?, 2), dtype=int64, device=/device:CPU:0), values=Tensor(\"hash_table_Lookup:0\", shape=(?,), dtype=int64, device=/device:CPU:0), dense_shape=Tensor(\"StringSplit:2\", shape=(2,), dtype=int64, device=/device:CPU:0))\n"
     ]
    },
    {
     "name": "stderr",
     "output_type": "stream",
     "text": [
      "/usr/local/google/home/markdaoust/venv/local/lib/python2.7/site-packages/tensorflow/python/ops/gradients_impl.py:93: UserWarning: Converting sparse IndexedSlices to a dense Tensor of unknown shape. This may consume a large amount of memory.\n",
      "  \"Converting sparse IndexedSlices to a dense Tensor of unknown shape. \"\n"
     ]
    },
    {
     "name": "stdout",
     "output_type": "stream",
     "text": [
      "INFO:tensorflow:Create CheckpointSaverHook.\n",
      "INFO:tensorflow:Saving checkpoints for 1 into ./checkpoints/c/model.ckpt.\n",
      "INFO:tensorflow:loss = 0.0883859, step = 1\n",
      "INFO:tensorflow:global_step/sec: 13.5726\n",
      "INFO:tensorflow:loss = 0.0614332, step = 101 (7.366 sec)\n",
      "INFO:tensorflow:global_step/sec: 13.8457\n",
      "INFO:tensorflow:loss = 0.0718557, step = 201 (7.222 sec)\n",
      "INFO:tensorflow:global_step/sec: 14.5126\n",
      "INFO:tensorflow:loss = 0.0445167, step = 301 (6.891 sec)\n",
      "INFO:tensorflow:global_step/sec: 13.6002\n",
      "INFO:tensorflow:loss = 0.0446855, step = 401 (7.353 sec)\n",
      "INFO:tensorflow:global_step/sec: 13.1811\n",
      "INFO:tensorflow:loss = 0.0406452, step = 501 (7.587 sec)\n",
      "INFO:tensorflow:global_step/sec: 13.1945\n",
      "INFO:tensorflow:loss = 0.0322488, step = 601 (7.579 sec)\n",
      "INFO:tensorflow:global_step/sec: 15.3108\n",
      "INFO:tensorflow:loss = 0.0412634, step = 701 (6.531 sec)\n",
      "INFO:tensorflow:global_step/sec: 14.2625\n",
      "INFO:tensorflow:loss = 0.0385869, step = 801 (7.011 sec)\n",
      "INFO:tensorflow:global_step/sec: 14.214\n",
      "INFO:tensorflow:loss = 0.0334931, step = 901 (7.035 sec)\n",
      "INFO:tensorflow:global_step/sec: 14.4219\n",
      "INFO:tensorflow:loss = 0.034015, step = 1001 (6.934 sec)\n",
      "INFO:tensorflow:global_step/sec: 12.9479\n",
      "INFO:tensorflow:loss = 0.0359357, step = 1101 (7.723 sec)\n",
      "INFO:tensorflow:global_step/sec: 13.9984\n",
      "INFO:tensorflow:loss = 0.031443, step = 1201 (7.144 sec)\n",
      "INFO:tensorflow:global_step/sec: 13.8032\n",
      "INFO:tensorflow:loss = 0.0355387, step = 1301 (7.245 sec)\n"
     ]
    }
   ],
   "source": [
    "for n in range(10):\n",
    "    estimator.train(input_fn=train_input_fn)\n",
    "    estimator.evaluate(input_fn = test_input_fn)"
   ]
  },
  {
   "cell_type": "markdown",
   "metadata": {
    "colab_type": "text",
    "id": "1DgRov4sl012"
   },
   "source": [
    "## Create and Run Experiment"
   ]
  },
  {
   "cell_type": "code",
   "execution_count": 0,
   "metadata": {
    "colab": {
     "autoexec": {
      "startup": false,
      "wait_interval": 0
     }
    },
    "colab_type": "code",
    "collapsed": true,
    "id": "dVg0sIU7Aqvp"
   },
   "outputs": [],
   "source": []
  },
  {
   "cell_type": "code",
   "execution_count": 0,
   "metadata": {
    "colab": {
     "autoexec": {
      "startup": false,
      "wait_interval": 0
     }
    },
    "colab_type": "code",
    "collapsed": true,
    "id": "DUZEKQrdGgZE"
   },
   "outputs": [],
   "source": [
    "# create experiment\n",
    "def generate_experiment_fn():\n",
    "  \n",
    "  \"\"\"\n",
    "  Create an experiment function given hyperparameters.\n",
    "  Returns:\n",
    "    A function (output_dir) -> Experiment where output_dir is a string\n",
    "    representing the location of summaries, checkpoints, and exports.\n",
    "    this function is used by learn_runner to create an Experiment which\n",
    "    executes model code provided in the form of an Estimator and\n",
    "    input functions.\n",
    "    All listed arguments in the outer function are used to create an\n",
    "    Estimator, and input functions (training, evaluation, serving).\n",
    "    Unlisted args are passed through to Experiment.\n",
    "  \"\"\"\n",
    "\n",
    "  def _experiment_fn(output_dir):\n",
    "    return tf.contrib.learn.Experiment(\n",
    "        estimator,\n",
    "        train_input_fn=train_input_fn,\n",
    "        eval_input_fn=test_input_fn,\n",
    "        train_steps=STEPS\n",
    "    )\n",
    "  return _experiment_fn"
   ]
  },
  {
   "cell_type": "code",
   "execution_count": 0,
   "metadata": {
    "colab": {
     "autoexec": {
      "startup": false,
      "wait_interval": 0
     }
    },
    "colab_type": "code",
    "collapsed": true,
    "id": "jQy3QsPml016"
   },
   "outputs": [],
   "source": [
    "# run experiment \n",
    "learn_runner.run(generate_experiment_fn(),'ou')"
   ]
  },
  {
   "cell_type": "markdown",
   "metadata": {
    "colab_type": "text",
    "id": "A_mbi6Xfl02A"
   },
   "source": [
    "## Making Predictions"
   ]
  },
  {
   "cell_type": "code",
   "execution_count": 0,
   "metadata": {
    "colab": {
     "autoexec": {
      "startup": false,
      "wait_interval": 0
     }
    },
    "colab_type": "code",
    "collapsed": true,
    "id": "tS9lI4YWl02O"
   },
   "outputs": [],
   "source": [
    "preds = estimator.predict(input_fn=my_test_input_fn)\n",
    "\n",
    "color_names = _get_csv_column(MY_TEST_INPUT, 'name')\n",
    "\n",
    "print()\n",
    "for p, name in zip(preds, color_names):\n",
    "    color = tuple(map(int, p * 255))\n",
    "    print(name, 'rgb', color)\n",
    "    _plot_rgb(p)"
   ]
  },
  {
   "cell_type": "markdown",
   "metadata": {
    "colab": {
     "autoexec": {
      "startup": false,
      "wait_interval": 0
     }
    },
    "colab_type": "code",
    "id": "Nc5cI6DeAqv9"
   },
   "source": [
    "## Pretrained model predictions"
   ]
  },
  {
   "cell_type": "code",
   "execution_count": 1,
   "metadata": {},
   "outputs": [
    {
     "ename": "NameError",
     "evalue": "name 'estimator' is not defined",
     "output_type": "error",
     "traceback": [
      "\u001b[0;31m---------------------------------------------------------------------------\u001b[0m",
      "\u001b[0;31mNameError\u001b[0m                                 Traceback (most recent call last)",
      "\u001b[0;32m<ipython-input-1-d065aed35e9a>\u001b[0m in \u001b[0;36m<module>\u001b[0;34m()\u001b[0m\n\u001b[0;32m----> 1\u001b[0;31m \u001b[0mpreds\u001b[0m \u001b[0;34m=\u001b[0m \u001b[0mestimator\u001b[0m\u001b[0;34m.\u001b[0m\u001b[0mpredict\u001b[0m\u001b[0;34m(\u001b[0m\u001b[0minput_fn\u001b[0m\u001b[0;34m=\u001b[0m\u001b[0mmy_test_input_fn\u001b[0m\u001b[0;34m)\u001b[0m\u001b[0;34m\u001b[0m\u001b[0m\n\u001b[0m\u001b[1;32m      2\u001b[0m \u001b[0;34m\u001b[0m\u001b[0m\n\u001b[1;32m      3\u001b[0m \u001b[0mcolor_names\u001b[0m \u001b[0;34m=\u001b[0m \u001b[0m_get_csv_column\u001b[0m\u001b[0;34m(\u001b[0m\u001b[0mMY_TEST_INPUT\u001b[0m\u001b[0;34m,\u001b[0m \u001b[0;34m'name'\u001b[0m\u001b[0;34m)\u001b[0m\u001b[0;34m\u001b[0m\u001b[0m\n\u001b[1;32m      4\u001b[0m \u001b[0;34m\u001b[0m\u001b[0m\n\u001b[1;32m      5\u001b[0m \u001b[0mprint\u001b[0m\u001b[0;34m(\u001b[0m\u001b[0;34m)\u001b[0m\u001b[0;34m\u001b[0m\u001b[0m\n",
      "\u001b[0;31mNameError\u001b[0m: name 'estimator' is not defined"
     ]
    }
   ],
   "source": [
    "preds = estimator.predict(input_fn=my_test_input_fn)\n",
    "\n",
    "color_names = _get_csv_column(MY_TEST_INPUT, 'name')\n",
    "\n",
    "print()\n",
    "for p, name in zip(preds, color_names):\n",
    "    color = tuple(map(int, p * 255))\n",
    "    print(name, 'rgb', color)\n",
    "    _plot_rgb(p)"
   ]
  },
  {
   "cell_type": "code",
   "execution_count": null,
   "metadata": {
    "collapsed": true
   },
   "outputs": [],
   "source": []
  }
 ],
 "metadata": {
  "colab": {
   "default_view": {},
   "name": "ColorBot.ipynb",
   "provenance": [
    {
     "file_id": "0B93ejVuY8FzNckZpbFhtS3o0U1k",
     "timestamp": 1496973797322
    },
    {
     "file_id": "0BwN-JPfIIHwgdFkwUTVIWTQwU00",
     "timestamp": 1496845355496
    }
   ],
   "version": "0.3.2",
   "views": {}
  },
  "kernelspec": {
   "display_name": "Python 3",
   "language": "python",
   "name": "python3"
  },
  "language_info": {
   "codemirror_mode": {
    "name": "ipython",
    "version": 3
   },
   "file_extension": ".py",
   "mimetype": "text/x-python",
   "name": "python",
   "nbconvert_exporter": "python",
   "pygments_lexer": "ipython3",
   "version": "3.5.2"
  }
 },
 "nbformat": 4,
 "nbformat_minor": 1
}
