{
 "cells": [
  {
   "cell_type": "code",
   "execution_count": 1,
   "metadata": {
    "colab": {
     "autoexec": {
      "startup": false,
      "wait_interval": 0
     }
    },
    "colab_type": "code",
    "collapsed": true,
    "id": "mDT8S9C9CYtr"
   },
   "outputs": [],
   "source": [
    "import pandas as pd\n",
    "import numpy as np\n",
    "import tensorflow as tf\n",
    "\n",
    "from tensorflow.python.estimator.inputs.queues import feeding_functions as ff\n",
    "from tensorflow.contrib.learn.python.learn.estimators import constants\n",
    "from tensorflow.contrib.learn.python.learn.estimators.dynamic_rnn_estimator import PredictionType"
   ]
  },
  {
   "cell_type": "code",
   "execution_count": 2,
   "metadata": {
    "colab": {
     "autoexec": {
      "startup": false,
      "wait_interval": 0
     }
    },
    "colab_type": "code",
    "collapsed": true,
    "id": "UrAyWt23AtCM"
   },
   "outputs": [],
   "source": [
    "RGB_INPUT = 'data/train.csv'\n",
    "BATCH_SIZE = 32\n",
    "CHARACTERS = [chr(i) for i in range(256)]\n",
    "\n",
    "SEQUENCE_LENGTH_KEY = 'sequence_length'\n",
    "COLOR_NAME_KEY = 'color_name'\n",
    "RGB_KEY = 'rgb'"
   ]
  },
  {
   "cell_type": "code",
   "execution_count": 3,
   "metadata": {
    "colab": {
     "autoexec": {
      "startup": false,
      "wait_interval": 0
     }
    },
    "colab_type": "code",
    "collapsed": true,
    "id": "0dlZ9C27M-bS"
   },
   "outputs": [],
   "source": [
    "# Input Function                                                 \n",
    "def get_input_fn(csv_file, batch_size, epochs=None):\n",
    "  with open(RGB_INPUT, 'r') as f:\n",
    "    df = pd.read_csv(f)\n",
    "    df['sequence_length'] = df.name.str.len().astype(np.int32)\n",
    "    \n",
    "  def input_fn():\n",
    "    pandas_queue = ff._enqueue_data(df,\n",
    "                                    capacity=1024,\n",
    "                                    shuffle=True,\n",
    "                                    min_after_dequeue=256,\n",
    "                                    num_threads=4,\n",
    "                                    enqueue_size=16,\n",
    "                                    num_epochs=epochs)\n",
    "    \n",
    "    _, color_name, r, g, b, seq_len = pandas_queue.dequeue_up_to(batch_size)\n",
    "    \n",
    "    split_color_name = tf.string_split(color_name, delimiter='')\n",
    "    rgb = tf.to_float(tf.stack([r, g, b], axis=1)) / 255.0\n",
    "\n",
    "    batched = tf.train.shuffle_batch({COLOR_NAME_KEY: split_color_name,\n",
    "                                      SEQUENCE_LENGTH_KEY: seq_len,\n",
    "                                      RGB_KEY: rgb},\n",
    "                                     batch_size,\n",
    "                                     min_after_dequeue=100,\n",
    "                                     num_threads=4,\n",
    "                                     capacity=1000,\n",
    "                                     enqueue_many=True,\n",
    "                                     allow_smaller_final_batch=True)\n",
    "    label = batched.pop(RGB_KEY)\n",
    "    return batched, label\n",
    "  return input_fn\n",
    "\n"
   ]
  },
  {
   "cell_type": "code",
   "execution_count": 4,
   "metadata": {
    "colab": {
     "autoexec": {
      "startup": false,
      "wait_interval": 0
     }
    },
    "colab_type": "code",
    "collapsed": true,
    "id": "m5UJyvW5P0Sy"
   },
   "outputs": [],
   "source": [
    "train_input_fn = get_input_fn(RGB_INPUT, BATCH_SIZE)"
   ]
  },
  {
   "cell_type": "code",
   "execution_count": 12,
   "metadata": {
    "colab": {
     "autoexec": {
      "startup": false,
      "wait_interval": 0
     },
     "output_extras": [
      {
       "item_id": 1
      }
     ]
    },
    "colab_type": "code",
    "executionInfo": {
     "elapsed": 369,
     "status": "ok",
     "timestamp": 1496784484974,
     "user": {
      "displayName": "Jamie Smith",
      "photoUrl": "//lh3.googleusercontent.com/-lH1_9xAmlJs/AAAAAAAAAAI/AAAAAAAAAGc/MXmYSfunJKo/s50-c-k-no/photo.jpg",
      "userId": "116166808337702908693"
     },
     "user_tz": 240
    },
    "id": "lE4c3ELMQjHJ",
    "outputId": "11fb45ae-3f3d-4f5d-cf9c-009680520cdd"
   },
   "outputs": [
    {
     "ename": "TypeError",
     "evalue": "Fetch argument array([[ 0,  0],\n       [ 0,  1],\n       [ 0,  2],\n       [ 0,  3],\n       [ 0,  4],\n       [ 0,  5],\n       [ 0,  6],\n       [ 0,  7],\n       [ 0,  8],\n       [ 0,  9],\n       [ 0, 10],\n       [ 1,  0],\n       [ 1,  1],\n       [ 1,  2],\n       [ 1,  3],\n       [ 1,  4],\n       [ 1,  5],\n       [ 1,  6],\n       [ 2,  0],\n       [ 2,  1],\n       [ 2,  2],\n       [ 2,  3],\n       [ 2,  4],\n       [ 2,  5],\n       [ 2,  6],\n       [ 2,  7],\n       [ 2,  8],\n       [ 2,  9],\n       [ 2, 10],\n       [ 2, 11],\n       [ 2, 12],\n       [ 3,  0],\n       [ 3,  1],\n       [ 3,  2],\n       [ 3,  3],\n       [ 3,  4],\n       [ 4,  0],\n       [ 4,  1],\n       [ 4,  2],\n       [ 4,  3],\n       [ 4,  4],\n       [ 4,  5],\n       [ 4,  6],\n       [ 4,  7],\n       [ 4,  8],\n       [ 4,  9],\n       [ 4, 10],\n       [ 4, 11],\n       [ 4, 12],\n       [ 5,  0],\n       [ 5,  1],\n       [ 5,  2],\n       [ 5,  3],\n       [ 6,  0],\n       [ 6,  1],\n       [ 6,  2],\n       [ 6,  3],\n       [ 6,  4],\n       [ 6,  5],\n       [ 6,  6],\n       [ 6,  7],\n       [ 6,  8],\n       [ 6,  9],\n       [ 6, 10],\n       [ 6, 11],\n       [ 7,  0],\n       [ 7,  1],\n       [ 7,  2],\n       [ 7,  3],\n       [ 7,  4],\n       [ 7,  5],\n       [ 7,  6],\n       [ 7,  7],\n       [ 7,  8],\n       [ 7,  9],\n       [ 7, 10],\n       [ 7, 11],\n       [ 8,  0],\n       [ 8,  1],\n       [ 8,  2],\n       [ 8,  3],\n       [ 8,  4],\n       [ 8,  5],\n       [ 8,  6],\n       [ 8,  7],\n       [ 9,  0],\n       [ 9,  1],\n       [ 9,  2],\n       [ 9,  3],\n       [ 9,  4],\n       [ 9,  5],\n       [ 9,  6],\n       [ 9,  7],\n       [ 9,  8],\n       [ 9,  9],\n       [10,  0],\n       [10,  1],\n       [10,  2],\n       [10,  3],\n       [10,  4],\n       [10,  5],\n       [10,  6],\n       [10,  7],\n       [10,  8],\n       [10,  9],\n       [10, 10],\n       [10, 11],\n       [10, 12],\n       [10, 13],\n       [10, 14],\n       [10, 15],\n       [10, 16],\n       [10, 17],\n       [10, 18],\n       [11,  0],\n       [11,  1],\n       [11,  2],\n       [11,  3],\n       [11,  4],\n       [11,  5],\n       [11,  6],\n       [11,  7],\n       [11,  8],\n       [11,  9],\n       [11, 10],\n       [11, 11],\n       [12,  0],\n       [12,  1],\n       [12,  2],\n       [12,  3],\n       [12,  4],\n       [12,  5],\n       [12,  6],\n       [12,  7],\n       [12,  8],\n       [12,  9],\n       [12, 10],\n       [12, 11],\n       [12, 12],\n       [12, 13],\n       [12, 14],\n       [12, 15],\n       [12, 16],\n       [12, 17],\n       [13,  0],\n       [13,  1],\n       [13,  2],\n       [13,  3],\n       [13,  4],\n       [13,  5],\n       [13,  6],\n       [13,  7],\n       [14,  0],\n       [14,  1],\n       [14,  2],\n       [14,  3],\n       [14,  4],\n       [14,  5],\n       [14,  6],\n       [14,  7],\n       [14,  8],\n       [14,  9],\n       [14, 10],\n       [14, 11],\n       [14, 12],\n       [14, 13],\n       [14, 14],\n       [14, 15],\n       [14, 16],\n       [15,  0],\n       [15,  1],\n       [15,  2],\n       [15,  3],\n       [15,  4],\n       [15,  5],\n       [15,  6],\n       [15,  7],\n       [15,  8],\n       [15,  9],\n       [16,  0],\n       [16,  1],\n       [16,  2],\n       [16,  3],\n       [16,  4],\n       [16,  5],\n       [16,  6],\n       [16,  7],\n       [16,  8],\n       [16,  9],\n       [16, 10],\n       [16, 11],\n       [17,  0],\n       [17,  1],\n       [17,  2],\n       [17,  3],\n       [17,  4],\n       [17,  5],\n       [17,  6],\n       [17,  7],\n       [17,  8],\n       [17,  9],\n       [17, 10],\n       [17, 11],\n       [17, 12],\n       [17, 13],\n       [18,  0],\n       [18,  1],\n       [18,  2],\n       [18,  3],\n       [18,  4],\n       [18,  5],\n       [19,  0],\n       [19,  1],\n       [19,  2],\n       [19,  3],\n       [19,  4],\n       [19,  5],\n       [19,  6],\n       [19,  7],\n       [19,  8],\n       [19,  9],\n       [19, 10],\n       [19, 11],\n       [19, 12],\n       [19, 13],\n       [19, 14],\n       [20,  0],\n       [20,  1],\n       [20,  2],\n       [20,  3],\n       [20,  4],\n       [20,  5],\n       [20,  6],\n       [20,  7],\n       [20,  8],\n       [20,  9],\n       [20, 10],\n       [20, 11],\n       [21,  0],\n       [21,  1],\n       [21,  2],\n       [21,  3],\n       [21,  4],\n       [21,  5],\n       [21,  6],\n       [21,  7],\n       [21,  8],\n       [21,  9],\n       [21, 10],\n       [21, 11],\n       [21, 12],\n       [22,  0],\n       [22,  1],\n       [22,  2],\n       [22,  3],\n       [22,  4],\n       [22,  5],\n       [22,  6],\n       [22,  7],\n       [22,  8],\n       [22,  9],\n       [22, 10],\n       [22, 11],\n       [22, 12],\n       [22, 13],\n       [22, 14],\n       [22, 15],\n       [23,  0],\n       [23,  1],\n       [23,  2],\n       [23,  3],\n       [23,  4],\n       [23,  5],\n       [23,  6],\n       [23,  7],\n       [23,  8],\n       [23,  9],\n       [23, 10],\n       [24,  0],\n       [24,  1],\n       [24,  2],\n       [24,  3],\n       [24,  4],\n       [24,  5],\n       [24,  6],\n       [24,  7],\n       [24,  8],\n       [24,  9],\n       [24, 10],\n       [24, 11],\n       [24, 12],\n       [24, 13],\n       [25,  0],\n       [25,  1],\n       [25,  2],\n       [25,  3],\n       [25,  4],\n       [25,  5],\n       [25,  6],\n       [25,  7],\n       [25,  8],\n       [25,  9],\n       [25, 10],\n       [25, 11],\n       [25, 12],\n       [25, 13],\n       [26,  0],\n       [26,  1],\n       [26,  2],\n       [26,  3],\n       [26,  4],\n       [26,  5],\n       [26,  6],\n       [26,  7],\n       [27,  0],\n       [27,  1],\n       [27,  2],\n       [27,  3],\n       [27,  4],\n       [27,  5],\n       [28,  0],\n       [28,  1],\n       [28,  2],\n       [28,  3],\n       [28,  4],\n       [28,  5],\n       [28,  6],\n       [28,  7],\n       [28,  8],\n       [28,  9],\n       [28, 10],\n       [28, 11],\n       [28, 12],\n       [28, 13],\n       [29,  0],\n       [29,  1],\n       [29,  2],\n       [29,  3],\n       [29,  4],\n       [29,  5],\n       [29,  6],\n       [29,  7],\n       [29,  8],\n       [29,  9],\n       [29, 10],\n       [29, 11],\n       [29, 12],\n       [29, 13],\n       [29, 14],\n       [30,  0],\n       [30,  1],\n       [30,  2],\n       [30,  3],\n       [30,  4],\n       [30,  5],\n       [30,  6],\n       [30,  7],\n       [30,  8],\n       [31,  0],\n       [31,  1],\n       [31,  2],\n       [31,  3],\n       [31,  4],\n       [31,  5],\n       [31,  6],\n       [31,  7]]) has invalid type <class 'numpy.ndarray'>, must be a string or Tensor. (Can not convert a ndarray into a Tensor or Operation.)",
     "output_type": "error",
     "traceback": [
      "\u001b[0;31m---------------------------------------------------------------------------\u001b[0m",
      "\u001b[0;31mTypeError\u001b[0m                                 Traceback (most recent call last)",
      "\u001b[0;32m/usr/local/lib/python3.4/dist-packages/tensorflow/python/client/session.py\u001b[0m in \u001b[0;36m__init__\u001b[0;34m(self, fetches, contraction_fn)\u001b[0m\n\u001b[1;32m    266\u001b[0m         self._unique_fetches.append(ops.get_default_graph().as_graph_element(\n\u001b[0;32m--> 267\u001b[0;31m             fetch, allow_tensor=True, allow_operation=True))\n\u001b[0m\u001b[1;32m    268\u001b[0m       \u001b[0;32mexcept\u001b[0m \u001b[0mTypeError\u001b[0m \u001b[0;32mas\u001b[0m \u001b[0me\u001b[0m\u001b[0;34m:\u001b[0m\u001b[0;34m\u001b[0m\u001b[0m\n",
      "\u001b[0;32m/usr/local/lib/python3.4/dist-packages/tensorflow/python/framework/ops.py\u001b[0m in \u001b[0;36mas_graph_element\u001b[0;34m(self, obj, allow_tensor, allow_operation)\u001b[0m\n\u001b[1;32m   2410\u001b[0m     \u001b[0;32mif\u001b[0m \u001b[0mself\u001b[0m\u001b[0;34m.\u001b[0m\u001b[0m_finalized\u001b[0m\u001b[0;34m:\u001b[0m\u001b[0;34m\u001b[0m\u001b[0m\n\u001b[0;32m-> 2411\u001b[0;31m       \u001b[0;32mreturn\u001b[0m \u001b[0mself\u001b[0m\u001b[0;34m.\u001b[0m\u001b[0m_as_graph_element_locked\u001b[0m\u001b[0;34m(\u001b[0m\u001b[0mobj\u001b[0m\u001b[0;34m,\u001b[0m \u001b[0mallow_tensor\u001b[0m\u001b[0;34m,\u001b[0m \u001b[0mallow_operation\u001b[0m\u001b[0;34m)\u001b[0m\u001b[0;34m\u001b[0m\u001b[0m\n\u001b[0m\u001b[1;32m   2412\u001b[0m \u001b[0;34m\u001b[0m\u001b[0m\n",
      "\u001b[0;32m/usr/local/lib/python3.4/dist-packages/tensorflow/python/framework/ops.py\u001b[0m in \u001b[0;36m_as_graph_element_locked\u001b[0;34m(self, obj, allow_tensor, allow_operation)\u001b[0m\n\u001b[1;32m   2502\u001b[0m       raise TypeError(\"Can not convert a %s into a %s.\"\n\u001b[0;32m-> 2503\u001b[0;31m                       % (type(obj).__name__, types_str))\n\u001b[0m\u001b[1;32m   2504\u001b[0m \u001b[0;34m\u001b[0m\u001b[0m\n",
      "\u001b[0;31mTypeError\u001b[0m: Can not convert a ndarray into a Tensor or Operation.",
      "\nDuring handling of the above exception, another exception occurred:\n",
      "\u001b[0;31mTypeError\u001b[0m                                 Traceback (most recent call last)",
      "\u001b[0;32m<ipython-input-12-b561d9f6b0f5>\u001b[0m in \u001b[0;36m<module>\u001b[0;34m()\u001b[0m\n\u001b[1;32m      9\u001b[0m \u001b[0;34m\u001b[0m\u001b[0m\n\u001b[1;32m     10\u001b[0m     \u001b[0;31m# for each character, lookup the index\u001b[0m\u001b[0;34m\u001b[0m\u001b[0;34m\u001b[0m\u001b[0m\n\u001b[0;32m---> 11\u001b[0;31m     \u001b[0mprint\u001b[0m\u001b[0;34m(\u001b[0m\u001b[0msess\u001b[0m\u001b[0;34m.\u001b[0m\u001b[0mrun\u001b[0m\u001b[0;34m(\u001b[0m\u001b[0mk\u001b[0m\u001b[0;34m[\u001b[0m\u001b[0;36m0\u001b[0m\u001b[0;34m]\u001b[0m\u001b[0;34m[\u001b[0m\u001b[0mCOLOR_NAME_KEY\u001b[0m\u001b[0;34m]\u001b[0m\u001b[0;34m)\u001b[0m\u001b[0;34m)\u001b[0m\u001b[0;34m\u001b[0m\u001b[0m\n\u001b[0m\u001b[1;32m     12\u001b[0m     \u001b[0mencoded\u001b[0m \u001b[0;34m=\u001b[0m \u001b[0mvocab\u001b[0m\u001b[0;34m.\u001b[0m\u001b[0mlookup\u001b[0m\u001b[0;34m(\u001b[0m\u001b[0mk\u001b[0m\u001b[0;34m[\u001b[0m\u001b[0;36m0\u001b[0m\u001b[0;34m]\u001b[0m\u001b[0;34m[\u001b[0m\u001b[0mCOLOR_NAME_KEY\u001b[0m\u001b[0;34m]\u001b[0m\u001b[0;34m)\u001b[0m\u001b[0;34m\u001b[0m\u001b[0m\n\u001b[1;32m     13\u001b[0m     \u001b[0mprint\u001b[0m\u001b[0;34m(\u001b[0m\u001b[0msess\u001b[0m\u001b[0;34m.\u001b[0m\u001b[0mrun\u001b[0m\u001b[0;34m(\u001b[0m\u001b[0mencoded\u001b[0m\u001b[0;34m)\u001b[0m\u001b[0;34m)\u001b[0m\u001b[0;34m\u001b[0m\u001b[0m\n",
      "\u001b[0;32m/usr/local/lib/python3.4/dist-packages/tensorflow/python/training/monitored_session.py\u001b[0m in \u001b[0;36mrun\u001b[0;34m(self, fetches, feed_dict, options, run_metadata)\u001b[0m\n\u001b[1;32m    482\u001b[0m                           \u001b[0mfeed_dict\u001b[0m\u001b[0;34m=\u001b[0m\u001b[0mfeed_dict\u001b[0m\u001b[0;34m,\u001b[0m\u001b[0;34m\u001b[0m\u001b[0m\n\u001b[1;32m    483\u001b[0m                           \u001b[0moptions\u001b[0m\u001b[0;34m=\u001b[0m\u001b[0moptions\u001b[0m\u001b[0;34m,\u001b[0m\u001b[0;34m\u001b[0m\u001b[0m\n\u001b[0;32m--> 484\u001b[0;31m                           run_metadata=run_metadata)\n\u001b[0m\u001b[1;32m    485\u001b[0m \u001b[0;34m\u001b[0m\u001b[0m\n\u001b[1;32m    486\u001b[0m   \u001b[0;32mdef\u001b[0m \u001b[0mshould_stop\u001b[0m\u001b[0;34m(\u001b[0m\u001b[0mself\u001b[0m\u001b[0;34m)\u001b[0m\u001b[0;34m:\u001b[0m\u001b[0;34m\u001b[0m\u001b[0m\n",
      "\u001b[0;32m/usr/local/lib/python3.4/dist-packages/tensorflow/python/training/monitored_session.py\u001b[0m in \u001b[0;36mrun\u001b[0;34m(self, fetches, feed_dict, options, run_metadata)\u001b[0m\n\u001b[1;32m    818\u001b[0m                               \u001b[0mfeed_dict\u001b[0m\u001b[0;34m=\u001b[0m\u001b[0mfeed_dict\u001b[0m\u001b[0;34m,\u001b[0m\u001b[0;34m\u001b[0m\u001b[0m\n\u001b[1;32m    819\u001b[0m                               \u001b[0moptions\u001b[0m\u001b[0;34m=\u001b[0m\u001b[0moptions\u001b[0m\u001b[0;34m,\u001b[0m\u001b[0;34m\u001b[0m\u001b[0m\n\u001b[0;32m--> 820\u001b[0;31m                               run_metadata=run_metadata)\n\u001b[0m\u001b[1;32m    821\u001b[0m       \u001b[0;32mexcept\u001b[0m \u001b[0m_PREEMPTION_ERRORS\u001b[0m \u001b[0;32mas\u001b[0m \u001b[0me\u001b[0m\u001b[0;34m:\u001b[0m\u001b[0;34m\u001b[0m\u001b[0m\n\u001b[1;32m    822\u001b[0m         logging.info('An error was raised. This may be due to a preemption in '\n",
      "\u001b[0;32m/usr/local/lib/python3.4/dist-packages/tensorflow/python/training/monitored_session.py\u001b[0m in \u001b[0;36mrun\u001b[0;34m(self, *args, **kwargs)\u001b[0m\n\u001b[1;32m    774\u001b[0m \u001b[0;34m\u001b[0m\u001b[0m\n\u001b[1;32m    775\u001b[0m   \u001b[0;32mdef\u001b[0m \u001b[0mrun\u001b[0m\u001b[0;34m(\u001b[0m\u001b[0mself\u001b[0m\u001b[0;34m,\u001b[0m \u001b[0;34m*\u001b[0m\u001b[0margs\u001b[0m\u001b[0;34m,\u001b[0m \u001b[0;34m**\u001b[0m\u001b[0mkwargs\u001b[0m\u001b[0;34m)\u001b[0m\u001b[0;34m:\u001b[0m\u001b[0;34m\u001b[0m\u001b[0m\n\u001b[0;32m--> 776\u001b[0;31m     \u001b[0;32mreturn\u001b[0m \u001b[0mself\u001b[0m\u001b[0;34m.\u001b[0m\u001b[0m_sess\u001b[0m\u001b[0;34m.\u001b[0m\u001b[0mrun\u001b[0m\u001b[0;34m(\u001b[0m\u001b[0;34m*\u001b[0m\u001b[0margs\u001b[0m\u001b[0;34m,\u001b[0m \u001b[0;34m**\u001b[0m\u001b[0mkwargs\u001b[0m\u001b[0;34m)\u001b[0m\u001b[0;34m\u001b[0m\u001b[0m\n\u001b[0m\u001b[1;32m    777\u001b[0m \u001b[0;34m\u001b[0m\u001b[0m\n\u001b[1;32m    778\u001b[0m \u001b[0;34m\u001b[0m\u001b[0m\n",
      "\u001b[0;32m/usr/local/lib/python3.4/dist-packages/tensorflow/python/training/monitored_session.py\u001b[0m in \u001b[0;36mrun\u001b[0;34m(self, fetches, feed_dict, options, run_metadata)\u001b[0m\n\u001b[1;32m    928\u001b[0m                                   \u001b[0mfeed_dict\u001b[0m\u001b[0;34m=\u001b[0m\u001b[0mfeed_dict\u001b[0m\u001b[0;34m,\u001b[0m\u001b[0;34m\u001b[0m\u001b[0m\n\u001b[1;32m    929\u001b[0m                                   \u001b[0moptions\u001b[0m\u001b[0;34m=\u001b[0m\u001b[0moptions\u001b[0m\u001b[0;34m,\u001b[0m\u001b[0;34m\u001b[0m\u001b[0m\n\u001b[0;32m--> 930\u001b[0;31m                                   run_metadata=run_metadata)\n\u001b[0m\u001b[1;32m    931\u001b[0m \u001b[0;34m\u001b[0m\u001b[0m\n\u001b[1;32m    932\u001b[0m     \u001b[0;32mfor\u001b[0m \u001b[0mhook\u001b[0m \u001b[0;32min\u001b[0m \u001b[0mself\u001b[0m\u001b[0;34m.\u001b[0m\u001b[0m_hooks\u001b[0m\u001b[0;34m:\u001b[0m\u001b[0;34m\u001b[0m\u001b[0m\n",
      "\u001b[0;32m/usr/local/lib/python3.4/dist-packages/tensorflow/python/training/monitored_session.py\u001b[0m in \u001b[0;36mrun\u001b[0;34m(self, *args, **kwargs)\u001b[0m\n\u001b[1;32m    774\u001b[0m \u001b[0;34m\u001b[0m\u001b[0m\n\u001b[1;32m    775\u001b[0m   \u001b[0;32mdef\u001b[0m \u001b[0mrun\u001b[0m\u001b[0;34m(\u001b[0m\u001b[0mself\u001b[0m\u001b[0;34m,\u001b[0m \u001b[0;34m*\u001b[0m\u001b[0margs\u001b[0m\u001b[0;34m,\u001b[0m \u001b[0;34m**\u001b[0m\u001b[0mkwargs\u001b[0m\u001b[0;34m)\u001b[0m\u001b[0;34m:\u001b[0m\u001b[0;34m\u001b[0m\u001b[0m\n\u001b[0;32m--> 776\u001b[0;31m     \u001b[0;32mreturn\u001b[0m \u001b[0mself\u001b[0m\u001b[0;34m.\u001b[0m\u001b[0m_sess\u001b[0m\u001b[0;34m.\u001b[0m\u001b[0mrun\u001b[0m\u001b[0;34m(\u001b[0m\u001b[0;34m*\u001b[0m\u001b[0margs\u001b[0m\u001b[0;34m,\u001b[0m \u001b[0;34m**\u001b[0m\u001b[0mkwargs\u001b[0m\u001b[0;34m)\u001b[0m\u001b[0;34m\u001b[0m\u001b[0m\n\u001b[0m\u001b[1;32m    777\u001b[0m \u001b[0;34m\u001b[0m\u001b[0m\n\u001b[1;32m    778\u001b[0m \u001b[0;34m\u001b[0m\u001b[0m\n",
      "\u001b[0;32m/usr/local/lib/python3.4/dist-packages/tensorflow/python/client/session.py\u001b[0m in \u001b[0;36mrun\u001b[0;34m(self, fetches, feed_dict, options, run_metadata)\u001b[0m\n\u001b[1;32m    776\u001b[0m     \u001b[0;32mtry\u001b[0m\u001b[0;34m:\u001b[0m\u001b[0;34m\u001b[0m\u001b[0m\n\u001b[1;32m    777\u001b[0m       result = self._run(None, fetches, feed_dict, options_ptr,\n\u001b[0;32m--> 778\u001b[0;31m                          run_metadata_ptr)\n\u001b[0m\u001b[1;32m    779\u001b[0m       \u001b[0;32mif\u001b[0m \u001b[0mrun_metadata\u001b[0m\u001b[0;34m:\u001b[0m\u001b[0;34m\u001b[0m\u001b[0m\n\u001b[1;32m    780\u001b[0m         \u001b[0mproto_data\u001b[0m \u001b[0;34m=\u001b[0m \u001b[0mtf_session\u001b[0m\u001b[0;34m.\u001b[0m\u001b[0mTF_GetBuffer\u001b[0m\u001b[0;34m(\u001b[0m\u001b[0mrun_metadata_ptr\u001b[0m\u001b[0;34m)\u001b[0m\u001b[0;34m\u001b[0m\u001b[0m\n",
      "\u001b[0;32m/usr/local/lib/python3.4/dist-packages/tensorflow/python/client/session.py\u001b[0m in \u001b[0;36m_run\u001b[0;34m(self, handle, fetches, feed_dict, options, run_metadata)\u001b[0m\n\u001b[1;32m    967\u001b[0m \u001b[0;34m\u001b[0m\u001b[0m\n\u001b[1;32m    968\u001b[0m     \u001b[0;31m# Create a fetch handler to take care of the structure of fetches.\u001b[0m\u001b[0;34m\u001b[0m\u001b[0;34m\u001b[0m\u001b[0m\n\u001b[0;32m--> 969\u001b[0;31m     \u001b[0mfetch_handler\u001b[0m \u001b[0;34m=\u001b[0m \u001b[0m_FetchHandler\u001b[0m\u001b[0;34m(\u001b[0m\u001b[0mself\u001b[0m\u001b[0;34m.\u001b[0m\u001b[0m_graph\u001b[0m\u001b[0;34m,\u001b[0m \u001b[0mfetches\u001b[0m\u001b[0;34m,\u001b[0m \u001b[0mfeed_dict_string\u001b[0m\u001b[0;34m)\u001b[0m\u001b[0;34m\u001b[0m\u001b[0m\n\u001b[0m\u001b[1;32m    970\u001b[0m \u001b[0;34m\u001b[0m\u001b[0m\n\u001b[1;32m    971\u001b[0m     \u001b[0;31m# Run request and get response.\u001b[0m\u001b[0;34m\u001b[0m\u001b[0;34m\u001b[0m\u001b[0m\n",
      "\u001b[0;32m/usr/local/lib/python3.4/dist-packages/tensorflow/python/client/session.py\u001b[0m in \u001b[0;36m__init__\u001b[0;34m(self, graph, fetches, feeds)\u001b[0m\n\u001b[1;32m    406\u001b[0m     \"\"\"\n\u001b[1;32m    407\u001b[0m     \u001b[0;32mwith\u001b[0m \u001b[0mgraph\u001b[0m\u001b[0;34m.\u001b[0m\u001b[0mas_default\u001b[0m\u001b[0;34m(\u001b[0m\u001b[0;34m)\u001b[0m\u001b[0;34m:\u001b[0m\u001b[0;34m\u001b[0m\u001b[0m\n\u001b[0;32m--> 408\u001b[0;31m       \u001b[0mself\u001b[0m\u001b[0;34m.\u001b[0m\u001b[0m_fetch_mapper\u001b[0m \u001b[0;34m=\u001b[0m \u001b[0m_FetchMapper\u001b[0m\u001b[0;34m.\u001b[0m\u001b[0mfor_fetch\u001b[0m\u001b[0;34m(\u001b[0m\u001b[0mfetches\u001b[0m\u001b[0;34m)\u001b[0m\u001b[0;34m\u001b[0m\u001b[0m\n\u001b[0m\u001b[1;32m    409\u001b[0m     \u001b[0mself\u001b[0m\u001b[0;34m.\u001b[0m\u001b[0m_fetches\u001b[0m \u001b[0;34m=\u001b[0m \u001b[0;34m[\u001b[0m\u001b[0;34m]\u001b[0m\u001b[0;34m\u001b[0m\u001b[0m\n\u001b[1;32m    410\u001b[0m     \u001b[0mself\u001b[0m\u001b[0;34m.\u001b[0m\u001b[0m_targets\u001b[0m \u001b[0;34m=\u001b[0m \u001b[0;34m[\u001b[0m\u001b[0;34m]\u001b[0m\u001b[0;34m\u001b[0m\u001b[0m\n",
      "\u001b[0;32m/usr/local/lib/python3.4/dist-packages/tensorflow/python/client/session.py\u001b[0m in \u001b[0;36mfor_fetch\u001b[0;34m(fetch)\u001b[0m\n\u001b[1;32m    230\u001b[0m       \u001b[0;32mreturn\u001b[0m \u001b[0m_ListFetchMapper\u001b[0m\u001b[0;34m(\u001b[0m\u001b[0mfetch\u001b[0m\u001b[0;34m)\u001b[0m\u001b[0;34m\u001b[0m\u001b[0m\n\u001b[1;32m    231\u001b[0m     \u001b[0;32melif\u001b[0m \u001b[0misinstance\u001b[0m\u001b[0;34m(\u001b[0m\u001b[0mfetch\u001b[0m\u001b[0;34m,\u001b[0m \u001b[0mdict\u001b[0m\u001b[0;34m)\u001b[0m\u001b[0;34m:\u001b[0m\u001b[0;34m\u001b[0m\u001b[0m\n\u001b[0;32m--> 232\u001b[0;31m       \u001b[0;32mreturn\u001b[0m \u001b[0m_DictFetchMapper\u001b[0m\u001b[0;34m(\u001b[0m\u001b[0mfetch\u001b[0m\u001b[0;34m)\u001b[0m\u001b[0;34m\u001b[0m\u001b[0m\n\u001b[0m\u001b[1;32m    233\u001b[0m     \u001b[0;32melse\u001b[0m\u001b[0;34m:\u001b[0m\u001b[0;34m\u001b[0m\u001b[0m\n\u001b[1;32m    234\u001b[0m       \u001b[0;31m# Look for a handler in the registered expansions.\u001b[0m\u001b[0;34m\u001b[0m\u001b[0;34m\u001b[0m\u001b[0m\n",
      "\u001b[0;32m/usr/local/lib/python3.4/dist-packages/tensorflow/python/client/session.py\u001b[0m in \u001b[0;36m__init__\u001b[0;34m(self, fetches)\u001b[0m\n\u001b[1;32m    368\u001b[0m     \u001b[0mself\u001b[0m\u001b[0;34m.\u001b[0m\u001b[0m_keys\u001b[0m \u001b[0;34m=\u001b[0m \u001b[0mfetches\u001b[0m\u001b[0;34m.\u001b[0m\u001b[0mkeys\u001b[0m\u001b[0;34m(\u001b[0m\u001b[0;34m)\u001b[0m\u001b[0;34m\u001b[0m\u001b[0m\n\u001b[1;32m    369\u001b[0m     self._mappers = [_FetchMapper.for_fetch(fetch)\n\u001b[0;32m--> 370\u001b[0;31m                      for fetch in fetches.values()]\n\u001b[0m\u001b[1;32m    371\u001b[0m     \u001b[0mself\u001b[0m\u001b[0;34m.\u001b[0m\u001b[0m_unique_fetches\u001b[0m\u001b[0;34m,\u001b[0m \u001b[0mself\u001b[0m\u001b[0;34m.\u001b[0m\u001b[0m_value_indices\u001b[0m \u001b[0;34m=\u001b[0m \u001b[0m_uniquify_fetches\u001b[0m\u001b[0;34m(\u001b[0m\u001b[0mself\u001b[0m\u001b[0;34m.\u001b[0m\u001b[0m_mappers\u001b[0m\u001b[0;34m)\u001b[0m\u001b[0;34m\u001b[0m\u001b[0m\n\u001b[1;32m    372\u001b[0m \u001b[0;34m\u001b[0m\u001b[0m\n",
      "\u001b[0;32m/usr/local/lib/python3.4/dist-packages/tensorflow/python/client/session.py\u001b[0m in \u001b[0;36m<listcomp>\u001b[0;34m(.0)\u001b[0m\n\u001b[1;32m    368\u001b[0m     \u001b[0mself\u001b[0m\u001b[0;34m.\u001b[0m\u001b[0m_keys\u001b[0m \u001b[0;34m=\u001b[0m \u001b[0mfetches\u001b[0m\u001b[0;34m.\u001b[0m\u001b[0mkeys\u001b[0m\u001b[0;34m(\u001b[0m\u001b[0;34m)\u001b[0m\u001b[0;34m\u001b[0m\u001b[0m\n\u001b[1;32m    369\u001b[0m     self._mappers = [_FetchMapper.for_fetch(fetch)\n\u001b[0;32m--> 370\u001b[0;31m                      for fetch in fetches.values()]\n\u001b[0m\u001b[1;32m    371\u001b[0m     \u001b[0mself\u001b[0m\u001b[0;34m.\u001b[0m\u001b[0m_unique_fetches\u001b[0m\u001b[0;34m,\u001b[0m \u001b[0mself\u001b[0m\u001b[0;34m.\u001b[0m\u001b[0m_value_indices\u001b[0m \u001b[0;34m=\u001b[0m \u001b[0m_uniquify_fetches\u001b[0m\u001b[0;34m(\u001b[0m\u001b[0mself\u001b[0m\u001b[0;34m.\u001b[0m\u001b[0m_mappers\u001b[0m\u001b[0;34m)\u001b[0m\u001b[0;34m\u001b[0m\u001b[0m\n\u001b[1;32m    372\u001b[0m \u001b[0;34m\u001b[0m\u001b[0m\n",
      "\u001b[0;32m/usr/local/lib/python3.4/dist-packages/tensorflow/python/client/session.py\u001b[0m in \u001b[0;36mfor_fetch\u001b[0;34m(fetch)\u001b[0m\n\u001b[1;32m    228\u001b[0m     \u001b[0;32melif\u001b[0m \u001b[0misinstance\u001b[0m\u001b[0;34m(\u001b[0m\u001b[0mfetch\u001b[0m\u001b[0;34m,\u001b[0m \u001b[0;34m(\u001b[0m\u001b[0mlist\u001b[0m\u001b[0;34m,\u001b[0m \u001b[0mtuple\u001b[0m\u001b[0;34m)\u001b[0m\u001b[0;34m)\u001b[0m\u001b[0;34m:\u001b[0m\u001b[0;34m\u001b[0m\u001b[0m\n\u001b[1;32m    229\u001b[0m       \u001b[0;31m# NOTE(touts): This is also the code path for namedtuples.\u001b[0m\u001b[0;34m\u001b[0m\u001b[0;34m\u001b[0m\u001b[0m\n\u001b[0;32m--> 230\u001b[0;31m       \u001b[0;32mreturn\u001b[0m \u001b[0m_ListFetchMapper\u001b[0m\u001b[0;34m(\u001b[0m\u001b[0mfetch\u001b[0m\u001b[0;34m)\u001b[0m\u001b[0;34m\u001b[0m\u001b[0m\n\u001b[0m\u001b[1;32m    231\u001b[0m     \u001b[0;32melif\u001b[0m \u001b[0misinstance\u001b[0m\u001b[0;34m(\u001b[0m\u001b[0mfetch\u001b[0m\u001b[0;34m,\u001b[0m \u001b[0mdict\u001b[0m\u001b[0;34m)\u001b[0m\u001b[0;34m:\u001b[0m\u001b[0;34m\u001b[0m\u001b[0m\n\u001b[1;32m    232\u001b[0m       \u001b[0;32mreturn\u001b[0m \u001b[0m_DictFetchMapper\u001b[0m\u001b[0;34m(\u001b[0m\u001b[0mfetch\u001b[0m\u001b[0;34m)\u001b[0m\u001b[0;34m\u001b[0m\u001b[0m\n",
      "\u001b[0;32m/usr/local/lib/python3.4/dist-packages/tensorflow/python/client/session.py\u001b[0m in \u001b[0;36m__init__\u001b[0;34m(self, fetches)\u001b[0m\n\u001b[1;32m    335\u001b[0m     \"\"\"\n\u001b[1;32m    336\u001b[0m     \u001b[0mself\u001b[0m\u001b[0;34m.\u001b[0m\u001b[0m_fetch_type\u001b[0m \u001b[0;34m=\u001b[0m \u001b[0mtype\u001b[0m\u001b[0;34m(\u001b[0m\u001b[0mfetches\u001b[0m\u001b[0;34m)\u001b[0m\u001b[0;34m\u001b[0m\u001b[0m\n\u001b[0;32m--> 337\u001b[0;31m     \u001b[0mself\u001b[0m\u001b[0;34m.\u001b[0m\u001b[0m_mappers\u001b[0m \u001b[0;34m=\u001b[0m \u001b[0;34m[\u001b[0m\u001b[0m_FetchMapper\u001b[0m\u001b[0;34m.\u001b[0m\u001b[0mfor_fetch\u001b[0m\u001b[0;34m(\u001b[0m\u001b[0mfetch\u001b[0m\u001b[0;34m)\u001b[0m \u001b[0;32mfor\u001b[0m \u001b[0mfetch\u001b[0m \u001b[0;32min\u001b[0m \u001b[0mfetches\u001b[0m\u001b[0;34m]\u001b[0m\u001b[0;34m\u001b[0m\u001b[0m\n\u001b[0m\u001b[1;32m    338\u001b[0m     \u001b[0mself\u001b[0m\u001b[0;34m.\u001b[0m\u001b[0m_unique_fetches\u001b[0m\u001b[0;34m,\u001b[0m \u001b[0mself\u001b[0m\u001b[0;34m.\u001b[0m\u001b[0m_value_indices\u001b[0m \u001b[0;34m=\u001b[0m \u001b[0m_uniquify_fetches\u001b[0m\u001b[0;34m(\u001b[0m\u001b[0mself\u001b[0m\u001b[0;34m.\u001b[0m\u001b[0m_mappers\u001b[0m\u001b[0;34m)\u001b[0m\u001b[0;34m\u001b[0m\u001b[0m\n\u001b[1;32m    339\u001b[0m \u001b[0;34m\u001b[0m\u001b[0m\n",
      "\u001b[0;32m/usr/local/lib/python3.4/dist-packages/tensorflow/python/client/session.py\u001b[0m in \u001b[0;36m<listcomp>\u001b[0;34m(.0)\u001b[0m\n\u001b[1;32m    335\u001b[0m     \"\"\"\n\u001b[1;32m    336\u001b[0m     \u001b[0mself\u001b[0m\u001b[0;34m.\u001b[0m\u001b[0m_fetch_type\u001b[0m \u001b[0;34m=\u001b[0m \u001b[0mtype\u001b[0m\u001b[0;34m(\u001b[0m\u001b[0mfetches\u001b[0m\u001b[0;34m)\u001b[0m\u001b[0;34m\u001b[0m\u001b[0m\n\u001b[0;32m--> 337\u001b[0;31m     \u001b[0mself\u001b[0m\u001b[0;34m.\u001b[0m\u001b[0m_mappers\u001b[0m \u001b[0;34m=\u001b[0m \u001b[0;34m[\u001b[0m\u001b[0m_FetchMapper\u001b[0m\u001b[0;34m.\u001b[0m\u001b[0mfor_fetch\u001b[0m\u001b[0;34m(\u001b[0m\u001b[0mfetch\u001b[0m\u001b[0;34m)\u001b[0m \u001b[0;32mfor\u001b[0m \u001b[0mfetch\u001b[0m \u001b[0;32min\u001b[0m \u001b[0mfetches\u001b[0m\u001b[0;34m]\u001b[0m\u001b[0;34m\u001b[0m\u001b[0m\n\u001b[0m\u001b[1;32m    338\u001b[0m     \u001b[0mself\u001b[0m\u001b[0;34m.\u001b[0m\u001b[0m_unique_fetches\u001b[0m\u001b[0;34m,\u001b[0m \u001b[0mself\u001b[0m\u001b[0;34m.\u001b[0m\u001b[0m_value_indices\u001b[0m \u001b[0;34m=\u001b[0m \u001b[0m_uniquify_fetches\u001b[0m\u001b[0;34m(\u001b[0m\u001b[0mself\u001b[0m\u001b[0;34m.\u001b[0m\u001b[0m_mappers\u001b[0m\u001b[0;34m)\u001b[0m\u001b[0;34m\u001b[0m\u001b[0m\n\u001b[1;32m    339\u001b[0m \u001b[0;34m\u001b[0m\u001b[0m\n",
      "\u001b[0;32m/usr/local/lib/python3.4/dist-packages/tensorflow/python/client/session.py\u001b[0m in \u001b[0;36mfor_fetch\u001b[0;34m(fetch)\u001b[0m\n\u001b[1;32m    236\u001b[0m         \u001b[0;32mif\u001b[0m \u001b[0misinstance\u001b[0m\u001b[0;34m(\u001b[0m\u001b[0mfetch\u001b[0m\u001b[0;34m,\u001b[0m \u001b[0mtensor_type\u001b[0m\u001b[0;34m)\u001b[0m\u001b[0;34m:\u001b[0m\u001b[0;34m\u001b[0m\u001b[0m\n\u001b[1;32m    237\u001b[0m           \u001b[0mfetches\u001b[0m\u001b[0;34m,\u001b[0m \u001b[0mcontraction_fn\u001b[0m \u001b[0;34m=\u001b[0m \u001b[0mfetch_fn\u001b[0m\u001b[0;34m(\u001b[0m\u001b[0mfetch\u001b[0m\u001b[0;34m)\u001b[0m\u001b[0;34m\u001b[0m\u001b[0m\n\u001b[0;32m--> 238\u001b[0;31m           \u001b[0;32mreturn\u001b[0m \u001b[0m_ElementFetchMapper\u001b[0m\u001b[0;34m(\u001b[0m\u001b[0mfetches\u001b[0m\u001b[0;34m,\u001b[0m \u001b[0mcontraction_fn\u001b[0m\u001b[0;34m)\u001b[0m\u001b[0;34m\u001b[0m\u001b[0m\n\u001b[0m\u001b[1;32m    239\u001b[0m     \u001b[0;31m# Did not find anything.\u001b[0m\u001b[0;34m\u001b[0m\u001b[0;34m\u001b[0m\u001b[0m\n\u001b[1;32m    240\u001b[0m     raise TypeError('Fetch argument %r has invalid type %r' %\n",
      "\u001b[0;32m/usr/local/lib/python3.4/dist-packages/tensorflow/python/client/session.py\u001b[0m in \u001b[0;36m__init__\u001b[0;34m(self, fetches, contraction_fn)\u001b[0m\n\u001b[1;32m    269\u001b[0m         raise TypeError('Fetch argument %r has invalid type %r, '\n\u001b[1;32m    270\u001b[0m                         \u001b[0;34m'must be a string or Tensor. (%s)'\u001b[0m\u001b[0;34m\u001b[0m\u001b[0m\n\u001b[0;32m--> 271\u001b[0;31m                         % (fetch, type(fetch), str(e)))\n\u001b[0m\u001b[1;32m    272\u001b[0m       \u001b[0;32mexcept\u001b[0m \u001b[0mValueError\u001b[0m \u001b[0;32mas\u001b[0m \u001b[0me\u001b[0m\u001b[0;34m:\u001b[0m\u001b[0;34m\u001b[0m\u001b[0m\n\u001b[1;32m    273\u001b[0m         raise ValueError('Fetch argument %r cannot be interpreted as a '\n",
      "\u001b[0;31mTypeError\u001b[0m: Fetch argument array([[ 0,  0],\n       [ 0,  1],\n       [ 0,  2],\n       [ 0,  3],\n       [ 0,  4],\n       [ 0,  5],\n       [ 0,  6],\n       [ 0,  7],\n       [ 0,  8],\n       [ 0,  9],\n       [ 0, 10],\n       [ 1,  0],\n       [ 1,  1],\n       [ 1,  2],\n       [ 1,  3],\n       [ 1,  4],\n       [ 1,  5],\n       [ 1,  6],\n       [ 2,  0],\n       [ 2,  1],\n       [ 2,  2],\n       [ 2,  3],\n       [ 2,  4],\n       [ 2,  5],\n       [ 2,  6],\n       [ 2,  7],\n       [ 2,  8],\n       [ 2,  9],\n       [ 2, 10],\n       [ 2, 11],\n       [ 2, 12],\n       [ 3,  0],\n       [ 3,  1],\n       [ 3,  2],\n       [ 3,  3],\n       [ 3,  4],\n       [ 4,  0],\n       [ 4,  1],\n       [ 4,  2],\n       [ 4,  3],\n       [ 4,  4],\n       [ 4,  5],\n       [ 4,  6],\n       [ 4,  7],\n       [ 4,  8],\n       [ 4,  9],\n       [ 4, 10],\n       [ 4, 11],\n       [ 4, 12],\n       [ 5,  0],\n       [ 5,  1],\n       [ 5,  2],\n       [ 5,  3],\n       [ 6,  0],\n       [ 6,  1],\n       [ 6,  2],\n       [ 6,  3],\n       [ 6,  4],\n       [ 6,  5],\n       [ 6,  6],\n       [ 6,  7],\n       [ 6,  8],\n       [ 6,  9],\n       [ 6, 10],\n       [ 6, 11],\n       [ 7,  0],\n       [ 7,  1],\n       [ 7,  2],\n       [ 7,  3],\n       [ 7,  4],\n       [ 7,  5],\n       [ 7,  6],\n       [ 7,  7],\n       [ 7,  8],\n       [ 7,  9],\n       [ 7, 10],\n       [ 7, 11],\n       [ 8,  0],\n       [ 8,  1],\n       [ 8,  2],\n       [ 8,  3],\n       [ 8,  4],\n       [ 8,  5],\n       [ 8,  6],\n       [ 8,  7],\n       [ 9,  0],\n       [ 9,  1],\n       [ 9,  2],\n       [ 9,  3],\n       [ 9,  4],\n       [ 9,  5],\n       [ 9,  6],\n       [ 9,  7],\n       [ 9,  8],\n       [ 9,  9],\n       [10,  0],\n       [10,  1],\n       [10,  2],\n       [10,  3],\n       [10,  4],\n       [10,  5],\n       [10,  6],\n       [10,  7],\n       [10,  8],\n       [10,  9],\n       [10, 10],\n       [10, 11],\n       [10, 12],\n       [10, 13],\n       [10, 14],\n       [10, 15],\n       [10, 16],\n       [10, 17],\n       [10, 18],\n       [11,  0],\n       [11,  1],\n       [11,  2],\n       [11,  3],\n       [11,  4],\n       [11,  5],\n       [11,  6],\n       [11,  7],\n       [11,  8],\n       [11,  9],\n       [11, 10],\n       [11, 11],\n       [12,  0],\n       [12,  1],\n       [12,  2],\n       [12,  3],\n       [12,  4],\n       [12,  5],\n       [12,  6],\n       [12,  7],\n       [12,  8],\n       [12,  9],\n       [12, 10],\n       [12, 11],\n       [12, 12],\n       [12, 13],\n       [12, 14],\n       [12, 15],\n       [12, 16],\n       [12, 17],\n       [13,  0],\n       [13,  1],\n       [13,  2],\n       [13,  3],\n       [13,  4],\n       [13,  5],\n       [13,  6],\n       [13,  7],\n       [14,  0],\n       [14,  1],\n       [14,  2],\n       [14,  3],\n       [14,  4],\n       [14,  5],\n       [14,  6],\n       [14,  7],\n       [14,  8],\n       [14,  9],\n       [14, 10],\n       [14, 11],\n       [14, 12],\n       [14, 13],\n       [14, 14],\n       [14, 15],\n       [14, 16],\n       [15,  0],\n       [15,  1],\n       [15,  2],\n       [15,  3],\n       [15,  4],\n       [15,  5],\n       [15,  6],\n       [15,  7],\n       [15,  8],\n       [15,  9],\n       [16,  0],\n       [16,  1],\n       [16,  2],\n       [16,  3],\n       [16,  4],\n       [16,  5],\n       [16,  6],\n       [16,  7],\n       [16,  8],\n       [16,  9],\n       [16, 10],\n       [16, 11],\n       [17,  0],\n       [17,  1],\n       [17,  2],\n       [17,  3],\n       [17,  4],\n       [17,  5],\n       [17,  6],\n       [17,  7],\n       [17,  8],\n       [17,  9],\n       [17, 10],\n       [17, 11],\n       [17, 12],\n       [17, 13],\n       [18,  0],\n       [18,  1],\n       [18,  2],\n       [18,  3],\n       [18,  4],\n       [18,  5],\n       [19,  0],\n       [19,  1],\n       [19,  2],\n       [19,  3],\n       [19,  4],\n       [19,  5],\n       [19,  6],\n       [19,  7],\n       [19,  8],\n       [19,  9],\n       [19, 10],\n       [19, 11],\n       [19, 12],\n       [19, 13],\n       [19, 14],\n       [20,  0],\n       [20,  1],\n       [20,  2],\n       [20,  3],\n       [20,  4],\n       [20,  5],\n       [20,  6],\n       [20,  7],\n       [20,  8],\n       [20,  9],\n       [20, 10],\n       [20, 11],\n       [21,  0],\n       [21,  1],\n       [21,  2],\n       [21,  3],\n       [21,  4],\n       [21,  5],\n       [21,  6],\n       [21,  7],\n       [21,  8],\n       [21,  9],\n       [21, 10],\n       [21, 11],\n       [21, 12],\n       [22,  0],\n       [22,  1],\n       [22,  2],\n       [22,  3],\n       [22,  4],\n       [22,  5],\n       [22,  6],\n       [22,  7],\n       [22,  8],\n       [22,  9],\n       [22, 10],\n       [22, 11],\n       [22, 12],\n       [22, 13],\n       [22, 14],\n       [22, 15],\n       [23,  0],\n       [23,  1],\n       [23,  2],\n       [23,  3],\n       [23,  4],\n       [23,  5],\n       [23,  6],\n       [23,  7],\n       [23,  8],\n       [23,  9],\n       [23, 10],\n       [24,  0],\n       [24,  1],\n       [24,  2],\n       [24,  3],\n       [24,  4],\n       [24,  5],\n       [24,  6],\n       [24,  7],\n       [24,  8],\n       [24,  9],\n       [24, 10],\n       [24, 11],\n       [24, 12],\n       [24, 13],\n       [25,  0],\n       [25,  1],\n       [25,  2],\n       [25,  3],\n       [25,  4],\n       [25,  5],\n       [25,  6],\n       [25,  7],\n       [25,  8],\n       [25,  9],\n       [25, 10],\n       [25, 11],\n       [25, 12],\n       [25, 13],\n       [26,  0],\n       [26,  1],\n       [26,  2],\n       [26,  3],\n       [26,  4],\n       [26,  5],\n       [26,  6],\n       [26,  7],\n       [27,  0],\n       [27,  1],\n       [27,  2],\n       [27,  3],\n       [27,  4],\n       [27,  5],\n       [28,  0],\n       [28,  1],\n       [28,  2],\n       [28,  3],\n       [28,  4],\n       [28,  5],\n       [28,  6],\n       [28,  7],\n       [28,  8],\n       [28,  9],\n       [28, 10],\n       [28, 11],\n       [28, 12],\n       [28, 13],\n       [29,  0],\n       [29,  1],\n       [29,  2],\n       [29,  3],\n       [29,  4],\n       [29,  5],\n       [29,  6],\n       [29,  7],\n       [29,  8],\n       [29,  9],\n       [29, 10],\n       [29, 11],\n       [29, 12],\n       [29, 13],\n       [29, 14],\n       [30,  0],\n       [30,  1],\n       [30,  2],\n       [30,  3],\n       [30,  4],\n       [30,  5],\n       [30,  6],\n       [30,  7],\n       [30,  8],\n       [31,  0],\n       [31,  1],\n       [31,  2],\n       [31,  3],\n       [31,  4],\n       [31,  5],\n       [31,  6],\n       [31,  7]]) has invalid type <class 'numpy.ndarray'>, must be a string or Tensor. (Can not convert a ndarray into a Tensor or Operation.)"
     ]
    }
   ],
   "source": [
    "vocabulary = tf.constant(list(\" abcdefghijklmnopqrstuvwxyz\"), name=\"vocab\")\n",
    "vocab = tf.contrib.lookup.index_table_from_tensor(vocabulary)\n",
    "\n",
    "with tf.Graph().as_default():\n",
    "  train_input = train_input_fn()\n",
    "  with tf.train.MonitoredSession() as sess:\n",
    "    # print (train_input)\n",
    "    k = sess.run(train_input)\n",
    "   \n",
    "    # for each character, lookup the index\n",
    "    print(k[0][COLOR_NAME_KEY])\n",
    "    encoded = vocab.lookup(k[0][COLOR_NAME_KEY])\n",
    "    print(sess.run(encoded))"
   ]
  },
  {
   "cell_type": "code",
   "execution_count": null,
   "metadata": {},
   "outputs": [
    {
     "name": "stdout",
     "output_type": "stream",
     "text": [
      "INFO:tensorflow:Using default config.\n",
      "INFO:tensorflow:Using config: {'_num_worker_replicas': 0, '_master': '', '_task_type': None, '_num_ps_replicas': 0, '_is_chief': True, '_tf_config': gpu_options {\n",
      "  per_process_gpu_memory_fraction: 1\n",
      "}\n",
      ", '_task_id': 0, '_keep_checkpoint_every_n_hours': 10000, '_save_checkpoints_secs': 600, '_evaluation_master': '', '_cluster_spec': <tensorflow.python.training.server_lib.ClusterSpec object at 0x7fc6a386abe0>, '_environment': 'local', '_save_checkpoints_steps': None, '_keep_checkpoint_max': 5, '_tf_random_seed': None, '_model_dir': None, '_save_summary_steps': 100}\n",
      "WARNING:tensorflow:Using temporary folder as model directory: /tmp/tmpip2eaw73\n",
      "here\n"
     ]
    }
   ],
   "source": [
    "def model_fn(features, target):\n",
    "    \n",
    "    # use the vocabulary lookup table\n",
    "    vocabulary = tf.constant(list(\" abcdefghijklmnopqrstuvwxyz\"), name=\"vocab\")\n",
    "    vocab = tf.contrib.lookup.index_table_from_tensor(vocabulary)\n",
    "\n",
    "    # for each character, lookup the index\n",
    "    encoded = vocab.lookup(features[COLOR_NAME_KEY])\n",
    "    \n",
    "    \n",
    "    # perform one_hot encoding\n",
    "    dense_encoding = tf.sparse_tensor_to_dense(encoded, default_value=-1)\n",
    "    \n",
    "\n",
    "    one_hot = tf.one_hot(dense_encoding, vocabulary.get_shape()[0])\n",
    "    \n",
    "    lengths = features[SEQUENCE_LENGTH_KEY]\n",
    "  \n",
    "    rnn_layers = []\n",
    "    rnn_cell_sizes = [128, 128]\n",
    "    for size in rnn_cell_sizes:\n",
    "        rnn_layers.append(tf.contrib.rnn.LSTMCell(size))\n",
    "\n",
    "    multi_rnn_cell = tf.contrib.rnn.MultiRNNCell(rnn_layers)\n",
    "    outputs, encoding = tf.nn.dynamic_rnn(cell=multi_rnn_cell,\n",
    "                                       inputs=one_hot,\n",
    "                                       sequence_length=lengths,\n",
    "                                       dtype=tf.float32)\n",
    "    \n",
    "    # slice to keep only the last cell of the RNN\n",
    "    output = outputs[-1]\n",
    "    \n",
    "    #logits = tf.contrib.layers.fully_connected(output, 3)\n",
    "    weight = tf.Variable(tf.random_normal([128, 3]))\n",
    "    bias = tf.Variable(tf.random_normal([3]))\n",
    "    logits = tf.matmul(output, weight) + bias\n",
    "\n",
    "    # target and logits have different shape, not really sure why..\n",
    "    # check Lackshman example\n",
    "    loss = tf.contrib.losses.mean_squared_error(target, logits)\n",
    "    \n",
    "    \"\"\"Character level recurrent neural network model to predict classes.\n",
    "    target = tf.one_hot(target, 15, 1, 0)\n",
    "    byte_list = tf.one_hot(features, 256, 1, 0)\n",
    "    byte_list = tf.unstack(byte_list, axis=1)\n",
    "\n",
    "    cell = tf.contrib.rnn.GRUCell(HIDDEN_SIZE)\n",
    "    output, _ = tf.contrib.rnn.static_rnn(cell, byte_list, dtype=tf.float32)\n",
    "    logits = tf.contrib.layers.fully_connected(output, 3, activation_fn=None)\n",
    "    loss = tf.contrib.losses.mean_squared_error(logits, target)\n",
    "\"\"\"\n",
    "\n",
    "    train_op = tf.contrib.layers.optimize_loss(\n",
    "      loss,\n",
    "      tf.contrib.framework.get_global_step(),\n",
    "      optimizer='Adam',\n",
    "      learning_rate=0.01)\n",
    "\n",
    "    return ({\n",
    "      'predictions': logits\n",
    "    }, loss, train_op)\n",
    "\n",
    "estimator = tf.contrib.learn.Estimator(model_fn=model_fn)\n",
    "\n",
    "estimator.fit(input_fn=train_input_fn, steps=2000)\n",
    "p = estimator.predict(input_fn=get_test_inputs)\n",
    "for e in p:\n",
    "\tprint(e)"
   ]
  },
  {
   "cell_type": "code",
   "execution_count": null,
   "metadata": {
    "collapsed": true
   },
   "outputs": [],
   "source": []
  }
 ],
 "metadata": {
  "colab": {
   "default_view": {},
   "name": "RGB_input_fn.ipynb",
   "provenance": [],
   "version": "0.3.2",
   "views": {}
  },
  "kernelspec": {
   "display_name": "Python 3",
   "language": "python",
   "name": "python3"
  },
  "language_info": {
   "codemirror_mode": {
    "name": "ipython",
    "version": 3
   },
   "file_extension": ".py",
   "mimetype": "text/x-python",
   "name": "python",
   "nbconvert_exporter": "python",
   "pygments_lexer": "ipython3",
   "version": "3.4.3"
  }
 },
 "nbformat": 4,
 "nbformat_minor": 1
}
