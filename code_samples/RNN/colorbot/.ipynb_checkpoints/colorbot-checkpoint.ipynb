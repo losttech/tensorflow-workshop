{
 "cells": [
  {
   "cell_type": "markdown",
   "metadata": {},
   "source": [
    "# Colorbot - training your own model\n",
    "\n",
    "\n",
    "![img](imgs/colorbot_model.png)\n",
    "![img](imgs/colorbot_execution.png)\n"
   ]
  },
  {
   "cell_type": "markdown",
   "metadata": {},
   "source": [
    "## Dependencies"
   ]
  },
  {
   "cell_type": "code",
   "execution_count": 168,
   "metadata": {
    "colab": {
     "autoexec": {
      "startup": false,
      "wait_interval": 0
     }
    },
    "colab_type": "code",
    "id": "mDT8S9C9CYtr"
   },
   "outputs": [
    {
     "name": "stdout",
     "output_type": "stream",
     "text": [
      "Tested with TensorFLow 1.2.0\n",
      "Your TensorFlow version: 1.2.0\n"
     ]
    }
   ],
   "source": [
    "# Tensorflow\n",
    "import tensorflow as tf\n",
    "print('Tested with TensorFLow 1.2.0')\n",
    "print('Your TensorFlow version:', tf.__version__) \n",
    "\n",
    "# Feeding function for enqueue data\n",
    "from tensorflow.python.estimator.inputs.queues import feeding_functions as ff\n",
    "\n",
    "# Rnn common functions\n",
    "from tensorflow.contrib.learn.python.learn.estimators import rnn_common\n",
    "\n",
    "# Run an experiment\n",
    "from tensorflow.contrib.learn.python.learn import learn_runner\n",
    "\n",
    "# Model builder\n",
    "from tensorflow.python.estimator import model_fn as model_fn_lib\n",
    "\n",
    "# Plot images with pyplot\n",
    "%matplotlib inline\n",
    "from matplotlib import pyplot as plt\n",
    "\n",
    "# Helpers for data processing\n",
    "import pandas as pd\n",
    "import numpy as np\n",
    "import argparse"
   ]
  },
  {
   "cell_type": "markdown",
   "metadata": {},
   "source": [
    "## Parameters"
   ]
  },
  {
   "cell_type": "code",
   "execution_count": 169,
   "metadata": {
    "colab": {
     "autoexec": {
      "startup": false,
      "wait_interval": 0
     }
    },
    "colab_type": "code",
    "collapsed": true,
    "id": "UrAyWt23AtCM"
   },
   "outputs": [],
   "source": [
    "# Data files\n",
    "TRAIN_INPUT = 'data/train.csv'\n",
    "TEST_INPUT = 'data/test.csv'\n",
    "MY_TEST_INPUT = 'data/mytest.csv'\n",
    "\n",
    "# Parameters for training\n",
    "STEPS = 10000\n",
    "BATCH_SIZE = 64\n",
    "\n",
    "# Parameters for data processing\n",
    "CHARACTERS = [chr(i) for i in range(256)]\n",
    "SEQUENCE_LENGTH_KEY = 'sequence_length'\n",
    "COLOR_NAME_KEY = 'color_name'\n",
    "RGB_KEY = 'rgb'"
   ]
  },
  {
   "cell_type": "markdown",
   "metadata": {},
   "source": [
    "## Helper functions"
   ]
  },
  {
   "cell_type": "code",
   "execution_count": 170,
   "metadata": {
    "colab": {
     "autoexec": {
      "startup": false,
      "wait_interval": 0
     }
    },
    "colab_type": "code",
    "collapsed": true,
    "id": "0dlZ9C27M-bS"
   },
   "outputs": [],
   "source": [
    "# This function creates a sparse tensor in the following way, given:\n",
    "# indices = [[0, 0], [1, 1], [2, 2]]\n",
    "# values = [1, 2, 3]\n",
    "# dense_shape = [3, 4]\n",
    "#\n",
    "# The output will be a sparse tensor that represents this dense tensor:\n",
    "# [ \n",
    "#   [1, 0, 0, 0]\n",
    "#   [0, 2, 0, 0]\n",
    "#   [0, 0, 3, 0]\n",
    "# ]\n",
    "#\n",
    "# We're using this to generate a Sparse tensor that can be easily\n",
    "# formated in a one hot representation.\n",
    "# More at: https://www.tensorflow.org/api_docs/python/tf/SparseTensor\n",
    "def _sparse_string_to_index(sp, mapping):\n",
    "    # This operation constructs a lookup table to convert tensor of strings\n",
    "    # into int64 IDs\n",
    "    table = tf.contrib.lookup.index_table_from_tensor(mapping, dtype=tf.string)\n",
    "    \n",
    "    return tf.SparseTensor(indices=sp.indices,\n",
    "                           values=table.lookup(sp.values),\n",
    "                           dense_shape=sp.dense_shape)\n",
    "\n",
    "# Returns the column values from a CSV file as a list\n",
    "def _get_csv_column(csv_file, column_name):\n",
    "    with open(csv_file, 'r') as f:\n",
    "        df = pd.read_csv(f)\n",
    "        return df[column_name].tolist()\n",
    "\n",
    "# Plot a color image\n",
    "def _plot_rgb(rgb):\n",
    "    data = [[rgb]]\n",
    "    plt.figure(figsize=(2,2))\n",
    "    plt.imshow(data, interpolation='nearest')\n",
    "    plt.show()"
   ]
  },
  {
   "cell_type": "markdown",
   "metadata": {},
   "source": [
    "## Input functions"
   ]
  },
  {
   "cell_type": "code",
   "execution_count": 171,
   "metadata": {},
   "outputs": [],
   "source": [
    "# Input function used for training and testing                                                \n",
    "def get_input_fn(csv_file, batch_size, epochs=1):\n",
    "   \n",
    "    # loading csv in memory\n",
    "    df = pd.read_csv(csv_file)\n",
    "    df = df.dropna()\n",
    "    \n",
    "    # Sequence length is used by the Dynamic RNN\n",
    "    # to dynamically unroll the graph :D!\n",
    "    df['sequence_length'] = df.name.str.len().astype(np.int32)\n",
    "\n",
    "    # We can use a canned input function for generating batches\n",
    "    # with the pandas data frame, then we call it and\n",
    "    # make the changes needed on the features\n",
    "    pd_fn = tf.estimator.inputs.pandas_input_fn(df, shuffle=True,\n",
    "                                                batch_size=batch_size,\n",
    "                                                num_epochs=epochs,\n",
    "                                                queue_capacity=100000)\n",
    "    \n",
    "    def input_fn():   \n",
    "        # calling the pandas input function\n",
    "        fields = argparse.Namespace(**pd_fn())\n",
    "        \n",
    "        # Split strings into chars\n",
    "        split_color_name = tf.string_split(fields.name, delimiter='')\n",
    "        # Creating a tf constant to hold the map char -> index\n",
    "        # this is need to create the sparse tensor and after the one hot encode\n",
    "        table = tf.contrib.lookup.index_table_from_tensor(CHARACTERS, dtype=tf.string)\n",
    "        # Names represented in a sparse tensor\n",
    "        integerized_color_name = table.lookup(split_color_name)\n",
    "        \n",
    "        # Tensor of normalized RGB values\n",
    "        rgb = tf.to_float(tf.stack([fields.red, fields.green, fields.blue], axis=1)) / 255.0\n",
    "\n",
    "        features = {COLOR_NAME_KEY: integerized_color_name, SEQUENCE_LENGTH_KEY: fields.sequence_length}\n",
    "        return features, rgb\n",
    "\n",
    "    return input_fn"
   ]
  },
  {
   "cell_type": "code",
   "execution_count": 172,
   "metadata": {
    "collapsed": true
   },
   "outputs": [],
   "source": [
    "# Creating my own input function for a custom CSV file\n",
    "# it's simpler than the input_fn above but just used for small tests\n",
    "def my_test_input_fn():\n",
    "    df = pd.read_csv(MY_TEST_INPUT)\n",
    "    df = df.dropna()\n",
    "    df['sequence_length'] = df.name.str.len().astype(np.int32)\n",
    "\n",
    "    color_name = df.name.tolist()\n",
    "\n",
    "    split_color_name = tf.string_split(color_name, delimiter='')\n",
    "    mapping = tf.constant(CHARACTERS, name=\"mapping\")\n",
    "    integerized_color_name = _sparse_string_to_index(split_color_name, mapping)\n",
    "\n",
    "    x = {COLOR_NAME_KEY: integerized_color_name, SEQUENCE_LENGTH_KEY: df.sequence_length.tolist()}\n",
    "\n",
    "    y = np.asarray([[0, 0, 0]], dtype=np.float32)\n",
    "\n",
    "    return x, y"
   ]
  },
  {
   "cell_type": "code",
   "execution_count": 173,
   "metadata": {
    "colab": {
     "autoexec": {
      "startup": false,
      "wait_interval": 0
     }
    },
    "colab_type": "code",
    "id": "m5UJyvW5P0Sy"
   },
   "outputs": [],
   "source": [
    "train_input_fn = get_input_fn(TRAIN_INPUT, BATCH_SIZE)\n",
    "test_input_fn = get_input_fn(TEST_INPUT, BATCH_SIZE)"
   ]
  },
  {
   "cell_type": "markdown",
   "metadata": {},
   "source": [
    "## Creating the Estimator model"
   ]
  },
  {
   "cell_type": "code",
   "execution_count": 181,
   "metadata": {
    "colab": {
     "autoexec": {
      "startup": false,
      "wait_interval": 0
     }
    },
    "colab_type": "code",
    "collapsed": true,
    "id": "VxXAUrYN7TvR"
   },
   "outputs": [],
   "source": [
    "def get_model_fn(rnn_cell_sizes,\n",
    "                 label_dimension,\n",
    "                 dnn_layer_sizes=[],\n",
    "                 optimizer='SGD',\n",
    "                 learning_rate=0.01):\n",
    "    \n",
    "    def model_fn(features, labels, mode):\n",
    "        \n",
    "        color_name = features[COLOR_NAME_KEY]\n",
    "        sequence_length = features[SEQUENCE_LENGTH_KEY]\n",
    "\n",
    "        # Creating dense representation for the names\n",
    "        # and then converting it to one hot representation\n",
    "        dense_color_name = tf.sparse_tensor_to_dense(color_name, default_value=len(CHARACTERS))\n",
    "        color_name_onehot = tf.one_hot(dense_color_name, depth=len(CHARACTERS) + 1)\n",
    "        \n",
    "        # Each RNN layer will consist of a LSTM cell\n",
    "        rnn_layers = [tf.contrib.rnn.LSTMCell(size) for size in rnn_cell_sizes]\n",
    "        \n",
    "        # Construct the layers\n",
    "        multi_rnn_cell = tf.contrib.rnn.MultiRNNCell(rnn_layers)\n",
    "        \n",
    "        # Runs the RNN model dynamically\n",
    "        # more about it at: \n",
    "        # https://www.tensorflow.org/api_docs/python/tf/nn/dynamic_rnn\n",
    "        outputs, final_state = tf.nn.dynamic_rnn(cell=multi_rnn_cell,\n",
    "                                                 inputs=color_name_onehot,\n",
    "                                                 sequence_length=sequence_length,\n",
    "                                                 dtype=tf.float32)\n",
    "\n",
    "        # Slice to keep only the last cell of the RNN\n",
    "        last_activations = rnn_common.select_last_activations(outputs,\n",
    "                                                              sequence_length)\n",
    "\n",
    "        # Construct dense layers on top of the last cell of the RNN\n",
    "        for units in dnn_layer_sizes:\n",
    "            last_activations = tf.layers.dense(\n",
    "              last_activations, units, activation=tf.nn.relu)\n",
    "        \n",
    "        # Final dense layer for prediction\n",
    "        predictions = tf.layers.dense(last_activations, label_dimension)\n",
    "\n",
    "        loss = None\n",
    "        train_op = None\n",
    "\n",
    "        if mode != tf.contrib.learn.ModeKeys.INFER:    \n",
    "            loss = tf.losses.mean_squared_error(labels, predictions)\n",
    "    \n",
    "        if mode == tf.contrib.learn.ModeKeys.TRAIN:    \n",
    "            train_op = tf.contrib.layers.optimize_loss(\n",
    "              loss,\n",
    "              tf.contrib.framework.get_global_step(),\n",
    "              optimizer=optimizer,\n",
    "              learning_rate=learning_rate)\n",
    "        \n",
    "        return model_fn_lib.EstimatorSpec(mode,\n",
    "                                           predictions=predictions,\n",
    "                                           loss=loss,\n",
    "                                           train_op=train_op)\n",
    "    return model_fn"
   ]
  },
  {
   "cell_type": "code",
   "execution_count": 189,
   "metadata": {
    "colab": {
     "autoexec": {
      "startup": false,
      "wait_interval": 0
     }
    },
    "colab_type": "code",
    "id": "gUHR3Mzc7Tvb"
   },
   "outputs": [
    {
     "name": "stdout",
     "output_type": "stream",
     "text": [
      "INFO:tensorflow:Using default config.\n",
      "INFO:tensorflow:Using config: {'_save_checkpoints_steps': None, '_model_dir': '/tmp/colorbot_model', '_tf_random_seed': 1, '_keep_checkpoint_every_n_hours': 10000, '_save_checkpoints_secs': 600, '_save_summary_steps': 100, '_session_config': None, '_keep_checkpoint_max': 5}\n"
     ]
    }
   ],
   "source": [
    "model_fn = get_model_fn(rnn_cell_sizes=[256, 128], # size of the hidden layers\n",
    "                        label_dimension=3, # since is RGB\n",
    "                        dnn_layer_sizes=[128], # size of units in the dense layers on top of the RNN\n",
    "                        optimizer='Adam', #changing optimizer to Adam\n",
    "                        learning_rate=0.01)\n",
    "\n",
    "estimator = tf.estimator.Estimator(model_fn=model_fn, model_dir='/tmp/colorbot_model')"
   ]
  },
  {
   "cell_type": "markdown",
   "metadata": {},
   "source": [
    "## Trainning and Evaluating"
   ]
  },
  {
   "cell_type": "code",
   "execution_count": 190,
   "metadata": {
    "colab": {
     "autoexec": {
      "startup": false,
      "wait_interval": 0
     }
    },
    "colab_type": "code",
    "id": "DUZEKQrdGgZE"
   },
   "outputs": [
    {
     "name": "stdout",
     "output_type": "stream",
     "text": [
      "Training epoch 0\n",
      "--------------------\n"
     ]
    },
    {
     "name": "stderr",
     "output_type": "stream",
     "text": [
      "/usr/local/lib/python3.5/site-packages/tensorflow/python/ops/gradients_impl.py:93: UserWarning: Converting sparse IndexedSlices to a dense Tensor of unknown shape. This may consume a large amount of memory.\n",
      "  \"Converting sparse IndexedSlices to a dense Tensor of unknown shape. \"\n"
     ]
    },
    {
     "name": "stdout",
     "output_type": "stream",
     "text": [
      "INFO:tensorflow:Create CheckpointSaverHook.\n",
      "INFO:tensorflow:Saving checkpoints for 1 into /tmp/colorbot_model/model.ckpt.\n",
      "INFO:tensorflow:step = 1, loss = 0.365346\n",
      "INFO:tensorflow:Saving checkpoints for 19 into /tmp/colorbot_model/model.ckpt.\n",
      "INFO:tensorflow:Loss for final step: 0.10139.\n",
      "Evaluating epoch 0\n",
      "--------------------\n",
      "INFO:tensorflow:Starting evaluation at 2017-06-20-21:58:43\n",
      "INFO:tensorflow:Restoring parameters from /tmp/colorbot_model/model.ckpt-19\n",
      "INFO:tensorflow:Finished evaluation at 2017-06-20-21:58:43\n",
      "INFO:tensorflow:Saving dict for global step 19: global_step = 19, loss = 0.0888186\n",
      "Training epoch 1\n",
      "--------------------\n",
      "INFO:tensorflow:Create CheckpointSaverHook.\n",
      "INFO:tensorflow:Restoring parameters from /tmp/colorbot_model/model.ckpt-19\n",
      "INFO:tensorflow:Saving checkpoints for 20 into /tmp/colorbot_model/model.ckpt.\n",
      "INFO:tensorflow:step = 20, loss = 0.100648\n",
      "INFO:tensorflow:Saving checkpoints for 38 into /tmp/colorbot_model/model.ckpt.\n",
      "INFO:tensorflow:Loss for final step: 0.104755.\n",
      "Evaluating epoch 1\n",
      "--------------------\n",
      "INFO:tensorflow:Starting evaluation at 2017-06-20-21:58:46\n",
      "INFO:tensorflow:Restoring parameters from /tmp/colorbot_model/model.ckpt-38\n",
      "INFO:tensorflow:Finished evaluation at 2017-06-20-21:58:47\n",
      "INFO:tensorflow:Saving dict for global step 38: global_step = 38, loss = 0.0788968\n",
      "Training epoch 2\n",
      "--------------------\n",
      "INFO:tensorflow:Create CheckpointSaverHook.\n",
      "INFO:tensorflow:Restoring parameters from /tmp/colorbot_model/model.ckpt-38\n",
      "INFO:tensorflow:Saving checkpoints for 39 into /tmp/colorbot_model/model.ckpt.\n",
      "INFO:tensorflow:step = 39, loss = 0.0888364\n",
      "INFO:tensorflow:Saving checkpoints for 57 into /tmp/colorbot_model/model.ckpt.\n",
      "INFO:tensorflow:Loss for final step: 0.0950962.\n",
      "Evaluating epoch 2\n",
      "--------------------\n",
      "INFO:tensorflow:Starting evaluation at 2017-06-20-21:58:50\n",
      "INFO:tensorflow:Restoring parameters from /tmp/colorbot_model/model.ckpt-57\n",
      "INFO:tensorflow:Finished evaluation at 2017-06-20-21:58:50\n",
      "INFO:tensorflow:Saving dict for global step 57: global_step = 57, loss = 0.0804629\n",
      "Training epoch 3\n",
      "--------------------\n",
      "INFO:tensorflow:Create CheckpointSaverHook.\n",
      "INFO:tensorflow:Restoring parameters from /tmp/colorbot_model/model.ckpt-57\n",
      "INFO:tensorflow:Saving checkpoints for 58 into /tmp/colorbot_model/model.ckpt.\n",
      "INFO:tensorflow:step = 58, loss = 0.0829076\n",
      "INFO:tensorflow:Saving checkpoints for 76 into /tmp/colorbot_model/model.ckpt.\n",
      "INFO:tensorflow:Loss for final step: 0.0509365.\n",
      "Evaluating epoch 3\n",
      "--------------------\n",
      "INFO:tensorflow:Starting evaluation at 2017-06-20-21:58:53\n",
      "INFO:tensorflow:Restoring parameters from /tmp/colorbot_model/model.ckpt-76\n",
      "INFO:tensorflow:Finished evaluation at 2017-06-20-21:58:53\n",
      "INFO:tensorflow:Saving dict for global step 76: global_step = 76, loss = 0.0734712\n",
      "Training epoch 4\n",
      "--------------------\n",
      "INFO:tensorflow:Create CheckpointSaverHook.\n",
      "INFO:tensorflow:Restoring parameters from /tmp/colorbot_model/model.ckpt-76\n",
      "INFO:tensorflow:Saving checkpoints for 77 into /tmp/colorbot_model/model.ckpt.\n",
      "INFO:tensorflow:step = 77, loss = 0.0675644\n",
      "INFO:tensorflow:Saving checkpoints for 95 into /tmp/colorbot_model/model.ckpt.\n",
      "INFO:tensorflow:Loss for final step: 0.0748295.\n",
      "Evaluating epoch 4\n",
      "--------------------\n",
      "INFO:tensorflow:Starting evaluation at 2017-06-20-21:58:56\n",
      "INFO:tensorflow:Restoring parameters from /tmp/colorbot_model/model.ckpt-95\n",
      "INFO:tensorflow:Finished evaluation at 2017-06-20-21:58:56\n",
      "INFO:tensorflow:Saving dict for global step 95: global_step = 95, loss = 0.0660725\n",
      "Training epoch 5\n",
      "--------------------\n",
      "INFO:tensorflow:Create CheckpointSaverHook.\n",
      "INFO:tensorflow:Restoring parameters from /tmp/colorbot_model/model.ckpt-95\n",
      "INFO:tensorflow:Saving checkpoints for 96 into /tmp/colorbot_model/model.ckpt.\n",
      "INFO:tensorflow:step = 96, loss = 0.0608399\n",
      "INFO:tensorflow:Saving checkpoints for 114 into /tmp/colorbot_model/model.ckpt.\n",
      "INFO:tensorflow:Loss for final step: 0.0876817.\n",
      "Evaluating epoch 5\n",
      "--------------------\n",
      "INFO:tensorflow:Starting evaluation at 2017-06-20-21:59:00\n",
      "INFO:tensorflow:Restoring parameters from /tmp/colorbot_model/model.ckpt-114\n",
      "INFO:tensorflow:Finished evaluation at 2017-06-20-21:59:01\n",
      "INFO:tensorflow:Saving dict for global step 114: global_step = 114, loss = 0.0623002\n",
      "Training epoch 6\n",
      "--------------------\n",
      "INFO:tensorflow:Create CheckpointSaverHook.\n",
      "INFO:tensorflow:Restoring parameters from /tmp/colorbot_model/model.ckpt-114\n",
      "INFO:tensorflow:Saving checkpoints for 115 into /tmp/colorbot_model/model.ckpt.\n",
      "INFO:tensorflow:step = 115, loss = 0.0603896\n",
      "INFO:tensorflow:Saving checkpoints for 133 into /tmp/colorbot_model/model.ckpt.\n",
      "INFO:tensorflow:Loss for final step: 0.0565284.\n",
      "Evaluating epoch 6\n",
      "--------------------\n",
      "INFO:tensorflow:Starting evaluation at 2017-06-20-21:59:04\n",
      "INFO:tensorflow:Restoring parameters from /tmp/colorbot_model/model.ckpt-133\n",
      "INFO:tensorflow:Finished evaluation at 2017-06-20-21:59:04\n",
      "INFO:tensorflow:Saving dict for global step 133: global_step = 133, loss = 0.0642743\n",
      "Training epoch 7\n",
      "--------------------\n",
      "INFO:tensorflow:Create CheckpointSaverHook.\n",
      "INFO:tensorflow:Restoring parameters from /tmp/colorbot_model/model.ckpt-133\n",
      "INFO:tensorflow:Saving checkpoints for 134 into /tmp/colorbot_model/model.ckpt.\n",
      "INFO:tensorflow:step = 134, loss = 0.0750447\n",
      "INFO:tensorflow:Saving checkpoints for 152 into /tmp/colorbot_model/model.ckpt.\n",
      "INFO:tensorflow:Loss for final step: 0.0853382.\n",
      "Evaluating epoch 7\n",
      "--------------------\n",
      "INFO:tensorflow:Starting evaluation at 2017-06-20-21:59:07\n",
      "INFO:tensorflow:Restoring parameters from /tmp/colorbot_model/model.ckpt-152\n",
      "INFO:tensorflow:Finished evaluation at 2017-06-20-21:59:07\n",
      "INFO:tensorflow:Saving dict for global step 152: global_step = 152, loss = 0.066667\n",
      "Training epoch 8\n",
      "--------------------\n",
      "INFO:tensorflow:Create CheckpointSaverHook.\n",
      "INFO:tensorflow:Restoring parameters from /tmp/colorbot_model/model.ckpt-152\n",
      "INFO:tensorflow:Saving checkpoints for 153 into /tmp/colorbot_model/model.ckpt.\n",
      "INFO:tensorflow:step = 153, loss = 0.0667851\n",
      "INFO:tensorflow:Saving checkpoints for 171 into /tmp/colorbot_model/model.ckpt.\n",
      "INFO:tensorflow:Loss for final step: 0.0332614.\n",
      "Evaluating epoch 8\n",
      "--------------------\n",
      "INFO:tensorflow:Starting evaluation at 2017-06-20-21:59:10\n",
      "INFO:tensorflow:Restoring parameters from /tmp/colorbot_model/model.ckpt-171\n",
      "INFO:tensorflow:Finished evaluation at 2017-06-20-21:59:10\n",
      "INFO:tensorflow:Saving dict for global step 171: global_step = 171, loss = 0.065158\n",
      "Training epoch 9\n",
      "--------------------\n",
      "INFO:tensorflow:Create CheckpointSaverHook.\n",
      "INFO:tensorflow:Restoring parameters from /tmp/colorbot_model/model.ckpt-171\n",
      "INFO:tensorflow:Saving checkpoints for 172 into /tmp/colorbot_model/model.ckpt.\n",
      "INFO:tensorflow:step = 172, loss = 0.0487952\n",
      "INFO:tensorflow:Saving checkpoints for 190 into /tmp/colorbot_model/model.ckpt.\n",
      "INFO:tensorflow:Loss for final step: 0.0551929.\n",
      "Evaluating epoch 9\n",
      "--------------------\n",
      "INFO:tensorflow:Starting evaluation at 2017-06-20-21:59:13\n",
      "INFO:tensorflow:Restoring parameters from /tmp/colorbot_model/model.ckpt-190\n",
      "INFO:tensorflow:Finished evaluation at 2017-06-20-21:59:13\n",
      "INFO:tensorflow:Saving dict for global step 190: global_step = 190, loss = 0.0631511\n"
     ]
    }
   ],
   "source": [
    "NUM_EPOCHS = 10\n",
    "for i in range(NUM_EPOCHS):\n",
    "    print('Training epoch %d' % i)\n",
    "    print('-' * 20)\n",
    "    estimator.train(input_fn=train_input_fn)\n",
    "    print('Evaluating epoch %d' % i)\n",
    "    print('-' * 20)\n",
    "    estimator.evaluate(input_fn = test_input_fn)"
   ]
  },
  {
   "cell_type": "markdown",
   "metadata": {},
   "source": [
    "## Making Predictions"
   ]
  },
  {
   "cell_type": "code",
   "execution_count": 193,
   "metadata": {},
   "outputs": [
    {
     "name": "stdout",
     "output_type": "stream",
     "text": [
      "\n",
      "WARNING:tensorflow:Input graph does not contain a QueueRunner. That means predict yields forever. This is probably a mistake.\n",
      "INFO:tensorflow:Restoring parameters from /tmp/colorbot_model/model.ckpt-190\n",
      "orange rgb (194, 118, 47)\n"
     ]
    },
    {
     "data": {
      "image/png": "[encoded data removed]",
      "text/plain": [
       "<matplotlib.figure.Figure at 0x7f9b3dc01518>"
      ]
     },
     "metadata": {},
     "output_type": "display_data"
    },
    {
     "name": "stdout",
     "output_type": "stream",
     "text": [
      "tensorflow orange rgb (208, 117, 19)\n"
     ]
    },
    {
     "data": {
      "image/png": "[encoded data removed]",
      "text/plain": [
       "<matplotlib.figure.Figure at 0x7f9b3ab5f0f0>"
      ]
     },
     "metadata": {},
     "output_type": "display_data"
    },
    {
     "name": "stdout",
     "output_type": "stream",
     "text": [
      "adfgasdgasd rgb (166, 130, 96)\n"
     ]
    },
    {
     "data": {
      "image/png": "[encoded data removed]",
      "text/plain": [
       "<matplotlib.figure.Figure at 0x7f9b3cff8828>"
      ]
     },
     "metadata": {},
     "output_type": "display_data"
    },
    {
     "name": "stdout",
     "output_type": "stream",
     "text": [
      "purple blue rgb (21, 124, 212)\n"
     ]
    },
    {
     "data": {
      "image/png": "[encoded data removed]",
      "text/plain": [
       "<matplotlib.figure.Figure at 0x7f9b3cc3ff98>"
      ]
     },
     "metadata": {},
     "output_type": "display_data"
    },
    {
     "name": "stdout",
     "output_type": "stream",
     "text": [
      "purple red rgb (203, 37, 56)\n"
     ]
    },
    {
     "data": {
      "image/png": "[encoded data removed]",
      "text/plain": [
       "<matplotlib.figure.Figure at 0x7f9b3cbe7c18>"
      ]
     },
     "metadata": {},
     "output_type": "display_data"
    },
    {
     "name": "stdout",
     "output_type": "stream",
     "text": [
      "purple rgb (118, 88, 115)\n"
     ]
    },
    {
     "data": {
      "image/png": "[encoded data removed]",
      "text/plain": [
       "<matplotlib.figure.Figure at 0x7f9b3cb7ad30>"
      ]
     },
     "metadata": {},
     "output_type": "display_data"
    },
    {
     "name": "stdout",
     "output_type": "stream",
     "text": [
      "water rgb (187, 167, 142)\n"
     ]
    },
    {
     "data": {
      "image/png": "[encoded data removed]",
      "text/plain": [
       "<matplotlib.figure.Figure at 0x7f9b3cb4fa58>"
      ]
     },
     "metadata": {},
     "output_type": "display_data"
    },
    {
     "name": "stdout",
     "output_type": "stream",
     "text": [
      "pink rgb (189, 139, 155)\n"
     ]
    },
    {
     "data": {
      "image/png": "[encoded data removed]",
      "text/plain": [
       "<matplotlib.figure.Figure at 0x7f9b3cc1cb00>"
      ]
     },
     "metadata": {},
     "output_type": "display_data"
    },
    {
     "name": "stdout",
     "output_type": "stream",
     "text": [
      "rock rgb (133, 109, 77)\n"
     ]
    },
    {
     "data": {
      "image/png": "[encoded data removed]",
      "text/plain": [
       "<matplotlib.figure.Figure at 0x7f9b3cac2278>"
      ]
     },
     "metadata": {},
     "output_type": "display_data"
    }
   ],
   "source": [
    "preds = estimator.predict(input_fn=my_test_input_fn)\n",
    "\n",
    "color_names = _get_csv_column(MY_TEST_INPUT, 'name')\n",
    "\n",
    "print()\n",
    "for p, name in zip(preds, color_names):\n",
    "    color = tuple(map(int, p * 255))\n",
    "    print(name, 'rgb', color)\n",
    "    _plot_rgb(p)"
   ]
  },
  {
   "cell_type": "markdown",
   "metadata": {},
   "source": [
    "## Pre-trained model predictions"
   ]
  },
  {
   "cell_type": "code",
   "execution_count": 196,
   "metadata": {},
   "outputs": [
    {
     "name": "stdout",
     "output_type": "stream",
     "text": [
      "INFO:tensorflow:Using default config.\n",
      "INFO:tensorflow:Using config: {'_save_checkpoints_steps': None, '_model_dir': 'pretrained', '_tf_random_seed': 1, '_keep_checkpoint_every_n_hours': 10000, '_save_checkpoints_secs': 600, '_save_summary_steps': 100, '_session_config': None, '_keep_checkpoint_max': 5}\n",
      "\n",
      "WARNING:tensorflow:Input graph does not contain a QueueRunner. That means predict yields forever. This is probably a mistake.\n",
      "INFO:tensorflow:Restoring parameters from pretrained/model.ckpt-10020\n",
      "orange rgb (249, 89, 4)\n"
     ]
    },
    {
     "data": {
      "image/png": "[encoded data removed]",
      "text/plain": [
       "<matplotlib.figure.Figure at 0x7f9b3af3cc18>"
      ]
     },
     "metadata": {},
     "output_type": "display_data"
    },
    {
     "name": "stdout",
     "output_type": "stream",
     "text": [
      "tensorflow orange rgb (243, 99, 40)\n"
     ]
    },
    {
     "data": {
      "image/png": "[encoded data removed]",
      "text/plain": [
       "<matplotlib.figure.Figure at 0x7f9b3c9aac18>"
      ]
     },
     "metadata": {},
     "output_type": "display_data"
    },
    {
     "name": "stdout",
     "output_type": "stream",
     "text": [
      "adfgasdgasd rgb (172, 152, 103)\n"
     ]
    },
    {
     "data": {
      "image/png": "[encoded data removed]",
      "text/plain": [
       "<matplotlib.figure.Figure at 0x7f9b3c9a0208>"
      ]
     },
     "metadata": {},
     "output_type": "display_data"
    },
    {
     "name": "stdout",
     "output_type": "stream",
     "text": [
      "purple blue rgb (56, 50, 214)\n"
     ]
    },
    {
     "data": {
      "image/png": "[encoded data removed]",
      "text/plain": [
       "<matplotlib.figure.Figure at 0x7f9b3caa10b8>"
      ]
     },
     "metadata": {},
     "output_type": "display_data"
    },
    {
     "name": "stdout",
     "output_type": "stream",
     "text": [
      "purple red rgb (168, 20, 69)\n"
     ]
    },
    {
     "data": {
      "image/png": "[encoded data removed]",
      "text/plain": [
       "<matplotlib.figure.Figure at 0x7f9b3c8cfe10>"
      ]
     },
     "metadata": {},
     "output_type": "display_data"
    },
    {
     "name": "stdout",
     "output_type": "stream",
     "text": [
      "purple rgb (133, 49, 193)\n"
     ]
    },
    {
     "data": {
      "image/png": "[encoded data removed]",
      "text/plain": [
       "<matplotlib.figure.Figure at 0x7f9b3c828a20>"
      ]
     },
     "metadata": {},
     "output_type": "display_data"
    },
    {
     "name": "stdout",
     "output_type": "stream",
     "text": [
      "water rgb (148, 218, 240)\n"
     ]
    },
    {
     "data": {
      "image/png": "[encoded data removed]",
      "text/plain": [
       "<matplotlib.figure.Figure at 0x7f9b3c804588>"
      ]
     },
     "metadata": {},
     "output_type": "display_data"
    },
    {
     "name": "stdout",
     "output_type": "stream",
     "text": [
      "pink rgb (247, 123, 182)\n"
     ]
    },
    {
     "data": {
      "image/png": "[encoded data removed]",
      "text/plain": [
       "<matplotlib.figure.Figure at 0x7f9b3c8cff98>"
      ]
     },
     "metadata": {},
     "output_type": "display_data"
    },
    {
     "name": "stdout",
     "output_type": "stream",
     "text": [
      "rock rgb (111, 46, 57)\n"
     ]
    },
    {
     "data": {
      "image/png": "[encoded data removed]",
      "text/plain": [
       "<matplotlib.figure.Figure at 0x7f9b3c7d82e8>"
      ]
     },
     "metadata": {},
     "output_type": "display_data"
    }
   ],
   "source": [
    "pre_estimator = estimator = tf.estimator.Estimator(model_dir='pretrained', model_fn=model_fn)\n",
    "preds = pre_estimator.predict(input_fn=my_test_input_fn)\n",
    "\n",
    "color_names = _get_csv_column(MY_TEST_INPUT, 'name')\n",
    "\n",
    "print()\n",
    "for p, name in zip(preds, color_names):\n",
    "    color = tuple(map(int, p * 255))\n",
    "    print(name, 'rgb', color)\n",
    "    _plot_rgb(p)"
   ]
  }
 ],
 "metadata": {
  "colab": {
   "default_view": {},
   "last_runtime": {
    "build_target": "//experimental/users/jamieas/transform_colab:notebook",
    "kind": "private"
   },
   "name": "Copy of CustomEstimator.ipynb",
   "provenance": [
    {
     "file_id": "0BwN-JPfIIHwgdFkwUTVIWTQwU00",
     "timestamp": 1496845355496
    }
   ],
   "version": "0.3.2",
   "views": {}
  },
  "kernelspec": {
   "display_name": "Python 3",
   "language": "python",
   "name": "python3"
  },
  "language_info": {
   "codemirror_mode": {
    "name": "ipython",
    "version": 3
   },
   "file_extension": ".py",
   "mimetype": "text/x-python",
   "name": "python",
   "nbconvert_exporter": "python",
   "pygments_lexer": "ipython3",
   "version": "3.5.2"
  }
 },
 "nbformat": 4,
 "nbformat_minor": 1
}
