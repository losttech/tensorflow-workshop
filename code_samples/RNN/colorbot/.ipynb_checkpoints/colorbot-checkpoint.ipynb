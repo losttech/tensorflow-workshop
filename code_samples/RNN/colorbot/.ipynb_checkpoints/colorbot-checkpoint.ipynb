{
 "cells": [
  {
   "cell_type": "markdown",
   "metadata": {},
   "source": [
    "# Colorbot\n",
    "\n",
    "\n",
    "Special thanks to @MarkDaoust that helped us to improve the code.\n",
    "\n",
    "\n",
    "![img](imgs/colorbot_model.png)\n",
    "![img](imgs/colorbot_execution.png)\n"
   ]
  },
  {
   "cell_type": "markdown",
   "metadata": {},
   "source": [
    "## Dependencies"
   ]
  },
  {
   "cell_type": "code",
   "execution_count": 1,
   "metadata": {
    "colab": {
     "autoexec": {
      "startup": false,
      "wait_interval": 0
     }
    },
    "colab_type": "code",
    "id": "mDT8S9C9CYtr"
   },
   "outputs": [
    {
     "name": "stdout",
     "output_type": "stream",
     "text": [
      "Tested with TensorFLow 1.2.0\n",
      "Your TensorFlow version: 1.2.0\n"
     ]
    }
   ],
   "source": [
    "# Tensorflow\n",
    "import tensorflow as tf\n",
    "print('Tested with TensorFLow 1.2.0')\n",
    "print('Your TensorFlow version:', tf.__version__) \n",
    "\n",
    "# Feeding function for enqueue data\n",
    "from tensorflow.python.estimator.inputs.queues import feeding_functions as ff\n",
    "\n",
    "# Rnn common functions\n",
    "from tensorflow.contrib.learn.python.learn.estimators import rnn_common\n",
    "\n",
    "# Run an experiment\n",
    "from tensorflow.contrib.learn.python.learn import learn_runner\n",
    "\n",
    "# Model builder\n",
    "from tensorflow.python.estimator import model_fn as model_fn_lib\n",
    "\n",
    "# Plot images with pyplot\n",
    "%matplotlib inline\n",
    "from matplotlib import pyplot as plt\n",
    "\n",
    "# Helpers for data processing\n",
    "import pandas as pd\n",
    "import numpy as np\n",
    "import argparse"
   ]
  },
  {
   "cell_type": "markdown",
   "metadata": {},
   "source": [
    "## Parameters"
   ]
  },
  {
   "cell_type": "code",
   "execution_count": 2,
   "metadata": {
    "colab": {
     "autoexec": {
      "startup": false,
      "wait_interval": 0
     }
    },
    "colab_type": "code",
    "collapsed": true,
    "id": "UrAyWt23AtCM"
   },
   "outputs": [],
   "source": [
    "# Data files\n",
    "TRAIN_INPUT = 'data/train.csv'\n",
    "TEST_INPUT = 'data/test.csv'\n",
    "MY_TEST_INPUT = 'data/mytest.csv'\n",
    "\n",
    "# Parameters for training\n",
    "STEPS = 10000\n",
    "BATCH_SIZE = 64\n",
    "\n",
    "# Parameters for data processing\n",
    "CHARACTERS = [chr(i) for i in range(256)]\n",
    "SEQUENCE_LENGTH_KEY = 'sequence_length'\n",
    "COLOR_NAME_KEY = 'color_name'"
   ]
  },
  {
   "cell_type": "markdown",
   "metadata": {},
   "source": [
    "## Helper functions"
   ]
  },
  {
   "cell_type": "code",
   "execution_count": 167,
   "metadata": {
    "colab": {
     "autoexec": {
      "startup": false,
      "wait_interval": 0
     }
    },
    "colab_type": "code",
    "collapsed": true,
    "id": "0dlZ9C27M-bS"
   },
   "outputs": [],
   "source": [
    "# Returns the column values from a CSV file as a list\n",
    "def _get_csv_column(csv_file, column_name):\n",
    "    with open(csv_file, 'r') as f:\n",
    "        df = pd.read_csv(f)\n",
    "        return df[column_name].tolist()\n",
    "\n",
    "# Plot a color image\n",
    "def _plot_rgb(rgb):\n",
    "    data = [[rgb]]\n",
    "    plt.figure(figsize=(2,2))\n",
    "    plt.imshow(data, interpolation='nearest')\n",
    "    plt.show()"
   ]
  },
  {
   "cell_type": "markdown",
   "metadata": {},
   "source": [
    "## Input functions"
   ]
  },
  {
   "cell_type": "code",
   "execution_count": 248,
   "metadata": {},
   "outputs": [],
   "source": [
    "def parse(line):\n",
    "    # line: name, red, green, blue\n",
    "    # split line\n",
    "    items = tf.string_split([line],',')\n",
    "    items = items.values\n",
    "    \n",
    "    # get color (r, g, b)\n",
    "    color = tf.string_to_number(items[1:], out_type=tf.float32) / 255.0\n",
    "    \n",
    "    # split color_name into a sequence of characters\n",
    "    color_name = tf.string_split([items[0]], '')\n",
    "    length = color_name.indices[-1, 1] + 1 # length = index of last char + 1\n",
    "    color_name = color_name.values\n",
    "    \n",
    "    return color, color_name, length\n",
    "\n",
    "def length_bin(length):\n",
    "    '''\n",
    "    Chooses a bin for a word given it's length.\n",
    "    The goal is to use group_by_window to group words\n",
    "    with the ~ same ~ length in the same bin.\n",
    "    \n",
    "    Each bin will have the size of a batch, so it can train faster.\n",
    "    '''\n",
    "    bin_id = tf.cast(length / 5, dtype=tf.int64)\n",
    "    return tf.minimum(bin_id, 10)\n",
    "\n",
    "# Input function used for training and testing                                                \n",
    "def get_input_fn(csv_file, batch_size, num_epochs=1, shuffle=True):\n",
    "    def input_fn():\n",
    "        dataset = (\n",
    "            tf.contrib.data.TextLineDataset(csv_file) # reading from the HD\n",
    "            .skip(1) # skip header\n",
    "            .repeat(num_epochs) # repeat dataset the number of epochs\n",
    "            .map(parse) # parse text to variables\n",
    "            .group_by_window(key_func=lambda color, color_name, length: length_bin(length), # choose a bin\n",
    "                             reduce_func=lambda key, ds: pad_batch(ds, batch_size), # \n",
    "                             window_size=batch_size) # size of each bin\n",
    "        )\n",
    "        \n",
    "        # for our \"manual\" test we don't want to shuffle the data\n",
    "        if shuffle:\n",
    "            dataset = dataset.shuffle(buffer_size=100000) # shuffle\n",
    "\n",
    "        # create iterator\n",
    "        color, color_name, length = dataset.make_one_shot_iterator().get_next()\n",
    "\n",
    "        features = {\n",
    "            COLOR_NAME_KEY: color_name,\n",
    "            SEQUENCE_LENGTH_KEY: length,\n",
    "        }\n",
    "\n",
    "        return features, color\n",
    "    return input_fn\n",
    "        \n",
    "def pad_batch(ds, batch_size):\n",
    "    return ds.padded_batch(batch_size, \n",
    "                           padded_shapes=([None], [None], []),\n",
    "                           padding_values=(0.0, chr(0), tf.cast(0, tf.int64)))"
   ]
  },
  {
   "cell_type": "code",
   "execution_count": 249,
   "metadata": {
    "colab": {
     "autoexec": {
      "startup": false,
      "wait_interval": 0
     }
    },
    "colab_type": "code",
    "id": "m5UJyvW5P0Sy"
   },
   "outputs": [],
   "source": [
    "train_input_fn = get_input_fn(TRAIN_INPUT, BATCH_SIZE)\n",
    "test_input_fn = get_input_fn(TEST_INPUT, BATCH_SIZE)"
   ]
  },
  {
   "cell_type": "markdown",
   "metadata": {},
   "source": [
    "## Creating the Estimator model"
   ]
  },
  {
   "cell_type": "code",
   "execution_count": 250,
   "metadata": {
    "colab": {
     "autoexec": {
      "startup": false,
      "wait_interval": 0
     }
    },
    "colab_type": "code",
    "id": "VxXAUrYN7TvR"
   },
   "outputs": [],
   "source": [
    "def get_model_fn(rnn_cell_sizes,\n",
    "                 label_dimension,\n",
    "                 dnn_layer_sizes=[],\n",
    "                 optimizer='SGD',\n",
    "                 learning_rate=0.01):\n",
    "    \n",
    "    def model_fn(features, labels, mode):\n",
    "        \n",
    "        color_name = features[COLOR_NAME_KEY]\n",
    "        sequence_length = tf.cast(features[SEQUENCE_LENGTH_KEY], dtype=tf.int32) # int64 -> int32\n",
    "\n",
    "        tf.Print(color_name, [color_name])\n",
    "        \n",
    "        # Creating a tf constant to hold the map char -> index\n",
    "        # this is need to create the sparse tensor and after the one hot encode\n",
    "        mapping = tf.constant(CHARACTERS, name=\"mapping\")\n",
    "        table = tf.contrib.lookup.index_table_from_tensor(mapping, dtype=tf.string)\n",
    "        int_color_name = table.lookup(color_name)\n",
    "        \n",
    "        # representing colornames with one hot representation\n",
    "        color_name_onehot = tf.one_hot(int_color_name, depth=len(CHARACTERS) + 1)\n",
    "        \n",
    "        # Each RNN layer will consist of a LSTM cell\n",
    "        rnn_layers = [tf.contrib.rnn.LSTMCell(size) for size in rnn_cell_sizes]\n",
    "        \n",
    "        # Construct the layers\n",
    "        multi_rnn_cell = tf.contrib.rnn.MultiRNNCell(rnn_layers)\n",
    "        \n",
    "        # Runs the RNN model dynamically\n",
    "        # more about it at: \n",
    "        # https://www.tensorflow.org/api_docs/python/tf/nn/dynamic_rnn\n",
    "        outputs, final_state = tf.nn.dynamic_rnn(cell=multi_rnn_cell,\n",
    "                                                 inputs=color_name_onehot,\n",
    "                                                 sequence_length=sequence_length,\n",
    "                                                 dtype=tf.float32)\n",
    "\n",
    "        # Slice to keep only the last cell of the RNN\n",
    "        last_activations = rnn_common.select_last_activations(outputs,\n",
    "                                                              sequence_length)\n",
    "\n",
    "        # Construct dense layers on top of the last cell of the RNN\n",
    "        for units in dnn_layer_sizes:\n",
    "            last_activations = tf.layers.dense(\n",
    "              last_activations, units, activation=tf.nn.relu)\n",
    "        \n",
    "        # Final dense layer for prediction\n",
    "        predictions = tf.layers.dense(last_activations, label_dimension)\n",
    "\n",
    "        loss = None\n",
    "        train_op = None\n",
    "\n",
    "        if mode != tf.contrib.learn.ModeKeys.INFER:    \n",
    "            loss = tf.losses.mean_squared_error(labels, predictions)\n",
    "    \n",
    "        if mode == tf.contrib.learn.ModeKeys.TRAIN:    \n",
    "            train_op = tf.contrib.layers.optimize_loss(\n",
    "              loss,\n",
    "              tf.contrib.framework.get_global_step(),\n",
    "              optimizer=optimizer,\n",
    "              learning_rate=learning_rate)\n",
    "        \n",
    "        return model_fn_lib.EstimatorSpec(mode,\n",
    "                                           predictions=predictions,\n",
    "                                           loss=loss,\n",
    "                                           train_op=train_op)\n",
    "    return model_fn"
   ]
  },
  {
   "cell_type": "code",
   "execution_count": 251,
   "metadata": {
    "colab": {
     "autoexec": {
      "startup": false,
      "wait_interval": 0
     }
    },
    "colab_type": "code",
    "id": "gUHR3Mzc7Tvb"
   },
   "outputs": [
    {
     "name": "stdout",
     "output_type": "stream",
     "text": [
      "INFO:tensorflow:Using default config.\n",
      "INFO:tensorflow:Using config: {'_save_checkpoints_secs': 600, '_keep_checkpoint_max': 5, '_keep_checkpoint_every_n_hours': 10000, '_save_summary_steps': 100, '_tf_random_seed': 1, '_model_dir': '/tmp/colorbot_model0', '_session_config': None, '_save_checkpoints_steps': None}\n"
     ]
    }
   ],
   "source": [
    "model_fn = get_model_fn(rnn_cell_sizes=[256, 128], # size of the hidden layers\n",
    "                        label_dimension=3, # since is RGB\n",
    "                        dnn_layer_sizes=[128], # size of units in the dense layers on top of the RNN\n",
    "                        optimizer='Adam', #changing optimizer to Adam\n",
    "                        learning_rate=0.01)\n",
    "\n",
    "estimator = tf.estimator.Estimator(model_fn=model_fn, model_dir='/tmp/colorbot_model0')"
   ]
  },
  {
   "cell_type": "markdown",
   "metadata": {},
   "source": [
    "## Trainning and Evaluating\n",
    "\n",
    "We could use a [experiment](https://www.tensorflow.org/api_docs/python/tf/contrib/learn/Experiment) instead.\n"
   ]
  },
  {
   "cell_type": "code",
   "execution_count": 253,
   "metadata": {
    "colab": {
     "autoexec": {
      "startup": false,
      "wait_interval": 0
     }
    },
    "colab_type": "code",
    "id": "DUZEKQrdGgZE"
   },
   "outputs": [
    {
     "name": "stdout",
     "output_type": "stream",
     "text": [
      "Training epoch 0\n",
      "--------------------\n"
     ]
    },
    {
     "name": "stderr",
     "output_type": "stream",
     "text": [
      "/usr/local/lib/python3.5/site-packages/tensorflow/python/ops/gradients_impl.py:93: UserWarning: Converting sparse IndexedSlices to a dense Tensor of unknown shape. This may consume a large amount of memory.\n",
      "  \"Converting sparse IndexedSlices to a dense Tensor of unknown shape. \"\n"
     ]
    },
    {
     "name": "stdout",
     "output_type": "stream",
     "text": [
      "INFO:tensorflow:Create CheckpointSaverHook.\n",
      "INFO:tensorflow:Restoring parameters from /tmp/colorbot_model0/model.ckpt-1\n",
      "INFO:tensorflow:Saving checkpoints for 2 into /tmp/colorbot_model0/model.ckpt.\n",
      "INFO:tensorflow:step = 2, loss = 0.170063\n",
      "INFO:tensorflow:Saving checkpoints for 24 into /tmp/colorbot_model0/model.ckpt.\n",
      "INFO:tensorflow:Loss for final step: 0.07498.\n",
      "Evaluating epoch 0\n",
      "--------------------\n",
      "INFO:tensorflow:Starting evaluation at 2017-06-27-23:45:30\n",
      "INFO:tensorflow:Restoring parameters from /tmp/colorbot_model0/model.ckpt-24\n",
      "INFO:tensorflow:Finished evaluation at 2017-06-27-23:45:30\n",
      "INFO:tensorflow:Saving dict for global step 24: global_step = 24, loss = 0.141949\n",
      "Training epoch 1\n",
      "--------------------\n",
      "INFO:tensorflow:Create CheckpointSaverHook.\n",
      "INFO:tensorflow:Restoring parameters from /tmp/colorbot_model0/model.ckpt-24\n",
      "INFO:tensorflow:Saving checkpoints for 25 into /tmp/colorbot_model0/model.ckpt.\n",
      "INFO:tensorflow:step = 25, loss = 0.120725\n",
      "INFO:tensorflow:Saving checkpoints for 47 into /tmp/colorbot_model0/model.ckpt.\n",
      "INFO:tensorflow:Loss for final step: 0.0873114.\n",
      "Evaluating epoch 1\n",
      "--------------------\n",
      "INFO:tensorflow:Starting evaluation at 2017-06-27-23:45:32\n",
      "INFO:tensorflow:Restoring parameters from /tmp/colorbot_model0/model.ckpt-47\n",
      "INFO:tensorflow:Finished evaluation at 2017-06-27-23:45:33\n",
      "INFO:tensorflow:Saving dict for global step 47: global_step = 47, loss = 0.103979\n",
      "Training epoch 2\n",
      "--------------------\n",
      "INFO:tensorflow:Create CheckpointSaverHook.\n",
      "INFO:tensorflow:Restoring parameters from /tmp/colorbot_model0/model.ckpt-47\n",
      "INFO:tensorflow:Saving checkpoints for 48 into /tmp/colorbot_model0/model.ckpt.\n",
      "INFO:tensorflow:step = 48, loss = 0.0972874\n",
      "INFO:tensorflow:Saving checkpoints for 70 into /tmp/colorbot_model0/model.ckpt.\n",
      "INFO:tensorflow:Loss for final step: 0.0599769.\n",
      "Evaluating epoch 2\n",
      "--------------------\n",
      "INFO:tensorflow:Starting evaluation at 2017-06-27-23:45:35\n",
      "INFO:tensorflow:Restoring parameters from /tmp/colorbot_model0/model.ckpt-70\n",
      "INFO:tensorflow:Finished evaluation at 2017-06-27-23:45:36\n",
      "INFO:tensorflow:Saving dict for global step 70: global_step = 70, loss = 0.0955139\n",
      "Training epoch 3\n",
      "--------------------\n",
      "INFO:tensorflow:Create CheckpointSaverHook.\n",
      "INFO:tensorflow:Restoring parameters from /tmp/colorbot_model0/model.ckpt-70\n",
      "INFO:tensorflow:Saving checkpoints for 71 into /tmp/colorbot_model0/model.ckpt.\n",
      "INFO:tensorflow:step = 71, loss = 0.0981546\n",
      "INFO:tensorflow:Saving checkpoints for 93 into /tmp/colorbot_model0/model.ckpt.\n",
      "INFO:tensorflow:Loss for final step: 0.0306189.\n",
      "Evaluating epoch 3\n",
      "--------------------\n",
      "INFO:tensorflow:Starting evaluation at 2017-06-27-23:45:38\n",
      "INFO:tensorflow:Restoring parameters from /tmp/colorbot_model0/model.ckpt-93\n",
      "INFO:tensorflow:Finished evaluation at 2017-06-27-23:45:39\n",
      "INFO:tensorflow:Saving dict for global step 93: global_step = 93, loss = 0.0687464\n",
      "Training epoch 4\n",
      "--------------------\n",
      "INFO:tensorflow:Create CheckpointSaverHook.\n",
      "INFO:tensorflow:Restoring parameters from /tmp/colorbot_model0/model.ckpt-93\n",
      "INFO:tensorflow:Saving checkpoints for 94 into /tmp/colorbot_model0/model.ckpt.\n",
      "INFO:tensorflow:step = 94, loss = 0.0900063\n",
      "INFO:tensorflow:Saving checkpoints for 116 into /tmp/colorbot_model0/model.ckpt.\n",
      "INFO:tensorflow:Loss for final step: 0.0912122.\n",
      "Evaluating epoch 4\n",
      "--------------------\n",
      "INFO:tensorflow:Starting evaluation at 2017-06-27-23:45:45\n",
      "INFO:tensorflow:Restoring parameters from /tmp/colorbot_model0/model.ckpt-116\n",
      "INFO:tensorflow:Finished evaluation at 2017-06-27-23:45:46\n",
      "INFO:tensorflow:Saving dict for global step 116: global_step = 116, loss = 0.071202\n",
      "Training epoch 5\n",
      "--------------------\n",
      "INFO:tensorflow:Create CheckpointSaverHook.\n",
      "INFO:tensorflow:Restoring parameters from /tmp/colorbot_model0/model.ckpt-116\n",
      "INFO:tensorflow:Saving checkpoints for 117 into /tmp/colorbot_model0/model.ckpt.\n",
      "INFO:tensorflow:step = 117, loss = 0.090523\n",
      "INFO:tensorflow:Saving checkpoints for 139 into /tmp/colorbot_model0/model.ckpt.\n",
      "INFO:tensorflow:Loss for final step: 0.0396682.\n",
      "Evaluating epoch 5\n",
      "--------------------\n",
      "INFO:tensorflow:Starting evaluation at 2017-06-27-23:45:48\n",
      "INFO:tensorflow:Restoring parameters from /tmp/colorbot_model0/model.ckpt-139\n",
      "INFO:tensorflow:Finished evaluation at 2017-06-27-23:45:49\n",
      "INFO:tensorflow:Saving dict for global step 139: global_step = 139, loss = 0.0822172\n",
      "Training epoch 6\n",
      "--------------------\n",
      "INFO:tensorflow:Create CheckpointSaverHook.\n",
      "INFO:tensorflow:Restoring parameters from /tmp/colorbot_model0/model.ckpt-139\n",
      "INFO:tensorflow:Saving checkpoints for 140 into /tmp/colorbot_model0/model.ckpt.\n",
      "INFO:tensorflow:step = 140, loss = 0.095705\n",
      "INFO:tensorflow:Saving checkpoints for 162 into /tmp/colorbot_model0/model.ckpt.\n",
      "INFO:tensorflow:Loss for final step: 0.0178437.\n",
      "Evaluating epoch 6\n",
      "--------------------\n",
      "INFO:tensorflow:Starting evaluation at 2017-06-27-23:45:51\n",
      "INFO:tensorflow:Restoring parameters from /tmp/colorbot_model0/model.ckpt-162\n",
      "INFO:tensorflow:Finished evaluation at 2017-06-27-23:45:52\n",
      "INFO:tensorflow:Saving dict for global step 162: global_step = 162, loss = 0.0724651\n",
      "Training epoch 7\n",
      "--------------------\n",
      "INFO:tensorflow:Create CheckpointSaverHook.\n",
      "INFO:tensorflow:Restoring parameters from /tmp/colorbot_model0/model.ckpt-162\n",
      "INFO:tensorflow:Saving checkpoints for 163 into /tmp/colorbot_model0/model.ckpt.\n",
      "INFO:tensorflow:step = 163, loss = 0.0865583\n",
      "INFO:tensorflow:Saving checkpoints for 185 into /tmp/colorbot_model0/model.ckpt.\n",
      "INFO:tensorflow:Loss for final step: 0.0297941.\n",
      "Evaluating epoch 7\n",
      "--------------------\n",
      "INFO:tensorflow:Starting evaluation at 2017-06-27-23:45:54\n",
      "INFO:tensorflow:Restoring parameters from /tmp/colorbot_model0/model.ckpt-185\n",
      "INFO:tensorflow:Finished evaluation at 2017-06-27-23:45:54\n",
      "INFO:tensorflow:Saving dict for global step 185: global_step = 185, loss = 0.0671038\n",
      "Training epoch 8\n",
      "--------------------\n",
      "INFO:tensorflow:Create CheckpointSaverHook.\n",
      "INFO:tensorflow:Restoring parameters from /tmp/colorbot_model0/model.ckpt-185\n",
      "INFO:tensorflow:Saving checkpoints for 186 into /tmp/colorbot_model0/model.ckpt.\n",
      "INFO:tensorflow:step = 186, loss = 0.0832274\n",
      "INFO:tensorflow:Saving checkpoints for 208 into /tmp/colorbot_model0/model.ckpt.\n",
      "INFO:tensorflow:Loss for final step: 0.00236461.\n",
      "Evaluating epoch 8\n",
      "--------------------\n",
      "INFO:tensorflow:Starting evaluation at 2017-06-27-23:45:57\n",
      "INFO:tensorflow:Restoring parameters from /tmp/colorbot_model0/model.ckpt-208\n",
      "INFO:tensorflow:Finished evaluation at 2017-06-27-23:45:57\n",
      "INFO:tensorflow:Saving dict for global step 208: global_step = 208, loss = 0.0691285\n",
      "Training epoch 9\n",
      "--------------------\n",
      "INFO:tensorflow:Create CheckpointSaverHook.\n",
      "INFO:tensorflow:Restoring parameters from /tmp/colorbot_model0/model.ckpt-208\n",
      "INFO:tensorflow:Saving checkpoints for 209 into /tmp/colorbot_model0/model.ckpt.\n",
      "INFO:tensorflow:step = 209, loss = 0.0857835\n",
      "INFO:tensorflow:Saving checkpoints for 231 into /tmp/colorbot_model0/model.ckpt.\n",
      "INFO:tensorflow:Loss for final step: 0.0230051.\n",
      "Evaluating epoch 9\n",
      "--------------------\n",
      "INFO:tensorflow:Starting evaluation at 2017-06-27-23:46:00\n",
      "INFO:tensorflow:Restoring parameters from /tmp/colorbot_model0/model.ckpt-231\n",
      "INFO:tensorflow:Finished evaluation at 2017-06-27-23:46:00\n",
      "INFO:tensorflow:Saving dict for global step 231: global_step = 231, loss = 0.0617841\n",
      "Training epoch 10\n",
      "--------------------\n",
      "INFO:tensorflow:Create CheckpointSaverHook.\n",
      "INFO:tensorflow:Restoring parameters from /tmp/colorbot_model0/model.ckpt-231\n",
      "INFO:tensorflow:Saving checkpoints for 232 into /tmp/colorbot_model0/model.ckpt.\n",
      "INFO:tensorflow:step = 232, loss = 0.0813521\n",
      "INFO:tensorflow:Saving checkpoints for 254 into /tmp/colorbot_model0/model.ckpt.\n",
      "INFO:tensorflow:Loss for final step: 0.0169869.\n",
      "Evaluating epoch 10\n",
      "--------------------\n",
      "INFO:tensorflow:Starting evaluation at 2017-06-27-23:46:03\n",
      "INFO:tensorflow:Restoring parameters from /tmp/colorbot_model0/model.ckpt-254\n",
      "INFO:tensorflow:Finished evaluation at 2017-06-27-23:46:03\n",
      "INFO:tensorflow:Saving dict for global step 254: global_step = 254, loss = 0.0975075\n",
      "Training epoch 11\n",
      "--------------------\n",
      "INFO:tensorflow:Create CheckpointSaverHook.\n",
      "INFO:tensorflow:Restoring parameters from /tmp/colorbot_model0/model.ckpt-254\n",
      "INFO:tensorflow:Saving checkpoints for 255 into /tmp/colorbot_model0/model.ckpt.\n"
     ]
    },
    {
     "name": "stdout",
     "output_type": "stream",
     "text": [
      "INFO:tensorflow:step = 255, loss = 0.0979197\n",
      "INFO:tensorflow:Saving checkpoints for 277 into /tmp/colorbot_model0/model.ckpt.\n",
      "INFO:tensorflow:Loss for final step: 0.033256.\n",
      "Evaluating epoch 11\n",
      "--------------------\n",
      "INFO:tensorflow:Starting evaluation at 2017-06-27-23:46:06\n",
      "INFO:tensorflow:Restoring parameters from /tmp/colorbot_model0/model.ckpt-277\n",
      "INFO:tensorflow:Finished evaluation at 2017-06-27-23:46:06\n",
      "INFO:tensorflow:Saving dict for global step 277: global_step = 277, loss = 0.0635819\n",
      "Training epoch 12\n",
      "--------------------\n",
      "INFO:tensorflow:Create CheckpointSaverHook.\n",
      "INFO:tensorflow:Restoring parameters from /tmp/colorbot_model0/model.ckpt-277\n",
      "INFO:tensorflow:Saving checkpoints for 278 into /tmp/colorbot_model0/model.ckpt.\n",
      "INFO:tensorflow:step = 278, loss = 0.0850285\n",
      "INFO:tensorflow:Saving checkpoints for 300 into /tmp/colorbot_model0/model.ckpt.\n",
      "INFO:tensorflow:Loss for final step: 0.0218671.\n",
      "Evaluating epoch 12\n",
      "--------------------\n",
      "INFO:tensorflow:Starting evaluation at 2017-06-27-23:46:09\n",
      "INFO:tensorflow:Restoring parameters from /tmp/colorbot_model0/model.ckpt-300\n",
      "INFO:tensorflow:Finished evaluation at 2017-06-27-23:46:09\n",
      "INFO:tensorflow:Saving dict for global step 300: global_step = 300, loss = 0.0641016\n",
      "Training epoch 13\n",
      "--------------------\n",
      "INFO:tensorflow:Create CheckpointSaverHook.\n",
      "INFO:tensorflow:Restoring parameters from /tmp/colorbot_model0/model.ckpt-300\n",
      "INFO:tensorflow:Saving checkpoints for 301 into /tmp/colorbot_model0/model.ckpt.\n",
      "INFO:tensorflow:step = 301, loss = 0.0813336\n",
      "INFO:tensorflow:Saving checkpoints for 323 into /tmp/colorbot_model0/model.ckpt.\n",
      "INFO:tensorflow:Loss for final step: 0.00382689.\n",
      "Evaluating epoch 13\n",
      "--------------------\n",
      "INFO:tensorflow:Starting evaluation at 2017-06-27-23:46:12\n",
      "INFO:tensorflow:Restoring parameters from /tmp/colorbot_model0/model.ckpt-323\n",
      "INFO:tensorflow:Finished evaluation at 2017-06-27-23:46:12\n",
      "INFO:tensorflow:Saving dict for global step 323: global_step = 323, loss = 0.0645251\n",
      "Training epoch 14\n",
      "--------------------\n",
      "INFO:tensorflow:Create CheckpointSaverHook.\n",
      "INFO:tensorflow:Restoring parameters from /tmp/colorbot_model0/model.ckpt-323\n",
      "INFO:tensorflow:Saving checkpoints for 324 into /tmp/colorbot_model0/model.ckpt.\n",
      "INFO:tensorflow:step = 324, loss = 0.0808486\n",
      "INFO:tensorflow:Saving checkpoints for 346 into /tmp/colorbot_model0/model.ckpt.\n",
      "INFO:tensorflow:Loss for final step: 0.0139835.\n",
      "Evaluating epoch 14\n",
      "--------------------\n",
      "INFO:tensorflow:Starting evaluation at 2017-06-27-23:46:15\n",
      "INFO:tensorflow:Restoring parameters from /tmp/colorbot_model0/model.ckpt-346\n",
      "INFO:tensorflow:Finished evaluation at 2017-06-27-23:46:15\n",
      "INFO:tensorflow:Saving dict for global step 346: global_step = 346, loss = 0.077571\n",
      "Training epoch 15\n",
      "--------------------\n",
      "INFO:tensorflow:Create CheckpointSaverHook.\n",
      "INFO:tensorflow:Restoring parameters from /tmp/colorbot_model0/model.ckpt-346\n",
      "INFO:tensorflow:Saving checkpoints for 347 into /tmp/colorbot_model0/model.ckpt.\n",
      "INFO:tensorflow:step = 347, loss = 0.0867384\n",
      "INFO:tensorflow:Saving checkpoints for 369 into /tmp/colorbot_model0/model.ckpt.\n",
      "INFO:tensorflow:Loss for final step: 0.00989208.\n",
      "Evaluating epoch 15\n",
      "--------------------\n",
      "INFO:tensorflow:Starting evaluation at 2017-06-27-23:46:18\n",
      "INFO:tensorflow:Restoring parameters from /tmp/colorbot_model0/model.ckpt-369\n",
      "INFO:tensorflow:Finished evaluation at 2017-06-27-23:46:18\n",
      "INFO:tensorflow:Saving dict for global step 369: global_step = 369, loss = 0.0668771\n",
      "Training epoch 16\n",
      "--------------------\n",
      "INFO:tensorflow:Create CheckpointSaverHook.\n",
      "INFO:tensorflow:Restoring parameters from /tmp/colorbot_model0/model.ckpt-369\n",
      "INFO:tensorflow:Saving checkpoints for 370 into /tmp/colorbot_model0/model.ckpt.\n",
      "INFO:tensorflow:step = 370, loss = 0.0781947\n",
      "INFO:tensorflow:Saving checkpoints for 392 into /tmp/colorbot_model0/model.ckpt.\n",
      "INFO:tensorflow:Loss for final step: 0.00113695.\n",
      "Evaluating epoch 16\n",
      "--------------------\n",
      "INFO:tensorflow:Starting evaluation at 2017-06-27-23:46:21\n",
      "INFO:tensorflow:Restoring parameters from /tmp/colorbot_model0/model.ckpt-392\n",
      "INFO:tensorflow:Finished evaluation at 2017-06-27-23:46:21\n",
      "INFO:tensorflow:Saving dict for global step 392: global_step = 392, loss = 0.0678795\n",
      "Training epoch 17\n",
      "--------------------\n",
      "INFO:tensorflow:Create CheckpointSaverHook.\n",
      "INFO:tensorflow:Restoring parameters from /tmp/colorbot_model0/model.ckpt-392\n",
      "INFO:tensorflow:Saving checkpoints for 393 into /tmp/colorbot_model0/model.ckpt.\n",
      "INFO:tensorflow:step = 393, loss = 0.0755623\n",
      "INFO:tensorflow:Saving checkpoints for 415 into /tmp/colorbot_model0/model.ckpt.\n",
      "INFO:tensorflow:Loss for final step: 0.00461347.\n",
      "Evaluating epoch 17\n",
      "--------------------\n",
      "INFO:tensorflow:Starting evaluation at 2017-06-27-23:46:24\n",
      "INFO:tensorflow:Restoring parameters from /tmp/colorbot_model0/model.ckpt-415\n",
      "INFO:tensorflow:Finished evaluation at 2017-06-27-23:46:24\n",
      "INFO:tensorflow:Saving dict for global step 415: global_step = 415, loss = 0.0649405\n",
      "Training epoch 18\n",
      "--------------------\n",
      "INFO:tensorflow:Create CheckpointSaverHook.\n",
      "INFO:tensorflow:Restoring parameters from /tmp/colorbot_model0/model.ckpt-415\n",
      "INFO:tensorflow:Saving checkpoints for 416 into /tmp/colorbot_model0/model.ckpt.\n",
      "INFO:tensorflow:step = 416, loss = 0.0747583\n",
      "INFO:tensorflow:Saving checkpoints for 438 into /tmp/colorbot_model0/model.ckpt.\n",
      "INFO:tensorflow:Loss for final step: 0.0147536.\n",
      "Evaluating epoch 18\n",
      "--------------------\n",
      "INFO:tensorflow:Starting evaluation at 2017-06-27-23:46:27\n",
      "INFO:tensorflow:Restoring parameters from /tmp/colorbot_model0/model.ckpt-438\n",
      "INFO:tensorflow:Finished evaluation at 2017-06-27-23:46:27\n",
      "INFO:tensorflow:Saving dict for global step 438: global_step = 438, loss = 0.0647687\n",
      "Training epoch 19\n",
      "--------------------\n",
      "INFO:tensorflow:Create CheckpointSaverHook.\n",
      "INFO:tensorflow:Restoring parameters from /tmp/colorbot_model0/model.ckpt-438\n",
      "INFO:tensorflow:Saving checkpoints for 439 into /tmp/colorbot_model0/model.ckpt.\n",
      "INFO:tensorflow:step = 439, loss = 0.0741651\n",
      "INFO:tensorflow:Saving checkpoints for 461 into /tmp/colorbot_model0/model.ckpt.\n",
      "INFO:tensorflow:Loss for final step: 0.00448193.\n",
      "Evaluating epoch 19\n",
      "--------------------\n",
      "INFO:tensorflow:Starting evaluation at 2017-06-27-23:46:30\n",
      "INFO:tensorflow:Restoring parameters from /tmp/colorbot_model0/model.ckpt-461\n",
      "INFO:tensorflow:Finished evaluation at 2017-06-27-23:46:30\n",
      "INFO:tensorflow:Saving dict for global step 461: global_step = 461, loss = 0.0602463\n",
      "Training epoch 20\n",
      "--------------------\n",
      "INFO:tensorflow:Create CheckpointSaverHook.\n",
      "INFO:tensorflow:Restoring parameters from /tmp/colorbot_model0/model.ckpt-461\n",
      "INFO:tensorflow:Saving checkpoints for 462 into /tmp/colorbot_model0/model.ckpt.\n",
      "INFO:tensorflow:step = 462, loss = 0.0699323\n",
      "INFO:tensorflow:Saving checkpoints for 484 into /tmp/colorbot_model0/model.ckpt.\n",
      "INFO:tensorflow:Loss for final step: 0.0220437.\n",
      "Evaluating epoch 20\n",
      "--------------------\n",
      "INFO:tensorflow:Starting evaluation at 2017-06-27-23:46:33\n",
      "INFO:tensorflow:Restoring parameters from /tmp/colorbot_model0/model.ckpt-484\n",
      "INFO:tensorflow:Finished evaluation at 2017-06-27-23:46:33\n",
      "INFO:tensorflow:Saving dict for global step 484: global_step = 484, loss = 0.0653174\n",
      "Training epoch 21\n",
      "--------------------\n",
      "INFO:tensorflow:Create CheckpointSaverHook.\n",
      "INFO:tensorflow:Restoring parameters from /tmp/colorbot_model0/model.ckpt-484\n",
      "INFO:tensorflow:Saving checkpoints for 485 into /tmp/colorbot_model0/model.ckpt.\n",
      "INFO:tensorflow:step = 485, loss = 0.0735213\n",
      "INFO:tensorflow:Saving checkpoints for 507 into /tmp/colorbot_model0/model.ckpt.\n",
      "INFO:tensorflow:Loss for final step: 0.00434498.\n",
      "Evaluating epoch 21\n",
      "--------------------\n",
      "INFO:tensorflow:Starting evaluation at 2017-06-27-23:46:36\n",
      "INFO:tensorflow:Restoring parameters from /tmp/colorbot_model0/model.ckpt-507\n",
      "INFO:tensorflow:Finished evaluation at 2017-06-27-23:46:36\n",
      "INFO:tensorflow:Saving dict for global step 507: global_step = 507, loss = 0.0687772\n",
      "Training epoch 22\n",
      "--------------------\n",
      "INFO:tensorflow:Create CheckpointSaverHook.\n",
      "INFO:tensorflow:Restoring parameters from /tmp/colorbot_model0/model.ckpt-507\n",
      "INFO:tensorflow:Saving checkpoints for 508 into /tmp/colorbot_model0/model.ckpt.\n",
      "INFO:tensorflow:step = 508, loss = 0.070746\n",
      "INFO:tensorflow:Saving checkpoints for 530 into /tmp/colorbot_model0/model.ckpt.\n"
     ]
    },
    {
     "name": "stdout",
     "output_type": "stream",
     "text": [
      "INFO:tensorflow:Loss for final step: 0.0134246.\n",
      "Evaluating epoch 22\n",
      "--------------------\n",
      "INFO:tensorflow:Starting evaluation at 2017-06-27-23:46:39\n",
      "INFO:tensorflow:Restoring parameters from /tmp/colorbot_model0/model.ckpt-530\n",
      "INFO:tensorflow:Finished evaluation at 2017-06-27-23:46:39\n",
      "INFO:tensorflow:Saving dict for global step 530: global_step = 530, loss = 0.0649178\n",
      "Training epoch 23\n",
      "--------------------\n",
      "INFO:tensorflow:Create CheckpointSaverHook.\n",
      "INFO:tensorflow:Restoring parameters from /tmp/colorbot_model0/model.ckpt-530\n",
      "INFO:tensorflow:Saving checkpoints for 531 into /tmp/colorbot_model0/model.ckpt.\n",
      "INFO:tensorflow:step = 531, loss = 0.0637433\n",
      "INFO:tensorflow:Saving checkpoints for 553 into /tmp/colorbot_model0/model.ckpt.\n",
      "INFO:tensorflow:Loss for final step: 0.0304333.\n",
      "Evaluating epoch 23\n",
      "--------------------\n",
      "INFO:tensorflow:Starting evaluation at 2017-06-27-23:46:42\n",
      "INFO:tensorflow:Restoring parameters from /tmp/colorbot_model0/model.ckpt-553\n",
      "INFO:tensorflow:Finished evaluation at 2017-06-27-23:46:42\n",
      "INFO:tensorflow:Saving dict for global step 553: global_step = 553, loss = 0.0626534\n",
      "Training epoch 24\n",
      "--------------------\n",
      "INFO:tensorflow:Create CheckpointSaverHook.\n",
      "INFO:tensorflow:Restoring parameters from /tmp/colorbot_model0/model.ckpt-553\n",
      "INFO:tensorflow:Saving checkpoints for 554 into /tmp/colorbot_model0/model.ckpt.\n",
      "INFO:tensorflow:step = 554, loss = 0.0673286\n",
      "INFO:tensorflow:Saving checkpoints for 576 into /tmp/colorbot_model0/model.ckpt.\n",
      "INFO:tensorflow:Loss for final step: 0.0137993.\n",
      "Evaluating epoch 24\n",
      "--------------------\n",
      "INFO:tensorflow:Starting evaluation at 2017-06-27-23:46:45\n",
      "INFO:tensorflow:Restoring parameters from /tmp/colorbot_model0/model.ckpt-576\n",
      "INFO:tensorflow:Finished evaluation at 2017-06-27-23:46:45\n",
      "INFO:tensorflow:Saving dict for global step 576: global_step = 576, loss = 0.0841793\n",
      "Training epoch 25\n",
      "--------------------\n",
      "INFO:tensorflow:Create CheckpointSaverHook.\n",
      "INFO:tensorflow:Restoring parameters from /tmp/colorbot_model0/model.ckpt-576\n",
      "INFO:tensorflow:Saving checkpoints for 577 into /tmp/colorbot_model0/model.ckpt.\n",
      "INFO:tensorflow:step = 577, loss = 0.0755546\n",
      "INFO:tensorflow:Saving checkpoints for 599 into /tmp/colorbot_model0/model.ckpt.\n",
      "INFO:tensorflow:Loss for final step: 0.0156995.\n",
      "Evaluating epoch 25\n",
      "--------------------\n",
      "INFO:tensorflow:Starting evaluation at 2017-06-27-23:46:48\n",
      "INFO:tensorflow:Restoring parameters from /tmp/colorbot_model0/model.ckpt-599\n",
      "INFO:tensorflow:Finished evaluation at 2017-06-27-23:46:48\n",
      "INFO:tensorflow:Saving dict for global step 599: global_step = 599, loss = 0.0722237\n",
      "Training epoch 26\n",
      "--------------------\n",
      "INFO:tensorflow:Create CheckpointSaverHook.\n",
      "INFO:tensorflow:Restoring parameters from /tmp/colorbot_model0/model.ckpt-599\n",
      "INFO:tensorflow:Saving checkpoints for 600 into /tmp/colorbot_model0/model.ckpt.\n",
      "INFO:tensorflow:step = 600, loss = 0.0639615\n",
      "INFO:tensorflow:Saving checkpoints for 622 into /tmp/colorbot_model0/model.ckpt.\n",
      "INFO:tensorflow:Loss for final step: 0.00561574.\n",
      "Evaluating epoch 26\n",
      "--------------------\n",
      "INFO:tensorflow:Starting evaluation at 2017-06-27-23:46:50\n",
      "INFO:tensorflow:Restoring parameters from /tmp/colorbot_model0/model.ckpt-622\n",
      "INFO:tensorflow:Finished evaluation at 2017-06-27-23:46:51\n",
      "INFO:tensorflow:Saving dict for global step 622: global_step = 622, loss = 0.0602622\n",
      "Training epoch 27\n",
      "--------------------\n",
      "INFO:tensorflow:Create CheckpointSaverHook.\n",
      "INFO:tensorflow:Restoring parameters from /tmp/colorbot_model0/model.ckpt-622\n",
      "INFO:tensorflow:Saving checkpoints for 623 into /tmp/colorbot_model0/model.ckpt.\n",
      "INFO:tensorflow:step = 623, loss = 0.0569345\n",
      "INFO:tensorflow:Saving checkpoints for 645 into /tmp/colorbot_model0/model.ckpt.\n",
      "INFO:tensorflow:Loss for final step: 0.0498625.\n",
      "Evaluating epoch 27\n",
      "--------------------\n",
      "INFO:tensorflow:Starting evaluation at 2017-06-27-23:46:53\n",
      "INFO:tensorflow:Restoring parameters from /tmp/colorbot_model0/model.ckpt-645\n",
      "INFO:tensorflow:Finished evaluation at 2017-06-27-23:46:54\n",
      "INFO:tensorflow:Saving dict for global step 645: global_step = 645, loss = 0.0663\n",
      "Training epoch 28\n",
      "--------------------\n",
      "INFO:tensorflow:Create CheckpointSaverHook.\n",
      "INFO:tensorflow:Restoring parameters from /tmp/colorbot_model0/model.ckpt-645\n",
      "INFO:tensorflow:Saving checkpoints for 646 into /tmp/colorbot_model0/model.ckpt.\n",
      "INFO:tensorflow:step = 646, loss = 0.0557708\n",
      "INFO:tensorflow:Saving checkpoints for 668 into /tmp/colorbot_model0/model.ckpt.\n",
      "INFO:tensorflow:Loss for final step: 0.0372916.\n",
      "Evaluating epoch 28\n",
      "--------------------\n",
      "INFO:tensorflow:Starting evaluation at 2017-06-27-23:46:56\n",
      "INFO:tensorflow:Restoring parameters from /tmp/colorbot_model0/model.ckpt-668\n",
      "INFO:tensorflow:Finished evaluation at 2017-06-27-23:46:57\n",
      "INFO:tensorflow:Saving dict for global step 668: global_step = 668, loss = 0.0612795\n",
      "Training epoch 29\n",
      "--------------------\n",
      "INFO:tensorflow:Create CheckpointSaverHook.\n",
      "INFO:tensorflow:Restoring parameters from /tmp/colorbot_model0/model.ckpt-668\n",
      "INFO:tensorflow:Saving checkpoints for 669 into /tmp/colorbot_model0/model.ckpt.\n",
      "INFO:tensorflow:step = 669, loss = 0.0597033\n",
      "INFO:tensorflow:Saving checkpoints for 691 into /tmp/colorbot_model0/model.ckpt.\n",
      "INFO:tensorflow:Loss for final step: 0.0065536.\n",
      "Evaluating epoch 29\n",
      "--------------------\n",
      "INFO:tensorflow:Starting evaluation at 2017-06-27-23:46:59\n",
      "INFO:tensorflow:Restoring parameters from /tmp/colorbot_model0/model.ckpt-691\n",
      "INFO:tensorflow:Finished evaluation at 2017-06-27-23:46:59\n",
      "INFO:tensorflow:Saving dict for global step 691: global_step = 691, loss = 0.0664792\n",
      "Training epoch 30\n",
      "--------------------\n",
      "INFO:tensorflow:Create CheckpointSaverHook.\n",
      "INFO:tensorflow:Restoring parameters from /tmp/colorbot_model0/model.ckpt-691\n",
      "INFO:tensorflow:Saving checkpoints for 692 into /tmp/colorbot_model0/model.ckpt.\n",
      "INFO:tensorflow:step = 692, loss = 0.0532511\n",
      "INFO:tensorflow:Saving checkpoints for 714 into /tmp/colorbot_model0/model.ckpt.\n",
      "INFO:tensorflow:Loss for final step: 0.0273739.\n",
      "Evaluating epoch 30\n",
      "--------------------\n",
      "INFO:tensorflow:Starting evaluation at 2017-06-27-23:47:02\n",
      "INFO:tensorflow:Restoring parameters from /tmp/colorbot_model0/model.ckpt-714\n",
      "INFO:tensorflow:Finished evaluation at 2017-06-27-23:47:02\n",
      "INFO:tensorflow:Saving dict for global step 714: global_step = 714, loss = 0.0549644\n",
      "Training epoch 31\n",
      "--------------------\n",
      "INFO:tensorflow:Create CheckpointSaverHook.\n",
      "INFO:tensorflow:Restoring parameters from /tmp/colorbot_model0/model.ckpt-714\n",
      "INFO:tensorflow:Saving checkpoints for 715 into /tmp/colorbot_model0/model.ckpt.\n",
      "INFO:tensorflow:step = 715, loss = 0.050498\n",
      "INFO:tensorflow:Saving checkpoints for 737 into /tmp/colorbot_model0/model.ckpt.\n",
      "INFO:tensorflow:Loss for final step: 0.0189521.\n",
      "Evaluating epoch 31\n",
      "--------------------\n",
      "INFO:tensorflow:Starting evaluation at 2017-06-27-23:47:05\n",
      "INFO:tensorflow:Restoring parameters from /tmp/colorbot_model0/model.ckpt-737\n",
      "INFO:tensorflow:Finished evaluation at 2017-06-27-23:47:05\n",
      "INFO:tensorflow:Saving dict for global step 737: global_step = 737, loss = 0.0623411\n",
      "Training epoch 32\n",
      "--------------------\n",
      "INFO:tensorflow:Create CheckpointSaverHook.\n",
      "INFO:tensorflow:Restoring parameters from /tmp/colorbot_model0/model.ckpt-737\n",
      "INFO:tensorflow:Saving checkpoints for 738 into /tmp/colorbot_model0/model.ckpt.\n",
      "INFO:tensorflow:step = 738, loss = 0.0560201\n",
      "INFO:tensorflow:Saving checkpoints for 760 into /tmp/colorbot_model0/model.ckpt.\n",
      "INFO:tensorflow:Loss for final step: 0.00352084.\n",
      "Evaluating epoch 32\n",
      "--------------------\n",
      "INFO:tensorflow:Starting evaluation at 2017-06-27-23:47:08\n",
      "INFO:tensorflow:Restoring parameters from /tmp/colorbot_model0/model.ckpt-760\n",
      "INFO:tensorflow:Finished evaluation at 2017-06-27-23:47:08\n",
      "INFO:tensorflow:Saving dict for global step 760: global_step = 760, loss = 0.0606754\n",
      "Training epoch 33\n",
      "--------------------\n",
      "INFO:tensorflow:Create CheckpointSaverHook.\n",
      "INFO:tensorflow:Restoring parameters from /tmp/colorbot_model0/model.ckpt-760\n",
      "INFO:tensorflow:Saving checkpoints for 761 into /tmp/colorbot_model0/model.ckpt.\n",
      "INFO:tensorflow:step = 761, loss = 0.0487948\n",
      "INFO:tensorflow:Saving checkpoints for 783 into /tmp/colorbot_model0/model.ckpt.\n",
      "INFO:tensorflow:Loss for final step: 0.00705621.\n",
      "Evaluating epoch 33\n",
      "--------------------\n"
     ]
    },
    {
     "name": "stdout",
     "output_type": "stream",
     "text": [
      "INFO:tensorflow:Starting evaluation at 2017-06-27-23:47:11\n",
      "INFO:tensorflow:Restoring parameters from /tmp/colorbot_model0/model.ckpt-783\n",
      "INFO:tensorflow:Finished evaluation at 2017-06-27-23:47:11\n",
      "INFO:tensorflow:Saving dict for global step 783: global_step = 783, loss = 0.0600659\n",
      "Training epoch 34\n",
      "--------------------\n",
      "INFO:tensorflow:Create CheckpointSaverHook.\n",
      "INFO:tensorflow:Restoring parameters from /tmp/colorbot_model0/model.ckpt-783\n",
      "INFO:tensorflow:Saving checkpoints for 784 into /tmp/colorbot_model0/model.ckpt.\n",
      "INFO:tensorflow:step = 784, loss = 0.0409319\n",
      "INFO:tensorflow:Saving checkpoints for 806 into /tmp/colorbot_model0/model.ckpt.\n",
      "INFO:tensorflow:Loss for final step: 0.00749955.\n",
      "Evaluating epoch 34\n",
      "--------------------\n",
      "INFO:tensorflow:Starting evaluation at 2017-06-27-23:47:14\n",
      "INFO:tensorflow:Restoring parameters from /tmp/colorbot_model0/model.ckpt-806\n",
      "INFO:tensorflow:Finished evaluation at 2017-06-27-23:47:14\n",
      "INFO:tensorflow:Saving dict for global step 806: global_step = 806, loss = 0.049522\n",
      "Training epoch 35\n",
      "--------------------\n",
      "INFO:tensorflow:Create CheckpointSaverHook.\n",
      "INFO:tensorflow:Restoring parameters from /tmp/colorbot_model0/model.ckpt-806\n",
      "INFO:tensorflow:Saving checkpoints for 807 into /tmp/colorbot_model0/model.ckpt.\n",
      "INFO:tensorflow:step = 807, loss = 0.0363626\n",
      "INFO:tensorflow:Saving checkpoints for 829 into /tmp/colorbot_model0/model.ckpt.\n",
      "INFO:tensorflow:Loss for final step: 0.0127239.\n",
      "Evaluating epoch 35\n",
      "--------------------\n",
      "INFO:tensorflow:Starting evaluation at 2017-06-27-23:47:17\n",
      "INFO:tensorflow:Restoring parameters from /tmp/colorbot_model0/model.ckpt-829\n",
      "INFO:tensorflow:Finished evaluation at 2017-06-27-23:47:17\n",
      "INFO:tensorflow:Saving dict for global step 829: global_step = 829, loss = 0.0586101\n",
      "Training epoch 36\n",
      "--------------------\n",
      "INFO:tensorflow:Create CheckpointSaverHook.\n",
      "INFO:tensorflow:Restoring parameters from /tmp/colorbot_model0/model.ckpt-829\n",
      "INFO:tensorflow:Saving checkpoints for 830 into /tmp/colorbot_model0/model.ckpt.\n",
      "INFO:tensorflow:step = 830, loss = 0.0355279\n",
      "INFO:tensorflow:Saving checkpoints for 852 into /tmp/colorbot_model0/model.ckpt.\n",
      "INFO:tensorflow:Loss for final step: 0.00102028.\n",
      "Evaluating epoch 36\n",
      "--------------------\n",
      "INFO:tensorflow:Starting evaluation at 2017-06-27-23:47:20\n",
      "INFO:tensorflow:Restoring parameters from /tmp/colorbot_model0/model.ckpt-852\n",
      "INFO:tensorflow:Finished evaluation at 2017-06-27-23:47:20\n",
      "INFO:tensorflow:Saving dict for global step 852: global_step = 852, loss = 0.0552147\n",
      "Training epoch 37\n",
      "--------------------\n",
      "INFO:tensorflow:Create CheckpointSaverHook.\n",
      "INFO:tensorflow:Restoring parameters from /tmp/colorbot_model0/model.ckpt-852\n",
      "INFO:tensorflow:Saving checkpoints for 853 into /tmp/colorbot_model0/model.ckpt.\n",
      "INFO:tensorflow:step = 853, loss = 0.0360776\n",
      "INFO:tensorflow:Saving checkpoints for 875 into /tmp/colorbot_model0/model.ckpt.\n",
      "INFO:tensorflow:Loss for final step: 0.0054044.\n",
      "Evaluating epoch 37\n",
      "--------------------\n",
      "INFO:tensorflow:Starting evaluation at 2017-06-27-23:47:23\n",
      "INFO:tensorflow:Restoring parameters from /tmp/colorbot_model0/model.ckpt-875\n",
      "INFO:tensorflow:Finished evaluation at 2017-06-27-23:47:23\n",
      "INFO:tensorflow:Saving dict for global step 875: global_step = 875, loss = 0.0573776\n",
      "Training epoch 38\n",
      "--------------------\n",
      "INFO:tensorflow:Create CheckpointSaverHook.\n",
      "INFO:tensorflow:Restoring parameters from /tmp/colorbot_model0/model.ckpt-875\n",
      "INFO:tensorflow:Saving checkpoints for 876 into /tmp/colorbot_model0/model.ckpt.\n",
      "INFO:tensorflow:step = 876, loss = 0.0350712\n",
      "INFO:tensorflow:Saving checkpoints for 898 into /tmp/colorbot_model0/model.ckpt.\n",
      "INFO:tensorflow:Loss for final step: 0.0165078.\n",
      "Evaluating epoch 38\n",
      "--------------------\n",
      "INFO:tensorflow:Starting evaluation at 2017-06-27-23:47:26\n",
      "INFO:tensorflow:Restoring parameters from /tmp/colorbot_model0/model.ckpt-898\n",
      "INFO:tensorflow:Finished evaluation at 2017-06-27-23:47:26\n",
      "INFO:tensorflow:Saving dict for global step 898: global_step = 898, loss = 0.0609927\n",
      "Training epoch 39\n",
      "--------------------\n",
      "INFO:tensorflow:Create CheckpointSaverHook.\n",
      "INFO:tensorflow:Restoring parameters from /tmp/colorbot_model0/model.ckpt-898\n",
      "INFO:tensorflow:Saving checkpoints for 899 into /tmp/colorbot_model0/model.ckpt.\n",
      "INFO:tensorflow:step = 899, loss = 0.0344791\n",
      "INFO:tensorflow:Saving checkpoints for 921 into /tmp/colorbot_model0/model.ckpt.\n",
      "INFO:tensorflow:Loss for final step: 0.00318269.\n",
      "Evaluating epoch 39\n",
      "--------------------\n",
      "INFO:tensorflow:Starting evaluation at 2017-06-27-23:47:29\n",
      "INFO:tensorflow:Restoring parameters from /tmp/colorbot_model0/model.ckpt-921\n",
      "INFO:tensorflow:Finished evaluation at 2017-06-27-23:47:29\n",
      "INFO:tensorflow:Saving dict for global step 921: global_step = 921, loss = 0.0659483\n"
     ]
    }
   ],
   "source": [
    "NUM_EPOCHS = 40\n",
    "for i in range(NUM_EPOCHS):\n",
    "    print('Training epoch %d' % i)\n",
    "    print('-' * 20)\n",
    "    estimator.train(input_fn=train_input_fn)\n",
    "    print('Evaluating epoch %d' % i)\n",
    "    print('-' * 20)\n",
    "    estimator.evaluate(input_fn = test_input_fn)"
   ]
  },
  {
   "cell_type": "markdown",
   "metadata": {},
   "source": [
    "## Making Predictions"
   ]
  },
  {
   "cell_type": "code",
   "execution_count": 256,
   "metadata": {},
   "outputs": [
    {
     "name": "stdout",
     "output_type": "stream",
     "text": [
      "\n",
      "WARNING:tensorflow:Input graph does not contain a QueueRunner. That means predict yields forever. This is probably a mistake.\n",
      "INFO:tensorflow:Restoring parameters from /tmp/colorbot_model0/model.ckpt-921\n",
      "orange, rgb: (235, 114, 28)\n"
     ]
    },
    {
     "data": {
      "image/png": "[encoded data removed]",
      "text/plain": [
       "<matplotlib.figure.Figure at 0x7f1fe5899240>"
      ]
     },
     "metadata": {},
     "output_type": "display_data"
    },
    {
     "name": "stdout",
     "output_type": "stream",
     "text": [
      "tensorflow orange, rgb: (249, 116, 29)\n"
     ]
    },
    {
     "data": {
      "image/png": "[encoded data removed]",
      "text/plain": [
       "<matplotlib.figure.Figure at 0x7f1fe6b8fda0>"
      ]
     },
     "metadata": {},
     "output_type": "display_data"
    },
    {
     "name": "stdout",
     "output_type": "stream",
     "text": [
      "adfgasdgasd, rgb: (186, 72, 43)\n"
     ]
    },
    {
     "data": {
      "image/png": "[encoded data removed]",
      "text/plain": [
       "<matplotlib.figure.Figure at 0x7f1fe6aed860>"
      ]
     },
     "metadata": {},
     "output_type": "display_data"
    },
    {
     "name": "stdout",
     "output_type": "stream",
     "text": [
      "purple blue, rgb: (17, 77, 221)\n"
     ]
    },
    {
     "data": {
      "image/png": "[encoded data removed]",
      "text/plain": [
       "<matplotlib.figure.Figure at 0x7f1fe6abf390>"
      ]
     },
     "metadata": {},
     "output_type": "display_data"
    },
    {
     "name": "stdout",
     "output_type": "stream",
     "text": [
      "purple red, rgb: (182, 24, 49)\n"
     ]
    },
    {
     "data": {
      "image/png": "[encoded data removed]",
      "text/plain": [
       "<matplotlib.figure.Figure at 0x7f1fe6a1e7b8>"
      ]
     },
     "metadata": {},
     "output_type": "display_data"
    },
    {
     "name": "stdout",
     "output_type": "stream",
     "text": [
      "purple, rgb: (135, 39, 190)\n"
     ]
    },
    {
     "data": {
      "image/png": "[encoded data removed]",
      "text/plain": [
       "<matplotlib.figure.Figure at 0x7f1fe6aefda0>"
      ]
     },
     "metadata": {},
     "output_type": "display_data"
    },
    {
     "name": "stdout",
     "output_type": "stream",
     "text": [
      "water, rgb: (252, 114, 192)\n"
     ]
    },
    {
     "data": {
      "image/png": "[encoded data removed]",
      "text/plain": [
       "<matplotlib.figure.Figure at 0x7f1fe69cfc50>"
      ]
     },
     "metadata": {},
     "output_type": "display_data"
    },
    {
     "name": "stdout",
     "output_type": "stream",
     "text": [
      "pink, rgb: (232, 143, 208)\n"
     ]
    },
    {
     "data": {
      "image/png": "[encoded data removed]",
      "text/plain": [
       "<matplotlib.figure.Figure at 0x7f1fe6929ac8>"
      ]
     },
     "metadata": {},
     "output_type": "display_data"
    },
    {
     "name": "stdout",
     "output_type": "stream",
     "text": [
      "rock, rgb: (132, 145, 79)\n"
     ]
    },
    {
     "data": {
      "image/png": "[encoded data removed]",
      "text/plain": [
       "<matplotlib.figure.Figure at 0x7f1fe6901ef0>"
      ]
     },
     "metadata": {},
     "output_type": "display_data"
    }
   ],
   "source": [
    "def predict(estimator, input_file):\n",
    "    preds = estimator.predict(input_fn=get_input_fn(input_file, 1, shuffle=False))\n",
    "\n",
    "    color_names = _get_csv_column(input_file, 'name')\n",
    "\n",
    "    print()\n",
    "    for p, name in zip(preds, color_names):\n",
    "        color = tuple(map(int, p * 255))\n",
    "        print(name + ',', 'rgb:', color)\n",
    "        _plot_rgb(p)\n",
    "    \n",
    "predict(estimator, MY_TEST_INPUT)"
   ]
  },
  {
   "cell_type": "markdown",
   "metadata": {},
   "source": [
    "## Pre-trained model predictions"
   ]
  },
  {
   "cell_type": "code",
   "execution_count": 257,
   "metadata": {},
   "outputs": [
    {
     "name": "stdout",
     "output_type": "stream",
     "text": [
      "INFO:tensorflow:Using default config.\n",
      "INFO:tensorflow:Using config: {'_save_checkpoints_secs': 600, '_keep_checkpoint_max': 5, '_keep_checkpoint_every_n_hours': 10000, '_save_summary_steps': 100, '_tf_random_seed': 1, '_model_dir': 'pretrained', '_session_config': None, '_save_checkpoints_steps': None}\n",
      "\n",
      "WARNING:tensorflow:Input graph does not contain a QueueRunner. That means predict yields forever. This is probably a mistake.\n",
      "INFO:tensorflow:Restoring parameters from pretrained/model.ckpt-10020\n",
      "orange, rgb: (249, 89, 4)\n"
     ]
    },
    {
     "data": {
      "image/png": "[encoded data removed]",
      "text/plain": [
       "<matplotlib.figure.Figure at 0x7f1fe65b93c8>"
      ]
     },
     "metadata": {},
     "output_type": "display_data"
    },
    {
     "name": "stdout",
     "output_type": "stream",
     "text": [
      "tensorflow orange, rgb: (243, 99, 40)\n"
     ]
    },
    {
     "data": {
      "image/png": "[encoded data removed]",
      "text/plain": [
       "<matplotlib.figure.Figure at 0x7f1fe6586fd0>"
      ]
     },
     "metadata": {},
     "output_type": "display_data"
    },
    {
     "name": "stdout",
     "output_type": "stream",
     "text": [
      "adfgasdgasd, rgb: (172, 152, 103)\n"
     ]
    },
    {
     "data": {
      "image/png": "[encoded data removed]",
      "text/plain": [
       "<matplotlib.figure.Figure at 0x7f1fe64cf9e8>"
      ]
     },
     "metadata": {},
     "output_type": "display_data"
    },
    {
     "name": "stdout",
     "output_type": "stream",
     "text": [
      "purple blue, rgb: (56, 50, 214)\n"
     ]
    },
    {
     "data": {
      "image/png": "[encoded data removed]",
      "text/plain": [
       "<matplotlib.figure.Figure at 0x7f1fe6428d30>"
      ]
     },
     "metadata": {},
     "output_type": "display_data"
    },
    {
     "name": "stdout",
     "output_type": "stream",
     "text": [
      "purple red, rgb: (168, 20, 69)\n"
     ]
    },
    {
     "data": {
      "image/png": "[encoded data removed]",
      "text/plain": [
       "<matplotlib.figure.Figure at 0x7f1fe63fcbe0>"
      ]
     },
     "metadata": {},
     "output_type": "display_data"
    },
    {
     "name": "stdout",
     "output_type": "stream",
     "text": [
      "purple, rgb: (133, 49, 193)\n"
     ]
    },
    {
     "data": {
      "image/png": "[encoded data removed]",
      "text/plain": [
       "<matplotlib.figure.Figure at 0x7f1fe635cac8>"
      ]
     },
     "metadata": {},
     "output_type": "display_data"
    },
    {
     "name": "stdout",
     "output_type": "stream",
     "text": [
      "water, rgb: (148, 218, 240)\n"
     ]
    },
    {
     "data": {
      "image/png": "[encoded data removed]",
      "text/plain": [
       "<matplotlib.figure.Figure at 0x7f1fe6335860>"
      ]
     },
     "metadata": {},
     "output_type": "display_data"
    },
    {
     "name": "stdout",
     "output_type": "stream",
     "text": [
      "pink, rgb: (247, 123, 182)\n"
     ]
    },
    {
     "data": {
      "image/png": "[encoded data removed]",
      "text/plain": [
       "<matplotlib.figure.Figure at 0x7f1fe6401a58>"
      ]
     },
     "metadata": {},
     "output_type": "display_data"
    },
    {
     "name": "stdout",
     "output_type": "stream",
     "text": [
      "rock, rgb: (111, 46, 57)\n"
     ]
    },
    {
     "data": {
      "image/png": "[encoded data removed]",
      "text/plain": [
       "<matplotlib.figure.Figure at 0x7f1fe62676a0>"
      ]
     },
     "metadata": {},
     "output_type": "display_data"
    }
   ],
   "source": [
    "pre_estimator = tf.estimator.Estimator(model_dir='pretrained', model_fn=model_fn)\n",
    "predict(pre_estimator, MY_TEST_INPUT)"
   ]
  },
  {
   "cell_type": "code",
   "execution_count": 180,
   "metadata": {},
   "outputs": [
    {
     "name": "stdout",
     "output_type": "stream",
     "text": [
      "[[b't' b'a' b'n' b'g' b'e' b'l' b'o']]\n",
      "[7]\n",
      "[[ 0.36470589  0.16862746  0.17254902]]\n",
      "[[b'u' b'n' b'i' b'v' b'e' b'r' b's' b'i' b't' b'y' b' ' b'o' b'f' b' '\n",
      "  b'c' b'a' b'l' b'i' b'f' b'o' b'r' b'n' b'i' b'a' b' ' b'g' b'o' b'l'\n",
      "  b'd']]\n",
      "[29]\n",
      "[[ 0.78823531  0.75294119  0.73333335]]\n"
     ]
    }
   ],
   "source": [
    "'''features, label = get_input_fn(TEST_INPUT, 1, shuffle=False)()\n",
    "\n",
    "with tf.Session() as sess:\n",
    "    items = sess.run(features)\n",
    "    print(items[COLOR_NAME_KEY])\n",
    "    print(items[SEQUENCE_LENGTH_KEY])\n",
    "    print\n",
    "    \n",
    "    labels = sess.run(label)\n",
    "    print(labels)\n",
    "\n",
    "    items = sess.run(features)\n",
    "    print(items[COLOR_NAME_KEY])\n",
    "    print(items[SEQUENCE_LENGTH_KEY])\n",
    "    print\n",
    "    \n",
    "    labels = sess.run(label)\n",
    "    print(labels)\n",
    "    '''"
   ]
  }
 ],
 "metadata": {
  "colab": {
   "default_view": {},
   "last_runtime": {
    "build_target": "//experimental/users/jamieas/transform_colab:notebook",
    "kind": "private"
   },
   "name": "Copy of CustomEstimator.ipynb",
   "provenance": [
    {
     "file_id": "0BwN-JPfIIHwgdFkwUTVIWTQwU00",
     "timestamp": 1496845355496
    }
   ],
   "version": "0.3.2",
   "views": {}
  },
  "kernelspec": {
   "display_name": "Python 3",
   "language": "python",
   "name": "python3"
  },
  "language_info": {
   "codemirror_mode": {
    "name": "ipython",
    "version": 3
   },
   "file_extension": ".py",
   "mimetype": "text/x-python",
   "name": "python",
   "nbconvert_exporter": "python",
   "pygments_lexer": "ipython3",
   "version": "3.5.2"
  }
 },
 "nbformat": 4,
 "nbformat_minor": 1
}
