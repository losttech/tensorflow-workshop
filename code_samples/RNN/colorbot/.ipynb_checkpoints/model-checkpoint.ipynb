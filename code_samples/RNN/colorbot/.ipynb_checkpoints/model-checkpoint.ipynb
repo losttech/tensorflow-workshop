{
 "cells": [
  {
   "cell_type": "markdown",
   "metadata": {},
   "source": [
    "## Dependencies"
   ]
  },
  {
   "cell_type": "code",
   "execution_count": 1,
   "metadata": {
    "colab": {
     "autoexec": {
      "startup": false,
      "wait_interval": 0
     }
    },
    "colab_type": "code",
    "collapsed": true,
    "id": "mDT8S9C9CYtr"
   },
   "outputs": [],
   "source": [
    "# Tensorflow\n",
    "import tensorflow as tf\n",
    "\n",
    "# Feeding function for enqueue data\n",
    "# \n",
    "from tensorflow.python.estimator.inputs.queues import feeding_functions as ff\n",
    "\n",
    "# Rnn common functions\n",
    "from tensorflow.contrib.learn.python.learn.estimators import rnn_common\n",
    "\n",
    "# Run an experiment\n",
    "from tensorflow.contrib.learn.python.learn import learn_runner\n",
    "\n",
    "# Input function\n",
    "from tensorflow.python.estimator.inputs import numpy_io\n",
    "\n",
    "# Helpers for data processing\n",
    "import pandas as pd\n",
    "import numpy as np\n",
    "\n",
    "# Plot images with pyplot\n",
    "%matplotlib inline\n",
    "from matplotlib import pyplot as plt"
   ]
  },
  {
   "cell_type": "markdown",
   "metadata": {},
   "source": [
    "## Parameters"
   ]
  },
  {
   "cell_type": "code",
   "execution_count": 13,
   "metadata": {
    "colab": {
     "autoexec": {
      "startup": false,
      "wait_interval": 0
     }
    },
    "colab_type": "code",
    "collapsed": true,
    "id": "UrAyWt23AtCM"
   },
   "outputs": [],
   "source": [
    "# Data files\n",
    "TRAIN_INPUT = 'data/train.csv'\n",
    "TEST_INPUT = 'data/test.csv'\n",
    "MY_TEST_INPUT = 'data/mytest.csv'\n",
    "\n",
    "# Parameters for training\n",
    "STEPS = 10000\n",
    "BATCH_SIZE = 64\n",
    "\n",
    "# Parameters for data processing\n",
    "CHARACTERS = [chr(i) for i in range(256)]\n",
    "\n",
    "SEQUENCE_LENGTH_KEY = 'sequence_length'\n",
    "COLOR_NAME_KEY = 'color_name'\n",
    "RGB_KEY = 'rgb'"
   ]
  },
  {
   "cell_type": "markdown",
   "metadata": {},
   "source": [
    "## Helper functions"
   ]
  },
  {
   "cell_type": "code",
   "execution_count": 3,
   "metadata": {
    "colab": {
     "autoexec": {
      "startup": false,
      "wait_interval": 0
     }
    },
    "colab_type": "code",
    "collapsed": true,
    "id": "0dlZ9C27M-bS"
   },
   "outputs": [],
   "source": [
    "# This function creates a sparse tensor in the following way, given:\n",
    "# indices = [[0, 0], [1, 1], [2, 2]]\n",
    "# values = [1, 2, 3]\n",
    "# dense_shape = [3, 4]\n",
    "#\n",
    "# The output will be a sparse tensor that represents this dense tensor:\n",
    "# [ \n",
    "#   [1, 0, 0, 0]\n",
    "#   [0, 2, 0, 0]\n",
    "#   [0, 0, 3, 0]\n",
    "# ]\n",
    "#\n",
    "# We're using this to generate a Sparse tensor that can be easily\n",
    "# formated in a one hot representation.\n",
    "# More at: https://www.tensorflow.org/api_docs/python/tf/SparseTensor\n",
    "def _sparse_string_to_index(sp, mapping):\n",
    "    return tf.SparseTensor(indices=sp.indices,\n",
    "                           values=tf.contrib.lookup.string_to_index(sp.values,\n",
    "                                                                    mapping),\n",
    "                           dense_shape=sp.dense_shape)\n",
    "\n",
    "# Returns the column values from a CSV file as a list\n",
    "def _get_csv_column(csv_file, column_name):\n",
    "    with open(csv_file, 'r') as f:\n",
    "        df = pd.read_csv(f)\n",
    "        return df[column_name].tolist()\n",
    "\n",
    "# Plot a color image\n",
    "def _plot_rgb(rgb):\n",
    "    data = [[rgb]]\n",
    "    plt.figure(figsize=(2,2))\n",
    "    plt.imshow(data, interpolation='nearest')\n",
    "    plt.show()"
   ]
  },
  {
   "cell_type": "markdown",
   "metadata": {},
   "source": [
    "## Input functions"
   ]
  },
  {
   "cell_type": "code",
   "execution_count": 4,
   "metadata": {
    "collapsed": true
   },
   "outputs": [],
   "source": [
    "# Input function used for training and testing                                                \n",
    "def get_input_fn(csv_file, batch_size, epochs=1):\n",
    "    with open(csv_file, 'r') as f:\n",
    "        df = pd.read_csv(f)\n",
    "        \n",
    "        # Sequence length is used by the Dynamic RNN\n",
    "        # to dynamically unroll the graph :D!\n",
    "        df['sequence_length'] = df.name.str.len().astype(np.int32)\n",
    "\n",
    "        def input_fn():\n",
    "            # Using queue with multiple threads to make it scalable\n",
    "            pandas_queue = ff._enqueue_data(df,\n",
    "                                            capacity=1024,\n",
    "                                            shuffle=True,\n",
    "                                            min_after_dequeue=256,\n",
    "                                            num_threads=4,\n",
    "                                            enqueue_size=16,\n",
    "                                            num_epochs=epochs)\n",
    "\n",
    "            _, color_name, r, g, b, seq_len = pandas_queue.dequeue_up_to(batch_size)\n",
    "\n",
    "            # Split strings into chars\n",
    "            split_color_name = tf.string_split(color_name, delimiter='')\n",
    "            # Creating a tf constant to hold the map char -> index\n",
    "            # this is need to create the sparse tensor and after the one hot encode\n",
    "            mapping = tf.constant(CHARACTERS, name=\"mapping\")\n",
    "            # Names represented in a sparse tensor\n",
    "            integerized_color_name = _sparse_string_to_index(split_color_name, mapping)\n",
    "\n",
    "            # Tensor of normalized RGB values\n",
    "            rgb = tf.to_float(tf.stack([r, g, b], axis=1)) / 255.0\n",
    "\n",
    "            # Generates batcheds\n",
    "            batched = tf.train.shuffle_batch({COLOR_NAME_KEY: integerized_color_name,\n",
    "                                              SEQUENCE_LENGTH_KEY: seq_len,\n",
    "                                              RGB_KEY: rgb},\n",
    "                                             batch_size,\n",
    "                                             min_after_dequeue=100,\n",
    "                                             num_threads=4,\n",
    "                                             capacity=1000,\n",
    "                                             enqueue_many=True,\n",
    "                                             allow_smaller_final_batch=True)\n",
    "            label = batched.pop(RGB_KEY)\n",
    "            return batched, label\n",
    "    return input_fn\n",
    "\n",
    "# Creating my own input function for a custom CSV file\n",
    "# it's simpler than the input_fn above but just used for small tests\n",
    "def get_my_input_fn():\n",
    "    def _input_fn():\n",
    "        with open(MY_TEST_INPUT, 'r') as f:\n",
    "            df = pd.read_csv(f)\n",
    "            df['sequence_length'] = df.name.str.len().astype(np.int32)\n",
    "\n",
    "            color_name = df.name.tolist()\n",
    "    \n",
    "            split_color_name = tf.string_split(color_name, delimiter='')\n",
    "            mapping = tf.constant(CHARACTERS, name=\"mapping\")\n",
    "            integerized_color_name = _sparse_string_to_index(split_color_name, mapping)\n",
    "\n",
    "            x = {COLOR_NAME_KEY: integerized_color_name, SEQUENCE_LENGTH_KEY: df.sequence_length.tolist()}\n",
    "\n",
    "            y = np.asarray([[0, 0, 0]], dtype=np.float32)\n",
    "\n",
    "            return x, y\n",
    "    return _input_fn"
   ]
  },
  {
   "cell_type": "code",
   "execution_count": 5,
   "metadata": {
    "colab": {
     "autoexec": {
      "startup": false,
      "wait_interval": 0
     }
    },
    "colab_type": "code",
    "collapsed": true,
    "id": "m5UJyvW5P0Sy"
   },
   "outputs": [],
   "source": [
    "train_input_fn = get_input_fn(TRAIN_INPUT, BATCH_SIZE, None)\n",
    "test_input_fn = get_input_fn(TEST_INPUT, BATCH_SIZE)\n",
    "my_test_input_fn = get_my_input_fn()"
   ]
  },
  {
   "cell_type": "code",
   "execution_count": 6,
   "metadata": {
    "colab": {
     "autoexec": {
      "startup": false,
      "wait_interval": 0
     }
    },
    "colab_type": "code",
    "id": "lE4c3ELMQjHJ"
   },
   "outputs": [
    {
     "data": {
      "text/plain": [
       "'\\n# Testing the input function\\nwith tf.Graph().as_default():\\n    train_input = train_input_fn()\\n    with tf.train.MonitoredSession() as sess:\\n        print (train_input)\\n        print (sess.run(train_input))\\n'"
      ]
     },
     "execution_count": 6,
     "metadata": {},
     "output_type": "execute_result"
    }
   ],
   "source": [
    "'''\n",
    "# Testing the input function\n",
    "with tf.Graph().as_default():\n",
    "    train_input = train_input_fn()\n",
    "    with tf.train.MonitoredSession() as sess:\n",
    "        print (train_input)\n",
    "        print (sess.run(train_input))\n",
    "'''"
   ]
  },
  {
   "cell_type": "markdown",
   "metadata": {},
   "source": [
    "## Creating the Estimator model"
   ]
  },
  {
   "cell_type": "code",
   "execution_count": 7,
   "metadata": {
    "colab": {
     "autoexec": {
      "startup": false,
      "wait_interval": 0
     }
    },
    "colab_type": "code",
    "collapsed": true,
    "id": "VxXAUrYN7TvR"
   },
   "outputs": [],
   "source": [
    "def get_model_fn(rnn_cell_sizes,\n",
    "                 label_dimension,\n",
    "                 dnn_layer_sizes=[],\n",
    "                 optimizer='SGD',\n",
    "                 learning_rate=0.01):\n",
    "    \n",
    "    def model_fn(features, labels, mode):\n",
    "        \n",
    "        color_name = features[COLOR_NAME_KEY]\n",
    "        sequence_length = features[SEQUENCE_LENGTH_KEY]\n",
    "\n",
    "        # Creating dense representation for the names\n",
    "        # and then converting it to one hot representation\n",
    "        dense_color_name = tf.sparse_tensor_to_dense(color_name, default_value=len(CHARACTERS))\n",
    "        color_name_onehot = tf.one_hot(dense_color_name, depth=len(CHARACTERS) + 1)\n",
    "        \n",
    "        \n",
    "        # Each RNN layer will consist of a LSTM cell\n",
    "        rnn_layers = [tf.contrib.rnn.LSTMCell(size) for size in rnn_cell_sizes]\n",
    "        \n",
    "        # Construct the layers\n",
    "        multi_rnn_cell = tf.contrib.rnn.MultiRNNCell(rnn_layers)\n",
    "        \n",
    "        # Runs the RNN model dynamically\n",
    "        # more about it at: \n",
    "        # https://www.tensorflow.org/api_docs/python/tf/nn/dynamic_rnn\n",
    "        outputs, final_state = tf.nn.dynamic_rnn(cell=multi_rnn_cell,\n",
    "                                                 inputs=color_name_onehot,\n",
    "                                                 sequence_length=sequence_length,\n",
    "                                                 dtype=tf.float32)\n",
    "\n",
    "        # Slice to keep only the last cell of the RNN\n",
    "        last_activations = rnn_common.select_last_activations(outputs,\n",
    "                                                              sequence_length)\n",
    "\n",
    "        # Construct dense layers on top of the last cell of the RNN\n",
    "        for units in dnn_layer_sizes:\n",
    "            last_activations = tf.layers.dense(\n",
    "              last_activations, units, activation=tf.nn.relu)\n",
    "        \n",
    "        # Final dense layer for prediction\n",
    "        predictions = tf.layers.dense(last_activations, label_dimension)\n",
    "\n",
    "        loss = None\n",
    "        train_op = None\n",
    "\n",
    "        if mode != tf.contrib.learn.ModeKeys.INFER:    \n",
    "            loss = tf.losses.mean_squared_error(labels, predictions)\n",
    "    \n",
    "        if mode == tf.contrib.learn.ModeKeys.TRAIN:    \n",
    "            train_op = tf.contrib.layers.optimize_loss(\n",
    "              loss,\n",
    "              tf.contrib.framework.get_global_step(),\n",
    "              optimizer=optimizer,\n",
    "              learning_rate=learning_rate)\n",
    "        \n",
    "        return tf.contrib.learn.ModelFnOps(mode,\n",
    "                                           predictions=predictions,\n",
    "                                           loss=loss,\n",
    "                                           train_op=train_op)\n",
    "    return model_fn"
   ]
  },
  {
   "cell_type": "code",
   "execution_count": 19,
   "metadata": {
    "colab": {
     "autoexec": {
      "startup": false,
      "wait_interval": 0
     }
    },
    "colab_type": "code",
    "id": "gUHR3Mzc7Tvb"
   },
   "outputs": [
    {
     "name": "stdout",
     "output_type": "stream",
     "text": [
      "INFO:tensorflow:Using default config.\n",
      "WARNING:tensorflow:Using temporary folder as model directory: /tmp/tmpe4nd9z8n\n",
      "INFO:tensorflow:Using config: {'_task_type': None, '_master': '', '_cluster_spec': <tensorflow.python.training.server_lib.ClusterSpec object at 0x7f9c1d4e8278>, '_is_chief': True, '_tf_random_seed': None, '_session_config': None, '_tf_config': gpu_options {\n",
      "  per_process_gpu_memory_fraction: 1\n",
      "}\n",
      ", '_task_id': 0, '_num_worker_replicas': 0, '_save_summary_steps': 100, '_model_dir': '/tmp/tmpe4nd9z8n', '_environment': 'local', '_evaluation_master': '', '_keep_checkpoint_max': 5, '_save_checkpoints_steps': None, '_keep_checkpoint_every_n_hours': 10000, '_num_ps_replicas': 0, '_save_checkpoints_secs': 600}\n"
     ]
    }
   ],
   "source": [
    "model_fn = get_model_fn(rnn_cell_sizes=[256, 128], # size of the hidden layers\n",
    "                        label_dimension=3, # since is RGB\n",
    "                        dnn_layer_sizes=[128], # size of units in the dense layers on top of the RNN\n",
    "                        optimizer='Adam',\n",
    "                        learning_rate=0.01)\n",
    "estimator = tf.contrib.learn.Estimator(model_fn=model_fn)"
   ]
  },
  {
   "cell_type": "markdown",
   "metadata": {},
   "source": [
    "## Create and Run Experiment"
   ]
  },
  {
   "cell_type": "code",
   "execution_count": 20,
   "metadata": {
    "colab": {
     "autoexec": {
      "startup": false,
      "wait_interval": 0
     }
    },
    "colab_type": "code",
    "collapsed": true,
    "id": "DUZEKQrdGgZE"
   },
   "outputs": [],
   "source": [
    "# create experiment\n",
    "def generate_experiment_fn():\n",
    "  \n",
    "  \"\"\"\n",
    "  Create an experiment function given hyperparameters.\n",
    "  Returns:\n",
    "    A function (output_dir) -> Experiment where output_dir is a string\n",
    "    representing the location of summaries, checkpoints, and exports.\n",
    "    this function is used by learn_runner to create an Experiment which\n",
    "    executes model code provided in the form of an Estimator and\n",
    "    input functions.\n",
    "    All listed arguments in the outer function are used to create an\n",
    "    Estimator, and input functions (training, evaluation, serving).\n",
    "    Unlisted args are passed through to Experiment.\n",
    "  \"\"\"\n",
    "\n",
    "  def _experiment_fn(output_dir):\n",
    "    return tf.contrib.learn.Experiment(\n",
    "        estimator,\n",
    "        train_input_fn=train_input_fn,\n",
    "        eval_input_fn=test_input_fn,\n",
    "        train_steps=STEPS\n",
    "    )\n",
    "  return _experiment_fn"
   ]
  },
  {
   "cell_type": "code",
   "execution_count": 21,
   "metadata": {},
   "outputs": [
    {
     "name": "stdout",
     "output_type": "stream",
     "text": [
      "WARNING:tensorflow:From /usr/local/lib/python3.4/dist-packages/tensorflow/contrib/learn/python/learn/monitors.py:268: BaseMonitor.__init__ (from tensorflow.contrib.learn.python.learn.monitors) is deprecated and will be removed after 2016-12-05.\n",
      "Instructions for updating:\n",
      "Monitors are deprecated. Please use tf.train.SessionRunHook.\n",
      "WARNING:tensorflow:From <ipython-input-3-e89ced8fbafb>:19: string_to_index (from tensorflow.contrib.lookup.lookup_ops) is deprecated and will be removed after 2017-01-07.\n",
      "Instructions for updating:\n",
      "This op will be removed after the deprecation date. Please switch to index_table_from_tensor and call the lookup method of the returned table.\n"
     ]
    },
    {
     "name": "stderr",
     "output_type": "stream",
     "text": [
      "/usr/local/lib/python3.4/dist-packages/tensorflow/python/ops/gradients_impl.py:93: UserWarning: Converting sparse IndexedSlices to a dense Tensor of unknown shape. This may consume a large amount of memory.\n",
      "  \"Converting sparse IndexedSlices to a dense Tensor of unknown shape. \"\n"
     ]
    },
    {
     "name": "stdout",
     "output_type": "stream",
     "text": [
      "INFO:tensorflow:Create CheckpointSaverHook.\n",
      "WARNING:tensorflow:Error encountered when serializing LAYER_NAME_UIDS.\n",
      "Type is unsupported, or the types of the items don't match field type in CollectionDef.\n",
      "'dict' object has no attribute 'name'\n",
      "WARNING:tensorflow:Error encountered when serializing LAYER_NAME_UIDS.\n",
      "Type is unsupported, or the types of the items don't match field type in CollectionDef.\n",
      "'dict' object has no attribute 'name'\n",
      "INFO:tensorflow:Saving checkpoints for 1 into /tmp/tmpe4nd9z8n/model.ckpt.\n",
      "WARNING:tensorflow:Error encountered when serializing LAYER_NAME_UIDS.\n",
      "Type is unsupported, or the types of the items don't match field type in CollectionDef.\n",
      "'dict' object has no attribute 'name'\n",
      "INFO:tensorflow:loss = 0.380736, step = 1\n",
      "WARNING:tensorflow:enqueue_data was called with num_epochs and num_threads > 1. num_epochs is applied per thread, so this will produce more epochs than you probably intend. If you want to limit epochs, use one thread.\n",
      "WARNING:tensorflow:enqueue_data was called with shuffle=True, num_threads > 1, and num_epochs. This will create multiple threads, all reading the array/dataframe in order adding to the same shuffling queue; the results will likely not be sufficiently shuffled.\n",
      "WARNING:tensorflow:From <ipython-input-3-e89ced8fbafb>:19: string_to_index (from tensorflow.contrib.lookup.lookup_ops) is deprecated and will be removed after 2017-01-07.\n",
      "Instructions for updating:\n",
      "This op will be removed after the deprecation date. Please switch to index_table_from_tensor and call the lookup method of the returned table.\n",
      "INFO:tensorflow:Starting evaluation at 2017-06-16-13:28:56\n",
      "INFO:tensorflow:Restoring parameters from /tmp/tmpe4nd9z8n/model.ckpt-1\n",
      "INFO:tensorflow:Evaluation [1/100]\n",
      "INFO:tensorflow:Evaluation [2/100]\n",
      "INFO:tensorflow:Evaluation [3/100]\n",
      "INFO:tensorflow:Evaluation [4/100]\n",
      "INFO:tensorflow:Evaluation [5/100]\n",
      "INFO:tensorflow:Evaluation [6/100]\n",
      "INFO:tensorflow:Evaluation [7/100]\n",
      "INFO:tensorflow:Finished evaluation at 2017-06-16-13:28:57\n",
      "INFO:tensorflow:Saving dict for global step 1: global_step = 1, loss = 0.153228\n",
      "WARNING:tensorflow:Error encountered when serializing LAYER_NAME_UIDS.\n",
      "Type is unsupported, or the types of the items don't match field type in CollectionDef.\n",
      "'dict' object has no attribute 'name'\n",
      "INFO:tensorflow:Validation (step 1): loss = 0.153228, global_step = 1\n",
      "INFO:tensorflow:global_step/sec: 8.03872\n",
      "INFO:tensorflow:loss = 0.0681183, step = 101 (12.441 sec)\n",
      "INFO:tensorflow:global_step/sec: 9.15964\n",
      "INFO:tensorflow:loss = 0.0506721, step = 201 (10.918 sec)\n",
      "INFO:tensorflow:global_step/sec: 9.45452\n",
      "INFO:tensorflow:loss = 0.0361946, step = 301 (10.577 sec)\n",
      "INFO:tensorflow:global_step/sec: 9.00996\n",
      "INFO:tensorflow:loss = 0.0254957, step = 401 (11.099 sec)\n",
      "INFO:tensorflow:global_step/sec: 9.29535\n",
      "INFO:tensorflow:loss = 0.0115984, step = 501 (10.758 sec)\n",
      "INFO:tensorflow:global_step/sec: 8.99201\n",
      "INFO:tensorflow:loss = 0.0070594, step = 601 (11.121 sec)\n",
      "INFO:tensorflow:global_step/sec: 9.2774\n",
      "INFO:tensorflow:loss = 0.00307138, step = 701 (10.779 sec)\n",
      "INFO:tensorflow:global_step/sec: 9.25852\n",
      "INFO:tensorflow:loss = 0.00298521, step = 801 (10.801 sec)\n",
      "INFO:tensorflow:global_step/sec: 9.10227\n",
      "INFO:tensorflow:loss = 0.00105346, step = 901 (10.986 sec)\n",
      "INFO:tensorflow:global_step/sec: 8.41886\n",
      "INFO:tensorflow:loss = 0.000656435, step = 1001 (11.878 sec)\n",
      "INFO:tensorflow:global_step/sec: 8.93724\n",
      "INFO:tensorflow:loss = 0.000731416, step = 1101 (11.189 sec)\n",
      "INFO:tensorflow:global_step/sec: 8.33497\n",
      "INFO:tensorflow:loss = 0.000905898, step = 1201 (11.998 sec)\n",
      "INFO:tensorflow:global_step/sec: 9.12785\n",
      "INFO:tensorflow:loss = 0.000514407, step = 1301 (10.955 sec)\n",
      "INFO:tensorflow:global_step/sec: 9.11552\n",
      "INFO:tensorflow:loss = 0.000737661, step = 1401 (10.970 sec)\n",
      "INFO:tensorflow:global_step/sec: 8.8255\n",
      "INFO:tensorflow:loss = 0.00126053, step = 1501 (11.331 sec)\n",
      "INFO:tensorflow:global_step/sec: 9.33454\n",
      "INFO:tensorflow:loss = 0.00145432, step = 1601 (10.713 sec)\n",
      "INFO:tensorflow:global_step/sec: 9.12408\n",
      "INFO:tensorflow:loss = 0.000856629, step = 1701 (10.960 sec)\n",
      "INFO:tensorflow:global_step/sec: 8.73212\n",
      "INFO:tensorflow:loss = 0.00072851, step = 1801 (11.452 sec)\n",
      "INFO:tensorflow:global_step/sec: 8.74221\n",
      "INFO:tensorflow:loss = 0.000531267, step = 1901 (11.439 sec)\n",
      "INFO:tensorflow:global_step/sec: 8.37846\n",
      "INFO:tensorflow:loss = 0.000374185, step = 2001 (11.935 sec)\n",
      "INFO:tensorflow:global_step/sec: 8.90823\n",
      "INFO:tensorflow:loss = 0.000345876, step = 2101 (11.226 sec)\n",
      "INFO:tensorflow:global_step/sec: 8.56437\n",
      "INFO:tensorflow:loss = 0.000493265, step = 2201 (11.676 sec)\n",
      "INFO:tensorflow:global_step/sec: 9.03338\n",
      "INFO:tensorflow:loss = 0.000421313, step = 2301 (11.070 sec)\n",
      "INFO:tensorflow:global_step/sec: 8.91932\n",
      "INFO:tensorflow:loss = 0.000703132, step = 2401 (11.212 sec)\n",
      "INFO:tensorflow:global_step/sec: 9.08797\n",
      "INFO:tensorflow:loss = 0.0010586, step = 2501 (11.004 sec)\n",
      "INFO:tensorflow:global_step/sec: 9.0156\n",
      "INFO:tensorflow:loss = 0.00156196, step = 2601 (11.092 sec)\n",
      "INFO:tensorflow:global_step/sec: 8.92023\n",
      "INFO:tensorflow:loss = 0.0015737, step = 2701 (11.210 sec)\n",
      "INFO:tensorflow:global_step/sec: 8.90109\n",
      "INFO:tensorflow:loss = 0.00109582, step = 2801 (11.235 sec)\n",
      "INFO:tensorflow:global_step/sec: 9.10338\n",
      "INFO:tensorflow:loss = 0.00102142, step = 2901 (10.985 sec)\n",
      "INFO:tensorflow:global_step/sec: 8.94506\n",
      "INFO:tensorflow:loss = 0.000333857, step = 3001 (11.179 sec)\n",
      "INFO:tensorflow:global_step/sec: 9.20299\n",
      "INFO:tensorflow:loss = 0.000180187, step = 3101 (10.866 sec)\n",
      "INFO:tensorflow:global_step/sec: 9.03048\n",
      "INFO:tensorflow:loss = 0.000157876, step = 3201 (11.074 sec)\n",
      "INFO:tensorflow:global_step/sec: 8.79027\n",
      "INFO:tensorflow:loss = 0.00019827, step = 3301 (11.376 sec)\n",
      "INFO:tensorflow:global_step/sec: 9.07113\n",
      "INFO:tensorflow:loss = 0.000178429, step = 3401 (11.024 sec)\n",
      "INFO:tensorflow:global_step/sec: 9.12095\n",
      "INFO:tensorflow:loss = 0.000374867, step = 3501 (10.964 sec)\n",
      "INFO:tensorflow:global_step/sec: 9.24153\n",
      "INFO:tensorflow:loss = 0.000563293, step = 3601 (10.821 sec)\n",
      "INFO:tensorflow:global_step/sec: 9.1594\n",
      "INFO:tensorflow:loss = 0.00115015, step = 3701 (10.918 sec)\n",
      "INFO:tensorflow:global_step/sec: 9.17549\n",
      "INFO:tensorflow:loss = 0.0010854, step = 3801 (10.899 sec)\n",
      "INFO:tensorflow:global_step/sec: 8.61948\n",
      "INFO:tensorflow:loss = 0.00649331, step = 3901 (11.602 sec)\n",
      "INFO:tensorflow:global_step/sec: 8.89498\n",
      "INFO:tensorflow:loss = 0.00750369, step = 4001 (11.242 sec)\n",
      "INFO:tensorflow:global_step/sec: 9.28468\n",
      "INFO:tensorflow:loss = 0.00105422, step = 4101 (10.770 sec)\n",
      "INFO:tensorflow:global_step/sec: 9.0348\n",
      "INFO:tensorflow:loss = 0.000150031, step = 4201 (11.068 sec)\n",
      "INFO:tensorflow:global_step/sec: 9.21293\n",
      "INFO:tensorflow:loss = 2.53878e-05, step = 4301 (10.854 sec)\n",
      "INFO:tensorflow:global_step/sec: 9.34065\n",
      "INFO:tensorflow:loss = 1.0859e-05, step = 4401 (10.706 sec)\n",
      "INFO:tensorflow:global_step/sec: 9.11629\n",
      "INFO:tensorflow:loss = 6.5534e-06, step = 4501 (10.969 sec)\n",
      "INFO:tensorflow:global_step/sec: 8.94714\n",
      "INFO:tensorflow:loss = 4.14681e-06, step = 4601 (11.177 sec)\n",
      "INFO:tensorflow:global_step/sec: 9.06239\n",
      "INFO:tensorflow:loss = 3.67107e-06, step = 4701 (11.035 sec)\n",
      "INFO:tensorflow:global_step/sec: 9.05797\n",
      "INFO:tensorflow:loss = 3.29135e-06, step = 4801 (11.040 sec)\n",
      "INFO:tensorflow:global_step/sec: 9.07605\n",
      "INFO:tensorflow:loss = 7.27637e-06, step = 4901 (11.018 sec)\n",
      "INFO:tensorflow:global_step/sec: 9.38887\n",
      "INFO:tensorflow:loss = 1.31248e-05, step = 5001 (10.651 sec)\n",
      "INFO:tensorflow:global_step/sec: 9.19098\n",
      "INFO:tensorflow:loss = 4.46576e-05, step = 5101 (10.880 sec)\n",
      "INFO:tensorflow:global_step/sec: 9.13583\n",
      "INFO:tensorflow:loss = 0.000232603, step = 5201 (10.946 sec)\n",
      "INFO:tensorflow:global_step/sec: 9.14845\n",
      "INFO:tensorflow:loss = 0.000556639, step = 5301 (10.931 sec)\n",
      "INFO:tensorflow:Saving checkpoints for 5398 into /tmp/tmpe4nd9z8n/model.ckpt.\n",
      "WARNING:tensorflow:Error encountered when serializing LAYER_NAME_UIDS.\n",
      "Type is unsupported, or the types of the items don't match field type in CollectionDef.\n",
      "'dict' object has no attribute 'name'\n",
      "WARNING:tensorflow:enqueue_data was called with num_epochs and num_threads > 1. num_epochs is applied per thread, so this will produce more epochs than you probably intend. If you want to limit epochs, use one thread.\n"
     ]
    },
    {
     "name": "stdout",
     "output_type": "stream",
     "text": [
      "WARNING:tensorflow:enqueue_data was called with shuffle=True, num_threads > 1, and num_epochs. This will create multiple threads, all reading the array/dataframe in order adding to the same shuffling queue; the results will likely not be sufficiently shuffled.\n",
      "WARNING:tensorflow:From <ipython-input-3-e89ced8fbafb>:19: string_to_index (from tensorflow.contrib.lookup.lookup_ops) is deprecated and will be removed after 2017-01-07.\n",
      "Instructions for updating:\n",
      "This op will be removed after the deprecation date. Please switch to index_table_from_tensor and call the lookup method of the returned table.\n",
      "INFO:tensorflow:Starting evaluation at 2017-06-16-13:38:56\n",
      "INFO:tensorflow:Restoring parameters from /tmp/tmpe4nd9z8n/model.ckpt-5398\n",
      "INFO:tensorflow:Evaluation [1/100]\n",
      "INFO:tensorflow:Evaluation [2/100]\n",
      "INFO:tensorflow:Evaluation [3/100]\n",
      "INFO:tensorflow:Evaluation [4/100]\n",
      "INFO:tensorflow:Evaluation [5/100]\n",
      "INFO:tensorflow:Evaluation [6/100]\n",
      "INFO:tensorflow:Evaluation [7/100]\n",
      "INFO:tensorflow:Finished evaluation at 2017-06-16-13:38:57\n",
      "INFO:tensorflow:Saving dict for global step 5398: global_step = 5398, loss = 0.0656966\n",
      "INFO:tensorflow:Validation (step 5398): loss = 0.0656966, global_step = 5398\n",
      "INFO:tensorflow:global_step/sec: 7.91289\n",
      "INFO:tensorflow:loss = 0.000562866, step = 5401 (12.638 sec)\n",
      "INFO:tensorflow:global_step/sec: 9.06849\n",
      "INFO:tensorflow:loss = 0.000632162, step = 5501 (11.027 sec)\n",
      "INFO:tensorflow:global_step/sec: 9.08919\n",
      "INFO:tensorflow:loss = 0.0004538, step = 5601 (11.002 sec)\n",
      "INFO:tensorflow:global_step/sec: 8.96361\n",
      "INFO:tensorflow:loss = 0.000371844, step = 5701 (11.156 sec)\n",
      "INFO:tensorflow:global_step/sec: 9.19092\n",
      "INFO:tensorflow:loss = 0.000347585, step = 5801 (10.880 sec)\n",
      "INFO:tensorflow:global_step/sec: 9.16922\n",
      "INFO:tensorflow:loss = 0.000239176, step = 5901 (10.906 sec)\n",
      "INFO:tensorflow:global_step/sec: 9.14144\n",
      "INFO:tensorflow:loss = 0.000283171, step = 6001 (10.939 sec)\n",
      "INFO:tensorflow:global_step/sec: 9.16326\n",
      "INFO:tensorflow:loss = 0.000331486, step = 6101 (10.913 sec)\n",
      "INFO:tensorflow:global_step/sec: 9.27805\n",
      "INFO:tensorflow:loss = 0.000696147, step = 6201 (10.778 sec)\n",
      "INFO:tensorflow:global_step/sec: 9.23632\n",
      "INFO:tensorflow:loss = 0.00070081, step = 6301 (10.827 sec)\n",
      "INFO:tensorflow:global_step/sec: 9.18473\n",
      "INFO:tensorflow:loss = 0.000724807, step = 6401 (10.888 sec)\n",
      "INFO:tensorflow:global_step/sec: 9.283\n",
      "INFO:tensorflow:loss = 0.000506942, step = 6501 (10.772 sec)\n",
      "INFO:tensorflow:global_step/sec: 9.20555\n",
      "INFO:tensorflow:loss = 0.000446755, step = 6601 (10.863 sec)\n",
      "INFO:tensorflow:global_step/sec: 9.37277\n",
      "INFO:tensorflow:loss = 0.000349835, step = 6701 (10.669 sec)\n",
      "INFO:tensorflow:global_step/sec: 9.23633\n",
      "INFO:tensorflow:loss = 0.000370567, step = 6801 (10.827 sec)\n",
      "INFO:tensorflow:global_step/sec: 9.16659\n",
      "INFO:tensorflow:loss = 0.000243953, step = 6901 (10.909 sec)\n",
      "INFO:tensorflow:global_step/sec: 9.22814\n",
      "INFO:tensorflow:loss = 0.000323547, step = 7001 (10.836 sec)\n",
      "INFO:tensorflow:global_step/sec: 9.20871\n",
      "INFO:tensorflow:loss = 0.000291171, step = 7101 (10.859 sec)\n",
      "INFO:tensorflow:global_step/sec: 9.26986\n",
      "INFO:tensorflow:loss = 0.000478483, step = 7201 (10.788 sec)\n",
      "INFO:tensorflow:global_step/sec: 9.17005\n",
      "INFO:tensorflow:loss = 0.000630453, step = 7301 (10.905 sec)\n",
      "INFO:tensorflow:global_step/sec: 9.37299\n",
      "INFO:tensorflow:loss = 0.000869131, step = 7401 (10.669 sec)\n",
      "INFO:tensorflow:global_step/sec: 9.10871\n",
      "INFO:tensorflow:loss = 0.00123528, step = 7501 (10.978 sec)\n",
      "INFO:tensorflow:global_step/sec: 9.05432\n",
      "INFO:tensorflow:loss = 0.00127932, step = 7601 (11.044 sec)\n",
      "INFO:tensorflow:global_step/sec: 9.06012\n",
      "INFO:tensorflow:loss = 0.00102794, step = 7701 (11.037 sec)\n",
      "INFO:tensorflow:global_step/sec: 9.17064\n",
      "INFO:tensorflow:loss = 0.000269781, step = 7801 (10.904 sec)\n",
      "INFO:tensorflow:global_step/sec: 9.10399\n",
      "INFO:tensorflow:loss = 0.00011759, step = 7901 (10.984 sec)\n",
      "INFO:tensorflow:global_step/sec: 9.12367\n",
      "INFO:tensorflow:loss = 3.90509e-05, step = 8001 (10.960 sec)\n",
      "INFO:tensorflow:global_step/sec: 9.22361\n",
      "INFO:tensorflow:loss = 3.66963e-05, step = 8101 (10.842 sec)\n",
      "INFO:tensorflow:global_step/sec: 9.01757\n",
      "INFO:tensorflow:loss = 3.09657e-05, step = 8201 (11.089 sec)\n",
      "INFO:tensorflow:global_step/sec: 9.05837\n",
      "INFO:tensorflow:loss = 4.59105e-05, step = 8301 (11.040 sec)\n",
      "INFO:tensorflow:global_step/sec: 9.252\n",
      "INFO:tensorflow:loss = 8.93181e-05, step = 8401 (10.808 sec)\n",
      "INFO:tensorflow:global_step/sec: 8.67726\n",
      "INFO:tensorflow:loss = 9.02942e-05, step = 8501 (11.524 sec)\n",
      "INFO:tensorflow:global_step/sec: 9.11332\n",
      "INFO:tensorflow:loss = 0.000250271, step = 8601 (10.973 sec)\n",
      "INFO:tensorflow:global_step/sec: 8.92104\n",
      "INFO:tensorflow:loss = 0.000543159, step = 8701 (11.209 sec)\n",
      "INFO:tensorflow:global_step/sec: 9.18544\n",
      "INFO:tensorflow:loss = 0.001526, step = 8801 (10.887 sec)\n",
      "INFO:tensorflow:global_step/sec: 9.05139\n",
      "INFO:tensorflow:loss = 0.00172933, step = 8901 (11.048 sec)\n",
      "INFO:tensorflow:global_step/sec: 9.09773\n",
      "INFO:tensorflow:loss = 0.018382, step = 9001 (10.992 sec)\n",
      "INFO:tensorflow:global_step/sec: 9.11524\n",
      "INFO:tensorflow:loss = 0.00380688, step = 9101 (10.971 sec)\n",
      "INFO:tensorflow:global_step/sec: 9.14332\n",
      "INFO:tensorflow:loss = 0.000381894, step = 9201 (10.937 sec)\n",
      "INFO:tensorflow:global_step/sec: 8.85183\n",
      "INFO:tensorflow:loss = 0.000139564, step = 9301 (11.297 sec)\n",
      "INFO:tensorflow:global_step/sec: 9.16969\n",
      "INFO:tensorflow:loss = 2.94528e-05, step = 9401 (10.905 sec)\n",
      "INFO:tensorflow:global_step/sec: 9.22951\n",
      "INFO:tensorflow:loss = 8.49922e-06, step = 9501 (10.835 sec)\n",
      "INFO:tensorflow:global_step/sec: 8.74284\n",
      "INFO:tensorflow:loss = 8.8555e-06, step = 9601 (11.438 sec)\n",
      "INFO:tensorflow:global_step/sec: 9.16397\n",
      "INFO:tensorflow:loss = 3.98404e-06, step = 9701 (10.912 sec)\n",
      "INFO:tensorflow:global_step/sec: 8.90129\n",
      "INFO:tensorflow:loss = 6.29251e-06, step = 9801 (11.234 sec)\n",
      "INFO:tensorflow:global_step/sec: 9.29147\n",
      "INFO:tensorflow:loss = 1.1497e-05, step = 9901 (10.763 sec)\n",
      "INFO:tensorflow:Saving checkpoints for 10000 into /tmp/tmpe4nd9z8n/model.ckpt.\n",
      "WARNING:tensorflow:Error encountered when serializing LAYER_NAME_UIDS.\n",
      "Type is unsupported, or the types of the items don't match field type in CollectionDef.\n",
      "'dict' object has no attribute 'name'\n",
      "INFO:tensorflow:Loss for final step: 1.14464e-05.\n",
      "WARNING:tensorflow:enqueue_data was called with num_epochs and num_threads > 1. num_epochs is applied per thread, so this will produce more epochs than you probably intend. If you want to limit epochs, use one thread.\n",
      "WARNING:tensorflow:enqueue_data was called with shuffle=True, num_threads > 1, and num_epochs. This will create multiple threads, all reading the array/dataframe in order adding to the same shuffling queue; the results will likely not be sufficiently shuffled.\n",
      "WARNING:tensorflow:From <ipython-input-3-e89ced8fbafb>:19: string_to_index (from tensorflow.contrib.lookup.lookup_ops) is deprecated and will be removed after 2017-01-07.\n",
      "Instructions for updating:\n",
      "This op will be removed after the deprecation date. Please switch to index_table_from_tensor and call the lookup method of the returned table.\n",
      "INFO:tensorflow:Starting evaluation at 2017-06-16-13:47:22\n",
      "INFO:tensorflow:Restoring parameters from /tmp/tmpe4nd9z8n/model.ckpt-10000\n",
      "INFO:tensorflow:Evaluation [1/100]\n",
      "INFO:tensorflow:Evaluation [2/100]\n",
      "INFO:tensorflow:Evaluation [3/100]\n",
      "INFO:tensorflow:Evaluation [4/100]\n",
      "INFO:tensorflow:Evaluation [5/100]\n",
      "INFO:tensorflow:Evaluation [6/100]\n",
      "INFO:tensorflow:Evaluation [7/100]\n",
      "INFO:tensorflow:Finished evaluation at 2017-06-16-13:47:23\n",
      "INFO:tensorflow:Saving dict for global step 10000: global_step = 10000, loss = 0.0655044\n",
      "WARNING:tensorflow:Error encountered when serializing LAYER_NAME_UIDS.\n",
      "Type is unsupported, or the types of the items don't match field type in CollectionDef.\n",
      "'dict' object has no attribute 'name'\n"
     ]
    },
    {
     "data": {
      "text/plain": [
       "({'global_step': 10000, 'loss': 0.065504394}, [])"
      ]
     },
     "execution_count": 21,
     "metadata": {},
     "output_type": "execute_result"
    }
   ],
   "source": [
    "# run experiment \n",
    "learn_runner.run(generate_experiment_fn(), '/tmp/outputdir')"
   ]
  },
  {
   "cell_type": "markdown",
   "metadata": {},
   "source": [
    "## Making Predictions"
   ]
  },
  {
   "cell_type": "code",
   "execution_count": 22,
   "metadata": {
    "colab": {
     "autoexec": {
      "startup": false,
      "wait_interval": 0
     },
     "output_extras": [
      {
       "item_id": 1
      }
     ]
    },
    "colab_type": "code",
    "executionInfo": {
     "elapsed": 252,
     "status": "ok",
     "timestamp": 1496848787689,
     "user": {
      "displayName": "Jamie Smith",
      "photoUrl": "//lh3.googleusercontent.com/-lH1_9xAmlJs/AAAAAAAAAAI/AAAAAAAAAGc/MXmYSfunJKo/s50-c-k-no/photo.jpg",
      "userId": "116166808337702908693"
     },
     "user_tz": 240
    },
    "id": "8o5w8lXiGk_1",
    "outputId": "cfb93135-f21c-48bc-d6ca-c28cfc266ac5"
   },
   "outputs": [
    {
     "name": "stdout",
     "output_type": "stream",
     "text": [
      "WARNING:tensorflow:enqueue_data was called with num_epochs and num_threads > 1. num_epochs is applied per thread, so this will produce more epochs than you probably intend. If you want to limit epochs, use one thread.\n",
      "WARNING:tensorflow:enqueue_data was called with shuffle=True, num_threads > 1, and num_epochs. This will create multiple threads, all reading the array/dataframe in order adding to the same shuffling queue; the results will likely not be sufficiently shuffled.\n",
      "WARNING:tensorflow:From <ipython-input-3-e89ced8fbafb>:19: string_to_index (from tensorflow.contrib.lookup.lookup_ops) is deprecated and will be removed after 2017-01-07.\n",
      "Instructions for updating:\n",
      "This op will be removed after the deprecation date. Please switch to index_table_from_tensor and call the lookup method of the returned table.\n",
      "INFO:tensorflow:Restoring parameters from /tmp/tmpe4nd9z8n/model.ckpt-10000\n",
      "[ 161.93147278   60.56196213  168.82467651]\n",
      "[ 246.00631714  184.02256775  185.76617432]\n",
      "[  45.1961937   173.1978302   216.95178223]\n",
      "[  22.03488922  237.71044922  224.44076538]\n",
      "[ 116.02417755    6.25331688  193.49478149]\n"
     ]
    }
   ],
   "source": [
    "p2 = estimator.predict(input_fn=test_input_fn, as_iterable=True)\n",
    "\n",
    "for i in range(5):\n",
    "    print(next(p2) * 255)"
   ]
  },
  {
   "cell_type": "markdown",
   "metadata": {},
   "source": [
    "## Visualizing the result"
   ]
  },
  {
   "cell_type": "code",
   "execution_count": 26,
   "metadata": {},
   "outputs": [
    {
     "name": "stdout",
     "output_type": "stream",
     "text": [
      "WARNING:tensorflow:From <ipython-input-3-e89ced8fbafb>:19: string_to_index (from tensorflow.contrib.lookup.lookup_ops) is deprecated and will be removed after 2017-01-07.\n",
      "Instructions for updating:\n",
      "This op will be removed after the deprecation date. Please switch to index_table_from_tensor and call the lookup method of the returned table.\n",
      "INFO:tensorflow:Restoring parameters from /tmp/tmpe4nd9z8n/model.ckpt-10000\n",
      "\n",
      "orange rgb (255, 104, 25)\n"
     ]
    },
    {
     "data": {
      "image/png": "[encoded data removed]",
      "text/plain": [
       "<matplotlib.figure.Figure at 0x7f9c1ee15a20>"
      ]
     },
     "metadata": {},
     "output_type": "display_data"
    },
    {
     "name": "stdout",
     "output_type": "stream",
     "text": [
      "tensorflow orange rgb (222, 110, 51)\n"
     ]
    },
    {
     "data": {
      "image/png": "[encoded data removed]",
      "text/plain": [
       "<matplotlib.figure.Figure at 0x7f9c1d35a668>"
      ]
     },
     "metadata": {},
     "output_type": "display_data"
    },
    {
     "name": "stdout",
     "output_type": "stream",
     "text": [
      "diamond rgb (185, 241, 253)\n"
     ]
    },
    {
     "data": {
      "image/png": "[encoded data removed]",
      "text/plain": [
       "<matplotlib.figure.Figure at 0x7f9c1d521908>"
      ]
     },
     "metadata": {},
     "output_type": "display_data"
    },
    {
     "name": "stdout",
     "output_type": "stream",
     "text": [
      "purple blue rgb (47, 110, 190)\n"
     ]
    },
    {
     "data": {
      "image/png": "[encoded data removed]",
      "text/plain": [
       "<matplotlib.figure.Figure at 0x7f9c7d9f5898>"
      ]
     },
     "metadata": {},
     "output_type": "display_data"
    },
    {
     "name": "stdout",
     "output_type": "stream",
     "text": [
      "purple red rgb (187, 3, 55)\n"
     ]
    },
    {
     "data": {
      "image/png": "[encoded data removed]",
      "text/plain": [
       "<matplotlib.figure.Figure at 0x7f9c7d1c9eb8>"
      ]
     },
     "metadata": {},
     "output_type": "display_data"
    },
    {
     "name": "stdout",
     "output_type": "stream",
     "text": [
      "purple rgb (131, 40, 167)\n"
     ]
    },
    {
     "data": {
      "image/png": "[encoded data removed]",
      "text/plain": [
       "<matplotlib.figure.Figure at 0x7f9c1d1c4a58>"
      ]
     },
     "metadata": {},
     "output_type": "display_data"
    },
    {
     "name": "stdout",
     "output_type": "stream",
     "text": [
      "water rgb (167, 140, 147)\n"
     ]
    },
    {
     "data": {
      "image/png": "[encoded data removed]",
      "text/plain": [
       "<matplotlib.figure.Figure at 0x7f9c1eec1b70>"
      ]
     },
     "metadata": {},
     "output_type": "display_data"
    },
    {
     "name": "stdout",
     "output_type": "stream",
     "text": [
      "pink rgb (255, 193, 202)\n"
     ]
    },
    {
     "data": {
      "image/png": "[encoded data removed]",
      "text/plain": [
       "<matplotlib.figure.Figure at 0x7f9c1eecc470>"
      ]
     },
     "metadata": {},
     "output_type": "display_data"
    },
    {
     "name": "stdout",
     "output_type": "stream",
     "text": [
      "rock rgb (106, 39, 9)\n"
     ]
    },
    {
     "data": {
      "image/png": "[encoded data removed]",
      "text/plain": [
       "<matplotlib.figure.Figure at 0x7f9c7cdfa9e8>"
      ]
     },
     "metadata": {},
     "output_type": "display_data"
    }
   ],
   "source": [
    "preds = estimator.predict(input_fn=my_test_input_fn, as_iterable=True)\n",
    "\n",
    "color_names = _get_csv_column(MY_TEST_INPUT, 'name')\n",
    "\n",
    "print()\n",
    "for p, name in zip(preds, color_names):\n",
    "    color = tuple(map(int, p * 255))\n",
    "    print(name, 'rgb', color)\n",
    "    _plot_rgb(p)"
   ]
  },
  {
   "cell_type": "code",
   "execution_count": null,
   "metadata": {
    "collapsed": true
   },
   "outputs": [],
   "source": []
  }
 ],
 "metadata": {
  "colab": {
   "default_view": {},
   "last_runtime": {
    "build_target": "//experimental/users/jamieas/transform_colab:notebook",
    "kind": "private"
   },
   "name": "Copy of CustomEstimator.ipynb",
   "provenance": [
    {
     "file_id": "0BwN-JPfIIHwgdFkwUTVIWTQwU00",
     "timestamp": 1496845355496
    }
   ],
   "version": "0.3.2",
   "views": {}
  },
  "kernelspec": {
   "display_name": "Python 3",
   "language": "python",
   "name": "python3"
  },
  "language_info": {
   "codemirror_mode": {
    "name": "ipython",
    "version": 3
   },
   "file_extension": ".py",
   "mimetype": "text/x-python",
   "name": "python",
   "nbconvert_exporter": "python",
   "pygments_lexer": "ipython3",
   "version": "3.4.3"
  }
 },
 "nbformat": 4,
 "nbformat_minor": 1
}
