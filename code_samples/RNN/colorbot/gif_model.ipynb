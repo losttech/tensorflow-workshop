{
 "cells": [
  {
   "cell_type": "markdown",
   "metadata": {},
   "source": [
    "# Colorbot - training your own model\n",
    "\n",
    "\n",
    "![img](imgs/colorbot_model.png)\n",
    "![img](imgs/colorbot_execution.png)\n"
   ]
  },
  {
   "cell_type": "markdown",
   "metadata": {},
   "source": [
    "## Dependencies"
   ]
  },
  {
   "cell_type": "code",
   "execution_count": 1,
   "metadata": {
    "colab": {
     "autoexec": {
      "startup": false,
      "wait_interval": 0
     }
    },
    "colab_type": "code",
    "collapsed": false,
    "id": "mDT8S9C9CYtr"
   },
   "outputs": [
    {
     "name": "stdout",
     "output_type": "stream",
     "text": [
      "Tested with TensorFLow 1.2.0\n",
      "Your TensorFlow version: 1.2.0\n"
     ]
    }
   ],
   "source": [
    "# Tensorflow\n",
    "import tensorflow as tf\n",
    "print('Tested with TensorFLow 1.2.0')\n",
    "print('Your TensorFlow version:', tf.__version__) \n",
    "\n",
    "# Feeding function for enqueue data\n",
    "from tensorflow.python.estimator.inputs.queues import feeding_functions as ff\n",
    "\n",
    "# Rnn common functions\n",
    "from tensorflow.contrib.learn.python.learn.estimators import rnn_common\n",
    "\n",
    "# Run an experiment\n",
    "from tensorflow.contrib.learn.python.learn import learn_runner\n",
    "\n",
    "# Model builder\n",
    "from tensorflow.python.estimator import model_fn as model_fn_lib\n",
    "\n",
    "# Plot images with pyplot\n",
    "%matplotlib inline\n",
    "from matplotlib import pyplot as plt\n",
    "\n",
    "# Helpers for data processing\n",
    "import pandas as pd\n",
    "import numpy as np\n",
    "import argparse"
   ]
  },
  {
   "cell_type": "markdown",
   "metadata": {},
   "source": [
    "## Parameters"
   ]
  },
  {
   "cell_type": "code",
   "execution_count": 2,
   "metadata": {
    "colab": {
     "autoexec": {
      "startup": false,
      "wait_interval": 0
     }
    },
    "colab_type": "code",
    "collapsed": true,
    "id": "UrAyWt23AtCM"
   },
   "outputs": [],
   "source": [
    "# Data files\n",
    "TRAIN_INPUT = 'path/to/train/'\n",
    "TEST_INPUT = 'path/to/test/test.csv'\n",
    "MY_TEST_INPUT = 'data/mytest.csv'\n",
    "\n",
    "# Parameters for training\n",
    "BATCH_SIZE = 64\n",
    "\n",
    "# Parameters for data processing\n",
    "CHARACTERS = [chr(i) for i in range(256)]\n",
    "SEQUENCE_LENGTH_KEY = 'sequence_length'\n",
    "COLOR_NAME_KEY = 'color_name'\n",
    "RGB_KEY = 'rgb'"
   ]
  },
  {
   "cell_type": "markdown",
   "metadata": {},
   "source": [
    "## Helper functions"
   ]
  },
  {
   "cell_type": "code",
   "execution_count": 3,
   "metadata": {
    "colab": {
     "autoexec": {
      "startup": false,
      "wait_interval": 0
     }
    },
    "colab_type": "code",
    "collapsed": true,
    "id": "0dlZ9C27M-bS"
   },
   "outputs": [],
   "source": [
    "# This function creates a sparse tensor in the following way, given:\n",
    "# indices = [[0, 0], [1, 1], [2, 2]]\n",
    "# values = [1, 2, 3]\n",
    "# dense_shape = [3, 4]\n",
    "#\n",
    "# The output will be a sparse tensor that represents this dense tensor:\n",
    "# [ \n",
    "#   [1, 0, 0, 0]\n",
    "#   [0, 2, 0, 0]\n",
    "#   [0, 0, 3, 0]\n",
    "# ]\n",
    "#\n",
    "# We're using this to generate a Sparse tensor that can be easily\n",
    "# formated in a one hot representation.\n",
    "# More at: https://www.tensorflow.org/api_docs/python/tf/SparseTensor\n",
    "def _sparse_string_to_index(sp, mapping):\n",
    "    # This operation constructs a lookup table to convert tensor of strings\n",
    "    # into int64 IDs\n",
    "    table = tf.contrib.lookup.index_table_from_tensor(mapping, dtype=tf.string)\n",
    "    \n",
    "    return tf.SparseTensor(indices=sp.indices,\n",
    "                           values=table.lookup(sp.values),\n",
    "                           dense_shape=sp.dense_shape)\n",
    "\n",
    "# Returns the column values from a CSV file as a list\n",
    "def _get_csv_column(csv_file, column_name):\n",
    "    with open(csv_file, 'r') as f:\n",
    "        df = pd.read_csv(f)\n",
    "        return df[column_name].tolist()\n",
    "\n",
    "# Plot a color image\n",
    "def _plot_rgb(rgb):\n",
    "    data = [[rgb]]\n",
    "    plt.figure(figsize=(2,2))\n",
    "    plt.imshow(data, interpolation='nearest')\n",
    "    plt.show()"
   ]
  },
  {
   "cell_type": "markdown",
   "metadata": {},
   "source": [
    "## Input functions"
   ]
  },
  {
   "cell_type": "code",
   "execution_count": 4,
   "metadata": {
    "collapsed": true
   },
   "outputs": [],
   "source": [
    "# Input function used for training and testing                                                \n",
    "def get_input_fn(csv_file, batch_size, epochs=1):\n",
    "   \n",
    "    # loading csv in memory\n",
    "    df = pd.read_csv(csv_file)\n",
    "    df = df.dropna()\n",
    "    \n",
    "    # Sequence length is used by the Dynamic RNN\n",
    "    # to dynamically unroll the graph :D!\n",
    "    df['sequence_length'] = df.name.str.len().astype(np.int32)\n",
    "\n",
    "    # We can use a canned input function for generating batches\n",
    "    # with the pandas data frame, then we call it and\n",
    "    # make the changes needed on the features\n",
    "    pd_fn = tf.estimator.inputs.pandas_input_fn(df, shuffle=True,\n",
    "                                                batch_size=batch_size,\n",
    "                                                num_epochs=epochs,\n",
    "                                                queue_capacity=100000)\n",
    "    \n",
    "    def input_fn():   \n",
    "        # calling the pandas input function\n",
    "        fields = argparse.Namespace(**pd_fn())\n",
    "        \n",
    "        # Split strings into chars\n",
    "        split_color_name = tf.string_split(fields.name, delimiter='')\n",
    "        # Creating a tf constant to hold the map char -> index\n",
    "        # this is need to create the sparse tensor and after the one hot encode\n",
    "        table = tf.contrib.lookup.index_table_from_tensor(CHARACTERS, dtype=tf.string)\n",
    "        # Names represented in a sparse tensor\n",
    "        integerized_color_name = table.lookup(split_color_name)\n",
    "        \n",
    "        # Tensor of normalized RGB values\n",
    "        rgb = tf.to_float(tf.stack([fields.red, fields.green, fields.blue], axis=1)) / 255.0\n",
    "\n",
    "        features = {COLOR_NAME_KEY: integerized_color_name, SEQUENCE_LENGTH_KEY: fields.sequence_length}\n",
    "        return features, rgb\n",
    "\n",
    "    return input_fn"
   ]
  },
  {
   "cell_type": "code",
   "execution_count": 5,
   "metadata": {
    "collapsed": true
   },
   "outputs": [],
   "source": [
    "# Creating my own input function for a custom CSV file\n",
    "# it's simpler than the input_fn above but just used for small tests\n",
    "def my_test_input_fn():\n",
    "    df = pd.read_csv(MY_TEST_INPUT)\n",
    "    df = df.dropna()\n",
    "    df['sequence_length'] = df.name.str.len().astype(np.int32)\n",
    "\n",
    "    color_name = df.name.tolist()\n",
    "\n",
    "    split_color_name = tf.string_split(color_name, delimiter='')\n",
    "    mapping = tf.constant(CHARACTERS, name=\"mapping\")\n",
    "    integerized_color_name = _sparse_string_to_index(split_color_name, mapping)\n",
    "\n",
    "    x = {COLOR_NAME_KEY: integerized_color_name, SEQUENCE_LENGTH_KEY: df.sequence_length.tolist()}\n",
    "\n",
    "    y = np.asarray([[0, 0, 0]], dtype=np.float32)\n",
    "\n",
    "    return x, y"
   ]
  },
  {
   "cell_type": "code",
   "execution_count": 6,
   "metadata": {
    "colab": {
     "autoexec": {
      "startup": false,
      "wait_interval": 0
     }
    },
    "colab_type": "code",
    "collapsed": true,
    "id": "m5UJyvW5P0Sy"
   },
   "outputs": [],
   "source": [
    "train_input_fn = get_input_fn(TRAIN_INPUT, BATCH_SIZE)\n",
    "test_input_fn = get_input_fn(TEST_INPUT, BATCH_SIZE)"
   ]
  },
  {
   "cell_type": "markdown",
   "metadata": {},
   "source": [
    "## Creating the Estimator model in the gif_model dir"
   ]
  },
  {
   "cell_type": "code",
   "execution_count": 7,
   "metadata": {
    "colab": {
     "autoexec": {
      "startup": false,
      "wait_interval": 0
     }
    },
    "colab_type": "code",
    "collapsed": true,
    "id": "VxXAUrYN7TvR"
   },
   "outputs": [],
   "source": [
    "def get_model_fn(rnn_cell_sizes,\n",
    "                 label_dimension,\n",
    "                 dnn_layer_sizes=[],\n",
    "                 optimizer='SGD',\n",
    "                 learning_rate=0.01):\n",
    "    \n",
    "    def model_fn(features, labels, mode):\n",
    "        \n",
    "        color_name = features[COLOR_NAME_KEY]\n",
    "        sequence_length = features[SEQUENCE_LENGTH_KEY]\n",
    "\n",
    "        # Creating dense representation for the names\n",
    "        # and then converting it to one hot representation\n",
    "        dense_color_name = tf.sparse_tensor_to_dense(color_name, default_value=len(CHARACTERS))\n",
    "        color_name_onehot = tf.one_hot(dense_color_name, depth=len(CHARACTERS) + 1)\n",
    "        \n",
    "        # Each RNN layer will consist of a LSTM cell\n",
    "        rnn_layers = [tf.contrib.rnn.LSTMCell(size) for size in rnn_cell_sizes]\n",
    "        \n",
    "        # Construct the layers\n",
    "        multi_rnn_cell = tf.contrib.rnn.MultiRNNCell(rnn_layers)\n",
    "        \n",
    "        # Runs the RNN model dynamically\n",
    "        # more about it at: \n",
    "        # https://www.tensorflow.org/api_docs/python/tf/nn/dynamic_rnn\n",
    "        outputs, final_state = tf.nn.dynamic_rnn(cell=multi_rnn_cell,\n",
    "                                                 inputs=color_name_onehot,\n",
    "                                                 sequence_length=sequence_length,\n",
    "                                                 dtype=tf.float32)\n",
    "\n",
    "        # Slice to keep only the last cell of the RNN\n",
    "        last_activations = rnn_common.select_last_activations(outputs,\n",
    "                                                              sequence_length)\n",
    "\n",
    "        # Construct dense layers on top of the last cell of the RNN\n",
    "        for units in dnn_layer_sizes:\n",
    "            last_activations = tf.layers.dense(\n",
    "              last_activations, units, activation=tf.nn.relu)\n",
    "        \n",
    "        # Final dense layer for prediction\n",
    "        predictions = tf.layers.dense(last_activations, label_dimension)\n",
    "\n",
    "        loss = None\n",
    "        train_op = None\n",
    "\n",
    "        if mode != tf.contrib.learn.ModeKeys.INFER:    \n",
    "            loss = tf.losses.mean_squared_error(labels, predictions)\n",
    "    \n",
    "        if mode == tf.contrib.learn.ModeKeys.TRAIN:    \n",
    "            train_op = tf.contrib.layers.optimize_loss(\n",
    "              loss,\n",
    "              tf.contrib.framework.get_global_step(),\n",
    "              optimizer=optimizer,\n",
    "              learning_rate=learning_rate)\n",
    "        \n",
    "        return model_fn_lib.EstimatorSpec(mode,\n",
    "                                           predictions=predictions,\n",
    "                                           loss=loss,\n",
    "                                           train_op=train_op)\n",
    "    return model_fn"
   ]
  },
  {
   "cell_type": "code",
   "execution_count": 8,
   "metadata": {
    "colab": {
     "autoexec": {
      "startup": false,
      "wait_interval": 0
     }
    },
    "colab_type": "code",
    "collapsed": false,
    "id": "gUHR3Mzc7Tvb"
   },
   "outputs": [
    {
     "name": "stdout",
     "output_type": "stream",
     "text": [
      "INFO:tensorflow:Using config: {'_save_checkpoints_secs': None, '_environment': 'local', '_model_dir': 'gif_model', '_keep_checkpoint_every_n_hours': 10000, '_task_type': None, '_num_worker_replicas': 0, '_tf_random_seed': None, '_is_chief': True, '_num_ps_replicas': 0, '_save_checkpoints_steps': 100, '_tf_config': gpu_options {\n",
      "  per_process_gpu_memory_fraction: 1.0\n",
      "}\n",
      ", '_keep_checkpoint_max': None, '_master': '', '_session_config': None, '_save_summary_steps': 100, '_evaluation_master': '', '_cluster_spec': <tensorflow.python.training.server_lib.ClusterSpec object at 0x7f4680911550>, '_task_id': 0}\n"
     ]
    }
   ],
   "source": [
    "model_fn = get_model_fn(rnn_cell_sizes=[256, 128], # size of the hidden layers\n",
    "                        label_dimension=3, # since is RGB\n",
    "                        dnn_layer_sizes=[128], # size of units in the dense layers on top of the RNN\n",
    "                        optimizer='Adam', #changing optimizer to Adam\n",
    "                        learning_rate=0.01)\n",
    "\n",
    "### !!!! Atention !!!!\n",
    "### notice the model_dir path\n",
    "estimator = tf.estimator.Estimator(model_fn=model_fn, model_dir='gif_model',\n",
    "                                   config=tf.contrib.learn.RunConfig(keep_checkpoint_max=None,\n",
    "                                   save_checkpoints_steps=100))"
   ]
  },
  {
   "cell_type": "markdown",
   "metadata": {},
   "source": [
    "## Trainning and Evaluating [OPTIONAL]\n",
    "\n",
    "We could use a [experiment](https://www.tensorflow.org/api_docs/python/tf/contrib/learn/Experiment) instead.\n"
   ]
  },
  {
   "cell_type": "code",
   "execution_count": 10,
   "metadata": {
    "colab": {
     "autoexec": {
      "startup": false,
      "wait_interval": 0
     }
    },
    "colab_type": "code",
    "collapsed": false,
    "id": "DUZEKQrdGgZE"
   },
   "outputs": [
    {
     "name": "stdout",
     "output_type": "stream",
     "text": [
      "Training epoch 0\n",
      "--------------------\n"
     ]
    },
    {
     "name": "stderr",
     "output_type": "stream",
     "text": [
      "/usr/local/lib/python3.5/dist-packages/tensorflow/python/ops/gradients_impl.py:93: UserWarning: Converting sparse IndexedSlices to a dense Tensor of unknown shape. This may consume a large amount of memory.\n",
      "  \"Converting sparse IndexedSlices to a dense Tensor of unknown shape. \"\n"
     ]
    },
    {
     "name": "stdout",
     "output_type": "stream",
     "text": [
      "INFO:tensorflow:Create CheckpointSaverHook.\n",
      "INFO:tensorflow:Restoring parameters from gif_model/model.ckpt-214\n",
      "INFO:tensorflow:Saving checkpoints for 215 into gif_model/model.ckpt.\n",
      "INFO:tensorflow:gif_model/model.ckpt-215 is not in all_model_checkpoint_paths. Manually adding it.\n",
      "INFO:tensorflow:loss = 0.0561563, step = 215\n",
      "INFO:tensorflow:Saving checkpoints for 315 into gif_model/model.ckpt.\n",
      "INFO:tensorflow:gif_model/model.ckpt-315 is not in all_model_checkpoint_paths. Manually adding it.\n",
      "INFO:tensorflow:global_step/sec: 3.01971\n",
      "INFO:tensorflow:loss = 0.0652968, step = 315 (33.118 sec)\n",
      "INFO:tensorflow:Saving checkpoints for 415 into gif_model/model.ckpt.\n",
      "INFO:tensorflow:gif_model/model.ckpt-415 is not in all_model_checkpoint_paths. Manually adding it.\n",
      "INFO:tensorflow:global_step/sec: 3.06843\n",
      "INFO:tensorflow:loss = 0.0577213, step = 415 (32.589 sec)\n",
      "INFO:tensorflow:Saving checkpoints for 428 into gif_model/model.ckpt.\n",
      "INFO:tensorflow:gif_model/model.ckpt-428 is not in all_model_checkpoint_paths. Manually adding it.\n",
      "INFO:tensorflow:Loss for final step: 0.0533926.\n",
      "Evaluating epoch 0\n",
      "--------------------\n",
      "INFO:tensorflow:Starting evaluation at 2017-06-25-14:07:18\n",
      "INFO:tensorflow:Restoring parameters from gif_model/model.ckpt-428\n",
      "INFO:tensorflow:Finished evaluation at 2017-06-25-14:07:19\n",
      "INFO:tensorflow:Saving dict for global step 428: global_step = 428, loss = 0.0551457\n",
      "Training epoch 1\n",
      "--------------------\n",
      "INFO:tensorflow:Create CheckpointSaverHook.\n",
      "INFO:tensorflow:Restoring parameters from gif_model/model.ckpt-428\n",
      "INFO:tensorflow:Saving checkpoints for 429 into gif_model/model.ckpt.\n",
      "INFO:tensorflow:gif_model/model.ckpt-429 is not in all_model_checkpoint_paths. Manually adding it.\n",
      "INFO:tensorflow:loss = 0.0465557, step = 429\n",
      "INFO:tensorflow:Saving checkpoints for 529 into gif_model/model.ckpt.\n",
      "INFO:tensorflow:gif_model/model.ckpt-529 is not in all_model_checkpoint_paths. Manually adding it.\n",
      "INFO:tensorflow:global_step/sec: 3.19076\n",
      "INFO:tensorflow:loss = 0.0390943, step = 529 (31.342 sec)\n",
      "INFO:tensorflow:Saving checkpoints for 629 into gif_model/model.ckpt.\n",
      "INFO:tensorflow:gif_model/model.ckpt-629 is not in all_model_checkpoint_paths. Manually adding it.\n",
      "INFO:tensorflow:global_step/sec: 3.35359\n",
      "INFO:tensorflow:loss = 0.0414396, step = 629 (29.819 sec)\n",
      "INFO:tensorflow:Saving checkpoints for 642 into gif_model/model.ckpt.\n",
      "INFO:tensorflow:gif_model/model.ckpt-642 is not in all_model_checkpoint_paths. Manually adding it.\n",
      "INFO:tensorflow:Loss for final step: 0.0449237.\n",
      "Evaluating epoch 1\n",
      "--------------------\n",
      "INFO:tensorflow:Starting evaluation at 2017-06-25-14:08:28\n",
      "INFO:tensorflow:Restoring parameters from gif_model/model.ckpt-642\n",
      "INFO:tensorflow:Finished evaluation at 2017-06-25-14:08:29\n",
      "INFO:tensorflow:Saving dict for global step 642: global_step = 642, loss = 0.0513758\n",
      "Training epoch 2\n",
      "--------------------\n",
      "INFO:tensorflow:Create CheckpointSaverHook.\n",
      "INFO:tensorflow:Restoring parameters from gif_model/model.ckpt-642\n",
      "INFO:tensorflow:Saving checkpoints for 643 into gif_model/model.ckpt.\n",
      "INFO:tensorflow:gif_model/model.ckpt-643 is not in all_model_checkpoint_paths. Manually adding it.\n",
      "INFO:tensorflow:loss = 0.0521993, step = 643\n",
      "INFO:tensorflow:Saving checkpoints for 743 into gif_model/model.ckpt.\n",
      "INFO:tensorflow:gif_model/model.ckpt-743 is not in all_model_checkpoint_paths. Manually adding it.\n",
      "INFO:tensorflow:global_step/sec: 3.68588\n",
      "INFO:tensorflow:loss = 0.0436811, step = 743 (27.132 sec)\n",
      "INFO:tensorflow:Saving checkpoints for 843 into gif_model/model.ckpt.\n",
      "INFO:tensorflow:gif_model/model.ckpt-843 is not in all_model_checkpoint_paths. Manually adding it.\n",
      "INFO:tensorflow:global_step/sec: 3.65369\n",
      "INFO:tensorflow:loss = 0.040644, step = 843 (27.370 sec)\n",
      "INFO:tensorflow:Saving checkpoints for 856 into gif_model/model.ckpt.\n",
      "INFO:tensorflow:gif_model/model.ckpt-856 is not in all_model_checkpoint_paths. Manually adding it.\n",
      "INFO:tensorflow:Loss for final step: 0.0503781.\n",
      "Evaluating epoch 2\n",
      "--------------------\n",
      "INFO:tensorflow:Starting evaluation at 2017-06-25-14:09:29\n",
      "INFO:tensorflow:Restoring parameters from gif_model/model.ckpt-856\n",
      "INFO:tensorflow:Finished evaluation at 2017-06-25-14:09:30\n",
      "INFO:tensorflow:Saving dict for global step 856: global_step = 856, loss = 0.0516103\n",
      "Training epoch 3\n",
      "--------------------\n",
      "INFO:tensorflow:Create CheckpointSaverHook.\n",
      "INFO:tensorflow:Restoring parameters from gif_model/model.ckpt-856\n",
      "INFO:tensorflow:Saving checkpoints for 857 into gif_model/model.ckpt.\n",
      "INFO:tensorflow:gif_model/model.ckpt-857 is not in all_model_checkpoint_paths. Manually adding it.\n",
      "INFO:tensorflow:loss = 0.0374206, step = 857\n",
      "INFO:tensorflow:Saving checkpoints for 957 into gif_model/model.ckpt.\n",
      "INFO:tensorflow:gif_model/model.ckpt-957 is not in all_model_checkpoint_paths. Manually adding it.\n",
      "INFO:tensorflow:global_step/sec: 3.33887\n",
      "INFO:tensorflow:loss = 0.0414326, step = 957 (29.952 sec)\n",
      "INFO:tensorflow:Saving checkpoints for 1057 into gif_model/model.ckpt.\n",
      "INFO:tensorflow:gif_model/model.ckpt-1057 is not in all_model_checkpoint_paths. Manually adding it.\n",
      "INFO:tensorflow:global_step/sec: 3.68649\n",
      "INFO:tensorflow:loss = 0.0428966, step = 1057 (27.126 sec)\n",
      "INFO:tensorflow:Saving checkpoints for 1070 into gif_model/model.ckpt.\n",
      "INFO:tensorflow:gif_model/model.ckpt-1070 is not in all_model_checkpoint_paths. Manually adding it.\n",
      "INFO:tensorflow:Loss for final step: 0.0361684.\n",
      "Evaluating epoch 3\n",
      "--------------------\n",
      "INFO:tensorflow:Starting evaluation at 2017-06-25-14:10:33\n",
      "INFO:tensorflow:Restoring parameters from gif_model/model.ckpt-1070\n",
      "INFO:tensorflow:Finished evaluation at 2017-06-25-14:10:34\n",
      "INFO:tensorflow:Saving dict for global step 1070: global_step = 1070, loss = 0.0494496\n",
      "Training epoch 4\n",
      "--------------------\n",
      "INFO:tensorflow:Create CheckpointSaverHook.\n",
      "INFO:tensorflow:Restoring parameters from gif_model/model.ckpt-1070\n",
      "INFO:tensorflow:Saving checkpoints for 1071 into gif_model/model.ckpt.\n",
      "INFO:tensorflow:gif_model/model.ckpt-1071 is not in all_model_checkpoint_paths. Manually adding it.\n",
      "INFO:tensorflow:loss = 0.032559, step = 1071\n",
      "INFO:tensorflow:Saving checkpoints for 1171 into gif_model/model.ckpt.\n",
      "INFO:tensorflow:gif_model/model.ckpt-1171 is not in all_model_checkpoint_paths. Manually adding it.\n",
      "INFO:tensorflow:global_step/sec: 3.63993\n",
      "INFO:tensorflow:loss = 0.0462604, step = 1171 (27.474 sec)\n",
      "INFO:tensorflow:Saving checkpoints for 1271 into gif_model/model.ckpt.\n",
      "INFO:tensorflow:gif_model/model.ckpt-1271 is not in all_model_checkpoint_paths. Manually adding it.\n",
      "INFO:tensorflow:global_step/sec: 3.58863\n",
      "INFO:tensorflow:loss = 0.0381888, step = 1271 (27.866 sec)\n",
      "INFO:tensorflow:Saving checkpoints for 1284 into gif_model/model.ckpt.\n",
      "INFO:tensorflow:gif_model/model.ckpt-1284 is not in all_model_checkpoint_paths. Manually adding it.\n",
      "INFO:tensorflow:Loss for final step: 0.0376491.\n",
      "Evaluating epoch 4\n",
      "--------------------\n",
      "INFO:tensorflow:Starting evaluation at 2017-06-25-14:11:35\n",
      "INFO:tensorflow:Restoring parameters from gif_model/model.ckpt-1284\n",
      "INFO:tensorflow:Finished evaluation at 2017-06-25-14:11:36\n",
      "INFO:tensorflow:Saving dict for global step 1284: global_step = 1284, loss = 0.0489251\n",
      "Training epoch 5\n",
      "--------------------\n",
      "INFO:tensorflow:Create CheckpointSaverHook.\n",
      "INFO:tensorflow:Restoring parameters from gif_model/model.ckpt-1284\n",
      "INFO:tensorflow:Saving checkpoints for 1285 into gif_model/model.ckpt.\n",
      "INFO:tensorflow:gif_model/model.ckpt-1285 is not in all_model_checkpoint_paths. Manually adding it.\n",
      "INFO:tensorflow:loss = 0.03475, step = 1285\n",
      "INFO:tensorflow:Saving checkpoints for 1385 into gif_model/model.ckpt.\n",
      "INFO:tensorflow:gif_model/model.ckpt-1385 is not in all_model_checkpoint_paths. Manually adding it.\n",
      "INFO:tensorflow:global_step/sec: 3.5254\n",
      "INFO:tensorflow:loss = 0.0371106, step = 1385 (28.367 sec)\n",
      "INFO:tensorflow:Saving checkpoints for 1485 into gif_model/model.ckpt.\n",
      "INFO:tensorflow:gif_model/model.ckpt-1485 is not in all_model_checkpoint_paths. Manually adding it.\n",
      "INFO:tensorflow:global_step/sec: 3.63217\n",
      "INFO:tensorflow:loss = 0.0317159, step = 1485 (27.532 sec)\n",
      "INFO:tensorflow:Saving checkpoints for 1498 into gif_model/model.ckpt.\n",
      "INFO:tensorflow:gif_model/model.ckpt-1498 is not in all_model_checkpoint_paths. Manually adding it.\n",
      "INFO:tensorflow:Loss for final step: 0.0353662.\n",
      "Evaluating epoch 5\n",
      "--------------------\n",
      "INFO:tensorflow:Starting evaluation at 2017-06-25-14:12:38\n",
      "INFO:tensorflow:Restoring parameters from gif_model/model.ckpt-1498\n",
      "INFO:tensorflow:Finished evaluation at 2017-06-25-14:12:39\n",
      "INFO:tensorflow:Saving dict for global step 1498: global_step = 1498, loss = 0.0475749\n",
      "Training epoch 6\n",
      "--------------------\n",
      "INFO:tensorflow:Create CheckpointSaverHook.\n",
      "INFO:tensorflow:Restoring parameters from gif_model/model.ckpt-1498\n",
      "INFO:tensorflow:Saving checkpoints for 1499 into gif_model/model.ckpt.\n",
      "INFO:tensorflow:gif_model/model.ckpt-1499 is not in all_model_checkpoint_paths. Manually adding it.\n",
      "INFO:tensorflow:loss = 0.0372561, step = 1499\n",
      "INFO:tensorflow:Saving checkpoints for 1599 into gif_model/model.ckpt.\n",
      "INFO:tensorflow:gif_model/model.ckpt-1599 is not in all_model_checkpoint_paths. Manually adding it.\n",
      "INFO:tensorflow:global_step/sec: 3.7485\n",
      "INFO:tensorflow:loss = 0.0397722, step = 1599 (26.678 sec)\n",
      "INFO:tensorflow:Saving checkpoints for 1699 into gif_model/model.ckpt.\n",
      "INFO:tensorflow:gif_model/model.ckpt-1699 is not in all_model_checkpoint_paths. Manually adding it.\n",
      "INFO:tensorflow:global_step/sec: 3.67201\n",
      "INFO:tensorflow:loss = 0.0415927, step = 1699 (27.233 sec)\n",
      "INFO:tensorflow:Saving checkpoints for 1712 into gif_model/model.ckpt.\n",
      "INFO:tensorflow:gif_model/model.ckpt-1712 is not in all_model_checkpoint_paths. Manually adding it.\n",
      "INFO:tensorflow:Loss for final step: 0.0247187.\n",
      "Evaluating epoch 6\n",
      "--------------------\n",
      "INFO:tensorflow:Starting evaluation at 2017-06-25-14:13:39\n",
      "INFO:tensorflow:Restoring parameters from gif_model/model.ckpt-1712\n",
      "INFO:tensorflow:Finished evaluation at 2017-06-25-14:13:40\n",
      "INFO:tensorflow:Saving dict for global step 1712: global_step = 1712, loss = 0.045946\n",
      "Training epoch 7\n",
      "--------------------\n",
      "INFO:tensorflow:Create CheckpointSaverHook.\n",
      "INFO:tensorflow:Restoring parameters from gif_model/model.ckpt-1712\n",
      "INFO:tensorflow:Saving checkpoints for 1713 into gif_model/model.ckpt.\n",
      "INFO:tensorflow:gif_model/model.ckpt-1713 is not in all_model_checkpoint_paths. Manually adding it.\n",
      "INFO:tensorflow:loss = 0.0236563, step = 1713\n",
      "INFO:tensorflow:Saving checkpoints for 1813 into gif_model/model.ckpt.\n",
      "INFO:tensorflow:gif_model/model.ckpt-1813 is not in all_model_checkpoint_paths. Manually adding it.\n",
      "INFO:tensorflow:global_step/sec: 3.66288\n",
      "INFO:tensorflow:loss = 0.0359763, step = 1813 (27.302 sec)\n",
      "INFO:tensorflow:Saving checkpoints for 1913 into gif_model/model.ckpt.\n",
      "INFO:tensorflow:gif_model/model.ckpt-1913 is not in all_model_checkpoint_paths. Manually adding it.\n",
      "INFO:tensorflow:global_step/sec: 3.68462\n",
      "INFO:tensorflow:loss = 0.0251665, step = 1913 (27.140 sec)\n",
      "INFO:tensorflow:Saving checkpoints for 1926 into gif_model/model.ckpt.\n",
      "INFO:tensorflow:gif_model/model.ckpt-1926 is not in all_model_checkpoint_paths. Manually adding it.\n",
      "INFO:tensorflow:Loss for final step: 0.026024.\n",
      "Evaluating epoch 7\n",
      "--------------------\n",
      "INFO:tensorflow:Starting evaluation at 2017-06-25-14:14:41\n",
      "INFO:tensorflow:Restoring parameters from gif_model/model.ckpt-1926\n",
      "INFO:tensorflow:Finished evaluation at 2017-06-25-14:14:41\n",
      "INFO:tensorflow:Saving dict for global step 1926: global_step = 1926, loss = 0.0502454\n",
      "Training epoch 8\n",
      "--------------------\n",
      "INFO:tensorflow:Create CheckpointSaverHook.\n",
      "INFO:tensorflow:Restoring parameters from gif_model/model.ckpt-1926\n",
      "INFO:tensorflow:Saving checkpoints for 1927 into gif_model/model.ckpt.\n",
      "INFO:tensorflow:gif_model/model.ckpt-1927 is not in all_model_checkpoint_paths. Manually adding it.\n",
      "INFO:tensorflow:loss = 0.0265546, step = 1927\n",
      "INFO:tensorflow:Saving checkpoints for 2027 into gif_model/model.ckpt.\n",
      "INFO:tensorflow:gif_model/model.ckpt-2027 is not in all_model_checkpoint_paths. Manually adding it.\n",
      "INFO:tensorflow:global_step/sec: 3.74116\n",
      "INFO:tensorflow:loss = 0.0318814, step = 2027 (26.731 sec)\n",
      "INFO:tensorflow:Saving checkpoints for 2127 into gif_model/model.ckpt.\n",
      "INFO:tensorflow:gif_model/model.ckpt-2127 is not in all_model_checkpoint_paths. Manually adding it.\n",
      "INFO:tensorflow:global_step/sec: 3.60663\n",
      "INFO:tensorflow:loss = 0.0340031, step = 2127 (27.727 sec)\n",
      "INFO:tensorflow:Saving checkpoints for 2140 into gif_model/model.ckpt.\n",
      "INFO:tensorflow:gif_model/model.ckpt-2140 is not in all_model_checkpoint_paths. Manually adding it.\n",
      "INFO:tensorflow:Loss for final step: 0.0263871.\n",
      "Evaluating epoch 8\n",
      "--------------------\n",
      "INFO:tensorflow:Starting evaluation at 2017-06-25-14:15:42\n",
      "INFO:tensorflow:Restoring parameters from gif_model/model.ckpt-2140\n",
      "INFO:tensorflow:Finished evaluation at 2017-06-25-14:15:43\n",
      "INFO:tensorflow:Saving dict for global step 2140: global_step = 2140, loss = 0.0489094\n",
      "Training epoch 9\n",
      "--------------------\n",
      "INFO:tensorflow:Create CheckpointSaverHook.\n",
      "INFO:tensorflow:Restoring parameters from gif_model/model.ckpt-2140\n",
      "INFO:tensorflow:Saving checkpoints for 2141 into gif_model/model.ckpt.\n",
      "INFO:tensorflow:gif_model/model.ckpt-2141 is not in all_model_checkpoint_paths. Manually adding it.\n",
      "INFO:tensorflow:loss = 0.0324295, step = 2141\n",
      "INFO:tensorflow:Saving checkpoints for 2241 into gif_model/model.ckpt.\n",
      "INFO:tensorflow:gif_model/model.ckpt-2241 is not in all_model_checkpoint_paths. Manually adding it.\n",
      "INFO:tensorflow:global_step/sec: 3.45287\n",
      "INFO:tensorflow:loss = 0.021688, step = 2241 (28.963 sec)\n",
      "INFO:tensorflow:Saving checkpoints for 2341 into gif_model/model.ckpt.\n",
      "INFO:tensorflow:gif_model/model.ckpt-2341 is not in all_model_checkpoint_paths. Manually adding it.\n",
      "INFO:tensorflow:global_step/sec: 3.15539\n",
      "INFO:tensorflow:loss = 0.024982, step = 2341 (31.692 sec)\n",
      "INFO:tensorflow:Saving checkpoints for 2354 into gif_model/model.ckpt.\n",
      "INFO:tensorflow:gif_model/model.ckpt-2354 is not in all_model_checkpoint_paths. Manually adding it.\n",
      "INFO:tensorflow:Loss for final step: 0.0238032.\n",
      "Evaluating epoch 9\n",
      "--------------------\n",
      "INFO:tensorflow:Starting evaluation at 2017-06-25-14:16:50\n",
      "INFO:tensorflow:Restoring parameters from gif_model/model.ckpt-2354\n",
      "INFO:tensorflow:Finished evaluation at 2017-06-25-14:16:51\n",
      "INFO:tensorflow:Saving dict for global step 2354: global_step = 2354, loss = 0.0490149\n"
     ]
    }
   ],
   "source": [
    "NUM_EPOCHS = 12\n",
    "for i in range(NUM_EPOCHS):\n",
    "    print('Training epoch %d' % i)\n",
    "    print('-' * 20)\n",
    "    estimator.train(input_fn=train_input_fn)\n",
    "    print('Evaluating epoch %d' % i)\n",
    "    print('-' * 20)\n",
    "    estimator.evaluate(input_fn = test_input_fn)"
   ]
  },
  {
   "cell_type": "markdown",
   "metadata": {},
   "source": [
    "## Generating predictions for each checkpoint"
   ]
  },
  {
   "cell_type": "code",
   "execution_count": 20,
   "metadata": {
    "collapsed": false
   },
   "outputs": [
    {
     "name": "stdout",
     "output_type": "stream",
     "text": [
      "INFO:tensorflow:Using default config.\n",
      "INFO:tensorflow:Using config: {'_save_checkpoints_steps': None, '_save_summary_steps': 100, '_session_config': None, '_save_checkpoints_secs': 600, '_keep_checkpoint_max': 5, '_model_dir': 'gif_model/1', '_keep_checkpoint_every_n_hours': 10000, '_tf_random_seed': 1}\n",
      "--------------------\n",
      "GIF MODEL 0: gif_model/1\n",
      "--------------------\n",
      "WARNING:tensorflow:Input graph does not contain a QueueRunner. That means predict yields forever. This is probably a mistake.\n",
      "INFO:tensorflow:Restoring parameters from gif_model/1/model.ckpt-1\n",
      "orange rgb (111, 116, 86) #6f7456\n"
     ]
    },
    {
     "data": {
      "image/png": "[encoded data removed]",
      "text/plain": [
       "<matplotlib.figure.Figure at 0x7f461f660470>"
      ]
     },
     "metadata": {},
     "output_type": "display_data"
    },
    {
     "name": "stdout",
     "output_type": "stream",
     "text": [
      "tensorflow orange rgb (333, 338, 258) #14d152102\n"
     ]
    },
    {
     "data": {
      "image/png": "[encoded data removed]",
      "text/plain": [
       "<matplotlib.figure.Figure at 0x7f462456ab00>"
      ]
     },
     "metadata": {},
     "output_type": "display_data"
    },
    {
     "name": "stdout",
     "output_type": "stream",
     "text": [
      "adfgasdgasd rgb (165, 169, 139) #a5a98b\n"
     ]
    },
    {
     "data": {
      "image/png": "[encoded data removed]",
      "text/plain": [
       "<matplotlib.figure.Figure at 0x7f461f993c50>"
      ]
     },
     "metadata": {},
     "output_type": "display_data"
    },
    {
     "name": "stdout",
     "output_type": "stream",
     "text": [
      "purple blue rgb (241, 246, 198) #f1f6c6\n"
     ]
    },
    {
     "data": {
      "image/png": "[encoded data removed]",
      "text/plain": [
       "<matplotlib.figure.Figure at 0x7f461f515978>"
      ]
     },
     "metadata": {},
     "output_type": "display_data"
    },
    {
     "name": "stdout",
     "output_type": "stream",
     "text": [
      "purple red rgb (226, 230, 177) #e2e6b1\n"
     ]
    },
    {
     "data": {
      "image/png": "[encoded data removed]",
      "text/plain": [
       "<matplotlib.figure.Figure at 0x7f461f90d0b8>"
      ]
     },
     "metadata": {},
     "output_type": "display_data"
    },
    {
     "name": "stdout",
     "output_type": "stream",
     "text": [
      "purple rgb (111, 115, 87) #6f7357\n"
     ]
    },
    {
     "data": {
      "image/png": "[encoded data removed]",
      "text/plain": [
       "<matplotlib.figure.Figure at 0x7f461fa72c88>"
      ]
     },
     "metadata": {},
     "output_type": "display_data"
    },
    {
     "name": "stdout",
     "output_type": "stream",
     "text": [
      "blue rgb (69, 72, 58) #45483a\n"
     ]
    },
    {
     "data": {
      "image/png": "[encoded data removed]",
      "text/plain": [
       "<matplotlib.figure.Figure at 0x7f461f3e8c18>"
      ]
     },
     "metadata": {},
     "output_type": "display_data"
    },
    {
     "name": "stdout",
     "output_type": "stream",
     "text": [
      "red rgb (59, 61, 41) #3b3d29\n"
     ]
    },
    {
     "data": {
      "image/png": "[encoded data removed]",
      "text/plain": [
       "<matplotlib.figure.Figure at 0x7f461f4e6780>"
      ]
     },
     "metadata": {},
     "output_type": "display_data"
    },
    {
     "name": "stdout",
     "output_type": "stream",
     "text": [
      "continue (y/n) ? y\n",
      "INFO:tensorflow:Using default config.\n",
      "INFO:tensorflow:Using config: {'_save_checkpoints_steps': None, '_save_summary_steps': 100, '_session_config': None, '_save_checkpoints_secs': 600, '_keep_checkpoint_max': 5, '_model_dir': 'gif_model/101', '_keep_checkpoint_every_n_hours': 10000, '_tf_random_seed': 1}\n",
      "--------------------\n",
      "GIF MODEL 1: gif_model/101\n",
      "--------------------\n",
      "WARNING:tensorflow:Input graph does not contain a QueueRunner. That means predict yields forever. This is probably a mistake.\n",
      "INFO:tensorflow:Restoring parameters from gif_model/101/model.ckpt-101\n",
      "orange rgb (145, 132, 89) #918459\n"
     ]
    },
    {
     "data": {
      "image/png": "[encoded data removed]",
      "text/plain": [
       "<matplotlib.figure.Figure at 0x7f461f350ef0>"
      ]
     },
     "metadata": {},
     "output_type": "display_data"
    },
    {
     "name": "stdout",
     "output_type": "stream",
     "text": [
      "tensorflow orange rgb (160, 144, 101) #a09065\n"
     ]
    },
    {
     "data": {
      "image/png": "[encoded data removed]",
      "text/plain": [
       "<matplotlib.figure.Figure at 0x7f461efbc908>"
      ]
     },
     "metadata": {},
     "output_type": "display_data"
    },
    {
     "name": "stdout",
     "output_type": "stream",
     "text": [
      "adfgasdgasd rgb (143, 135, 81) #8f8751\n"
     ]
    },
    {
     "data": {
      "image/png": "[encoded data removed]",
      "text/plain": [
       "<matplotlib.figure.Figure at 0x7f461ef167b8>"
      ]
     },
     "metadata": {},
     "output_type": "display_data"
    },
    {
     "name": "stdout",
     "output_type": "stream",
     "text": [
      "purple blue rgb (74, 128, 182) #4a80b6\n"
     ]
    },
    {
     "data": {
      "image/png": "[encoded data removed]",
      "text/plain": [
       "<matplotlib.figure.Figure at 0x7f461eef58d0>"
      ]
     },
     "metadata": {},
     "output_type": "display_data"
    },
    {
     "name": "stdout",
     "output_type": "stream",
     "text": [
      "purple red rgb (134, 118, 87) #867657\n"
     ]
    },
    {
     "data": {
      "image/png": "[encoded data removed]",
      "text/plain": [
       "<matplotlib.figure.Figure at 0x7f461ee55f28>"
      ]
     },
     "metadata": {},
     "output_type": "display_data"
    },
    {
     "name": "stdout",
     "output_type": "stream",
     "text": [
      "purple rgb (123, 113, 114) #7b7172\n"
     ]
    },
    {
     "data": {
      "image/png": "[encoded data removed]",
      "text/plain": [
       "<matplotlib.figure.Figure at 0x7f461ee55eb8>"
      ]
     },
     "metadata": {},
     "output_type": "display_data"
    },
    {
     "name": "stdout",
     "output_type": "stream",
     "text": [
      "blue rgb (78, 115, 150) #4e7396\n"
     ]
    },
    {
     "data": {
      "image/png": "[encoded data removed]",
      "text/plain": [
       "<matplotlib.figure.Figure at 0x7f461ef24828>"
      ]
     },
     "metadata": {},
     "output_type": "display_data"
    },
    {
     "name": "stdout",
     "output_type": "stream",
     "text": [
      "red rgb (133, 109, 63) #856d3f\n"
     ]
    },
    {
     "data": {
      "image/png": "[encoded data removed]",
      "text/plain": [
       "<matplotlib.figure.Figure at 0x7f461ed8df98>"
      ]
     },
     "metadata": {},
     "output_type": "display_data"
    },
    {
     "name": "stdout",
     "output_type": "stream",
     "text": [
      "continue (y/n) ? y\n",
      "INFO:tensorflow:Using default config.\n",
      "INFO:tensorflow:Using config: {'_save_checkpoints_steps': None, '_save_summary_steps': 100, '_session_config': None, '_save_checkpoints_secs': 600, '_keep_checkpoint_max': 5, '_model_dir': 'gif_model/201', '_keep_checkpoint_every_n_hours': 10000, '_tf_random_seed': 1}\n",
      "--------------------\n",
      "GIF MODEL 2: gif_model/201\n",
      "--------------------\n",
      "WARNING:tensorflow:Input graph does not contain a QueueRunner. That means predict yields forever. This is probably a mistake.\n",
      "INFO:tensorflow:Restoring parameters from gif_model/201/model.ckpt-201\n",
      "orange rgb (186, 157, 110) #ba9d6e\n"
     ]
    },
    {
     "data": {
      "image/png": "[encoded data removed]",
      "text/plain": [
       "<matplotlib.figure.Figure at 0x7f461ee5eac8>"
      ]
     },
     "metadata": {},
     "output_type": "display_data"
    },
    {
     "name": "stdout",
     "output_type": "stream",
     "text": [
      "tensorflow orange rgb (212, 175, 127) #d4af7f\n"
     ]
    },
    {
     "data": {
      "image/png": "[encoded data removed]",
      "text/plain": [
       "<matplotlib.figure.Figure at 0x7f461f3f97f0>"
      ]
     },
     "metadata": {},
     "output_type": "display_data"
    },
    {
     "name": "stdout",
     "output_type": "stream",
     "text": [
      "adfgasdgasd rgb (176, 167, 124) #b0a77c\n"
     ]
    },
    {
     "data": {
      "image/png": "[encoded data removed]",
      "text/plain": [
       "<matplotlib.figure.Figure at 0x7f461e9351d0>"
      ]
     },
     "metadata": {},
     "output_type": "display_data"
    },
    {
     "name": "stdout",
     "output_type": "stream",
     "text": [
      "purple blue rgb (127, 150, 192) #7f96c0\n"
     ]
    },
    {
     "data": {
      "image/png": "[encoded data removed]",
      "text/plain": [
       "<matplotlib.figure.Figure at 0x7f461e886198>"
      ]
     },
     "metadata": {},
     "output_type": "display_data"
    },
    {
     "name": "stdout",
     "output_type": "stream",
     "text": [
      "purple red rgb (151, 111, 95) #976f5f\n"
     ]
    },
    {
     "data": {
      "image/png": "[encoded data removed]",
      "text/plain": [
       "<matplotlib.figure.Figure at 0x7f461e85d780>"
      ]
     },
     "metadata": {},
     "output_type": "display_data"
    },
    {
     "name": "stdout",
     "output_type": "stream",
     "text": [
      "purple rgb (164, 133, 140) #a4858c\n"
     ]
    },
    {
     "data": {
      "image/png": "[encoded data removed]",
      "text/plain": [
       "<matplotlib.figure.Figure at 0x7f461e8bd6d8>"
      ]
     },
     "metadata": {},
     "output_type": "display_data"
    },
    {
     "name": "stdout",
     "output_type": "stream",
     "text": [
      "blue rgb (112, 139, 159) #708b9f\n"
     ]
    },
    {
     "data": {
      "image/png": "[encoded data removed]",
      "text/plain": [
       "<matplotlib.figure.Figure at 0x7f461e9b2f98>"
      ]
     },
     "metadata": {},
     "output_type": "display_data"
    },
    {
     "name": "stdout",
     "output_type": "stream",
     "text": [
      "red rgb (139, 91, 70) #8b5b46\n"
     ]
    },
    {
     "data": {
      "image/png": "[encoded data removed]",
      "text/plain": [
       "<matplotlib.figure.Figure at 0x7f461ed32160>"
      ]
     },
     "metadata": {},
     "output_type": "display_data"
    },
    {
     "name": "stdout",
     "output_type": "stream",
     "text": [
      "continue (y/n) ? y\n",
      "INFO:tensorflow:Using default config.\n",
      "INFO:tensorflow:Using config: {'_save_checkpoints_steps': None, '_save_summary_steps': 100, '_session_config': None, '_save_checkpoints_secs': 600, '_keep_checkpoint_max': 5, '_model_dir': 'gif_model/315', '_keep_checkpoint_every_n_hours': 10000, '_tf_random_seed': 1}\n",
      "--------------------\n",
      "GIF MODEL 3: gif_model/315\n",
      "--------------------\n",
      "WARNING:tensorflow:Input graph does not contain a QueueRunner. That means predict yields forever. This is probably a mistake.\n",
      "INFO:tensorflow:Restoring parameters from gif_model/315/model.ckpt-315\n",
      "orange rgb (196, 133, 95) #c4855f\n"
     ]
    },
    {
     "data": {
      "image/png": "[encoded data removed]",
      "text/plain": [
       "<matplotlib.figure.Figure at 0x7f461ed24400>"
      ]
     },
     "metadata": {},
     "output_type": "display_data"
    },
    {
     "name": "stdout",
     "output_type": "stream",
     "text": [
      "tensorflow orange rgb (201, 148, 122) #c9947a\n"
     ]
    },
    {
     "data": {
      "image/png": "[encoded data removed]",
      "text/plain": [
       "<matplotlib.figure.Figure at 0x7f461f404588>"
      ]
     },
     "metadata": {},
     "output_type": "display_data"
    },
    {
     "name": "stdout",
     "output_type": "stream",
     "text": [
      "adfgasdgasd rgb (172, 161, 131) #aca183\n"
     ]
    },
    {
     "data": {
      "image/png": "[encoded data removed]",
      "text/plain": [
       "<matplotlib.figure.Figure at 0x7f461f9c86a0>"
      ]
     },
     "metadata": {},
     "output_type": "display_data"
    },
    {
     "name": "stdout",
     "output_type": "stream",
     "text": [
      "purple blue rgb (56, 135, 182) #3887b6\n"
     ]
    },
    {
     "data": {
      "image/png": "[encoded data removed]",
      "text/plain": [
       "<matplotlib.figure.Figure at 0x7f4624144e10>"
      ]
     },
     "metadata": {},
     "output_type": "display_data"
    },
    {
     "name": "stdout",
     "output_type": "stream",
     "text": [
      "purple red rgb (149, 39, 67) #952743\n"
     ]
    },
    {
     "data": {
      "image/png": "[encoded data removed]",
      "text/plain": [
       "<matplotlib.figure.Figure at 0x7f462458b2e8>"
      ]
     },
     "metadata": {},
     "output_type": "display_data"
    },
    {
     "name": "stdout",
     "output_type": "stream",
     "text": [
      "purple rgb (139, 107, 130) #8b6b82\n"
     ]
    },
    {
     "data": {
      "image/png": "[encoded data removed]",
      "text/plain": [
       "<matplotlib.figure.Figure at 0x7f461f96ab70>"
      ]
     },
     "metadata": {},
     "output_type": "display_data"
    },
    {
     "name": "stdout",
     "output_type": "stream",
     "text": [
      "blue rgb (73, 131, 158) #49839e\n"
     ]
    },
    {
     "data": {
      "image/png": "[encoded data removed]",
      "text/plain": [
       "<matplotlib.figure.Figure at 0x7f46240dc470>"
      ]
     },
     "metadata": {},
     "output_type": "display_data"
    },
    {
     "name": "stdout",
     "output_type": "stream",
     "text": [
      "red rgb (151, 55, 65) #973741\n"
     ]
    },
    {
     "data": {
      "image/png": "[encoded data removed]",
      "text/plain": [
       "<matplotlib.figure.Figure at 0x7f4625f42518>"
      ]
     },
     "metadata": {},
     "output_type": "display_data"
    },
    {
     "name": "stdout",
     "output_type": "stream",
     "text": [
      "continue (y/n) ? y\n",
      "INFO:tensorflow:Using default config.\n",
      "INFO:tensorflow:Using config: {'_save_checkpoints_steps': None, '_save_summary_steps': 100, '_session_config': None, '_save_checkpoints_secs': 600, '_keep_checkpoint_max': 5, '_model_dir': 'gif_model/415', '_keep_checkpoint_every_n_hours': 10000, '_tf_random_seed': 1}\n",
      "--------------------\n",
      "GIF MODEL 4: gif_model/415\n",
      "--------------------\n",
      "WARNING:tensorflow:Input graph does not contain a QueueRunner. That means predict yields forever. This is probably a mistake.\n",
      "INFO:tensorflow:Restoring parameters from gif_model/415/model.ckpt-415\n",
      "orange rgb (194, 138, 72) #c28a48\n"
     ]
    },
    {
     "data": {
      "image/png": "[encoded data removed]",
      "text/plain": [
       "<matplotlib.figure.Figure at 0x7f462547fa58>"
      ]
     },
     "metadata": {},
     "output_type": "display_data"
    },
    {
     "name": "stdout",
     "output_type": "stream",
     "text": [
      "tensorflow orange rgb (201, 161, 115) #c9a173\n"
     ]
    },
    {
     "data": {
      "image/png": "[encoded data removed]",
      "text/plain": [
       "<matplotlib.figure.Figure at 0x7f4624decb00>"
      ]
     },
     "metadata": {},
     "output_type": "display_data"
    },
    {
     "name": "stdout",
     "output_type": "stream",
     "text": [
      "adfgasdgasd rgb (180, 164, 124) #b4a47c\n"
     ]
    },
    {
     "data": {
      "image/png": "[encoded data removed]",
      "text/plain": [
       "<matplotlib.figure.Figure at 0x7f4624f53780>"
      ]
     },
     "metadata": {},
     "output_type": "display_data"
    },
    {
     "name": "stdout",
     "output_type": "stream",
     "text": [
      "purple blue rgb (90, 122, 195) #5a7ac3\n"
     ]
    },
    {
     "data": {
      "image/png": "[encoded data removed]",
      "text/plain": [
       "<matplotlib.figure.Figure at 0x7f4624e32ef0>"
      ]
     },
     "metadata": {},
     "output_type": "display_data"
    },
    {
     "name": "stdout",
     "output_type": "stream",
     "text": [
      "purple red rgb (229, -12, 16) #e5-c10\n"
     ]
    },
    {
     "data": {
      "image/png": "[encoded data removed]",
      "text/plain": [
       "<matplotlib.figure.Figure at 0x7f4624b8fb38>"
      ]
     },
     "metadata": {},
     "output_type": "display_data"
    },
    {
     "name": "stdout",
     "output_type": "stream",
     "text": [
      "purple rgb (141, 79, 121) #8d4f79\n"
     ]
    },
    {
     "data": {
      "image/png": "[encoded data removed]",
      "text/plain": [
       "<matplotlib.figure.Figure at 0x7f461ff6fcf8>"
      ]
     },
     "metadata": {},
     "output_type": "display_data"
    },
    {
     "name": "stdout",
     "output_type": "stream",
     "text": [
      "blue rgb (82, 122, 169) #527aa9\n"
     ]
    },
    {
     "data": {
      "image/png": "[encoded data removed]",
      "text/plain": [
       "<matplotlib.figure.Figure at 0x7f462405c6d8>"
      ]
     },
     "metadata": {},
     "output_type": "display_data"
    },
    {
     "name": "stdout",
     "output_type": "stream",
     "text": [
      "red rgb (203, 19, 19) #cb1313\n"
     ]
    },
    {
     "data": {
      "image/png": "[encoded data removed]",
      "text/plain": [
       "<matplotlib.figure.Figure at 0x7f461ffe11d0>"
      ]
     },
     "metadata": {},
     "output_type": "display_data"
    },
    {
     "name": "stdout",
     "output_type": "stream",
     "text": [
      "continue (y/n) ? y\n",
      "INFO:tensorflow:Using default config.\n",
      "INFO:tensorflow:Using config: {'_save_checkpoints_steps': None, '_save_summary_steps': 100, '_session_config': None, '_save_checkpoints_secs': 600, '_keep_checkpoint_max': 5, '_model_dir': 'gif_model/529', '_keep_checkpoint_every_n_hours': 10000, '_tf_random_seed': 1}\n",
      "--------------------\n",
      "GIF MODEL 5: gif_model/529\n",
      "--------------------\n",
      "WARNING:tensorflow:Input graph does not contain a QueueRunner. That means predict yields forever. This is probably a mistake.\n",
      "INFO:tensorflow:Restoring parameters from gif_model/529/model.ckpt-529\n",
      "orange rgb (199, 134, 59) #c7863b\n"
     ]
    },
    {
     "data": {
      "image/png": "[encoded data removed]",
      "text/plain": [
       "<matplotlib.figure.Figure at 0x7f461ff36eb8>"
      ]
     },
     "metadata": {},
     "output_type": "display_data"
    },
    {
     "name": "stdout",
     "output_type": "stream",
     "text": [
      "tensorflow orange rgb (200, 145, 99) #c89163\n"
     ]
    },
    {
     "data": {
      "image/png": "[encoded data removed]",
      "text/plain": [
       "<matplotlib.figure.Figure at 0x7f461f5baf60>"
      ]
     },
     "metadata": {},
     "output_type": "display_data"
    },
    {
     "name": "stdout",
     "output_type": "stream",
     "text": [
      "adfgasdgasd rgb (171, 167, 147) #aba793\n"
     ]
    },
    {
     "data": {
      "image/png": "[encoded data removed]",
      "text/plain": [
       "<matplotlib.figure.Figure at 0x7f461f4fe5c0>"
      ]
     },
     "metadata": {},
     "output_type": "display_data"
    },
    {
     "name": "stdout",
     "output_type": "stream",
     "text": [
      "purple blue rgb (136, 154, 208) #889ad0\n"
     ]
    },
    {
     "data": {
      "image/png": "[encoded data removed]",
      "text/plain": [
       "<matplotlib.figure.Figure at 0x7f461f4fe588>"
      ]
     },
     "metadata": {},
     "output_type": "display_data"
    },
    {
     "name": "stdout",
     "output_type": "stream",
     "text": [
      "purple red rgb (168, 19, 44) #a8132c\n"
     ]
    },
    {
     "data": {
      "image/png": "[encoded data removed]",
      "text/plain": [
       "<matplotlib.figure.Figure at 0x7f461faabeb8>"
      ]
     },
     "metadata": {},
     "output_type": "display_data"
    },
    {
     "name": "stdout",
     "output_type": "stream",
     "text": [
      "purple rgb (149, 82, 136) #955288\n"
     ]
    },
    {
     "data": {
      "image/png": "[encoded data removed]",
      "text/plain": [
       "<matplotlib.figure.Figure at 0x7f461f5b16d8>"
      ]
     },
     "metadata": {},
     "output_type": "display_data"
    },
    {
     "name": "stdout",
     "output_type": "stream",
     "text": [
      "blue rgb (127, 147, 179) #7f93b3\n"
     ]
    },
    {
     "data": {
      "image/png": "[encoded data removed]",
      "text/plain": [
       "<matplotlib.figure.Figure at 0x7f461fac0f98>"
      ]
     },
     "metadata": {},
     "output_type": "display_data"
    },
    {
     "name": "stdout",
     "output_type": "stream",
     "text": [
      "red rgb (152, 45, 42) #982d2a\n"
     ]
    },
    {
     "data": {
      "image/png": "[encoded data removed]",
      "text/plain": [
       "<matplotlib.figure.Figure at 0x7f461e823588>"
      ]
     },
     "metadata": {},
     "output_type": "display_data"
    },
    {
     "name": "stdout",
     "output_type": "stream",
     "text": [
      "continue (y/n) ? y\n",
      "INFO:tensorflow:Using default config.\n",
      "INFO:tensorflow:Using config: {'_save_checkpoints_steps': None, '_save_summary_steps': 100, '_session_config': None, '_save_checkpoints_secs': 600, '_keep_checkpoint_max': 5, '_model_dir': 'gif_model/629', '_keep_checkpoint_every_n_hours': 10000, '_tf_random_seed': 1}\n",
      "--------------------\n",
      "GIF MODEL 6: gif_model/629\n",
      "--------------------\n",
      "WARNING:tensorflow:Input graph does not contain a QueueRunner. That means predict yields forever. This is probably a mistake.\n",
      "INFO:tensorflow:Restoring parameters from gif_model/629/model.ckpt-629\n",
      "orange rgb (220, 132, 41) #dc8429\n"
     ]
    },
    {
     "data": {
      "image/png": "[encoded data removed]",
      "text/plain": [
       "<matplotlib.figure.Figure at 0x7f461dd39fd0>"
      ]
     },
     "metadata": {},
     "output_type": "display_data"
    },
    {
     "name": "stdout",
     "output_type": "stream",
     "text": [
      "tensorflow orange rgb (224, 157, 80) #e09d50\n"
     ]
    },
    {
     "data": {
      "image/png": "[encoded data removed]",
      "text/plain": [
       "<matplotlib.figure.Figure at 0x7f461dc026d8>"
      ]
     },
     "metadata": {},
     "output_type": "display_data"
    },
    {
     "name": "stdout",
     "output_type": "stream",
     "text": [
      "adfgasdgasd rgb (167, 177, 145) #a7b191\n"
     ]
    },
    {
     "data": {
      "image/png": "[encoded data removed]",
      "text/plain": [
       "<matplotlib.figure.Figure at 0x7f461ef4e5f8>"
      ]
     },
     "metadata": {},
     "output_type": "display_data"
    },
    {
     "name": "stdout",
     "output_type": "stream",
     "text": [
      "purple blue rgb (89, 103, 157) #59679d\n"
     ]
    },
    {
     "data": {
      "image/png": "[encoded data removed]",
      "text/plain": [
       "<matplotlib.figure.Figure at 0x7f461dbe6eb8>"
      ]
     },
     "metadata": {},
     "output_type": "display_data"
    },
    {
     "name": "stdout",
     "output_type": "stream",
     "text": [
      "purple red rgb (163, 51, 74) #a3334a\n"
     ]
    },
    {
     "data": {
      "image/png": "[encoded data removed]",
      "text/plain": [
       "<matplotlib.figure.Figure at 0x7f461df84128>"
      ]
     },
     "metadata": {},
     "output_type": "display_data"
    },
    {
     "name": "stdout",
     "output_type": "stream",
     "text": [
      "purple rgb (118, 63, 108) #763f6c\n"
     ]
    },
    {
     "data": {
      "image/png": "[encoded data removed]",
      "text/plain": [
       "<matplotlib.figure.Figure at 0x7f461db24978>"
      ]
     },
     "metadata": {},
     "output_type": "display_data"
    },
    {
     "name": "stdout",
     "output_type": "stream",
     "text": [
      "blue rgb (90, 124, 151) #5a7c97\n"
     ]
    },
    {
     "data": {
      "image/png": "[encoded data removed]",
      "text/plain": [
       "<matplotlib.figure.Figure at 0x7f461dbf0c88>"
      ]
     },
     "metadata": {},
     "output_type": "display_data"
    },
    {
     "name": "stdout",
     "output_type": "stream",
     "text": [
      "red rgb (167, 71, 58) #a7473a\n"
     ]
    },
    {
     "data": {
      "image/png": "[encoded data removed]",
      "text/plain": [
       "<matplotlib.figure.Figure at 0x7f461da5ba90>"
      ]
     },
     "metadata": {},
     "output_type": "display_data"
    },
    {
     "name": "stdout",
     "output_type": "stream",
     "text": [
      "continue (y/n) ? y\n",
      "INFO:tensorflow:Using default config.\n",
      "INFO:tensorflow:Using config: {'_save_checkpoints_steps': None, '_save_summary_steps': 100, '_session_config': None, '_save_checkpoints_secs': 600, '_keep_checkpoint_max': 5, '_model_dir': 'gif_model/743', '_keep_checkpoint_every_n_hours': 10000, '_tf_random_seed': 1}\n",
      "--------------------\n",
      "GIF MODEL 7: gif_model/743\n",
      "--------------------\n",
      "WARNING:tensorflow:Input graph does not contain a QueueRunner. That means predict yields forever. This is probably a mistake.\n",
      "INFO:tensorflow:Restoring parameters from gif_model/743/model.ckpt-743\n",
      "orange rgb (212, 104, 20) #d46814\n"
     ]
    },
    {
     "data": {
      "image/png": "[encoded data removed]",
      "text/plain": [
       "<matplotlib.figure.Figure at 0x7f461da39e10>"
      ]
     },
     "metadata": {},
     "output_type": "display_data"
    },
    {
     "name": "stdout",
     "output_type": "stream",
     "text": [
      "tensorflow orange rgb (195, 98, 35) #c36223\n"
     ]
    },
    {
     "data": {
      "image/png": "[encoded data removed]",
      "text/plain": [
       "<matplotlib.figure.Figure at 0x7f461ce61550>"
      ]
     },
     "metadata": {},
     "output_type": "display_data"
    },
    {
     "name": "stdout",
     "output_type": "stream",
     "text": [
      "adfgasdgasd rgb (151, 148, 120) #979478\n"
     ]
    },
    {
     "data": {
      "image/png": "[encoded data removed]",
      "text/plain": [
       "<matplotlib.figure.Figure at 0x7f461c5ea588>"
      ]
     },
     "metadata": {},
     "output_type": "display_data"
    },
    {
     "name": "stdout",
     "output_type": "stream",
     "text": [
      "purple blue rgb (81, 108, 190) #516cbe\n"
     ]
    },
    {
     "data": {
      "image/png": "[encoded data removed]",
      "text/plain": [
       "<matplotlib.figure.Figure at 0x7f461c55fc50>"
      ]
     },
     "metadata": {},
     "output_type": "display_data"
    },
    {
     "name": "stdout",
     "output_type": "stream",
     "text": [
      "purple red rgb (124, 69, 97) #7c4561\n"
     ]
    },
    {
     "data": {
      "image/png": "[encoded data removed]",
      "text/plain": [
       "<matplotlib.figure.Figure at 0x7f461c536390>"
      ]
     },
     "metadata": {},
     "output_type": "display_data"
    },
    {
     "name": "stdout",
     "output_type": "stream",
     "text": [
      "purple rgb (112, 69, 133) #704585\n"
     ]
    },
    {
     "data": {
      "image/png": "[encoded data removed]",
      "text/plain": [
       "<matplotlib.figure.Figure at 0x7f461c495ba8>"
      ]
     },
     "metadata": {},
     "output_type": "display_data"
    },
    {
     "name": "stdout",
     "output_type": "stream",
     "text": [
      "blue rgb (81, 121, 165) #5179a5\n"
     ]
    },
    {
     "data": {
      "image/png": "[encoded data removed]",
      "text/plain": [
       "<matplotlib.figure.Figure at 0x7f461c495b38>"
      ]
     },
     "metadata": {},
     "output_type": "display_data"
    },
    {
     "name": "stdout",
     "output_type": "stream",
     "text": [
      "red rgb (151, 64, 42) #97402a\n"
     ]
    },
    {
     "data": {
      "image/png": "[encoded data removed]",
      "text/plain": [
       "<matplotlib.figure.Figure at 0x7f461c475eb8>"
      ]
     },
     "metadata": {},
     "output_type": "display_data"
    },
    {
     "name": "stdout",
     "output_type": "stream",
     "text": [
      "continue (y/n) ? y\n",
      "INFO:tensorflow:Using default config.\n",
      "INFO:tensorflow:Using config: {'_save_checkpoints_steps': None, '_save_summary_steps': 100, '_session_config': None, '_save_checkpoints_secs': 600, '_keep_checkpoint_max': 5, '_model_dir': 'gif_model/843', '_keep_checkpoint_every_n_hours': 10000, '_tf_random_seed': 1}\n",
      "--------------------\n",
      "GIF MODEL 8: gif_model/843\n",
      "--------------------\n",
      "WARNING:tensorflow:Input graph does not contain a QueueRunner. That means predict yields forever. This is probably a mistake.\n",
      "INFO:tensorflow:Restoring parameters from gif_model/843/model.ckpt-843\n",
      "orange rgb (176, 108, 59) #b06c3b\n"
     ]
    },
    {
     "data": {
      "image/png": "[encoded data removed]",
      "text/plain": [
       "<matplotlib.figure.Figure at 0x7f461c07a390>"
      ]
     },
     "metadata": {},
     "output_type": "display_data"
    },
    {
     "name": "stdout",
     "output_type": "stream",
     "text": [
      "tensorflow orange rgb (189, 121, 78) #bd794e\n"
     ]
    },
    {
     "data": {
      "image/png": "[encoded data removed]",
      "text/plain": [
       "<matplotlib.figure.Figure at 0x7f461d995d30>"
      ]
     },
     "metadata": {},
     "output_type": "display_data"
    },
    {
     "name": "stdout",
     "output_type": "stream",
     "text": [
      "adfgasdgasd rgb (159, 155, 132) #9f9b84\n"
     ]
    },
    {
     "data": {
      "image/png": "[encoded data removed]",
      "text/plain": [
       "<matplotlib.figure.Figure at 0x7f461cda0400>"
      ]
     },
     "metadata": {},
     "output_type": "display_data"
    },
    {
     "name": "stdout",
     "output_type": "stream",
     "text": [
      "purple blue rgb (94, 125, 186) #5e7dba\n"
     ]
    },
    {
     "data": {
      "image/png": "[encoded data removed]",
      "text/plain": [
       "<matplotlib.figure.Figure at 0x7f461cda0ac8>"
      ]
     },
     "metadata": {},
     "output_type": "display_data"
    },
    {
     "name": "stdout",
     "output_type": "stream",
     "text": [
      "purple red rgb (117, 67, 70) #754346\n"
     ]
    },
    {
     "data": {
      "image/png": "[encoded data removed]",
      "text/plain": [
       "<matplotlib.figure.Figure at 0x7f461cccb6a0>"
      ]
     },
     "metadata": {},
     "output_type": "display_data"
    },
    {
     "name": "stdout",
     "output_type": "stream",
     "text": [
      "purple rgb (148, 89, 156) #94599c\n"
     ]
    },
    {
     "data": {
      "image/png": "[encoded data removed]",
      "text/plain": [
       "<matplotlib.figure.Figure at 0x7f461cdc2b38>"
      ]
     },
     "metadata": {},
     "output_type": "display_data"
    },
    {
     "name": "stdout",
     "output_type": "stream",
     "text": [
      "blue rgb (83, 134, 177) #5386b1\n"
     ]
    },
    {
     "data": {
      "image/png": "[encoded data removed]",
      "text/plain": [
       "<matplotlib.figure.Figure at 0x7f461ccb7f60>"
      ]
     },
     "metadata": {},
     "output_type": "display_data"
    },
    {
     "name": "stdout",
     "output_type": "stream",
     "text": [
      "red rgb (119, 57, 42) #77392a\n"
     ]
    },
    {
     "data": {
      "image/png": "[encoded data removed]",
      "text/plain": [
       "<matplotlib.figure.Figure at 0x7f461cd057f0>"
      ]
     },
     "metadata": {},
     "output_type": "display_data"
    },
    {
     "name": "stdout",
     "output_type": "stream",
     "text": [
      "continue (y/n) ? y\n",
      "INFO:tensorflow:Using default config.\n",
      "INFO:tensorflow:Using config: {'_save_checkpoints_steps': None, '_save_summary_steps': 100, '_session_config': None, '_save_checkpoints_secs': 600, '_keep_checkpoint_max': 5, '_model_dir': 'gif_model/957', '_keep_checkpoint_every_n_hours': 10000, '_tf_random_seed': 1}\n",
      "--------------------\n",
      "GIF MODEL 9: gif_model/957\n",
      "--------------------\n",
      "WARNING:tensorflow:Input graph does not contain a QueueRunner. That means predict yields forever. This is probably a mistake.\n",
      "INFO:tensorflow:Restoring parameters from gif_model/957/model.ckpt-957\n",
      "orange rgb (195, 112, 57) #c37039\n"
     ]
    },
    {
     "data": {
      "image/png": "[encoded data removed]",
      "text/plain": [
       "<matplotlib.figure.Figure at 0x7f461c8b6ba8>"
      ]
     },
     "metadata": {},
     "output_type": "display_data"
    },
    {
     "name": "stdout",
     "output_type": "stream",
     "text": [
      "tensorflow orange rgb (190, 128, 95) #be805f\n"
     ]
    },
    {
     "data": {
      "image/png": "[encoded data removed]",
      "text/plain": [
       "<matplotlib.figure.Figure at 0x7f461c8196a0>"
      ]
     },
     "metadata": {},
     "output_type": "display_data"
    },
    {
     "name": "stdout",
     "output_type": "stream",
     "text": [
      "adfgasdgasd rgb (164, 152, 136) #a49888\n"
     ]
    },
    {
     "data": {
      "image/png": "[encoded data removed]",
      "text/plain": [
       "<matplotlib.figure.Figure at 0x7f461c7ad748>"
      ]
     },
     "metadata": {},
     "output_type": "display_data"
    },
    {
     "name": "stdout",
     "output_type": "stream",
     "text": [
      "purple blue rgb (88, 81, 171) #5851ab\n"
     ]
    },
    {
     "data": {
      "image/png": "[encoded data removed]",
      "text/plain": [
       "<matplotlib.figure.Figure at 0x7f461c70d0b8>"
      ]
     },
     "metadata": {},
     "output_type": "display_data"
    },
    {
     "name": "stdout",
     "output_type": "stream",
     "text": [
      "purple red rgb (136, 84, 146) #885492\n"
     ]
    },
    {
     "data": {
      "image/png": "[encoded data removed]",
      "text/plain": [
       "<matplotlib.figure.Figure at 0x7f461c6f7470>"
      ]
     },
     "metadata": {},
     "output_type": "display_data"
    },
    {
     "name": "stdout",
     "output_type": "stream",
     "text": [
      "purple rgb (127, 64, 168) #7f40a8\n"
     ]
    },
    {
     "data": {
      "image/png": "[encoded data removed]",
      "text/plain": [
       "<matplotlib.figure.Figure at 0x7f461c753390>"
      ]
     },
     "metadata": {},
     "output_type": "display_data"
    },
    {
     "name": "stdout",
     "output_type": "stream",
     "text": [
      "blue rgb (62, 121, 170) #3e79aa\n"
     ]
    },
    {
     "data": {
      "image/png": "[encoded data removed]",
      "text/plain": [
       "<matplotlib.figure.Figure at 0x7f461c7d8e80>"
      ]
     },
     "metadata": {},
     "output_type": "display_data"
    },
    {
     "name": "stdout",
     "output_type": "stream",
     "text": [
      "red rgb (162, 48, 64) #a23040\n"
     ]
    },
    {
     "data": {
      "image/png": "[encoded data removed]",
      "text/plain": [
       "<matplotlib.figure.Figure at 0x7f461cb55ba8>"
      ]
     },
     "metadata": {},
     "output_type": "display_data"
    },
    {
     "name": "stdout",
     "output_type": "stream",
     "text": [
      "continue (y/n) ? y\n",
      "INFO:tensorflow:Using default config.\n",
      "INFO:tensorflow:Using config: {'_save_checkpoints_steps': None, '_save_summary_steps': 100, '_session_config': None, '_save_checkpoints_secs': 600, '_keep_checkpoint_max': 5, '_model_dir': 'gif_model/1285', '_keep_checkpoint_every_n_hours': 10000, '_tf_random_seed': 1}\n",
      "--------------------\n",
      "GIF MODEL 10: gif_model/1285\n",
      "--------------------\n",
      "WARNING:tensorflow:Input graph does not contain a QueueRunner. That means predict yields forever. This is probably a mistake.\n",
      "INFO:tensorflow:Restoring parameters from gif_model/1285/model.ckpt-1285\n",
      "orange rgb (216, 103, 38) #d86726\n"
     ]
    },
    {
     "data": {
      "image/png": "[encoded data removed]",
      "text/plain": [
       "<matplotlib.figure.Figure at 0x7f461c3e72e8>"
      ]
     },
     "metadata": {},
     "output_type": "display_data"
    },
    {
     "name": "stdout",
     "output_type": "stream",
     "text": [
      "tensorflow orange rgb (221, 135, 79) #dd874f\n"
     ]
    },
    {
     "data": {
      "image/png": "[encoded data removed]",
      "text/plain": [
       "<matplotlib.figure.Figure at 0x7f461cb8ca58>"
      ]
     },
     "metadata": {},
     "output_type": "display_data"
    },
    {
     "name": "stdout",
     "output_type": "stream",
     "text": [
      "adfgasdgasd rgb (152, 152, 134) #989886\n"
     ]
    },
    {
     "data": {
      "image/png": "[encoded data removed]",
      "text/plain": [
       "<matplotlib.figure.Figure at 0x7f461c57da58>"
      ]
     },
     "metadata": {},
     "output_type": "display_data"
    },
    {
     "name": "stdout",
     "output_type": "stream",
     "text": [
      "purple blue rgb (81, 107, 170) #516baa\n"
     ]
    },
    {
     "data": {
      "image/png": "[encoded data removed]",
      "text/plain": [
       "<matplotlib.figure.Figure at 0x7f461c57da20>"
      ]
     },
     "metadata": {},
     "output_type": "display_data"
    },
    {
     "name": "stdout",
     "output_type": "stream",
     "text": [
      "purple red rgb (127, 66, 82) #7f4252\n"
     ]
    },
    {
     "data": {
      "image/png": "[encoded data removed]",
      "text/plain": [
       "<matplotlib.figure.Figure at 0x7f461da62668>"
      ]
     },
     "metadata": {},
     "output_type": "display_data"
    },
    {
     "name": "stdout",
     "output_type": "stream",
     "text": [
      "purple rgb (128, 76, 140) #804c8c\n"
     ]
    },
    {
     "data": {
      "image/png": "[encoded data removed]",
      "text/plain": [
       "<matplotlib.figure.Figure at 0x7f461c45ef28>"
      ]
     },
     "metadata": {},
     "output_type": "display_data"
    },
    {
     "name": "stdout",
     "output_type": "stream",
     "text": [
      "blue rgb (71, 126, 175) #477eaf\n"
     ]
    },
    {
     "data": {
      "image/png": "[encoded data removed]",
      "text/plain": [
       "<matplotlib.figure.Figure at 0x7f461dff7a20>"
      ]
     },
     "metadata": {},
     "output_type": "display_data"
    },
    {
     "name": "stdout",
     "output_type": "stream",
     "text": [
      "red rgb (151, 39, 44) #97272c\n"
     ]
    },
    {
     "data": {
      "image/png": "[encoded data removed]",
      "text/plain": [
       "<matplotlib.figure.Figure at 0x7f461f56b9e8>"
      ]
     },
     "metadata": {},
     "output_type": "display_data"
    },
    {
     "name": "stdout",
     "output_type": "stream",
     "text": [
      "continue (y/n) ? y\n",
      "INFO:tensorflow:Using default config.\n",
      "INFO:tensorflow:Using config: {'_save_checkpoints_steps': None, '_save_summary_steps': 100, '_session_config': None, '_save_checkpoints_secs': 600, '_keep_checkpoint_max': 5, '_model_dir': 'gif_model/1485', '_keep_checkpoint_every_n_hours': 10000, '_tf_random_seed': 1}\n",
      "--------------------\n",
      "GIF MODEL 11: gif_model/1485\n",
      "--------------------\n",
      "WARNING:tensorflow:Input graph does not contain a QueueRunner. That means predict yields forever. This is probably a mistake.\n",
      "INFO:tensorflow:Restoring parameters from gif_model/1485/model.ckpt-1485\n",
      "orange rgb (233, 118, 30) #e9761e\n"
     ]
    },
    {
     "data": {
      "image/png": "[encoded data removed]",
      "text/plain": [
       "<matplotlib.figure.Figure at 0x7f461ff585c0>"
      ]
     },
     "metadata": {},
     "output_type": "display_data"
    },
    {
     "name": "stdout",
     "output_type": "stream",
     "text": [
      "tensorflow orange rgb (229, 137, 54) #e58936\n"
     ]
    },
    {
     "data": {
      "image/png": "[encoded data removed]",
      "text/plain": [
       "<matplotlib.figure.Figure at 0x7f461ff52f28>"
      ]
     },
     "metadata": {},
     "output_type": "display_data"
    },
    {
     "name": "stdout",
     "output_type": "stream",
     "text": [
      "adfgasdgasd rgb (180, 156, 136) #b49c88\n"
     ]
    },
    {
     "data": {
      "image/png": "[encoded data removed]",
      "text/plain": [
       "<matplotlib.figure.Figure at 0x7f461fb0d048>"
      ]
     },
     "metadata": {},
     "output_type": "display_data"
    },
    {
     "name": "stdout",
     "output_type": "stream",
     "text": [
      "purple blue rgb (101, 116, 184) #6574b8\n"
     ]
    },
    {
     "data": {
      "image/png": "[encoded data removed]",
      "text/plain": [
       "<matplotlib.figure.Figure at 0x7f462517ac18>"
      ]
     },
     "metadata": {},
     "output_type": "display_data"
    },
    {
     "name": "stdout",
     "output_type": "stream",
     "text": [
      "purple red rgb (174, 58, 67) #ae3a43\n"
     ]
    },
    {
     "data": {
      "image/png": "[encoded data removed]",
      "text/plain": [
       "<matplotlib.figure.Figure at 0x7f46253399e8>"
      ]
     },
     "metadata": {},
     "output_type": "display_data"
    },
    {
     "name": "stdout",
     "output_type": "stream",
     "text": [
      "purple rgb (141, 80, 149) #8d5095\n"
     ]
    },
    {
     "data": {
      "image/png": "[encoded data removed]",
      "text/plain": [
       "<matplotlib.figure.Figure at 0x7f4624eb44a8>"
      ]
     },
     "metadata": {},
     "output_type": "display_data"
    },
    {
     "name": "stdout",
     "output_type": "stream",
     "text": [
      "blue rgb (99, 137, 177) #6389b1\n"
     ]
    },
    {
     "data": {
      "image/png": "[encoded data removed]",
      "text/plain": [
       "<matplotlib.figure.Figure at 0x7f4625d92080>"
      ]
     },
     "metadata": {},
     "output_type": "display_data"
    },
    {
     "name": "stdout",
     "output_type": "stream",
     "text": [
      "red rgb (194, 35, 39) #c22327\n"
     ]
    },
    {
     "data": {
      "image/png": "[encoded data removed]",
      "text/plain": [
       "<matplotlib.figure.Figure at 0x7f4625420f28>"
      ]
     },
     "metadata": {},
     "output_type": "display_data"
    },
    {
     "name": "stdout",
     "output_type": "stream",
     "text": [
      "continue (y/n) ? y\n",
      "INFO:tensorflow:Using default config.\n",
      "INFO:tensorflow:Using config: {'_save_checkpoints_steps': None, '_save_summary_steps': 100, '_session_config': None, '_save_checkpoints_secs': 600, '_keep_checkpoint_max': 5, '_model_dir': 'gif_model/1926', '_keep_checkpoint_every_n_hours': 10000, '_tf_random_seed': 1}\n",
      "--------------------\n",
      "GIF MODEL 12: gif_model/1926\n",
      "--------------------\n",
      "WARNING:tensorflow:Input graph does not contain a QueueRunner. That means predict yields forever. This is probably a mistake.\n",
      "INFO:tensorflow:Restoring parameters from gif_model/1926/model.ckpt-1926\n",
      "orange rgb (237, 115, 40) #ed7328\n"
     ]
    },
    {
     "data": {
      "image/png": "[encoded data removed]",
      "text/plain": [
       "<matplotlib.figure.Figure at 0x7f462596a320>"
      ]
     },
     "metadata": {},
     "output_type": "display_data"
    },
    {
     "name": "stdout",
     "output_type": "stream",
     "text": [
      "tensorflow orange rgb (243, 146, 65) #f39241\n"
     ]
    },
    {
     "data": {
      "image/png": "[encoded data removed]",
      "text/plain": [
       "<matplotlib.figure.Figure at 0x7f461f9a3940>"
      ]
     },
     "metadata": {},
     "output_type": "display_data"
    },
    {
     "name": "stdout",
     "output_type": "stream",
     "text": [
      "adfgasdgasd rgb (156, 163, 154) #9ca39a\n"
     ]
    },
    {
     "data": {
      "image/png": "[encoded data removed]",
      "text/plain": [
       "<matplotlib.figure.Figure at 0x7f461f56fd68>"
      ]
     },
     "metadata": {},
     "output_type": "display_data"
    },
    {
     "name": "stdout",
     "output_type": "stream",
     "text": [
      "purple blue rgb (80, 78, 276) #504e114\n"
     ]
    },
    {
     "data": {
      "image/png": "[encoded data removed]",
      "text/plain": [
       "<matplotlib.figure.Figure at 0x7f461ed962b0>"
      ]
     },
     "metadata": {},
     "output_type": "display_data"
    },
    {
     "name": "stdout",
     "output_type": "stream",
     "text": [
      "purple red rgb (140, 57, 68) #8c3944\n"
     ]
    },
    {
     "data": {
      "image/png": "[encoded data removed]",
      "text/plain": [
       "<matplotlib.figure.Figure at 0x7f461ecc4438>"
      ]
     },
     "metadata": {},
     "output_type": "display_data"
    },
    {
     "name": "stdout",
     "output_type": "stream",
     "text": [
      "purple rgb (156, 29, 226) #9c1de2\n"
     ]
    },
    {
     "data": {
      "image/png": "[encoded data removed]",
      "text/plain": [
       "<matplotlib.figure.Figure at 0x7f461e883748>"
      ]
     },
     "metadata": {},
     "output_type": "display_data"
    },
    {
     "name": "stdout",
     "output_type": "stream",
     "text": [
      "blue rgb (67, 113, 194) #4371c2\n"
     ]
    },
    {
     "data": {
      "image/png": "[encoded data removed]",
      "text/plain": [
       "<matplotlib.figure.Figure at 0x7f461e883ef0>"
      ]
     },
     "metadata": {},
     "output_type": "display_data"
    },
    {
     "name": "stdout",
     "output_type": "stream",
     "text": [
      "red rgb (193, 3, 9) #c10309\n"
     ]
    },
    {
     "data": {
      "image/png": "[encoded data removed]",
      "text/plain": [
       "<matplotlib.figure.Figure at 0x7f461f5872b0>"
      ]
     },
     "metadata": {},
     "output_type": "display_data"
    },
    {
     "name": "stdout",
     "output_type": "stream",
     "text": [
      "continue (y/n) ? y\n",
      "INFO:tensorflow:Using default config.\n",
      "INFO:tensorflow:Using config: {'_save_checkpoints_steps': None, '_save_summary_steps': 100, '_session_config': None, '_save_checkpoints_secs': 600, '_keep_checkpoint_max': 5, '_model_dir': 'gif_model/2354', '_keep_checkpoint_every_n_hours': 10000, '_tf_random_seed': 1}\n",
      "--------------------\n",
      "GIF MODEL 13: gif_model/2354\n",
      "--------------------\n",
      "WARNING:tensorflow:Input graph does not contain a QueueRunner. That means predict yields forever. This is probably a mistake.\n",
      "INFO:tensorflow:Restoring parameters from gif_model/2354/model.ckpt-2354\n",
      "orange rgb (232, 115, 47) #e8732f\n"
     ]
    },
    {
     "data": {
      "image/png": "[encoded data removed]",
      "text/plain": [
       "<matplotlib.figure.Figure at 0x7f46016b85f8>"
      ]
     },
     "metadata": {},
     "output_type": "display_data"
    },
    {
     "name": "stdout",
     "output_type": "stream",
     "text": [
      "tensorflow orange rgb (230, 140, 81) #e68c51\n"
     ]
    },
    {
     "data": {
      "image/png": "[encoded data removed]",
      "text/plain": [
       "<matplotlib.figure.Figure at 0x7f46015ed128>"
      ]
     },
     "metadata": {},
     "output_type": "display_data"
    },
    {
     "name": "stdout",
     "output_type": "stream",
     "text": [
      "adfgasdgasd rgb (168, 170, 164) #a8aaa4\n"
     ]
    },
    {
     "data": {
      "image/png": "[encoded data removed]",
      "text/plain": [
       "<matplotlib.figure.Figure at 0x7f460155a128>"
      ]
     },
     "metadata": {},
     "output_type": "display_data"
    },
    {
     "name": "stdout",
     "output_type": "stream",
     "text": [
      "purple blue rgb (45, 23, 202) #2d17ca\n"
     ]
    },
    {
     "data": {
      "image/png": "[encoded data removed]",
      "text/plain": [
       "<matplotlib.figure.Figure at 0x7f46015394a8>"
      ]
     },
     "metadata": {},
     "output_type": "display_data"
    },
    {
     "name": "stdout",
     "output_type": "stream",
     "text": [
      "purple red rgb (183, 25, 46) #b7192e\n"
     ]
    },
    {
     "data": {
      "image/png": "[encoded data removed]",
      "text/plain": [
       "<matplotlib.figure.Figure at 0x7f4601496438>"
      ]
     },
     "metadata": {},
     "output_type": "display_data"
    },
    {
     "name": "stdout",
     "output_type": "stream",
     "text": [
      "purple rgb (142, 25, 144) #8e1990\n"
     ]
    },
    {
     "data": {
      "image/png": "[encoded data removed]",
      "text/plain": [
       "<matplotlib.figure.Figure at 0x7f46014735f8>"
      ]
     },
     "metadata": {},
     "output_type": "display_data"
    },
    {
     "name": "stdout",
     "output_type": "stream",
     "text": [
      "blue rgb (18, 79, 176) #124fb0\n"
     ]
    },
    {
     "data": {
      "image/png": "[encoded data removed]",
      "text/plain": [
       "<matplotlib.figure.Figure at 0x7f460140e2b0>"
      ]
     },
     "metadata": {},
     "output_type": "display_data"
    },
    {
     "name": "stdout",
     "output_type": "stream",
     "text": [
      "red rgb (200, 13, 25) #c80d19\n"
     ]
    },
    {
     "data": {
      "image/png": "[encoded data removed]",
      "text/plain": [
       "<matplotlib.figure.Figure at 0x7f46013b2470>"
      ]
     },
     "metadata": {},
     "output_type": "display_data"
    },
    {
     "name": "stdout",
     "output_type": "stream",
     "text": [
      "continue (y/n) ? y\n"
     ]
    }
   ],
   "source": [
    "gif_model = ['1', '101', '201', '315', '415', '529', '629', '743', '843', '957', '1285', '1485', '1926', '2354']\n",
    "\n",
    "for i in range(len(gif_model)):\n",
    "    pre_estimator = tf.estimator.Estimator(model_dir='gif_model/' + gif_model[i], model_fn=model_fn)\n",
    "    preds = pre_estimator.predict(input_fn=my_test_input_fn)\n",
    "\n",
    "    color_names = _get_csv_column(MY_TEST_INPUT, 'name')\n",
    "\n",
    "    print('-' * 20)\n",
    "    print('GIF MODEL %d: gif_model/%s' % (i, gif_model[i]))\n",
    "    print('-' * 20)\n",
    "    for p, name in zip(preds, color_names):\n",
    "        color = tuple(map(int, p * 255))\n",
    "        hex_color = '#%02x%02x%02x' % (color)\n",
    "        print(name, 'rgb', color, hex_color)\n",
    "        _plot_rgb(p)\n",
    "    \n",
    "    c = input('continue (y/n) ? ')\n",
    "    if c == 'n':\n",
    "        break\n",
    "    elif c != 'y':\n",
    "        print('%s is not valid, but its considered an yes' % c)"
   ]
  }
 ],
 "metadata": {
  "colab": {
   "default_view": {},
   "last_runtime": {
    "build_target": "//experimental/users/jamieas/transform_colab:notebook",
    "kind": "private"
   },
   "name": "Copy of CustomEstimator.ipynb",
   "provenance": [
    {
     "file_id": "0BwN-JPfIIHwgdFkwUTVIWTQwU00",
     "timestamp": 1496845355496
    }
   ],
   "version": "0.3.2",
   "views": {}
  },
  "kernelspec": {
   "display_name": "Python 3",
   "language": "python",
   "name": "python3"
  },
  "language_info": {
   "codemirror_mode": {
    "name": "ipython",
    "version": 3
   },
   "file_extension": ".py",
   "mimetype": "text/x-python",
   "name": "python",
   "nbconvert_exporter": "python",
   "pygments_lexer": "ipython3",
   "version": "3.5.2"
  }
 },
 "nbformat": 4,
 "nbformat_minor": 1
}
