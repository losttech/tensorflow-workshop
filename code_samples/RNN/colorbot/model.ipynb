{
 "cells": [
  {
   "cell_type": "markdown",
   "metadata": {},
   "source": [
    "## Dependencies"
   ]
  },
  {
   "cell_type": "code",
   "execution_count": 1,
   "metadata": {
    "colab": {
     "autoexec": {
      "startup": false,
      "wait_interval": 0
     }
    },
    "colab_type": "code",
    "collapsed": true,
    "id": "mDT8S9C9CYtr"
   },
   "outputs": [],
   "source": [
    "# Tensorflow\n",
    "import tensorflow as tf\n",
    "\n",
    "# Feeding function for enqueue data\n",
    "# \n",
    "from tensorflow.python.estimator.inputs.queues import feeding_functions as ff\n",
    "\n",
    "# Rnn common functions\n",
    "from tensorflow.contrib.learn.python.learn.estimators import rnn_common\n",
    "\n",
    "# Run an experiment\n",
    "from tensorflow.contrib.learn.python.learn import learn_runner\n",
    "\n",
    "# Input function\n",
    "from tensorflow.python.estimator.inputs import numpy_io\n",
    "\n",
    "# Helpers for data processing\n",
    "import pandas as pd\n",
    "import numpy as np\n",
    "\n",
    "# Plot images with pyplot\n",
    "%matplotlib inline\n",
    "from matplotlib import pyplot as plt"
   ]
  },
  {
   "cell_type": "markdown",
   "metadata": {},
   "source": [
    "## Parameters"
   ]
  },
  {
   "cell_type": "code",
   "execution_count": 2,
   "metadata": {
    "colab": {
     "autoexec": {
      "startup": false,
      "wait_interval": 0
     }
    },
    "colab_type": "code",
    "collapsed": true,
    "id": "UrAyWt23AtCM"
   },
   "outputs": [],
   "source": [
    "# Data files\n",
    "TRAIN_INPUT = 'data/train.csv'\n",
    "TEST_INPUT = 'data/test.csv'\n",
    "MY_TEST_INPUT = 'data/mytest.csv'\n",
    "\n",
    "# Parameters for training\n",
    "STEPS = 10000\n",
    "BATCH_SIZE = 64\n",
    "\n",
    "# Parameters for data processing\n",
    "CHARACTERS = [chr(i) for i in range(256)]\n",
    "\n",
    "SEQUENCE_LENGTH_KEY = 'sequence_length'\n",
    "COLOR_NAME_KEY = 'color_name'\n",
    "RGB_KEY = 'rgb'"
   ]
  },
  {
   "cell_type": "markdown",
   "metadata": {},
   "source": [
    "## Helper functions"
   ]
  },
  {
   "cell_type": "code",
   "execution_count": 3,
   "metadata": {
    "colab": {
     "autoexec": {
      "startup": false,
      "wait_interval": 0
     }
    },
    "colab_type": "code",
    "collapsed": true,
    "id": "0dlZ9C27M-bS"
   },
   "outputs": [],
   "source": [
    "# This function creates a sparse tensor in the following way, given:\n",
    "# indices = [[0, 0], [1, 1], [2, 2]]\n",
    "# values = [1, 2, 3]\n",
    "# dense_shape = [3, 4]\n",
    "#\n",
    "# The output will be a sparse tensor that represents this dense tensor:\n",
    "# [ \n",
    "#   [1, 0, 0, 0]\n",
    "#   [0, 2, 0, 0]\n",
    "#   [0, 0, 3, 0]\n",
    "# ]\n",
    "#\n",
    "# We're using this to generate a Sparse tensor that can be easily\n",
    "# formated in a one hot representation.\n",
    "# More at: https://www.tensorflow.org/api_docs/python/tf/SparseTensor\n",
    "def _sparse_string_to_index(sp, mapping):\n",
    "    return tf.SparseTensor(indices=sp.indices,\n",
    "                           values=tf.contrib.lookup.string_to_index(sp.values,\n",
    "                                                                    mapping),\n",
    "                           dense_shape=sp.dense_shape)\n",
    "\n",
    "# Returns the column values from a CSV file as a list\n",
    "def _get_csv_column(csv_file, column_name):\n",
    "    with open(csv_file, 'r') as f:\n",
    "        df = pd.read_csv(f)\n",
    "        return df[column_name].tolist()\n",
    "\n",
    "# Plot a color image\n",
    "def _plot_rgb(rgb):\n",
    "    data = [[rgb]]\n",
    "    plt.figure(figsize=(2,2))\n",
    "    plt.imshow(data, interpolation='nearest')\n",
    "    plt.show()"
   ]
  },
  {
   "cell_type": "markdown",
   "metadata": {},
   "source": [
    "## Input functions"
   ]
  },
  {
   "cell_type": "code",
   "execution_count": 4,
   "metadata": {
    "collapsed": true
   },
   "outputs": [],
   "source": [
    "# Input function used for training and testing                                                \n",
    "def get_input_fn(csv_file, batch_size, epochs=1):\n",
    "    with open(csv_file, 'r') as f:\n",
    "        df = pd.read_csv(f)\n",
    "        \n",
    "        # Sequence length is used by the Dynamic RNN\n",
    "        # to dynamically unroll the graph :D!\n",
    "        df['sequence_length'] = df.name.str.len().astype(np.int32)\n",
    "\n",
    "        def input_fn():\n",
    "            # Using queue with multiple threads to make it scalable\n",
    "            pandas_queue = ff._enqueue_data(df,\n",
    "                                            capacity=1024,\n",
    "                                            shuffle=True,\n",
    "                                            min_after_dequeue=256,\n",
    "                                            num_threads=4,\n",
    "                                            enqueue_size=16,\n",
    "                                            num_epochs=epochs)\n",
    "\n",
    "            _, color_name, r, g, b, seq_len = pandas_queue.dequeue_up_to(batch_size)\n",
    "\n",
    "            # Split strings into chars\n",
    "            split_color_name = tf.string_split(color_name, delimiter='')\n",
    "            # Creating a tf constant to hold the map char -> index\n",
    "            # this is need to create the sparse tensor and after the one hot encode\n",
    "            mapping = tf.constant(CHARACTERS, name=\"mapping\")\n",
    "            # Names represented in a sparse tensor\n",
    "            integerized_color_name = _sparse_string_to_index(split_color_name, mapping)\n",
    "\n",
    "            # Tensor of normalized RGB values\n",
    "            rgb = tf.to_float(tf.stack([r, g, b], axis=1)) / 255.0\n",
    "\n",
    "            # Generates batcheds\n",
    "            batched = tf.train.shuffle_batch({COLOR_NAME_KEY: integerized_color_name,\n",
    "                                              SEQUENCE_LENGTH_KEY: seq_len,\n",
    "                                              RGB_KEY: rgb},\n",
    "                                             batch_size,\n",
    "                                             min_after_dequeue=100,\n",
    "                                             num_threads=4,\n",
    "                                             capacity=1000,\n",
    "                                             enqueue_many=True,\n",
    "                                             allow_smaller_final_batch=True)\n",
    "            label = batched.pop(RGB_KEY)\n",
    "            return batched, label\n",
    "    return input_fn\n",
    "\n",
    "# Creating my own input function for a custom CSV file\n",
    "# it's simpler than the input_fn above but just used for small tests\n",
    "def get_my_input_fn():\n",
    "    def _input_fn():\n",
    "        with open(MY_TEST_INPUT, 'r') as f:\n",
    "            df = pd.read_csv(f)\n",
    "            df['sequence_length'] = df.name.str.len().astype(np.int32)\n",
    "\n",
    "            color_name = df.name.tolist()\n",
    "    \n",
    "            split_color_name = tf.string_split(color_name, delimiter='')\n",
    "            mapping = tf.constant(CHARACTERS, name=\"mapping\")\n",
    "            integerized_color_name = _sparse_string_to_index(split_color_name, mapping)\n",
    "\n",
    "            x = {COLOR_NAME_KEY: integerized_color_name, SEQUENCE_LENGTH_KEY: df.sequence_length.tolist()}\n",
    "\n",
    "            y = np.asarray([[0, 0, 0]], dtype=np.float32)\n",
    "\n",
    "            return x, y\n",
    "    return _input_fn"
   ]
  },
  {
   "cell_type": "code",
   "execution_count": 5,
   "metadata": {
    "colab": {
     "autoexec": {
      "startup": false,
      "wait_interval": 0
     }
    },
    "colab_type": "code",
    "collapsed": true,
    "id": "m5UJyvW5P0Sy"
   },
   "outputs": [],
   "source": [
    "train_input_fn = get_input_fn(TRAIN_INPUT, BATCH_SIZE, None)\n",
    "test_input_fn = get_input_fn(TEST_INPUT, BATCH_SIZE)\n",
    "my_test_input_fn = get_my_input_fn()"
   ]
  },
  {
   "cell_type": "code",
   "execution_count": 6,
   "metadata": {
    "colab": {
     "autoexec": {
      "startup": false,
      "wait_interval": 0
     }
    },
    "colab_type": "code",
    "id": "lE4c3ELMQjHJ"
   },
   "outputs": [
    {
     "data": {
      "text/plain": [
       "'\\n# Testing the input function\\nwith tf.Graph().as_default():\\n    train_input = train_input_fn()\\n    with tf.train.MonitoredSession() as sess:\\n        print (train_input)\\n        print (sess.run(train_input))\\n'"
      ]
     },
     "execution_count": 6,
     "metadata": {},
     "output_type": "execute_result"
    }
   ],
   "source": [
    "'''\n",
    "# Testing the input function\n",
    "with tf.Graph().as_default():\n",
    "    train_input = train_input_fn()\n",
    "    with tf.train.MonitoredSession() as sess:\n",
    "        print (train_input)\n",
    "        print (sess.run(train_input))\n",
    "'''"
   ]
  },
  {
   "cell_type": "markdown",
   "metadata": {},
   "source": [
    "## Creating the Estimator model"
   ]
  },
  {
   "cell_type": "code",
   "execution_count": 7,
   "metadata": {
    "colab": {
     "autoexec": {
      "startup": false,
      "wait_interval": 0
     }
    },
    "colab_type": "code",
    "collapsed": true,
    "id": "VxXAUrYN7TvR"
   },
   "outputs": [],
   "source": [
    "def get_model_fn(rnn_cell_sizes,\n",
    "                 label_dimension,\n",
    "                 dnn_layer_sizes=[],\n",
    "                 optimizer='SGD',\n",
    "                 learning_rate=0.01):\n",
    "    \n",
    "    def model_fn(features, labels, mode):\n",
    "        \n",
    "        color_name = features[COLOR_NAME_KEY]\n",
    "        sequence_length = features[SEQUENCE_LENGTH_KEY]\n",
    "\n",
    "        # Creating dense representation for the names\n",
    "        # and then converting it to one hot representation\n",
    "        dense_color_name = tf.sparse_tensor_to_dense(color_name, default_value=len(CHARACTERS))\n",
    "        color_name_onehot = tf.one_hot(dense_color_name, depth=len(CHARACTERS) + 1)\n",
    "        \n",
    "        \n",
    "        # Each RNN layer will consist of a LSTM cell\n",
    "        rnn_layers = [tf.contrib.rnn.LSTMCell(size) for size in rnn_cell_sizes]\n",
    "        \n",
    "        # Construct the layers\n",
    "        multi_rnn_cell = tf.contrib.rnn.MultiRNNCell(rnn_layers)\n",
    "        \n",
    "        # Runs the RNN model dynamically\n",
    "        # more about it at: \n",
    "        # https://www.tensorflow.org/api_docs/python/tf/nn/dynamic_rnn\n",
    "        outputs, final_state = tf.nn.dynamic_rnn(cell=multi_rnn_cell,\n",
    "                                                 inputs=color_name_onehot,\n",
    "                                                 sequence_length=sequence_length,\n",
    "                                                 dtype=tf.float32)\n",
    "\n",
    "        # Slice to keep only the last cell of the RNN\n",
    "        last_activations = rnn_common.select_last_activations(outputs,\n",
    "                                                              sequence_length)\n",
    "\n",
    "        # Construct dense layers on top of the last cell of the RNN\n",
    "        for units in dnn_layer_sizes:\n",
    "            last_activations = tf.layers.dense(\n",
    "              last_activations, units, activation=tf.nn.relu)\n",
    "        \n",
    "        # Final dense layer for prediction\n",
    "        predictions = tf.layers.dense(last_activations, label_dimension)\n",
    "\n",
    "        loss = None\n",
    "        train_op = None\n",
    "\n",
    "        if mode != tf.contrib.learn.ModeKeys.INFER:    \n",
    "            loss = tf.losses.mean_squared_error(labels, predictions)\n",
    "    \n",
    "        if mode == tf.contrib.learn.ModeKeys.TRAIN:    \n",
    "            train_op = tf.contrib.layers.optimize_loss(\n",
    "              loss,\n",
    "              tf.contrib.framework.get_global_step(),\n",
    "              optimizer=optimizer,\n",
    "              learning_rate=learning_rate)\n",
    "        \n",
    "        return tf.contrib.learn.ModelFnOps(mode,\n",
    "                                           predictions=predictions,\n",
    "                                           loss=loss,\n",
    "                                           train_op=train_op)\n",
    "    return model_fn"
   ]
  },
  {
   "cell_type": "code",
   "execution_count": 10,
   "metadata": {
    "colab": {
     "autoexec": {
      "startup": false,
      "wait_interval": 0
     }
    },
    "colab_type": "code",
    "id": "gUHR3Mzc7Tvb"
   },
   "outputs": [
    {
     "name": "stdout",
     "output_type": "stream",
     "text": [
      "INFO:tensorflow:Using default config.\n",
      "INFO:tensorflow:Using config: {'_model_dir': None, '_environment': 'local', '_save_summary_steps': 100, '_keep_checkpoint_max': 5, '_num_ps_replicas': 0, '_task_type': None, '_evaluation_master': '', '_is_chief': True, '_task_id': 0, '_master': '', '_save_checkpoints_steps': None, '_cluster_spec': <tensorflow.python.training.server_lib.ClusterSpec object at 0x7ff0fa2c7710>, '_tf_random_seed': None, '_keep_checkpoint_every_n_hours': 10000, '_save_checkpoints_secs': 600, '_num_worker_replicas': 0, '_tf_config': gpu_options {\n",
      "  per_process_gpu_memory_fraction: 1\n",
      "}\n",
      "}\n",
      "WARNING:tensorflow:Using temporary folder as model directory: /tmp/tmpsvtqmp69\n"
     ]
    }
   ],
   "source": [
    "model_fn = get_model_fn(rnn_cell_sizes=[256, 128], # size of the hidden layers\n",
    "                        label_dimension=3, # since is RGB\n",
    "                        dnn_layer_sizes=[64], # size of units in the dense layers on top of the RNN\n",
    "                        optimizer='Adam',\n",
    "                        learning_rate=0.01)\n",
    "estimator = tf.contrib.learn.Estimator(model_fn=model_fn)"
   ]
  },
  {
   "cell_type": "markdown",
   "metadata": {},
   "source": [
    "## Create and Run Experiment"
   ]
  },
  {
   "cell_type": "code",
   "execution_count": 11,
   "metadata": {
    "colab": {
     "autoexec": {
      "startup": false,
      "wait_interval": 0
     }
    },
    "colab_type": "code",
    "collapsed": true,
    "id": "DUZEKQrdGgZE"
   },
   "outputs": [],
   "source": [
    "# create experiment\n",
    "def generate_experiment_fn():\n",
    "  \n",
    "  \"\"\"\n",
    "  Create an experiment function given hyperparameters.\n",
    "  Returns:\n",
    "    A function (output_dir) -> Experiment where output_dir is a string\n",
    "    representing the location of summaries, checkpoints, and exports.\n",
    "    this function is used by learn_runner to create an Experiment which\n",
    "    executes model code provided in the form of an Estimator and\n",
    "    input functions.\n",
    "    All listed arguments in the outer function are used to create an\n",
    "    Estimator, and input functions (training, evaluation, serving).\n",
    "    Unlisted args are passed through to Experiment.\n",
    "  \"\"\"\n",
    "\n",
    "  def _experiment_fn(output_dir):\n",
    "    return tf.contrib.learn.Experiment(\n",
    "        estimator,\n",
    "        train_input_fn=train_input_fn,\n",
    "        eval_input_fn=test_input_fn,\n",
    "        train_steps=STEPS\n",
    "    )\n",
    "  return _experiment_fn"
   ]
  },
  {
   "cell_type": "code",
   "execution_count": 12,
   "metadata": {},
   "outputs": [
    {
     "name": "stdout",
     "output_type": "stream",
     "text": [
      "WARNING:tensorflow:From /usr/local/lib/python3.4/dist-packages/tensorflow/contrib/learn/python/learn/monitors.py:267: BaseMonitor.__init__ (from tensorflow.contrib.learn.python.learn.monitors) is deprecated and will be removed after 2016-12-05.\n",
      "Instructions for updating:\n",
      "Monitors are deprecated. Please use tf.train.SessionRunHook.\n",
      "WARNING:tensorflow:From <ipython-input-3-e89ced8fbafb>:19: string_to_index (from tensorflow.contrib.lookup.lookup_ops) is deprecated and will be removed after 2017-01-07.\n",
      "Instructions for updating:\n",
      "This op will be removed after the deprecation date. Please switch to index_table_from_tensor and call the lookup method of the returned table.\n"
     ]
    },
    {
     "name": "stderr",
     "output_type": "stream",
     "text": [
      "/usr/local/lib/python3.4/dist-packages/tensorflow/python/ops/gradients_impl.py:93: UserWarning: Converting sparse IndexedSlices to a dense Tensor of unknown shape. This may consume a large amount of memory.\n",
      "  \"Converting sparse IndexedSlices to a dense Tensor of unknown shape. \"\n"
     ]
    },
    {
     "name": "stdout",
     "output_type": "stream",
     "text": [
      "INFO:tensorflow:Create CheckpointSaverHook.\n",
      "INFO:tensorflow:Saving checkpoints for 1 into /tmp/tmpsvtqmp69/model.ckpt.\n",
      "INFO:tensorflow:loss = 0.409742, step = 1\n",
      "WARNING:tensorflow:enqueue_data was called with num_epochs and num_threads > 1. num_epochs is applied per thread, so this will produce more epochs than you probably intend. If you want to limit epochs, use one thread.\n",
      "WARNING:tensorflow:enqueue_data was called with shuffle=True, num_threads > 1, and num_epochs. This will create multiple threads, all reading the array/dataframe in order adding to the same shuffling queue; the results will likely not be sufficiently shuffled.\n",
      "WARNING:tensorflow:From <ipython-input-3-e89ced8fbafb>:19: string_to_index (from tensorflow.contrib.lookup.lookup_ops) is deprecated and will be removed after 2017-01-07.\n",
      "Instructions for updating:\n",
      "This op will be removed after the deprecation date. Please switch to index_table_from_tensor and call the lookup method of the returned table.\n",
      "INFO:tensorflow:Starting evaluation at 2017-06-07-20:29:22\n",
      "INFO:tensorflow:Restoring parameters from /tmp/tmpsvtqmp69/model.ckpt-1\n",
      "INFO:tensorflow:Evaluation [1/100]\n",
      "INFO:tensorflow:Evaluation [2/100]\n",
      "INFO:tensorflow:Evaluation [3/100]\n",
      "INFO:tensorflow:Evaluation [4/100]\n",
      "INFO:tensorflow:Evaluation [5/100]\n",
      "INFO:tensorflow:Evaluation [6/100]\n",
      "INFO:tensorflow:Evaluation [7/100]\n",
      "INFO:tensorflow:Evaluation [8/100]\n",
      "INFO:tensorflow:Evaluation [9/100]\n",
      "INFO:tensorflow:Evaluation [10/100]\n",
      "INFO:tensorflow:Evaluation [11/100]\n",
      "INFO:tensorflow:Evaluation [12/100]\n",
      "INFO:tensorflow:Evaluation [13/100]\n",
      "INFO:tensorflow:Evaluation [14/100]\n",
      "INFO:tensorflow:Evaluation [15/100]\n",
      "INFO:tensorflow:Evaluation [16/100]\n",
      "INFO:tensorflow:Evaluation [17/100]\n",
      "INFO:tensorflow:Evaluation [18/100]\n",
      "INFO:tensorflow:Evaluation [19/100]\n",
      "INFO:tensorflow:Evaluation [20/100]\n",
      "INFO:tensorflow:Evaluation [21/100]\n",
      "INFO:tensorflow:Evaluation [22/100]\n",
      "INFO:tensorflow:Evaluation [23/100]\n",
      "INFO:tensorflow:Evaluation [24/100]\n",
      "INFO:tensorflow:Evaluation [25/100]\n",
      "INFO:tensorflow:Evaluation [26/100]\n",
      "INFO:tensorflow:Evaluation [27/100]\n",
      "INFO:tensorflow:Evaluation [28/100]\n",
      "INFO:tensorflow:Evaluation [29/100]\n",
      "INFO:tensorflow:Evaluation [30/100]\n",
      "INFO:tensorflow:Evaluation [31/100]\n",
      "INFO:tensorflow:Evaluation [32/100]\n",
      "INFO:tensorflow:Finished evaluation at 2017-06-07-20:29:24\n",
      "INFO:tensorflow:Saving dict for global step 1: global_step = 1, loss = 0.264347\n",
      "WARNING:tensorflow:Skipping summary for global_step, must be a float or np.float32.\n",
      "INFO:tensorflow:Validation (step 1): loss = 0.264347, global_step = 1\n",
      "INFO:tensorflow:global_step/sec: 7.72342\n",
      "INFO:tensorflow:loss = 0.045325, step = 101 (12.949 sec)\n",
      "INFO:tensorflow:global_step/sec: 10.6693\n",
      "INFO:tensorflow:loss = 0.0671752, step = 201 (9.373 sec)\n",
      "INFO:tensorflow:global_step/sec: 10.2149\n",
      "INFO:tensorflow:loss = 0.0503306, step = 301 (9.790 sec)\n",
      "INFO:tensorflow:global_step/sec: 10.1403\n",
      "INFO:tensorflow:loss = 0.0560174, step = 401 (9.862 sec)\n",
      "INFO:tensorflow:global_step/sec: 11.2552\n",
      "INFO:tensorflow:loss = 0.0425734, step = 501 (8.885 sec)\n",
      "INFO:tensorflow:global_step/sec: 10.9685\n",
      "INFO:tensorflow:loss = 0.0489241, step = 601 (9.117 sec)\n",
      "INFO:tensorflow:global_step/sec: 10.9651\n",
      "INFO:tensorflow:loss = 0.0417212, step = 701 (9.120 sec)\n",
      "INFO:tensorflow:global_step/sec: 9.87301\n",
      "INFO:tensorflow:loss = 0.043939, step = 801 (10.129 sec)\n",
      "INFO:tensorflow:global_step/sec: 9.94989\n",
      "INFO:tensorflow:loss = 0.0407266, step = 901 (10.050 sec)\n",
      "INFO:tensorflow:global_step/sec: 11.0203\n",
      "INFO:tensorflow:loss = 0.0402362, step = 1001 (9.074 sec)\n",
      "INFO:tensorflow:global_step/sec: 10.3113\n",
      "INFO:tensorflow:loss = 0.0468997, step = 1101 (9.699 sec)\n",
      "INFO:tensorflow:global_step/sec: 10.6022\n",
      "INFO:tensorflow:loss = 0.043691, step = 1201 (9.431 sec)\n",
      "INFO:tensorflow:global_step/sec: 10.3495\n",
      "INFO:tensorflow:loss = 0.0386685, step = 1301 (9.662 sec)\n",
      "INFO:tensorflow:global_step/sec: 11.0226\n",
      "INFO:tensorflow:loss = 0.026513, step = 1401 (9.072 sec)\n",
      "INFO:tensorflow:global_step/sec: 10.9159\n",
      "INFO:tensorflow:loss = 0.0336587, step = 1501 (9.161 sec)\n",
      "INFO:tensorflow:global_step/sec: 10.5373\n",
      "INFO:tensorflow:loss = 0.0375538, step = 1601 (9.490 sec)\n",
      "INFO:tensorflow:global_step/sec: 9.92699\n",
      "INFO:tensorflow:loss = 0.0237464, step = 1701 (10.074 sec)\n",
      "INFO:tensorflow:global_step/sec: 10.117\n",
      "INFO:tensorflow:loss = 0.0274299, step = 1801 (9.884 sec)\n",
      "INFO:tensorflow:global_step/sec: 10.4335\n",
      "INFO:tensorflow:loss = 0.0302584, step = 1901 (9.584 sec)\n",
      "INFO:tensorflow:global_step/sec: 9.74767\n",
      "INFO:tensorflow:loss = 0.0201734, step = 2001 (10.259 sec)\n",
      "INFO:tensorflow:global_step/sec: 9.99565\n",
      "INFO:tensorflow:loss = 0.0208108, step = 2101 (10.004 sec)\n",
      "INFO:tensorflow:global_step/sec: 10.4117\n",
      "INFO:tensorflow:loss = 0.0204871, step = 2201 (9.605 sec)\n",
      "INFO:tensorflow:global_step/sec: 10.492\n",
      "INFO:tensorflow:loss = 0.0217164, step = 2301 (9.531 sec)\n",
      "INFO:tensorflow:global_step/sec: 10.704\n",
      "INFO:tensorflow:loss = 0.0190827, step = 2401 (9.342 sec)\n",
      "INFO:tensorflow:global_step/sec: 9.95261\n",
      "INFO:tensorflow:loss = 0.0131511, step = 2501 (10.048 sec)\n",
      "INFO:tensorflow:global_step/sec: 9.64648\n",
      "INFO:tensorflow:loss = 0.016781, step = 2601 (10.366 sec)\n",
      "INFO:tensorflow:global_step/sec: 10.8153\n",
      "INFO:tensorflow:loss = 0.0166779, step = 2701 (9.246 sec)\n",
      "INFO:tensorflow:global_step/sec: 10.2438\n",
      "INFO:tensorflow:loss = 0.0194124, step = 2801 (9.762 sec)\n",
      "INFO:tensorflow:global_step/sec: 10.3318\n",
      "INFO:tensorflow:loss = 0.0123026, step = 2901 (9.679 sec)\n",
      "INFO:tensorflow:global_step/sec: 10.3716\n",
      "INFO:tensorflow:loss = 0.0130253, step = 3001 (9.642 sec)\n",
      "INFO:tensorflow:global_step/sec: 10.7408\n",
      "INFO:tensorflow:loss = 0.0178805, step = 3101 (9.311 sec)\n",
      "INFO:tensorflow:global_step/sec: 10.5556\n",
      "INFO:tensorflow:loss = 0.0155669, step = 3201 (9.473 sec)\n",
      "INFO:tensorflow:global_step/sec: 10.9524\n",
      "INFO:tensorflow:loss = 0.019155, step = 3301 (9.130 sec)\n",
      "INFO:tensorflow:global_step/sec: 10.4302\n",
      "INFO:tensorflow:loss = 0.00980961, step = 3401 (9.588 sec)\n",
      "INFO:tensorflow:global_step/sec: 9.66812\n",
      "INFO:tensorflow:loss = 0.0146369, step = 3501 (10.344 sec)\n",
      "INFO:tensorflow:global_step/sec: 10.0418\n",
      "INFO:tensorflow:loss = 0.0106311, step = 3601 (9.958 sec)\n",
      "INFO:tensorflow:global_step/sec: 10.136\n",
      "INFO:tensorflow:loss = 0.0131354, step = 3701 (9.866 sec)\n",
      "INFO:tensorflow:global_step/sec: 10.3149\n",
      "INFO:tensorflow:loss = 0.00836282, step = 3801 (9.695 sec)\n",
      "INFO:tensorflow:global_step/sec: 10.5156\n",
      "INFO:tensorflow:loss = 0.0128562, step = 3901 (9.510 sec)\n",
      "INFO:tensorflow:global_step/sec: 10.898\n",
      "INFO:tensorflow:loss = 0.0157794, step = 4001 (9.176 sec)\n",
      "INFO:tensorflow:global_step/sec: 10.2967\n",
      "INFO:tensorflow:loss = 0.010889, step = 4101 (9.712 sec)\n",
      "INFO:tensorflow:global_step/sec: 10.022\n",
      "INFO:tensorflow:loss = 0.010753, step = 4201 (9.978 sec)\n",
      "INFO:tensorflow:global_step/sec: 9.28051\n",
      "INFO:tensorflow:loss = 0.00916871, step = 4301 (10.775 sec)\n",
      "INFO:tensorflow:global_step/sec: 10.2745\n",
      "INFO:tensorflow:loss = 0.0101932, step = 4401 (9.733 sec)\n",
      "INFO:tensorflow:global_step/sec: 9.96907\n",
      "INFO:tensorflow:loss = 0.00930309, step = 4501 (10.031 sec)\n",
      "INFO:tensorflow:global_step/sec: 10.2873\n",
      "INFO:tensorflow:loss = 0.010148, step = 4601 (9.721 sec)\n",
      "INFO:tensorflow:global_step/sec: 10.1251\n",
      "INFO:tensorflow:loss = 0.00833915, step = 4701 (9.877 sec)\n",
      "INFO:tensorflow:global_step/sec: 10.7525\n",
      "INFO:tensorflow:loss = 0.00857749, step = 4801 (9.300 sec)\n",
      "INFO:tensorflow:global_step/sec: 10.0012\n",
      "INFO:tensorflow:loss = 0.0101708, step = 4901 (9.999 sec)\n",
      "INFO:tensorflow:global_step/sec: 10.8665\n",
      "INFO:tensorflow:loss = 0.00714394, step = 5001 (9.202 sec)\n",
      "INFO:tensorflow:global_step/sec: 9.81113\n",
      "INFO:tensorflow:loss = 0.0113473, step = 5101 (10.193 sec)\n",
      "INFO:tensorflow:global_step/sec: 9.95148\n",
      "INFO:tensorflow:loss = 0.00631246, step = 5201 (10.049 sec)\n",
      "INFO:tensorflow:global_step/sec: 10.4294\n",
      "INFO:tensorflow:loss = 0.00512506, step = 5301 (9.588 sec)\n",
      "INFO:tensorflow:global_step/sec: 10.1448\n",
      "INFO:tensorflow:loss = 0.010148, step = 5401 (9.857 sec)\n",
      "INFO:tensorflow:global_step/sec: 10.4345\n",
      "INFO:tensorflow:loss = 0.0072174, step = 5501 (9.584 sec)\n",
      "INFO:tensorflow:global_step/sec: 10.5288\n",
      "INFO:tensorflow:loss = 0.0108916, step = 5601 (9.498 sec)\n",
      "INFO:tensorflow:global_step/sec: 10.7922\n",
      "INFO:tensorflow:loss = 0.00546897, step = 5701 (9.266 sec)\n",
      "INFO:tensorflow:global_step/sec: 10.4762\n"
     ]
    },
    {
     "name": "stdout",
     "output_type": "stream",
     "text": [
      "INFO:tensorflow:loss = 0.0101217, step = 5801 (9.546 sec)\n",
      "INFO:tensorflow:global_step/sec: 9.41204\n",
      "INFO:tensorflow:loss = 0.00885783, step = 5901 (10.625 sec)\n",
      "INFO:tensorflow:global_step/sec: 8.83761\n",
      "INFO:tensorflow:loss = 0.00681117, step = 6001 (11.315 sec)\n",
      "INFO:tensorflow:global_step/sec: 10.266\n",
      "INFO:tensorflow:loss = 0.0099501, step = 6101 (9.741 sec)\n",
      "INFO:tensorflow:Saving checkpoints for 6143 into /tmp/tmpsvtqmp69/model.ckpt.\n",
      "WARNING:tensorflow:enqueue_data was called with num_epochs and num_threads > 1. num_epochs is applied per thread, so this will produce more epochs than you probably intend. If you want to limit epochs, use one thread.\n",
      "WARNING:tensorflow:enqueue_data was called with shuffle=True, num_threads > 1, and num_epochs. This will create multiple threads, all reading the array/dataframe in order adding to the same shuffling queue; the results will likely not be sufficiently shuffled.\n",
      "WARNING:tensorflow:From <ipython-input-3-e89ced8fbafb>:19: string_to_index (from tensorflow.contrib.lookup.lookup_ops) is deprecated and will be removed after 2017-01-07.\n",
      "Instructions for updating:\n",
      "This op will be removed after the deprecation date. Please switch to index_table_from_tensor and call the lookup method of the returned table.\n",
      "INFO:tensorflow:Starting evaluation at 2017-06-07-20:39:22\n",
      "INFO:tensorflow:Restoring parameters from /tmp/tmpsvtqmp69/model.ckpt-6143\n",
      "INFO:tensorflow:Evaluation [1/100]\n",
      "INFO:tensorflow:Evaluation [2/100]\n",
      "INFO:tensorflow:Evaluation [3/100]\n",
      "INFO:tensorflow:Evaluation [4/100]\n",
      "INFO:tensorflow:Evaluation [5/100]\n",
      "INFO:tensorflow:Evaluation [6/100]\n",
      "INFO:tensorflow:Evaluation [7/100]\n",
      "INFO:tensorflow:Evaluation [8/100]\n",
      "INFO:tensorflow:Evaluation [9/100]\n",
      "INFO:tensorflow:Evaluation [10/100]\n",
      "INFO:tensorflow:Evaluation [11/100]\n",
      "INFO:tensorflow:Evaluation [12/100]\n",
      "INFO:tensorflow:Evaluation [13/100]\n",
      "INFO:tensorflow:Evaluation [14/100]\n",
      "INFO:tensorflow:Evaluation [15/100]\n",
      "INFO:tensorflow:Evaluation [16/100]\n",
      "INFO:tensorflow:Evaluation [17/100]\n",
      "INFO:tensorflow:Evaluation [18/100]\n",
      "INFO:tensorflow:Evaluation [19/100]\n",
      "INFO:tensorflow:Evaluation [20/100]\n",
      "INFO:tensorflow:Evaluation [21/100]\n",
      "INFO:tensorflow:Evaluation [22/100]\n",
      "INFO:tensorflow:Evaluation [23/100]\n",
      "INFO:tensorflow:Evaluation [24/100]\n",
      "INFO:tensorflow:Evaluation [25/100]\n",
      "INFO:tensorflow:Evaluation [26/100]\n",
      "INFO:tensorflow:Evaluation [27/100]\n",
      "INFO:tensorflow:Evaluation [28/100]\n",
      "INFO:tensorflow:Evaluation [29/100]\n",
      "INFO:tensorflow:Evaluation [30/100]\n",
      "INFO:tensorflow:Evaluation [31/100]\n",
      "INFO:tensorflow:Evaluation [32/100]\n",
      "INFO:tensorflow:Finished evaluation at 2017-06-07-20:39:24\n",
      "INFO:tensorflow:Saving dict for global step 6143: global_step = 6143, loss = 0.0465886\n",
      "WARNING:tensorflow:Skipping summary for global_step, must be a float or np.float32.\n",
      "INFO:tensorflow:Validation (step 6143): loss = 0.0465886, global_step = 6143\n",
      "INFO:tensorflow:global_step/sec: 7.69177\n",
      "INFO:tensorflow:loss = 0.00931769, step = 6201 (13.001 sec)\n",
      "INFO:tensorflow:global_step/sec: 9.73026\n",
      "INFO:tensorflow:loss = 0.00512375, step = 6301 (10.277 sec)\n",
      "INFO:tensorflow:global_step/sec: 10.2795\n",
      "INFO:tensorflow:loss = 0.00885814, step = 6401 (9.728 sec)\n",
      "INFO:tensorflow:global_step/sec: 10.1157\n",
      "INFO:tensorflow:loss = 0.00572086, step = 6501 (9.886 sec)\n",
      "INFO:tensorflow:global_step/sec: 10.6247\n",
      "INFO:tensorflow:loss = 0.00827183, step = 6601 (9.412 sec)\n",
      "INFO:tensorflow:global_step/sec: 10.708\n",
      "INFO:tensorflow:loss = 0.00625515, step = 6701 (9.339 sec)\n",
      "INFO:tensorflow:global_step/sec: 9.62158\n",
      "INFO:tensorflow:loss = 0.00928472, step = 6801 (10.393 sec)\n",
      "INFO:tensorflow:global_step/sec: 9.91255\n",
      "INFO:tensorflow:loss = 0.00657618, step = 6901 (10.088 sec)\n",
      "INFO:tensorflow:global_step/sec: 10.4018\n",
      "INFO:tensorflow:loss = 0.0127396, step = 7001 (9.614 sec)\n",
      "INFO:tensorflow:global_step/sec: 10.5064\n",
      "INFO:tensorflow:loss = 0.00661422, step = 7101 (9.518 sec)\n",
      "INFO:tensorflow:global_step/sec: 10.2248\n",
      "INFO:tensorflow:loss = 0.00900109, step = 7201 (9.780 sec)\n",
      "INFO:tensorflow:global_step/sec: 10.5456\n",
      "INFO:tensorflow:loss = 0.0084168, step = 7301 (9.483 sec)\n",
      "INFO:tensorflow:global_step/sec: 10.2115\n",
      "INFO:tensorflow:loss = 0.00538284, step = 7401 (9.793 sec)\n",
      "INFO:tensorflow:global_step/sec: 9.17331\n",
      "INFO:tensorflow:loss = 0.00669943, step = 7501 (10.901 sec)\n",
      "INFO:tensorflow:global_step/sec: 5.82396\n",
      "INFO:tensorflow:loss = 0.00520482, step = 7601 (17.171 sec)\n",
      "INFO:tensorflow:global_step/sec: 5.41031\n",
      "INFO:tensorflow:loss = 0.00421056, step = 7701 (18.482 sec)\n",
      "INFO:tensorflow:global_step/sec: 5.60198\n",
      "INFO:tensorflow:loss = 0.00742673, step = 7801 (17.851 sec)\n",
      "INFO:tensorflow:global_step/sec: 5.66523\n",
      "INFO:tensorflow:loss = 0.00781029, step = 7901 (17.652 sec)\n",
      "INFO:tensorflow:global_step/sec: 6.0177\n",
      "INFO:tensorflow:loss = 0.0105221, step = 8001 (16.618 sec)\n",
      "INFO:tensorflow:global_step/sec: 5.93776\n",
      "INFO:tensorflow:loss = 0.00635853, step = 8101 (16.842 sec)\n",
      "INFO:tensorflow:global_step/sec: 6.14921\n",
      "INFO:tensorflow:loss = 0.0069383, step = 8201 (16.263 sec)\n",
      "INFO:tensorflow:global_step/sec: 8.82654\n",
      "INFO:tensorflow:loss = 0.00615147, step = 8301 (11.327 sec)\n",
      "INFO:tensorflow:global_step/sec: 10.862\n",
      "INFO:tensorflow:loss = 0.00735537, step = 8401 (9.206 sec)\n",
      "INFO:tensorflow:global_step/sec: 9.60931\n",
      "INFO:tensorflow:loss = 0.0079703, step = 8501 (10.407 sec)\n",
      "INFO:tensorflow:global_step/sec: 9.50089\n",
      "INFO:tensorflow:loss = 0.00588366, step = 8601 (10.525 sec)\n",
      "INFO:tensorflow:global_step/sec: 8.55495\n",
      "INFO:tensorflow:loss = 0.00694388, step = 8701 (11.690 sec)\n",
      "INFO:tensorflow:global_step/sec: 6.26709\n",
      "INFO:tensorflow:loss = 0.00585587, step = 8801 (15.956 sec)\n",
      "INFO:tensorflow:global_step/sec: 5.94005\n",
      "INFO:tensorflow:loss = 0.00471021, step = 8901 (16.836 sec)\n",
      "INFO:tensorflow:global_step/sec: 6.17942\n",
      "INFO:tensorflow:loss = 0.00363866, step = 9001 (16.181 sec)\n",
      "INFO:tensorflow:global_step/sec: 6.1085\n",
      "INFO:tensorflow:loss = 0.00537318, step = 9101 (16.370 sec)\n",
      "INFO:tensorflow:global_step/sec: 6.16746\n",
      "INFO:tensorflow:loss = 0.00534841, step = 9201 (16.214 sec)\n",
      "INFO:tensorflow:global_step/sec: 5.84812\n",
      "INFO:tensorflow:loss = 0.0110652, step = 9301 (17.099 sec)\n",
      "INFO:tensorflow:global_step/sec: 5.67769\n",
      "INFO:tensorflow:loss = 0.00537939, step = 9401 (17.613 sec)\n",
      "INFO:tensorflow:global_step/sec: 5.97496\n",
      "INFO:tensorflow:loss = 0.00549104, step = 9501 (16.736 sec)\n",
      "INFO:tensorflow:global_step/sec: 5.53013\n",
      "INFO:tensorflow:loss = 0.00350414, step = 9601 (18.083 sec)\n",
      "INFO:tensorflow:global_step/sec: 5.94437\n",
      "INFO:tensorflow:loss = 0.0067591, step = 9701 (16.824 sec)\n",
      "INFO:tensorflow:global_step/sec: 5.98749\n",
      "INFO:tensorflow:loss = 0.00447664, step = 9801 (16.700 sec)\n",
      "INFO:tensorflow:global_step/sec: 6.27708\n",
      "INFO:tensorflow:loss = 0.00409213, step = 9901 (15.931 sec)\n",
      "INFO:tensorflow:Saving checkpoints for 10000 into /tmp/tmpsvtqmp69/model.ckpt.\n",
      "INFO:tensorflow:Loss for final step: 0.00319448.\n",
      "WARNING:tensorflow:enqueue_data was called with num_epochs and num_threads > 1. num_epochs is applied per thread, so this will produce more epochs than you probably intend. If you want to limit epochs, use one thread.\n",
      "WARNING:tensorflow:enqueue_data was called with shuffle=True, num_threads > 1, and num_epochs. This will create multiple threads, all reading the array/dataframe in order adding to the same shuffling queue; the results will likely not be sufficiently shuffled.\n",
      "WARNING:tensorflow:From <ipython-input-3-e89ced8fbafb>:19: string_to_index (from tensorflow.contrib.lookup.lookup_ops) is deprecated and will be removed after 2017-01-07.\n",
      "Instructions for updating:\n",
      "This op will be removed after the deprecation date. Please switch to index_table_from_tensor and call the lookup method of the returned table.\n",
      "INFO:tensorflow:Starting evaluation at 2017-06-07-20:48:10\n",
      "INFO:tensorflow:Restoring parameters from /tmp/tmpsvtqmp69/model.ckpt-10000\n",
      "INFO:tensorflow:Evaluation [1/100]\n",
      "INFO:tensorflow:Evaluation [2/100]\n",
      "INFO:tensorflow:Evaluation [3/100]\n",
      "INFO:tensorflow:Evaluation [4/100]\n",
      "INFO:tensorflow:Evaluation [5/100]\n",
      "INFO:tensorflow:Evaluation [6/100]\n",
      "INFO:tensorflow:Evaluation [7/100]\n",
      "INFO:tensorflow:Evaluation [8/100]\n",
      "INFO:tensorflow:Evaluation [9/100]\n",
      "INFO:tensorflow:Evaluation [10/100]\n",
      "INFO:tensorflow:Evaluation [11/100]\n",
      "INFO:tensorflow:Evaluation [12/100]\n",
      "INFO:tensorflow:Evaluation [13/100]\n"
     ]
    },
    {
     "name": "stdout",
     "output_type": "stream",
     "text": [
      "INFO:tensorflow:Evaluation [14/100]\n",
      "INFO:tensorflow:Evaluation [15/100]\n",
      "INFO:tensorflow:Evaluation [16/100]\n",
      "INFO:tensorflow:Evaluation [17/100]\n",
      "INFO:tensorflow:Evaluation [18/100]\n",
      "INFO:tensorflow:Evaluation [19/100]\n",
      "INFO:tensorflow:Evaluation [20/100]\n",
      "INFO:tensorflow:Evaluation [21/100]\n",
      "INFO:tensorflow:Evaluation [22/100]\n",
      "INFO:tensorflow:Evaluation [23/100]\n",
      "INFO:tensorflow:Evaluation [24/100]\n",
      "INFO:tensorflow:Evaluation [25/100]\n",
      "INFO:tensorflow:Evaluation [26/100]\n",
      "INFO:tensorflow:Evaluation [27/100]\n",
      "INFO:tensorflow:Evaluation [28/100]\n",
      "INFO:tensorflow:Evaluation [29/100]\n",
      "INFO:tensorflow:Evaluation [30/100]\n",
      "INFO:tensorflow:Evaluation [31/100]\n",
      "INFO:tensorflow:Evaluation [32/100]\n",
      "INFO:tensorflow:Finished evaluation at 2017-06-07-20:48:13\n",
      "INFO:tensorflow:Saving dict for global step 10000: global_step = 10000, loss = 0.0443338\n",
      "WARNING:tensorflow:Skipping summary for global_step, must be a float or np.float32.\n"
     ]
    },
    {
     "data": {
      "text/plain": [
       "({'global_step': 10000, 'loss': 0.044333812}, [])"
      ]
     },
     "execution_count": 12,
     "metadata": {},
     "output_type": "execute_result"
    }
   ],
   "source": [
    "# run experiment \n",
    "learn_runner.run(generate_experiment_fn(), '/tmp/outputdir')"
   ]
  },
  {
   "cell_type": "markdown",
   "metadata": {},
   "source": [
    "## Making Predictions"
   ]
  },
  {
   "cell_type": "code",
   "execution_count": 13,
   "metadata": {
    "colab": {
     "autoexec": {
      "startup": false,
      "wait_interval": 0
     },
     "output_extras": [
      {
       "item_id": 1
      }
     ]
    },
    "colab_type": "code",
    "executionInfo": {
     "elapsed": 252,
     "status": "ok",
     "timestamp": 1496848787689,
     "user": {
      "displayName": "Jamie Smith",
      "photoUrl": "//lh3.googleusercontent.com/-lH1_9xAmlJs/AAAAAAAAAAI/AAAAAAAAAGc/MXmYSfunJKo/s50-c-k-no/photo.jpg",
      "userId": "116166808337702908693"
     },
     "user_tz": 240
    },
    "id": "8o5w8lXiGk_1",
    "outputId": "cfb93135-f21c-48bc-d6ca-c28cfc266ac5"
   },
   "outputs": [
    {
     "name": "stdout",
     "output_type": "stream",
     "text": [
      "WARNING:tensorflow:enqueue_data was called with num_epochs and num_threads > 1. num_epochs is applied per thread, so this will produce more epochs than you probably intend. If you want to limit epochs, use one thread.\n",
      "WARNING:tensorflow:enqueue_data was called with shuffle=True, num_threads > 1, and num_epochs. This will create multiple threads, all reading the array/dataframe in order adding to the same shuffling queue; the results will likely not be sufficiently shuffled.\n",
      "WARNING:tensorflow:From <ipython-input-3-e89ced8fbafb>:19: string_to_index (from tensorflow.contrib.lookup.lookup_ops) is deprecated and will be removed after 2017-01-07.\n",
      "Instructions for updating:\n",
      "This op will be removed after the deprecation date. Please switch to index_table_from_tensor and call the lookup method of the returned table.\n",
      "INFO:tensorflow:Restoring parameters from /tmp/tmpsvtqmp69/model.ckpt-10000\n",
      "[  74.92446136  176.39160156   66.25933838]\n",
      "[ 146.85467529   17.46886635   33.10726547]\n",
      "[ 232.80462646  230.7137146   224.69525146]\n",
      "[ 178.29762268   64.12382507   64.99927521]\n",
      "[ 98.00068665  78.83456421  69.97039032]\n"
     ]
    }
   ],
   "source": [
    "p2 = estimator.predict(input_fn=test_input_fn, as_iterable=True)\n",
    "\n",
    "for i in range(5):\n",
    "    print(next(p2) * 255)"
   ]
  },
  {
   "cell_type": "markdown",
   "metadata": {},
   "source": [
    "## Visualizing the result"
   ]
  },
  {
   "cell_type": "code",
   "execution_count": 47,
   "metadata": {},
   "outputs": [
    {
     "name": "stdout",
     "output_type": "stream",
     "text": [
      "WARNING:tensorflow:From <ipython-input-3-e89ced8fbafb>:19: string_to_index (from tensorflow.contrib.lookup.lookup_ops) is deprecated and will be removed after 2017-01-07.\n",
      "Instructions for updating:\n",
      "This op will be removed after the deprecation date. Please switch to index_table_from_tensor and call the lookup method of the returned table.\n",
      "INFO:tensorflow:Restoring parameters from /tmp/tmpsvtqmp69/model.ckpt-10000\n",
      "\n",
      "orange rgb (253, 110, 34)\n"
     ]
    },
    {
     "data": {
      "image/png": "[encoded data removed]",
      "text/plain": [
       "<matplotlib.figure.Figure at 0x7ff0e8699748>"
      ]
     },
     "metadata": {},
     "output_type": "display_data"
    },
    {
     "name": "stdout",
     "output_type": "stream",
     "text": [
      "tensorflow orange rgb (240, 143, 69)\n"
     ]
    },
    {
     "data": {
      "image/png": "[encoded data removed]",
      "text/plain": [
       "<matplotlib.figure.Figure at 0x7ff0e8744e10>"
      ]
     },
     "metadata": {},
     "output_type": "display_data"
    },
    {
     "name": "stdout",
     "output_type": "stream",
     "text": [
      "diamond rgb (198, 241, 240)\n"
     ]
    },
    {
     "data": {
      "image/png": "[encoded data removed]",
      "text/plain": [
       "<matplotlib.figure.Figure at 0x7ff0f8e8f908>"
      ]
     },
     "metadata": {},
     "output_type": "display_data"
    },
    {
     "name": "stdout",
     "output_type": "stream",
     "text": [
      "purple blue rgb (102, 51, 194)\n"
     ]
    },
    {
     "data": {
      "image/png": "[encoded data removed]",
      "text/plain": [
       "<matplotlib.figure.Figure at 0x7ff0e87a58d0>"
      ]
     },
     "metadata": {},
     "output_type": "display_data"
    },
    {
     "name": "stdout",
     "output_type": "stream",
     "text": [
      "purple red rgb (168, 20, 75)\n"
     ]
    },
    {
     "data": {
      "image/png": "[encoded data removed]",
      "text/plain": [
       "<matplotlib.figure.Figure at 0x7ff0c47450b8>"
      ]
     },
     "metadata": {},
     "output_type": "display_data"
    },
    {
     "name": "stdout",
     "output_type": "stream",
     "text": [
      "purple rgb (140, 52, 164)\n"
     ]
    },
    {
     "data": {
      "image/png": "[encoded data removed]",
      "text/plain": [
       "<matplotlib.figure.Figure at 0x7ff0f87215c0>"
      ]
     },
     "metadata": {},
     "output_type": "display_data"
    },
    {
     "name": "stdout",
     "output_type": "stream",
     "text": [
      "water rgb (183, 214, 227)\n"
     ]
    },
    {
     "data": {
      "image/png": "[encoded data removed]",
      "text/plain": [
       "<matplotlib.figure.Figure at 0x7ff08e185a58>"
      ]
     },
     "metadata": {},
     "output_type": "display_data"
    },
    {
     "name": "stdout",
     "output_type": "stream",
     "text": [
      "fire rgb (165, 71, 14)\n"
     ]
    },
    {
     "data": {
      "image/png": "[encoded data removed]",
      "text/plain": [
       "<matplotlib.figure.Figure at 0x7ff0f84e8cc0>"
      ]
     },
     "metadata": {},
     "output_type": "display_data"
    },
    {
     "name": "stdout",
     "output_type": "stream",
     "text": [
      "jamie rgb (215, 188, 161)\n"
     ]
    },
    {
     "data": {
      "image/png": "[encoded data removed]",
      "text/plain": [
       "<matplotlib.figure.Figure at 0x7ff0c475ea90>"
      ]
     },
     "metadata": {},
     "output_type": "display_data"
    }
   ],
   "source": [
    "preds = estimator.predict(input_fn=my_test_input_fn, as_iterable=True)\n",
    "\n",
    "color_names = _get_csv_column(MY_TEST_INPUT, 'name')\n",
    "\n",
    "print()\n",
    "for p, name in zip(preds, color_names):\n",
    "    color = tuple(map(int, p * 255))\n",
    "    print(name, 'rgb', color)\n",
    "    _plot_rgb(p)"
   ]
  },
  {
   "cell_type": "code",
   "execution_count": null,
   "metadata": {
    "collapsed": true
   },
   "outputs": [],
   "source": []
  }
 ],
 "metadata": {
  "colab": {
   "default_view": {},
   "last_runtime": {
    "build_target": "//experimental/users/jamieas/transform_colab:notebook",
    "kind": "private"
   },
   "name": "Copy of CustomEstimator.ipynb",
   "provenance": [
    {
     "file_id": "0BwN-JPfIIHwgdFkwUTVIWTQwU00",
     "timestamp": 1496845355496
    }
   ],
   "version": "0.3.2",
   "views": {}
  },
  "kernelspec": {
   "display_name": "Python 3",
   "language": "python",
   "name": "python3"
  },
  "language_info": {
   "codemirror_mode": {
    "name": "ipython",
    "version": 3
   },
   "file_extension": ".py",
   "mimetype": "text/x-python",
   "name": "python",
   "nbconvert_exporter": "python",
   "pygments_lexer": "ipython3",
   "version": "3.4.3"
  }
 },
 "nbformat": 4,
 "nbformat_minor": 1
}
